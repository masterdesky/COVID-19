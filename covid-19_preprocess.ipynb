{
 "cells": [
  {
   "cell_type": "markdown",
   "metadata": {},
   "source": [
    "# Preprocess data of COVID-19 for the analysis"
   ]
  },
  {
   "cell_type": "code",
   "execution_count": 4,
   "metadata": {},
   "outputs": [],
   "source": [
    "import os\n",
    "import sys\n",
    "import datetime\n",
    "import numpy as np\n",
    "import pandas as pd\n",
    "import urllib.request\n",
    "from github import Github\n",
    "from getpass import getpass\n",
    "\n",
    "from IPython.display import clear_output, display"
   ]
  },
  {
   "cell_type": "markdown",
   "metadata": {},
   "source": [
    "## Login to GitHub"
   ]
  },
  {
   "cell_type": "code",
   "execution_count": 5,
   "metadata": {},
   "outputs": [
    {
     "name": "stdin",
     "output_type": "stream",
     "text": [
      " ········································\n"
     ]
    }
   ],
   "source": [
    "access_token = getpass()"
   ]
  },
  {
   "cell_type": "code",
   "execution_count": 6,
   "metadata": {},
   "outputs": [],
   "source": [
    "# Login\n",
    "g = Github(access_token)\n",
    "\n",
    "# Get the COVID-19 repository of CSSEGISandData\n",
    "repo = g.get_repo('CSSEGISandData/COVID-19')"
   ]
  },
  {
   "cell_type": "markdown",
   "metadata": {},
   "source": [
    "## Load data from the GitHub repository of CSSEGISandData"
   ]
  },
  {
   "cell_type": "code",
   "execution_count": 7,
   "metadata": {},
   "outputs": [],
   "source": [
    "# The root directory of the COVID datasets in the CSSEGISandData's repository\n",
    "_root = 'https://raw.githubusercontent.com/CSSEGISandData/COVID-19/master/'"
   ]
  },
  {
   "cell_type": "code",
   "execution_count": 8,
   "metadata": {},
   "outputs": [],
   "source": [
    "# Get the names of the directories, which contain the daily reports of the pandemic\n",
    "# There are two different directories:\n",
    "#   - One contains data for the US\n",
    "#   - The other one contains data for the rest of the world\n",
    "world_repo = repo.get_contents('./csse_covid_19_data/csse_covid_19_daily_reports/')\n",
    "us_repo = repo.get_contents('./csse_covid_19_data/csse_covid_19_daily_reports_us/')"
   ]
  },
  {
   "cell_type": "markdown",
   "metadata": {},
   "source": [
    "### Gather all URLs where the daily datasets are stored in raw format"
   ]
  },
  {
   "cell_type": "code",
   "execution_count": 9,
   "metadata": {},
   "outputs": [],
   "source": [
    "daily_world_raw = []\n",
    "daily_us_raw = []\n",
    "\n",
    "for d in world_repo:\n",
    "    _name = d.path\n",
    "    if '.csv' in _name:\n",
    "        daily_world_raw.append(_root + _name)\n",
    "\n",
    "for d in us_repo:\n",
    "    _name = d.path\n",
    "    if '.csv' in _name:\n",
    "        daily_us_raw.append(_root + _name)"
   ]
  },
  {
   "cell_type": "markdown",
   "metadata": {},
   "source": [
    "### Check a some datatables to inspect their structure"
   ]
  },
  {
   "cell_type": "code",
   "execution_count": 10,
   "metadata": {},
   "outputs": [],
   "source": [
    "url_test = daily_world_raw[5]\n",
    "with urllib.request.urlopen(url_test) as url:\n",
    "    data_test = pd.read_csv(url, sep=',', comment='#', header=0)"
   ]
  },
  {
   "cell_type": "code",
   "execution_count": 11,
   "metadata": {},
   "outputs": [
    {
     "data": {
      "text/html": [
       "<div>\n",
       "<style scoped>\n",
       "    .dataframe tbody tr th:only-of-type {\n",
       "        vertical-align: middle;\n",
       "    }\n",
       "\n",
       "    .dataframe tbody tr th {\n",
       "        vertical-align: top;\n",
       "    }\n",
       "\n",
       "    .dataframe thead th {\n",
       "        text-align: right;\n",
       "    }\n",
       "</style>\n",
       "<table border=\"1\" class=\"dataframe\">\n",
       "  <thead>\n",
       "    <tr style=\"text-align: right;\">\n",
       "      <th></th>\n",
       "      <th>Province/State</th>\n",
       "      <th>Country/Region</th>\n",
       "      <th>Last Update</th>\n",
       "      <th>Confirmed</th>\n",
       "      <th>Deaths</th>\n",
       "      <th>Recovered</th>\n",
       "    </tr>\n",
       "  </thead>\n",
       "  <tbody>\n",
       "    <tr>\n",
       "      <th>0</th>\n",
       "      <td>Hubei</td>\n",
       "      <td>Mainland China</td>\n",
       "      <td>1/27/20 23:59</td>\n",
       "      <td>1423</td>\n",
       "      <td>76.0</td>\n",
       "      <td>45.0</td>\n",
       "    </tr>\n",
       "    <tr>\n",
       "      <th>1</th>\n",
       "      <td>Guangdong</td>\n",
       "      <td>Mainland China</td>\n",
       "      <td>1/27/20 23:59</td>\n",
       "      <td>151</td>\n",
       "      <td>NaN</td>\n",
       "      <td>4.0</td>\n",
       "    </tr>\n",
       "    <tr>\n",
       "      <th>2</th>\n",
       "      <td>Zhejiang</td>\n",
       "      <td>Mainland China</td>\n",
       "      <td>1/27/20 23:59</td>\n",
       "      <td>128</td>\n",
       "      <td>NaN</td>\n",
       "      <td>1.0</td>\n",
       "    </tr>\n",
       "    <tr>\n",
       "      <th>3</th>\n",
       "      <td>Henan</td>\n",
       "      <td>Mainland China</td>\n",
       "      <td>1/27/20 23:59</td>\n",
       "      <td>128</td>\n",
       "      <td>1.0</td>\n",
       "      <td>NaN</td>\n",
       "    </tr>\n",
       "    <tr>\n",
       "      <th>4</th>\n",
       "      <td>Chongqing</td>\n",
       "      <td>Mainland China</td>\n",
       "      <td>1/27/20 23:59</td>\n",
       "      <td>110</td>\n",
       "      <td>NaN</td>\n",
       "      <td>NaN</td>\n",
       "    </tr>\n",
       "  </tbody>\n",
       "</table>\n",
       "</div>"
      ],
      "text/plain": [
       "  Province/State  Country/Region    Last Update  Confirmed  Deaths  Recovered\n",
       "0          Hubei  Mainland China  1/27/20 23:59       1423    76.0       45.0\n",
       "1      Guangdong  Mainland China  1/27/20 23:59        151     NaN        4.0\n",
       "2       Zhejiang  Mainland China  1/27/20 23:59        128     NaN        1.0\n",
       "3          Henan  Mainland China  1/27/20 23:59        128     1.0        NaN\n",
       "4      Chongqing  Mainland China  1/27/20 23:59        110     NaN        NaN"
      ]
     },
     "execution_count": 11,
     "metadata": {},
     "output_type": "execute_result"
    }
   ],
   "source": [
    "data_test.head()"
   ]
  },
  {
   "cell_type": "code",
   "execution_count": 12,
   "metadata": {},
   "outputs": [
    {
     "data": {
      "text/html": [
       "<div>\n",
       "<style scoped>\n",
       "    .dataframe tbody tr th:only-of-type {\n",
       "        vertical-align: middle;\n",
       "    }\n",
       "\n",
       "    .dataframe tbody tr th {\n",
       "        vertical-align: top;\n",
       "    }\n",
       "\n",
       "    .dataframe thead th {\n",
       "        text-align: right;\n",
       "    }\n",
       "</style>\n",
       "<table border=\"1\" class=\"dataframe\">\n",
       "  <thead>\n",
       "    <tr style=\"text-align: right;\">\n",
       "      <th></th>\n",
       "      <th>Province/State</th>\n",
       "      <th>Country/Region</th>\n",
       "      <th>Last Update</th>\n",
       "      <th>Confirmed</th>\n",
       "      <th>Deaths</th>\n",
       "      <th>Recovered</th>\n",
       "    </tr>\n",
       "  </thead>\n",
       "  <tbody>\n",
       "    <tr>\n",
       "      <th>46</th>\n",
       "      <td>NaN</td>\n",
       "      <td>Cambodia</td>\n",
       "      <td>1/27/20 23:59</td>\n",
       "      <td>1</td>\n",
       "      <td>NaN</td>\n",
       "      <td>NaN</td>\n",
       "    </tr>\n",
       "    <tr>\n",
       "      <th>47</th>\n",
       "      <td>NaN</td>\n",
       "      <td>Sri Lanka</td>\n",
       "      <td>1/27/20 23:59</td>\n",
       "      <td>1</td>\n",
       "      <td>NaN</td>\n",
       "      <td>NaN</td>\n",
       "    </tr>\n",
       "    <tr>\n",
       "      <th>48</th>\n",
       "      <td>NaN</td>\n",
       "      <td>Ivory Coast</td>\n",
       "      <td>1/27/20 23:59</td>\n",
       "      <td>1</td>\n",
       "      <td>NaN</td>\n",
       "      <td>NaN</td>\n",
       "    </tr>\n",
       "    <tr>\n",
       "      <th>49</th>\n",
       "      <td>New South Wales</td>\n",
       "      <td>Australia</td>\n",
       "      <td>1/27/20 23:59</td>\n",
       "      <td>4</td>\n",
       "      <td>NaN</td>\n",
       "      <td>NaN</td>\n",
       "    </tr>\n",
       "    <tr>\n",
       "      <th>50</th>\n",
       "      <td>Victoria</td>\n",
       "      <td>Australia</td>\n",
       "      <td>1/27/20 23:59</td>\n",
       "      <td>1</td>\n",
       "      <td>NaN</td>\n",
       "      <td>NaN</td>\n",
       "    </tr>\n",
       "  </tbody>\n",
       "</table>\n",
       "</div>"
      ],
      "text/plain": [
       "     Province/State Country/Region    Last Update  Confirmed  Deaths  \\\n",
       "46              NaN       Cambodia  1/27/20 23:59          1     NaN   \n",
       "47              NaN      Sri Lanka  1/27/20 23:59          1     NaN   \n",
       "48              NaN    Ivory Coast  1/27/20 23:59          1     NaN   \n",
       "49  New South Wales      Australia  1/27/20 23:59          4     NaN   \n",
       "50         Victoria      Australia  1/27/20 23:59          1     NaN   \n",
       "\n",
       "    Recovered  \n",
       "46        NaN  \n",
       "47        NaN  \n",
       "48        NaN  \n",
       "49        NaN  \n",
       "50        NaN  "
      ]
     },
     "execution_count": 12,
     "metadata": {},
     "output_type": "execute_result"
    }
   ],
   "source": [
    "data_test.tail()"
   ]
  },
  {
   "cell_type": "code",
   "execution_count": 13,
   "metadata": {},
   "outputs": [],
   "source": [
    "url_test = daily_world_raw[-1]\n",
    "with urllib.request.urlopen(url_test) as url:\n",
    "    data_test = pd.read_csv(url, sep=',', comment='#', header=0)"
   ]
  },
  {
   "cell_type": "code",
   "execution_count": 14,
   "metadata": {},
   "outputs": [
    {
     "data": {
      "text/html": [
       "<div>\n",
       "<style scoped>\n",
       "    .dataframe tbody tr th:only-of-type {\n",
       "        vertical-align: middle;\n",
       "    }\n",
       "\n",
       "    .dataframe tbody tr th {\n",
       "        vertical-align: top;\n",
       "    }\n",
       "\n",
       "    .dataframe thead th {\n",
       "        text-align: right;\n",
       "    }\n",
       "</style>\n",
       "<table border=\"1\" class=\"dataframe\">\n",
       "  <thead>\n",
       "    <tr style=\"text-align: right;\">\n",
       "      <th></th>\n",
       "      <th>FIPS</th>\n",
       "      <th>Admin2</th>\n",
       "      <th>Province_State</th>\n",
       "      <th>Country_Region</th>\n",
       "      <th>Last_Update</th>\n",
       "      <th>Lat</th>\n",
       "      <th>Long_</th>\n",
       "      <th>Confirmed</th>\n",
       "      <th>Deaths</th>\n",
       "      <th>Recovered</th>\n",
       "      <th>Active</th>\n",
       "      <th>Combined_Key</th>\n",
       "      <th>Incidence_Rate</th>\n",
       "      <th>Case-Fatality_Ratio</th>\n",
       "    </tr>\n",
       "  </thead>\n",
       "  <tbody>\n",
       "    <tr>\n",
       "      <th>0</th>\n",
       "      <td>NaN</td>\n",
       "      <td>NaN</td>\n",
       "      <td>NaN</td>\n",
       "      <td>Afghanistan</td>\n",
       "      <td>2020-09-02 04:28:25</td>\n",
       "      <td>33.93911</td>\n",
       "      <td>67.709953</td>\n",
       "      <td>38196</td>\n",
       "      <td>1406</td>\n",
       "      <td>29231</td>\n",
       "      <td>7559.0</td>\n",
       "      <td>Afghanistan</td>\n",
       "      <td>98.118746</td>\n",
       "      <td>3.681014</td>\n",
       "    </tr>\n",
       "    <tr>\n",
       "      <th>1</th>\n",
       "      <td>NaN</td>\n",
       "      <td>NaN</td>\n",
       "      <td>NaN</td>\n",
       "      <td>Albania</td>\n",
       "      <td>2020-09-02 04:28:25</td>\n",
       "      <td>41.15330</td>\n",
       "      <td>20.168300</td>\n",
       "      <td>9606</td>\n",
       "      <td>290</td>\n",
       "      <td>5441</td>\n",
       "      <td>3875.0</td>\n",
       "      <td>Albania</td>\n",
       "      <td>333.796650</td>\n",
       "      <td>3.018946</td>\n",
       "    </tr>\n",
       "    <tr>\n",
       "      <th>2</th>\n",
       "      <td>NaN</td>\n",
       "      <td>NaN</td>\n",
       "      <td>NaN</td>\n",
       "      <td>Algeria</td>\n",
       "      <td>2020-09-02 04:28:25</td>\n",
       "      <td>28.03390</td>\n",
       "      <td>1.659600</td>\n",
       "      <td>44833</td>\n",
       "      <td>1518</td>\n",
       "      <td>31493</td>\n",
       "      <td>11822.0</td>\n",
       "      <td>Algeria</td>\n",
       "      <td>102.239301</td>\n",
       "      <td>3.385899</td>\n",
       "    </tr>\n",
       "    <tr>\n",
       "      <th>3</th>\n",
       "      <td>NaN</td>\n",
       "      <td>NaN</td>\n",
       "      <td>NaN</td>\n",
       "      <td>Andorra</td>\n",
       "      <td>2020-09-02 04:28:25</td>\n",
       "      <td>42.50630</td>\n",
       "      <td>1.521800</td>\n",
       "      <td>1184</td>\n",
       "      <td>53</td>\n",
       "      <td>908</td>\n",
       "      <td>223.0</td>\n",
       "      <td>Andorra</td>\n",
       "      <td>1532.388533</td>\n",
       "      <td>4.476351</td>\n",
       "    </tr>\n",
       "    <tr>\n",
       "      <th>4</th>\n",
       "      <td>NaN</td>\n",
       "      <td>NaN</td>\n",
       "      <td>NaN</td>\n",
       "      <td>Angola</td>\n",
       "      <td>2020-09-02 04:28:25</td>\n",
       "      <td>-11.20270</td>\n",
       "      <td>17.873900</td>\n",
       "      <td>2729</td>\n",
       "      <td>109</td>\n",
       "      <td>1084</td>\n",
       "      <td>1536.0</td>\n",
       "      <td>Angola</td>\n",
       "      <td>8.303346</td>\n",
       "      <td>3.994137</td>\n",
       "    </tr>\n",
       "  </tbody>\n",
       "</table>\n",
       "</div>"
      ],
      "text/plain": [
       "   FIPS Admin2 Province_State Country_Region          Last_Update       Lat  \\\n",
       "0   NaN    NaN            NaN    Afghanistan  2020-09-02 04:28:25  33.93911   \n",
       "1   NaN    NaN            NaN        Albania  2020-09-02 04:28:25  41.15330   \n",
       "2   NaN    NaN            NaN        Algeria  2020-09-02 04:28:25  28.03390   \n",
       "3   NaN    NaN            NaN        Andorra  2020-09-02 04:28:25  42.50630   \n",
       "4   NaN    NaN            NaN         Angola  2020-09-02 04:28:25 -11.20270   \n",
       "\n",
       "       Long_  Confirmed  Deaths  Recovered   Active Combined_Key  \\\n",
       "0  67.709953      38196    1406      29231   7559.0  Afghanistan   \n",
       "1  20.168300       9606     290       5441   3875.0      Albania   \n",
       "2   1.659600      44833    1518      31493  11822.0      Algeria   \n",
       "3   1.521800       1184      53        908    223.0      Andorra   \n",
       "4  17.873900       2729     109       1084   1536.0       Angola   \n",
       "\n",
       "   Incidence_Rate  Case-Fatality_Ratio  \n",
       "0       98.118746             3.681014  \n",
       "1      333.796650             3.018946  \n",
       "2      102.239301             3.385899  \n",
       "3     1532.388533             4.476351  \n",
       "4        8.303346             3.994137  "
      ]
     },
     "execution_count": 14,
     "metadata": {},
     "output_type": "execute_result"
    }
   ],
   "source": [
    "data_test.head()"
   ]
  },
  {
   "cell_type": "code",
   "execution_count": 15,
   "metadata": {},
   "outputs": [
    {
     "data": {
      "text/html": [
       "<div>\n",
       "<style scoped>\n",
       "    .dataframe tbody tr th:only-of-type {\n",
       "        vertical-align: middle;\n",
       "    }\n",
       "\n",
       "    .dataframe tbody tr th {\n",
       "        vertical-align: top;\n",
       "    }\n",
       "\n",
       "    .dataframe thead th {\n",
       "        text-align: right;\n",
       "    }\n",
       "</style>\n",
       "<table border=\"1\" class=\"dataframe\">\n",
       "  <thead>\n",
       "    <tr style=\"text-align: right;\">\n",
       "      <th></th>\n",
       "      <th>FIPS</th>\n",
       "      <th>Admin2</th>\n",
       "      <th>Province_State</th>\n",
       "      <th>Country_Region</th>\n",
       "      <th>Last_Update</th>\n",
       "      <th>Lat</th>\n",
       "      <th>Long_</th>\n",
       "      <th>Confirmed</th>\n",
       "      <th>Deaths</th>\n",
       "      <th>Recovered</th>\n",
       "      <th>Active</th>\n",
       "      <th>Combined_Key</th>\n",
       "      <th>Incidence_Rate</th>\n",
       "      <th>Case-Fatality_Ratio</th>\n",
       "    </tr>\n",
       "  </thead>\n",
       "  <tbody>\n",
       "    <tr>\n",
       "      <th>3949</th>\n",
       "      <td>NaN</td>\n",
       "      <td>NaN</td>\n",
       "      <td>NaN</td>\n",
       "      <td>West Bank and Gaza</td>\n",
       "      <td>2020-09-02 04:28:25</td>\n",
       "      <td>31.952200</td>\n",
       "      <td>35.233200</td>\n",
       "      <td>23281</td>\n",
       "      <td>159</td>\n",
       "      <td>15338</td>\n",
       "      <td>7784.0</td>\n",
       "      <td>West Bank and Gaza</td>\n",
       "      <td>456.363488</td>\n",
       "      <td>0.682960</td>\n",
       "    </tr>\n",
       "    <tr>\n",
       "      <th>3950</th>\n",
       "      <td>NaN</td>\n",
       "      <td>NaN</td>\n",
       "      <td>NaN</td>\n",
       "      <td>Western Sahara</td>\n",
       "      <td>2020-09-02 04:28:25</td>\n",
       "      <td>24.215500</td>\n",
       "      <td>-12.885800</td>\n",
       "      <td>10</td>\n",
       "      <td>1</td>\n",
       "      <td>8</td>\n",
       "      <td>1.0</td>\n",
       "      <td>Western Sahara</td>\n",
       "      <td>1.674116</td>\n",
       "      <td>10.000000</td>\n",
       "    </tr>\n",
       "    <tr>\n",
       "      <th>3951</th>\n",
       "      <td>NaN</td>\n",
       "      <td>NaN</td>\n",
       "      <td>NaN</td>\n",
       "      <td>Yemen</td>\n",
       "      <td>2020-09-02 04:28:25</td>\n",
       "      <td>15.552727</td>\n",
       "      <td>48.516388</td>\n",
       "      <td>1962</td>\n",
       "      <td>570</td>\n",
       "      <td>1160</td>\n",
       "      <td>232.0</td>\n",
       "      <td>Yemen</td>\n",
       "      <td>6.578160</td>\n",
       "      <td>29.051988</td>\n",
       "    </tr>\n",
       "    <tr>\n",
       "      <th>3952</th>\n",
       "      <td>NaN</td>\n",
       "      <td>NaN</td>\n",
       "      <td>NaN</td>\n",
       "      <td>Zambia</td>\n",
       "      <td>2020-09-02 04:28:25</td>\n",
       "      <td>-13.133897</td>\n",
       "      <td>27.849332</td>\n",
       "      <td>12381</td>\n",
       "      <td>290</td>\n",
       "      <td>11479</td>\n",
       "      <td>612.0</td>\n",
       "      <td>Zambia</td>\n",
       "      <td>67.346767</td>\n",
       "      <td>2.342299</td>\n",
       "    </tr>\n",
       "    <tr>\n",
       "      <th>3953</th>\n",
       "      <td>NaN</td>\n",
       "      <td>NaN</td>\n",
       "      <td>NaN</td>\n",
       "      <td>Zimbabwe</td>\n",
       "      <td>2020-09-02 04:28:25</td>\n",
       "      <td>-19.015438</td>\n",
       "      <td>29.154857</td>\n",
       "      <td>6559</td>\n",
       "      <td>203</td>\n",
       "      <td>5241</td>\n",
       "      <td>1115.0</td>\n",
       "      <td>Zimbabwe</td>\n",
       "      <td>44.129935</td>\n",
       "      <td>3.094984</td>\n",
       "    </tr>\n",
       "  </tbody>\n",
       "</table>\n",
       "</div>"
      ],
      "text/plain": [
       "      FIPS Admin2 Province_State      Country_Region          Last_Update  \\\n",
       "3949   NaN    NaN            NaN  West Bank and Gaza  2020-09-02 04:28:25   \n",
       "3950   NaN    NaN            NaN      Western Sahara  2020-09-02 04:28:25   \n",
       "3951   NaN    NaN            NaN               Yemen  2020-09-02 04:28:25   \n",
       "3952   NaN    NaN            NaN              Zambia  2020-09-02 04:28:25   \n",
       "3953   NaN    NaN            NaN            Zimbabwe  2020-09-02 04:28:25   \n",
       "\n",
       "            Lat      Long_  Confirmed  Deaths  Recovered  Active  \\\n",
       "3949  31.952200  35.233200      23281     159      15338  7784.0   \n",
       "3950  24.215500 -12.885800         10       1          8     1.0   \n",
       "3951  15.552727  48.516388       1962     570       1160   232.0   \n",
       "3952 -13.133897  27.849332      12381     290      11479   612.0   \n",
       "3953 -19.015438  29.154857       6559     203       5241  1115.0   \n",
       "\n",
       "            Combined_Key  Incidence_Rate  Case-Fatality_Ratio  \n",
       "3949  West Bank and Gaza      456.363488             0.682960  \n",
       "3950      Western Sahara        1.674116            10.000000  \n",
       "3951               Yemen        6.578160            29.051988  \n",
       "3952              Zambia       67.346767             2.342299  \n",
       "3953            Zimbabwe       44.129935             3.094984  "
      ]
     },
     "execution_count": 15,
     "metadata": {},
     "output_type": "execute_result"
    }
   ],
   "source": [
    "data_test.tail()"
   ]
  },
  {
   "cell_type": "markdown",
   "metadata": {},
   "source": [
    "The structure heavily changed since the first data release, and thus we need to manually bodge it together to get a usable dataset."
   ]
  },
  {
   "cell_type": "markdown",
   "metadata": {},
   "source": [
    "### Gather all daily dataset"
   ]
  },
  {
   "cell_type": "code",
   "execution_count": 43,
   "metadata": {},
   "outputs": [
    {
     "name": "stdout",
     "output_type": "stream",
     "text": [
      "FINISHED!\n"
     ]
    }
   ],
   "source": [
    "data_tables_world = []\n",
    "data_tables_us = []\n",
    "\n",
    "for raw_url in daily_world_raw:\n",
    "    with urllib.request.urlopen(raw_url) as url:\n",
    "        sys.stdout.flush()\n",
    "        sys.stdout.write('\\rCurrent file (world): {}'.format(raw_url.split('/')[-1]))\n",
    "        data_tables_world.append(pd.read_csv(url, sep=',', comment='#', header=0))\n",
    "clear_output()\n",
    "for raw_url in daily_us_raw:\n",
    "    with urllib.request.urlopen(raw_url) as url:\n",
    "        sys.stdout.flush()\n",
    "        sys.stdout.write('\\rCurrent file (US): {}'.format(raw_url.split('/')[-1]))\n",
    "        data_tables_us.append(pd.read_csv(url, sep=',', comment='#', header=0))\n",
    "clear_output()\n",
    "print('FINISHED!')"
   ]
  },
  {
   "cell_type": "markdown",
   "metadata": {},
   "source": [
    "## Standardize data tables\n",
    "\n",
    "During the (currently still active) period of the data release, numerous entries, labels and columns were changed for the sake of clarity and usablity. When it comes to the construction of time series, we have to standardize all tables first, only after that should we proceed with the aggregation. The standardization creates the opportunity to efficiently handle separate daily reports just as cross sections of the (now uniform) dataset. In this section the "
   ]
  },
  {
   "cell_type": "markdown",
   "metadata": {},
   "source": [
    "### 0. Standardize column names\n",
    "\n",
    "Some column names were changed between the first and the last release of the daily reports. First we need to standardize column names for all data tables. The affected columns are the following:\n",
    "\n",
    "| Old label               | New label         |\n",
    "|:----------------------- |:----------------- |\n",
    "| `Country/Region`        | `Country_Region`  |\n",
    "| `Last Update`           | `Last_Update`     |\n",
    "| `Lat`                   | `Latitude`        |\n",
    "| `Long_`                 | `Longitude`       |\n",
    "| `Province/State`        | `Province_State`  |"
   ]
  },
  {
   "cell_type": "markdown",
   "metadata": {},
   "source": [
    "#### Global data"
   ]
  },
  {
   "cell_type": "code",
   "execution_count": 44,
   "metadata": {},
   "outputs": [],
   "source": [
    "column_formats = set()\n",
    "for df in data_tables_world:\n",
    "    cols = df.columns\n",
    "    for c in cols:\n",
    "        column_formats.add(c)"
   ]
  },
  {
   "cell_type": "code",
   "execution_count": 45,
   "metadata": {},
   "outputs": [
    {
     "data": {
      "text/plain": [
       "{'Active',\n",
       " 'Admin2',\n",
       " 'Case-Fatality_Ratio',\n",
       " 'Combined_Key',\n",
       " 'Confirmed',\n",
       " 'Country/Region',\n",
       " 'Country_Region',\n",
       " 'Deaths',\n",
       " 'FIPS',\n",
       " 'Incidence_Rate',\n",
       " 'Last Update',\n",
       " 'Last_Update',\n",
       " 'Lat',\n",
       " 'Latitude',\n",
       " 'Long_',\n",
       " 'Longitude',\n",
       " 'Province/State',\n",
       " 'Province_State',\n",
       " 'Recovered'}"
      ]
     },
     "execution_count": 45,
     "metadata": {},
     "output_type": "execute_result"
    }
   ],
   "source": [
    "column_formats"
   ]
  },
  {
   "cell_type": "code",
   "execution_count": 46,
   "metadata": {},
   "outputs": [],
   "source": [
    "column_dict_world = {\n",
    "    'Country/Region' : 'Country_Region',\n",
    "    'Last Update' : 'Last_Update',\n",
    "    'Lat' : 'Latitude',\n",
    "    'Long_' : 'Longitude',\n",
    "    'Province/State' : 'Province_State'\n",
    "}\n",
    "\n",
    "column_dict_world_K = [k for k, _ in column_dict_world.items()]\n",
    "column_dict_world_V = [v for _, v in column_dict_world.items()]"
   ]
  },
  {
   "cell_type": "code",
   "execution_count": 47,
   "metadata": {},
   "outputs": [],
   "source": [
    "for i, df in enumerate(data_tables_world):\n",
    "    # Column names of the current DataFrame\n",
    "    cols = df.columns\n",
    "    # Create a dictionary with the new column names, since\n",
    "    # the pandas.DataFrame.rename method requires a  dictionary as\n",
    "    # its attribute\n",
    "    new_cols = {}\n",
    "    for c in cols:\n",
    "        if c in column_dict_world_K:\n",
    "            new_cols[c] = column_dict_world[c]\n",
    "        else:\n",
    "            new_cols[c] = c\n",
    "    \n",
    "    data_tables_world[i] = df.rename(columns=new_cols)"
   ]
  },
  {
   "cell_type": "markdown",
   "metadata": {},
   "source": [
    "#### US data"
   ]
  },
  {
   "cell_type": "code",
   "execution_count": 48,
   "metadata": {},
   "outputs": [],
   "source": [
    "column_formats = set()\n",
    "for df in data_tables_us:\n",
    "    cols = df.columns\n",
    "    for c in cols:\n",
    "        column_formats.add(c)"
   ]
  },
  {
   "cell_type": "code",
   "execution_count": 49,
   "metadata": {},
   "outputs": [
    {
     "data": {
      "text/plain": [
       "{'Active',\n",
       " 'Confirmed',\n",
       " 'Country_Region',\n",
       " 'Deaths',\n",
       " 'FIPS',\n",
       " 'Hospitalization_Rate',\n",
       " 'ISO3',\n",
       " 'Incident_Rate',\n",
       " 'Last_Update',\n",
       " 'Lat',\n",
       " 'Long_',\n",
       " 'Mortality_Rate',\n",
       " 'People_Hospitalized',\n",
       " 'People_Tested',\n",
       " 'Province_State',\n",
       " 'Recovered',\n",
       " 'Testing_Rate',\n",
       " 'UID'}"
      ]
     },
     "execution_count": 49,
     "metadata": {},
     "output_type": "execute_result"
    }
   ],
   "source": [
    "column_formats"
   ]
  },
  {
   "cell_type": "code",
   "execution_count": 50,
   "metadata": {},
   "outputs": [],
   "source": [
    "column_dict_us = {\n",
    "    'Lat' : 'Latitude',\n",
    "    'Long_' : 'Longitude',\n",
    "}\n",
    "\n",
    "column_dict_us_K = [k for k, _ in column_dict_us.items()]\n",
    "column_dict_us_V = [v for _, v in column_dict_us.items()]"
   ]
  },
  {
   "cell_type": "code",
   "execution_count": 51,
   "metadata": {},
   "outputs": [],
   "source": [
    "for i, df in enumerate(data_tables_us):\n",
    "    # Column names of the current DataFrame\n",
    "    cols = df.columns\n",
    "    # Create a dictionary with the new column names, since\n",
    "    # the pandas.DataFrame.rename method requires a  dictionary as\n",
    "    # its attribute\n",
    "    new_cols = {}\n",
    "    for c in cols:\n",
    "        if c in column_dict_us_K:\n",
    "            new_cols[c] = column_dict_us[c]\n",
    "        else:\n",
    "            new_cols[c] = c\n",
    "    \n",
    "    data_tables_us[i] = df.rename(columns=new_cols)"
   ]
  },
  {
   "cell_type": "markdown",
   "metadata": {},
   "source": [
    "There are a lot of dispensable columns in the data tables, which are simply unnecessary for this analysis. To further standardize columns, we can trim down these columns from tables in the dataset."
   ]
  },
  {
   "cell_type": "code",
   "execution_count": 52,
   "metadata": {},
   "outputs": [],
   "source": [
    "# We keep these columns in the tables\n",
    "column_names = ['Province_State', 'Country_Region', 'Last_Update', 'Confirmed', 'Recovered', 'Deaths']"
   ]
  },
  {
   "cell_type": "code",
   "execution_count": 53,
   "metadata": {},
   "outputs": [],
   "source": [
    "for i, df in enumerate(data_tables_world):\n",
    "    data_tables_world[i] = df[column_names]"
   ]
  },
  {
   "cell_type": "code",
   "execution_count": 54,
   "metadata": {},
   "outputs": [],
   "source": [
    "for i, df in enumerate(data_tables_us):\n",
    "    data_tables_us[i] = df[column_names]"
   ]
  },
  {
   "cell_type": "markdown",
   "metadata": {},
   "source": [
    "### 1. Standardize the column `Last_Update` with datetime entries"
   ]
  },
  {
   "cell_type": "code",
   "execution_count": 150,
   "metadata": {},
   "outputs": [],
   "source": [
    "def convert_date_list(df_column):\n",
    "    \n",
    "    iso_column = df_column.copy()\n",
    "    \n",
    "    for i, d in enumerate(iso_column):\n",
    "        \n",
    "        # In the US data there are some entries with NaN values\n",
    "        # This branch intends to handle these faulty entries\n",
    "        nan = False\n",
    "        \n",
    "        if str(d).lower() == 'nan':\n",
    "            nan = True\n",
    "            # Since all non-NaN entries in the US dataset are usually the same for a single data table,\n",
    "            # we can randomly choose one from these values and replace all NaN entries with that\n",
    "            non_nan = [i for i in iso_column if str(i).lower() != 'nan']\n",
    "            d = non_nan[0]\n",
    "\n",
    "        # Standardize datetimes to the ISO 8601 format\n",
    "        if '/' in d:\n",
    "            if len(d.split(' ')[0].split('/')[-1]) == 2:\n",
    "                date_time_obj = datetime.datetime.strptime(d, '%m/%d/%y %H:%M')\n",
    "                iso_column[i] = date_time_obj.isoformat()\n",
    "            else:\n",
    "                date_time_obj = datetime.datetime.strptime(d, '%m/%d/%Y %H:%M')\n",
    "                iso_column[i] = date_time_obj.isoformat()\n",
    "        elif '-' in d:\n",
    "            if ' ' in d:\n",
    "                date_time_obj = datetime.datetime.strptime(d, '%Y-%m-%d %H:%M:%S')\n",
    "                iso_column[i] = date_time_obj.isoformat()\n",
    "            else:\n",
    "                # If the original value was NaN, we need to owerwrite the entry\n",
    "                # In any other case, the entry was already in a good format\n",
    "                if nan:\n",
    "                    iso_column[i] = d\n",
    "                else:\n",
    "                    continue\n",
    "        else:\n",
    "            # If the original value was NaN, we need to owerwrite the entry\n",
    "            # In any other case, the entry was already in a good format\n",
    "            if nan:\n",
    "                iso_column[i] = d\n",
    "            else:\n",
    "                continue\n",
    "\n",
    "    return iso_column"
   ]
  },
  {
   "cell_type": "code",
   "execution_count": 151,
   "metadata": {},
   "outputs": [],
   "source": [
    "for i, df in enumerate(data_tables_world):\n",
    "    data_tables_world[i]['Last_Update'] = convert_date_list(df_column=df['Last_Update'])"
   ]
  },
  {
   "cell_type": "code",
   "execution_count": 152,
   "metadata": {},
   "outputs": [],
   "source": [
    "for i, df in enumerate(data_tables_us):\n",
    "    data_tables_us[i]['Last_Update'] = convert_date_list(df_column=df['Last_Update'])"
   ]
  },
  {
   "cell_type": "markdown",
   "metadata": {},
   "source": [
    "### 2. Standardize the column `Country_Region` with country/region names\n",
    "\n",
    "Names of countries and regions were changed numerous times in the daily reports. In order to properly aggregate the data values for each country or region, we need to create a dictionary that contains all the different occurrences of their names. After that we can then manually match the different names for the same country/region."
   ]
  },
  {
   "cell_type": "code",
   "execution_count": 28,
   "metadata": {},
   "outputs": [],
   "source": [
    "region_formats = set()\n",
    "# This problem only affects the global data. US state names weren't changed (yet).\n",
    "for df in data_tables_world:\n",
    "    for c in df['Country_Region'].values:\n",
    "        region_formats.add(c)"
   ]
  },
  {
   "cell_type": "code",
   "execution_count": 189,
   "metadata": {},
   "outputs": [],
   "source": [
    "region_names = {\n",
    "    'Afghanistan': ['Afghanistan'],\n",
    "    'Albania' : ['Albania'],\n",
    "    'Algeria' : ['Algeria'],\n",
    "    'Andorra' : ['Andorra'],\n",
    "    'Angola' : ['Angola'],\n",
    "    'Antigua and Barbuda' : ['Antigua and Barbuda'],\n",
    "    'Argentina' : ['Argentina'],\n",
    "    'Armenia' : ['Armenia'],\n",
    "    'Aruba' : ['Aruba'],\n",
    "    'Australia' : ['Australia'],\n",
    "    'Austria' : ['Austria'],\n",
    "    'Azerbaijan' : [' Azerbaijan', 'Azerbaijan'],\n",
    "    'Bahamas' : ['Bahamas', 'Bahamas, The', 'The Bahamas'],\n",
    "    'Bahrain' : ['Bahrain'],\n",
    "    'Bangladesh' : ['Bangladesh'],\n",
    "    'Barbados' : ['Barbados'],\n",
    "    'Belarus' : ['Belarus'],\n",
    "    'Belgium' : ['Belgium'],\n",
    "    'Belize' : ['Belize'],\n",
    "    'Benin' : ['Benin'],\n",
    "    'Bhutan' : ['Bhutan'],\n",
    "    'Bolivia' : ['Bolivia'],\n",
    "    'Bosnia and Herzegovina' : ['Bosnia and Herzegovina'],\n",
    "    'Botswana' : ['Botswana'],\n",
    "    'Brazil' : ['Brazil'],\n",
    "    'Brunei' : ['Brunei'],\n",
    "    'Bulgaria' : ['Bulgaria'],\n",
    "    'Burkina Faso' : ['Burkina Faso'],\n",
    "    'Burma' : ['Burma'],\n",
    "    'Burundi' : ['Burundi'],\n",
    "    'Cabo Verde' : ['Cabo Verde'],\n",
    "    'Cambodia' : ['Cambodia'],\n",
    "    'Cameroon' : ['Cameroon'],\n",
    "    'Canada' : ['Canada'],\n",
    "    'Cape Verde' : ['Cape Verde'],\n",
    "    'Cayman Islands' : ['Cayman Islands'],\n",
    "    'Central African Republic' : ['Central African Republic'],\n",
    "    'Chad' : ['Chad'],\n",
    "    'Channel Islands' : ['Channel Islands', 'Guernsey', 'Jersey'],\n",
    "    'Chile' : ['Chile'],\n",
    "    'China' : ['China', 'Mainland China'],\n",
    "    'Colombia' : ['Colombia'],\n",
    "    'Comoros' : ['Comoros'],\n",
    "    'Congo (Brazzaville)' : ['Congo (Brazzaville)'],\n",
    "    'Congo (Kinshasa)' : ['Congo (Kinshasa)', 'Republic of the Congo'],\n",
    "    'Costa Rica' : ['Costa Rica'],\n",
    "    \"Cote d'Ivoire\" : [\"Cote d'Ivoire\"],\n",
    "    'Croatia' : ['Croatia'],\n",
    "    'Cuba' : ['Cuba'],\n",
    "    'Curacao' : ['Curacao'],\n",
    "    'Cyprus' : ['Cyprus'],\n",
    "    'Czechia' : ['Czech Republic', 'Czechia'],\n",
    "    'Denmark' : ['Denmark'],\n",
    "    'Diamond Princess' : ['Cruise Ship', 'Diamond Princess'],\n",
    "    'Djibouti' : ['Djibouti'],\n",
    "    'Dominica' : ['Dominica'],\n",
    "    'Dominican Republic' : ['Dominican Republic'],\n",
    "    'Ecuador' : ['Ecuador'],\n",
    "    'Egypt' : ['Egypt'],\n",
    "    'El Salvador' : ['El Salvador'],\n",
    "    'Equatorial Guinea' : ['Equatorial Guinea'],\n",
    "    'Eritrea' : ['Eritrea'],\n",
    "    'Estonia' : ['Estonia'],\n",
    "    'Eswatini' : ['Eswatini'],\n",
    "    'Ethiopia' : ['Ethiopia'],\n",
    "    'Faroe Islands' : ['Faroe Islands'],\n",
    "    'Fiji' : ['Fiji'],\n",
    "    'Finland' : ['Finland'],\n",
    "    'France' : ['France'],\n",
    "    'French Guiana': ['French Guiana'],\n",
    "    'Gabon' : ['Gabon'],\n",
    "    'Gambia' : ['Gambia', 'Gambia, The', 'The Gambia'],\n",
    "    'Georgia' : ['Georgia'],\n",
    "    'Germany' : ['Germany'],\n",
    "    'Ghana' : ['Ghana'],\n",
    "    'Gibraltar' : ['Gibraltar'],\n",
    "    'Greece' : ['Greece'],\n",
    "    'Greenland' : ['Greenland'],\n",
    "    'Grenada' : ['Grenada'],\n",
    "    'Guadeloupe' : ['Guadeloupe'],\n",
    "    'Guam' : ['Guam'],\n",
    "    'Guatemala' : ['Guatemala'],\n",
    "    'Guinea' : ['Guinea'],\n",
    "    'Guinea-Bissau' : ['Guinea-Bissau'],\n",
    "    'Guyana' : ['Guyana'],\n",
    "    'Haiti' : ['Haiti'],\n",
    "    'Honduras' : ['Honduras'],\n",
    "    'Hong Kong' : ['Hong Kong SAR', 'Hong Kong'],\n",
    "    'Hungary' : ['Hungary'],\n",
    "    'Iceland' : ['Iceland'],\n",
    "    'India' : ['India'],\n",
    "    'Indonesia' : ['Indonesia'],\n",
    "    'Iran' : ['Iran', 'Iran (Islamic Republic of)'],\n",
    "    'Iraq' : ['Iraq'],\n",
    "    'Ireland' : ['Ireland', 'Republic of Ireland'],\n",
    "    'Israel' : ['Israel'],\n",
    "    'Italy' : ['Italy'],\n",
    "    'Ivory Coast' : ['Ivory Coast'],\n",
    "    'Jamaica' : ['Jamaica'],\n",
    "    'Japan' : ['Japan'],\n",
    "    'Jordan' : ['Jordan'],\n",
    "    'Kazakhstan' : ['Kazakhstan'],\n",
    "    'Kenya' : ['Kenya'],\n",
    "    'Korea, South' : ['Korea, South', 'Republic of Korea', 'South Korea'],\n",
    "    'Kosovo' : ['Kosovo'],\n",
    "    'Kuwait' : ['Kuwait'],\n",
    "    'Kyrgyzstan' : ['Kyrgyzstan'],\n",
    "    'Laos' : ['Laos'],\n",
    "    'Latvia' : ['Latvia'],\n",
    "    'Lebanon' : ['Lebanon'],\n",
    "    'Lesotho' : ['Lesotho'],\n",
    "    'Liberia' : ['Liberia'],\n",
    "    'Libya' : ['Libya'],\n",
    "    'Liechtenstein' : ['Liechtenstein'],\n",
    "    'Lithuania' : ['Lithuania'],\n",
    "    'Luxembourg' : ['Luxembourg'],\n",
    "    'MS Zaandam' : ['MS Zaandam'],\n",
    "    'Macau' : ['Macao SAR', 'Macau'],\n",
    "    'Madagascar' : ['Madagascar'],\n",
    "    'Malawi' : ['Malawi'],\n",
    "    'Malaysia' : ['Malaysia'],\n",
    "    'Maldives' : ['Maldives'],\n",
    "    'Mali' : ['Mali'],\n",
    "    'Malta' : ['Malta'],\n",
    "    'Martinique' : ['Martinique'],\n",
    "    'Mauritania' : ['Mauritania'],\n",
    "    'Mauritius' : ['Mauritius'],\n",
    "    'Mayotte' : ['Mayotte'],\n",
    "    'Mexico' : ['Mexico'],\n",
    "    'Moldova' : ['Moldova', 'Republic of Moldova'],\n",
    "    'Monaco' : ['Monaco'],\n",
    "    'Mongolia' : ['Mongolia'],\n",
    "    'Montenegro' : ['Montenegro'],\n",
    "    'Morocco' : ['Morocco'],\n",
    "    'Mozambique' : ['Mozambique'],\n",
    "    'Namibia' : ['Namibia'],\n",
    "    'Nepal' : ['Nepal'],\n",
    "    'Netherlands' : ['Netherlands'],\n",
    "    'New Zealand' : ['New Zealand'],\n",
    "    'Nicaragua' : ['Nicaragua'],\n",
    "    'Niger' : ['Niger'],\n",
    "    'Nigeria' : ['Nigeria'],\n",
    "    'North Ireland' : ['North Ireland'],\n",
    "    'North Macedonia' : ['North Macedonia'],\n",
    "    'Norway' : ['Norway'],\n",
    "    'Oman' : ['Oman'],\n",
    "    'Pakistan' : ['Pakistan'],\n",
    "    'Palestine' : ['Palestine', 'occupied Palestinian territory'],\n",
    "    'Panama' : ['Panama'],\n",
    "    'Papua New Guinea' : ['Papua New Guinea'],\n",
    "    'Paraguay' : ['Paraguay'],\n",
    "    'Peru' : ['Peru'],\n",
    "    'Philippines' : ['Philippines'],\n",
    "    'Poland' : ['Poland'],\n",
    "    'Portugal' : ['Portugal'],\n",
    "    'Puerto Rico' : ['Puerto Rico'],\n",
    "    'Qatar' : ['Qatar'],\n",
    "    'Reunion' : ['Reunion'],\n",
    "    'Romania' : ['Romania'],\n",
    "    'Russia' : ['Russia', 'Russian Federation'],\n",
    "    'Rwanda' : ['Rwanda'],\n",
    "    'Saint Barthelemy' : ['Saint Barthelemy'],\n",
    "    'Saint Kitts and Nevis' : ['Saint Kitts and Nevis'],\n",
    "    'Saint Lucia' : ['Saint Lucia'],\n",
    "    'Saint Martin' : ['Saint Martin', 'St. Martin'],\n",
    "    'Saint Vincent and the Grenadines' : ['Saint Vincent and the Grenadines'],\n",
    "    'San Marino' : ['San Marino'],\n",
    "    'Sao Tome and Principe' : ['Sao Tome and Principe'],\n",
    "    'Saudi Arabia' : ['Saudi Arabia'],\n",
    "    'Senegal' : ['Senegal'],\n",
    "    'Serbia' : ['Serbia'],\n",
    "    'Seychelles' : ['Seychelles'],\n",
    "    'Sierra Leone' : ['Sierra Leone'],\n",
    "    'Singapore' : ['Singapore'],\n",
    "    'Slovakia' : ['Slovakia'],\n",
    "    'Slovenia' : ['Slovenia'],\n",
    "    'Somalia' : ['Somalia'],\n",
    "    'South Africa' : ['South Africa'],\n",
    "    'South Sudan' : ['South Sudan'],\n",
    "    'Spain' : ['Spain'],\n",
    "    'Sri Lanka' : ['Sri Lanka'],\n",
    "    'Sudan' : ['Sudan'],\n",
    "    'Suriname' : ['Suriname'],\n",
    "    'Sweden' : ['Sweden'],\n",
    "    'Switzerland' : ['Switzerland'],\n",
    "    'Syria' : ['Syria'],\n",
    "    'Taiwan*' : ['Taipei and environs', 'Taiwan', 'Taiwan*'],\n",
    "    'Tajikistan' : ['Tajikistan'],\n",
    "    'Tanzania' : ['Tanzania'],\n",
    "    'Thailand' : ['Thailand'],\n",
    "    'Timor-Leste' : ['East Timor', 'Timor-Leste'],\n",
    "    'Togo' : ['Togo'],\n",
    "    'Trinidad and Tobago' : ['Trinidad and Tobago'],\n",
    "    'Tunisia' : ['Tunisia'],\n",
    "    'Turkey' : ['Turkey'],\n",
    "    'US' : ['US'],\n",
    "    'Uganda' : ['Uganda'],\n",
    "    'Ukraine' : ['Ukraine'],\n",
    "    'United Arab Emirates' : ['United Arab Emirates'],\n",
    "    'United Kingdom' : ['UK', 'United Kingdom'],\n",
    "    'Uruguay' : ['Uruguay'],\n",
    "    'Uzbekistan' : ['Uzbekistan'],\n",
    "    'Vatican City' : ['Holy See', 'Vatican City'],\n",
    "    'Venezuela' : ['Venezuela'],\n",
    "    'Vietnam' : ['Viet Nam', 'Vietnam'],\n",
    "    'West Bank and Gaza' : ['West Bank and Gaza'],\n",
    "    'Western Sahara' : ['Western Sahara'],\n",
    "    'Yemen' : ['Yemen'],\n",
    "    'Zambia' : ['Zambia'],\n",
    "    'Zimbabwe' : ['Zimbabwe'],\n",
    "    'Others' : ['Others']\n",
    "}\n",
    "\n",
    "region_names_K = [k for k, _ in region_names.items()]\n",
    "region_names_V = [v for _, v in region_names.items()]"
   ]
  },
  {
   "cell_type": "code",
   "execution_count": 190,
   "metadata": {},
   "outputs": [],
   "source": [
    "# Create a look-up table using the dictionary above to rename countries/regions\n",
    "region_LUT = {}\n",
    "for k, v in region_names.items():\n",
    "    for _name in v:\n",
    "        region_LUT[_name] = k"
   ]
  },
  {
   "cell_type": "markdown",
   "metadata": {},
   "source": [
    "#### Create a Gantt chart of the occurences of different region names in the dataset"
   ]
  },
  {
   "cell_type": "code",
   "execution_count": 191,
   "metadata": {},
   "outputs": [],
   "source": [
    "import plotly.express as px"
   ]
  },
  {
   "cell_type": "code",
   "execution_count": 192,
   "metadata": {},
   "outputs": [],
   "source": [
    "# Stores date of last update for every valid entry\n",
    "timeline_dict = {c : [] for c in region_formats}\n",
    "\n",
    "for df in data_tables_world:\n",
    "    for i, c in enumerate(df['Country_Region'].values):\n",
    "        timeline_dict[c].append(df['Last_Update'].values[i])"
   ]
  },
  {
   "cell_type": "code",
   "execution_count": 195,
   "metadata": {},
   "outputs": [],
   "source": [
    "gantt_list = []\n",
    "for c, _ in region_LUT.items():\n",
    "    d = timeline_dict[c]\n",
    "    gantt_list.append(dict(Task=c, Start=d[0][:10], Finish=d[-1][:10], Resource=c))"
   ]
  },
  {
   "cell_type": "code",
   "execution_count": 196,
   "metadata": {},
   "outputs": [
    {
     "data": {
      "application/vnd.plotly.v1+json": {
       "config": {
        "plotlyServerURL": "https://plot.ly"
       },
       "data": [
        {
         "alignmentgroup": "True",
         "base": [
          "2020-02-24"
         ],
         "hovertemplate": "Resource=%{y}<br>Start=%{base}<br>Finish=%{x}<extra></extra>",
         "legendgroup": "Afghanistan",
         "marker": {
          "color": "#636efa"
         },
         "name": "Afghanistan",
         "offsetgroup": "Afghanistan",
         "orientation": "h",
         "showlegend": true,
         "textposition": "auto",
         "type": "bar",
         "x": [
          16502400000
         ],
         "xaxis": "x",
         "y": [
          "Afghanistan"
         ],
         "yaxis": "y"
        },
        {
         "alignmentgroup": "True",
         "base": [
          "2020-03-09"
         ],
         "hovertemplate": "Resource=%{y}<br>Start=%{base}<br>Finish=%{x}<extra></extra>",
         "legendgroup": "Albania",
         "marker": {
          "color": "#EF553B"
         },
         "name": "Albania",
         "offsetgroup": "Albania",
         "orientation": "h",
         "showlegend": true,
         "textposition": "auto",
         "type": "bar",
         "x": [
          15292800000
         ],
         "xaxis": "x",
         "y": [
          "Albania"
         ],
         "yaxis": "y"
        },
        {
         "alignmentgroup": "True",
         "base": [
          "2020-02-25"
         ],
         "hovertemplate": "Resource=%{y}<br>Start=%{base}<br>Finish=%{x}<extra></extra>",
         "legendgroup": "Algeria",
         "marker": {
          "color": "#00cc96"
         },
         "name": "Algeria",
         "offsetgroup": "Algeria",
         "orientation": "h",
         "showlegend": true,
         "textposition": "auto",
         "type": "bar",
         "x": [
          16416000000
         ],
         "xaxis": "x",
         "y": [
          "Algeria"
         ],
         "yaxis": "y"
        },
        {
         "alignmentgroup": "True",
         "base": [
          "2020-03-02"
         ],
         "hovertemplate": "Resource=%{y}<br>Start=%{base}<br>Finish=%{x}<extra></extra>",
         "legendgroup": "Andorra",
         "marker": {
          "color": "#ab63fa"
         },
         "name": "Andorra",
         "offsetgroup": "Andorra",
         "orientation": "h",
         "showlegend": true,
         "textposition": "auto",
         "type": "bar",
         "x": [
          15897600000
         ],
         "xaxis": "x",
         "y": [
          "Andorra"
         ],
         "yaxis": "y"
        },
        {
         "alignmentgroup": "True",
         "base": [
          "2020-03-20"
         ],
         "hovertemplate": "Resource=%{y}<br>Start=%{base}<br>Finish=%{x}<extra></extra>",
         "legendgroup": "Angola",
         "marker": {
          "color": "#FFA15A"
         },
         "name": "Angola",
         "offsetgroup": "Angola",
         "orientation": "h",
         "showlegend": true,
         "textposition": "auto",
         "type": "bar",
         "x": [
          14342400000
         ],
         "xaxis": "x",
         "y": [
          "Angola"
         ],
         "yaxis": "y"
        },
        {
         "alignmentgroup": "True",
         "base": [
          "2020-03-11"
         ],
         "hovertemplate": "Resource=%{y}<br>Start=%{base}<br>Finish=%{x}<extra></extra>",
         "legendgroup": "Antigua and Barbuda",
         "marker": {
          "color": "#19d3f3"
         },
         "name": "Antigua and Barbuda",
         "offsetgroup": "Antigua and Barbuda",
         "orientation": "h",
         "showlegend": true,
         "textposition": "auto",
         "type": "bar",
         "x": [
          15120000000
         ],
         "xaxis": "x",
         "y": [
          "Antigua and Barbuda"
         ],
         "yaxis": "y"
        },
        {
         "alignmentgroup": "True",
         "base": [
          "2020-03-03"
         ],
         "hovertemplate": "Resource=%{y}<br>Start=%{base}<br>Finish=%{x}<extra></extra>",
         "legendgroup": "Argentina",
         "marker": {
          "color": "#FF6692"
         },
         "name": "Argentina",
         "offsetgroup": "Argentina",
         "orientation": "h",
         "showlegend": true,
         "textposition": "auto",
         "type": "bar",
         "x": [
          15811200000
         ],
         "xaxis": "x",
         "y": [
          "Argentina"
         ],
         "yaxis": "y"
        },
        {
         "alignmentgroup": "True",
         "base": [
          "2020-03-01"
         ],
         "hovertemplate": "Resource=%{y}<br>Start=%{base}<br>Finish=%{x}<extra></extra>",
         "legendgroup": "Armenia",
         "marker": {
          "color": "#B6E880"
         },
         "name": "Armenia",
         "offsetgroup": "Armenia",
         "orientation": "h",
         "showlegend": true,
         "textposition": "auto",
         "type": "bar",
         "x": [
          15984000000
         ],
         "xaxis": "x",
         "y": [
          "Armenia"
         ],
         "yaxis": "y"
        },
        {
         "alignmentgroup": "True",
         "base": [
          "2020-03-11"
         ],
         "hovertemplate": "Resource=%{y}<br>Start=%{base}<br>Finish=%{x}<extra></extra>",
         "legendgroup": "Aruba",
         "marker": {
          "color": "#FF97FF"
         },
         "name": "Aruba",
         "offsetgroup": "Aruba",
         "orientation": "h",
         "showlegend": true,
         "textposition": "auto",
         "type": "bar",
         "x": [
          604800000
         ],
         "xaxis": "x",
         "y": [
          "Aruba"
         ],
         "yaxis": "y"
        },
        {
         "alignmentgroup": "True",
         "base": [
          "2020-01-23"
         ],
         "hovertemplate": "Resource=%{y}<br>Start=%{base}<br>Finish=%{x}<extra></extra>",
         "legendgroup": "Australia",
         "marker": {
          "color": "#FECB52"
         },
         "name": "Australia",
         "offsetgroup": "Australia",
         "orientation": "h",
         "showlegend": true,
         "textposition": "auto",
         "type": "bar",
         "x": [
          19267200000
         ],
         "xaxis": "x",
         "y": [
          "Australia"
         ],
         "yaxis": "y"
        },
        {
         "alignmentgroup": "True",
         "base": [
          "2020-02-25"
         ],
         "hovertemplate": "Resource=%{y}<br>Start=%{base}<br>Finish=%{x}<extra></extra>",
         "legendgroup": "Austria",
         "marker": {
          "color": "#636efa"
         },
         "name": "Austria",
         "offsetgroup": "Austria",
         "orientation": "h",
         "showlegend": true,
         "textposition": "auto",
         "type": "bar",
         "x": [
          16416000000
         ],
         "xaxis": "x",
         "y": [
          "Austria"
         ],
         "yaxis": "y"
        },
        {
         "alignmentgroup": "True",
         "base": [
          "2020-02-28"
         ],
         "hovertemplate": "Resource=%{y}<br>Start=%{base}<br>Finish=%{x}<extra></extra>",
         "legendgroup": " Azerbaijan",
         "marker": {
          "color": "#EF553B"
         },
         "name": " Azerbaijan",
         "offsetgroup": " Azerbaijan",
         "orientation": "h",
         "showlegend": true,
         "textposition": "auto",
         "type": "bar",
         "x": [
          0
         ],
         "xaxis": "x",
         "y": [
          " Azerbaijan"
         ],
         "yaxis": "y"
        },
        {
         "alignmentgroup": "True",
         "base": [
          "2020-03-01"
         ],
         "hovertemplate": "Resource=%{y}<br>Start=%{base}<br>Finish=%{x}<extra></extra>",
         "legendgroup": "Azerbaijan",
         "marker": {
          "color": "#00cc96"
         },
         "name": "Azerbaijan",
         "offsetgroup": "Azerbaijan",
         "orientation": "h",
         "showlegend": true,
         "textposition": "auto",
         "type": "bar",
         "x": [
          15984000000
         ],
         "xaxis": "x",
         "y": [
          "Azerbaijan"
         ],
         "yaxis": "y"
        },
        {
         "alignmentgroup": "True",
         "base": [
          "2020-03-22"
         ],
         "hovertemplate": "Resource=%{y}<br>Start=%{base}<br>Finish=%{x}<extra></extra>",
         "legendgroup": "Bahamas",
         "marker": {
          "color": "#ab63fa"
         },
         "name": "Bahamas",
         "offsetgroup": "Bahamas",
         "orientation": "h",
         "showlegend": true,
         "textposition": "auto",
         "type": "bar",
         "x": [
          14169600000
         ],
         "xaxis": "x",
         "y": [
          "Bahamas"
         ],
         "yaxis": "y"
        },
        {
         "alignmentgroup": "True",
         "base": [
          "2020-03-19"
         ],
         "hovertemplate": "Resource=%{y}<br>Start=%{base}<br>Finish=%{x}<extra></extra>",
         "legendgroup": "Bahamas, The",
         "marker": {
          "color": "#FFA15A"
         },
         "name": "Bahamas, The",
         "offsetgroup": "Bahamas, The",
         "orientation": "h",
         "showlegend": true,
         "textposition": "auto",
         "type": "bar",
         "x": [
          172800000
         ],
         "xaxis": "x",
         "y": [
          "Bahamas, The"
         ],
         "yaxis": "y"
        },
        {
         "alignmentgroup": "True",
         "base": [
          "2020-03-16"
         ],
         "hovertemplate": "Resource=%{y}<br>Start=%{base}<br>Finish=%{x}<extra></extra>",
         "legendgroup": "The Bahamas",
         "marker": {
          "color": "#19d3f3"
         },
         "name": "The Bahamas",
         "offsetgroup": "The Bahamas",
         "orientation": "h",
         "showlegend": true,
         "textposition": "auto",
         "type": "bar",
         "x": [
          259200000
         ],
         "xaxis": "x",
         "y": [
          "The Bahamas"
         ],
         "yaxis": "y"
        },
        {
         "alignmentgroup": "True",
         "base": [
          "2020-02-24"
         ],
         "hovertemplate": "Resource=%{y}<br>Start=%{base}<br>Finish=%{x}<extra></extra>",
         "legendgroup": "Bahrain",
         "marker": {
          "color": "#FF6692"
         },
         "name": "Bahrain",
         "offsetgroup": "Bahrain",
         "orientation": "h",
         "showlegend": true,
         "textposition": "auto",
         "type": "bar",
         "x": [
          16502400000
         ],
         "xaxis": "x",
         "y": [
          "Bahrain"
         ],
         "yaxis": "y"
        },
        {
         "alignmentgroup": "True",
         "base": [
          "2020-03-08"
         ],
         "hovertemplate": "Resource=%{y}<br>Start=%{base}<br>Finish=%{x}<extra></extra>",
         "legendgroup": "Bangladesh",
         "marker": {
          "color": "#B6E880"
         },
         "name": "Bangladesh",
         "offsetgroup": "Bangladesh",
         "orientation": "h",
         "showlegend": true,
         "textposition": "auto",
         "type": "bar",
         "x": [
          15379200000
         ],
         "xaxis": "x",
         "y": [
          "Bangladesh"
         ],
         "yaxis": "y"
        },
        {
         "alignmentgroup": "True",
         "base": [
          "2020-03-17"
         ],
         "hovertemplate": "Resource=%{y}<br>Start=%{base}<br>Finish=%{x}<extra></extra>",
         "legendgroup": "Barbados",
         "marker": {
          "color": "#FF97FF"
         },
         "name": "Barbados",
         "offsetgroup": "Barbados",
         "orientation": "h",
         "showlegend": true,
         "textposition": "auto",
         "type": "bar",
         "x": [
          14601600000
         ],
         "xaxis": "x",
         "y": [
          "Barbados"
         ],
         "yaxis": "y"
        },
        {
         "alignmentgroup": "True",
         "base": [
          "2020-02-28"
         ],
         "hovertemplate": "Resource=%{y}<br>Start=%{base}<br>Finish=%{x}<extra></extra>",
         "legendgroup": "Belarus",
         "marker": {
          "color": "#FECB52"
         },
         "name": "Belarus",
         "offsetgroup": "Belarus",
         "orientation": "h",
         "showlegend": true,
         "textposition": "auto",
         "type": "bar",
         "x": [
          16156800000
         ],
         "xaxis": "x",
         "y": [
          "Belarus"
         ],
         "yaxis": "y"
        },
        {
         "alignmentgroup": "True",
         "base": [
          "2020-02-04"
         ],
         "hovertemplate": "Resource=%{y}<br>Start=%{base}<br>Finish=%{x}<extra></extra>",
         "legendgroup": "Belgium",
         "marker": {
          "color": "#636efa"
         },
         "name": "Belgium",
         "offsetgroup": "Belgium",
         "orientation": "h",
         "showlegend": true,
         "textposition": "auto",
         "type": "bar",
         "x": [
          18230400000
         ],
         "xaxis": "x",
         "y": [
          "Belgium"
         ],
         "yaxis": "y"
        },
        {
         "alignmentgroup": "True",
         "base": [
          "2020-03-23"
         ],
         "hovertemplate": "Resource=%{y}<br>Start=%{base}<br>Finish=%{x}<extra></extra>",
         "legendgroup": "Belize",
         "marker": {
          "color": "#EF553B"
         },
         "name": "Belize",
         "offsetgroup": "Belize",
         "orientation": "h",
         "showlegend": true,
         "textposition": "auto",
         "type": "bar",
         "x": [
          14083200000
         ],
         "xaxis": "x",
         "y": [
          "Belize"
         ],
         "yaxis": "y"
        },
        {
         "alignmentgroup": "True",
         "base": [
          "2020-03-16"
         ],
         "hovertemplate": "Resource=%{y}<br>Start=%{base}<br>Finish=%{x}<extra></extra>",
         "legendgroup": "Benin",
         "marker": {
          "color": "#00cc96"
         },
         "name": "Benin",
         "offsetgroup": "Benin",
         "orientation": "h",
         "showlegend": true,
         "textposition": "auto",
         "type": "bar",
         "x": [
          14688000000
         ],
         "xaxis": "x",
         "y": [
          "Benin"
         ],
         "yaxis": "y"
        },
        {
         "alignmentgroup": "True",
         "base": [
          "2020-03-06"
         ],
         "hovertemplate": "Resource=%{y}<br>Start=%{base}<br>Finish=%{x}<extra></extra>",
         "legendgroup": "Bhutan",
         "marker": {
          "color": "#ab63fa"
         },
         "name": "Bhutan",
         "offsetgroup": "Bhutan",
         "orientation": "h",
         "showlegend": true,
         "textposition": "auto",
         "type": "bar",
         "x": [
          15552000000
         ],
         "xaxis": "x",
         "y": [
          "Bhutan"
         ],
         "yaxis": "y"
        },
        {
         "alignmentgroup": "True",
         "base": [
          "2020-03-11"
         ],
         "hovertemplate": "Resource=%{y}<br>Start=%{base}<br>Finish=%{x}<extra></extra>",
         "legendgroup": "Bolivia",
         "marker": {
          "color": "#FFA15A"
         },
         "name": "Bolivia",
         "offsetgroup": "Bolivia",
         "orientation": "h",
         "showlegend": true,
         "textposition": "auto",
         "type": "bar",
         "x": [
          15120000000
         ],
         "xaxis": "x",
         "y": [
          "Bolivia"
         ],
         "yaxis": "y"
        },
        {
         "alignmentgroup": "True",
         "base": [
          "2020-03-05"
         ],
         "hovertemplate": "Resource=%{y}<br>Start=%{base}<br>Finish=%{x}<extra></extra>",
         "legendgroup": "Bosnia and Herzegovina",
         "marker": {
          "color": "#19d3f3"
         },
         "name": "Bosnia and Herzegovina",
         "offsetgroup": "Bosnia and Herzegovina",
         "orientation": "h",
         "showlegend": true,
         "textposition": "auto",
         "type": "bar",
         "x": [
          15638400000
         ],
         "xaxis": "x",
         "y": [
          "Bosnia and Herzegovina"
         ],
         "yaxis": "y"
        },
        {
         "alignmentgroup": "True",
         "base": [
          "2020-03-30"
         ],
         "hovertemplate": "Resource=%{y}<br>Start=%{base}<br>Finish=%{x}<extra></extra>",
         "legendgroup": "Botswana",
         "marker": {
          "color": "#FF6692"
         },
         "name": "Botswana",
         "offsetgroup": "Botswana",
         "orientation": "h",
         "showlegend": true,
         "textposition": "auto",
         "type": "bar",
         "x": [
          13478400000
         ],
         "xaxis": "x",
         "y": [
          "Botswana"
         ],
         "yaxis": "y"
        },
        {
         "alignmentgroup": "True",
         "base": [
          "2020-01-23"
         ],
         "hovertemplate": "Resource=%{y}<br>Start=%{base}<br>Finish=%{x}<extra></extra>",
         "legendgroup": "Brazil",
         "marker": {
          "color": "#B6E880"
         },
         "name": "Brazil",
         "offsetgroup": "Brazil",
         "orientation": "h",
         "showlegend": true,
         "textposition": "auto",
         "type": "bar",
         "x": [
          19267200000
         ],
         "xaxis": "x",
         "y": [
          "Brazil"
         ],
         "yaxis": "y"
        },
        {
         "alignmentgroup": "True",
         "base": [
          "2020-03-09"
         ],
         "hovertemplate": "Resource=%{y}<br>Start=%{base}<br>Finish=%{x}<extra></extra>",
         "legendgroup": "Brunei",
         "marker": {
          "color": "#FF97FF"
         },
         "name": "Brunei",
         "offsetgroup": "Brunei",
         "orientation": "h",
         "showlegend": true,
         "textposition": "auto",
         "type": "bar",
         "x": [
          15292800000
         ],
         "xaxis": "x",
         "y": [
          "Brunei"
         ],
         "yaxis": "y"
        },
        {
         "alignmentgroup": "True",
         "base": [
          "2020-03-08"
         ],
         "hovertemplate": "Resource=%{y}<br>Start=%{base}<br>Finish=%{x}<extra></extra>",
         "legendgroup": "Bulgaria",
         "marker": {
          "color": "#FECB52"
         },
         "name": "Bulgaria",
         "offsetgroup": "Bulgaria",
         "orientation": "h",
         "showlegend": true,
         "textposition": "auto",
         "type": "bar",
         "x": [
          15379200000
         ],
         "xaxis": "x",
         "y": [
          "Bulgaria"
         ],
         "yaxis": "y"
        },
        {
         "alignmentgroup": "True",
         "base": [
          "2020-03-10"
         ],
         "hovertemplate": "Resource=%{y}<br>Start=%{base}<br>Finish=%{x}<extra></extra>",
         "legendgroup": "Burkina Faso",
         "marker": {
          "color": "#636efa"
         },
         "name": "Burkina Faso",
         "offsetgroup": "Burkina Faso",
         "orientation": "h",
         "showlegend": true,
         "textposition": "auto",
         "type": "bar",
         "x": [
          15206400000
         ],
         "xaxis": "x",
         "y": [
          "Burkina Faso"
         ],
         "yaxis": "y"
        },
        {
         "alignmentgroup": "True",
         "base": [
          "2020-03-27"
         ],
         "hovertemplate": "Resource=%{y}<br>Start=%{base}<br>Finish=%{x}<extra></extra>",
         "legendgroup": "Burma",
         "marker": {
          "color": "#EF553B"
         },
         "name": "Burma",
         "offsetgroup": "Burma",
         "orientation": "h",
         "showlegend": true,
         "textposition": "auto",
         "type": "bar",
         "x": [
          13737600000
         ],
         "xaxis": "x",
         "y": [
          "Burma"
         ],
         "yaxis": "y"
        },
        {
         "alignmentgroup": "True",
         "base": [
          "2020-03-31"
         ],
         "hovertemplate": "Resource=%{y}<br>Start=%{base}<br>Finish=%{x}<extra></extra>",
         "legendgroup": "Burundi",
         "marker": {
          "color": "#00cc96"
         },
         "name": "Burundi",
         "offsetgroup": "Burundi",
         "orientation": "h",
         "showlegend": true,
         "textposition": "auto",
         "type": "bar",
         "x": [
          13392000000
         ],
         "xaxis": "x",
         "y": [
          "Burundi"
         ],
         "yaxis": "y"
        },
        {
         "alignmentgroup": "True",
         "base": [
          "2020-03-20"
         ],
         "hovertemplate": "Resource=%{y}<br>Start=%{base}<br>Finish=%{x}<extra></extra>",
         "legendgroup": "Cabo Verde",
         "marker": {
          "color": "#ab63fa"
         },
         "name": "Cabo Verde",
         "offsetgroup": "Cabo Verde",
         "orientation": "h",
         "showlegend": true,
         "textposition": "auto",
         "type": "bar",
         "x": [
          14342400000
         ],
         "xaxis": "x",
         "y": [
          "Cabo Verde"
         ],
         "yaxis": "y"
        },
        {
         "alignmentgroup": "True",
         "base": [
          "2020-01-27"
         ],
         "hovertemplate": "Resource=%{y}<br>Start=%{base}<br>Finish=%{x}<extra></extra>",
         "legendgroup": "Cambodia",
         "marker": {
          "color": "#FFA15A"
         },
         "name": "Cambodia",
         "offsetgroup": "Cambodia",
         "orientation": "h",
         "showlegend": true,
         "textposition": "auto",
         "type": "bar",
         "x": [
          18921600000
         ],
         "xaxis": "x",
         "y": [
          "Cambodia"
         ],
         "yaxis": "y"
        },
        {
         "alignmentgroup": "True",
         "base": [
          "2020-03-06"
         ],
         "hovertemplate": "Resource=%{y}<br>Start=%{base}<br>Finish=%{x}<extra></extra>",
         "legendgroup": "Cameroon",
         "marker": {
          "color": "#19d3f3"
         },
         "name": "Cameroon",
         "offsetgroup": "Cameroon",
         "orientation": "h",
         "showlegend": true,
         "textposition": "auto",
         "type": "bar",
         "x": [
          15552000000
         ],
         "xaxis": "x",
         "y": [
          "Cameroon"
         ],
         "yaxis": "y"
        },
        {
         "alignmentgroup": "True",
         "base": [
          "2020-01-26"
         ],
         "hovertemplate": "Resource=%{y}<br>Start=%{base}<br>Finish=%{x}<extra></extra>",
         "legendgroup": "Canada",
         "marker": {
          "color": "#FF6692"
         },
         "name": "Canada",
         "offsetgroup": "Canada",
         "orientation": "h",
         "showlegend": true,
         "textposition": "auto",
         "type": "bar",
         "x": [
          19008000000
         ],
         "xaxis": "x",
         "y": [
          "Canada"
         ],
         "yaxis": "y"
        },
        {
         "alignmentgroup": "True",
         "base": [
          "2020-03-21"
         ],
         "hovertemplate": "Resource=%{y}<br>Start=%{base}<br>Finish=%{x}<extra></extra>",
         "legendgroup": "Cape Verde",
         "marker": {
          "color": "#B6E880"
         },
         "name": "Cape Verde",
         "offsetgroup": "Cape Verde",
         "orientation": "h",
         "showlegend": true,
         "textposition": "auto",
         "type": "bar",
         "x": [
          0
         ],
         "xaxis": "x",
         "y": [
          "Cape Verde"
         ],
         "yaxis": "y"
        },
        {
         "alignmentgroup": "True",
         "base": [
          "2020-03-11"
         ],
         "hovertemplate": "Resource=%{y}<br>Start=%{base}<br>Finish=%{x}<extra></extra>",
         "legendgroup": "Cayman Islands",
         "marker": {
          "color": "#FF97FF"
         },
         "name": "Cayman Islands",
         "offsetgroup": "Cayman Islands",
         "orientation": "h",
         "showlegend": true,
         "textposition": "auto",
         "type": "bar",
         "x": [
          172800000
         ],
         "xaxis": "x",
         "y": [
          "Cayman Islands"
         ],
         "yaxis": "y"
        },
        {
         "alignmentgroup": "True",
         "base": [
          "2020-03-15"
         ],
         "hovertemplate": "Resource=%{y}<br>Start=%{base}<br>Finish=%{x}<extra></extra>",
         "legendgroup": "Central African Republic",
         "marker": {
          "color": "#FECB52"
         },
         "name": "Central African Republic",
         "offsetgroup": "Central African Republic",
         "orientation": "h",
         "showlegend": true,
         "textposition": "auto",
         "type": "bar",
         "x": [
          14774400000
         ],
         "xaxis": "x",
         "y": [
          "Central African Republic"
         ],
         "yaxis": "y"
        },
        {
         "alignmentgroup": "True",
         "base": [
          "2020-03-19"
         ],
         "hovertemplate": "Resource=%{y}<br>Start=%{base}<br>Finish=%{x}<extra></extra>",
         "legendgroup": "Chad",
         "marker": {
          "color": "#636efa"
         },
         "name": "Chad",
         "offsetgroup": "Chad",
         "orientation": "h",
         "showlegend": true,
         "textposition": "auto",
         "type": "bar",
         "x": [
          14428800000
         ],
         "xaxis": "x",
         "y": [
          "Chad"
         ],
         "yaxis": "y"
        },
        {
         "alignmentgroup": "True",
         "base": [
          "2020-03-10"
         ],
         "hovertemplate": "Resource=%{y}<br>Start=%{base}<br>Finish=%{x}<extra></extra>",
         "legendgroup": "Channel Islands",
         "marker": {
          "color": "#EF553B"
         },
         "name": "Channel Islands",
         "offsetgroup": "Channel Islands",
         "orientation": "h",
         "showlegend": true,
         "textposition": "auto",
         "type": "bar",
         "x": [
          0
         ],
         "xaxis": "x",
         "y": [
          "Channel Islands"
         ],
         "yaxis": "y"
        },
        {
         "alignmentgroup": "True",
         "base": [
          "2020-03-13"
         ],
         "hovertemplate": "Resource=%{y}<br>Start=%{base}<br>Finish=%{x}<extra></extra>",
         "legendgroup": "Guernsey",
         "marker": {
          "color": "#00cc96"
         },
         "name": "Guernsey",
         "offsetgroup": "Guernsey",
         "orientation": "h",
         "showlegend": true,
         "textposition": "auto",
         "type": "bar",
         "x": [
          345600000
         ],
         "xaxis": "x",
         "y": [
          "Guernsey"
         ],
         "yaxis": "y"
        },
        {
         "alignmentgroup": "True",
         "base": [
          "2020-03-14"
         ],
         "hovertemplate": "Resource=%{y}<br>Start=%{base}<br>Finish=%{x}<extra></extra>",
         "legendgroup": "Jersey",
         "marker": {
          "color": "#ab63fa"
         },
         "name": "Jersey",
         "offsetgroup": "Jersey",
         "orientation": "h",
         "showlegend": true,
         "textposition": "auto",
         "type": "bar",
         "x": [
          259200000
         ],
         "xaxis": "x",
         "y": [
          "Jersey"
         ],
         "yaxis": "y"
        },
        {
         "alignmentgroup": "True",
         "base": [
          "2020-03-03"
         ],
         "hovertemplate": "Resource=%{y}<br>Start=%{base}<br>Finish=%{x}<extra></extra>",
         "legendgroup": "Chile",
         "marker": {
          "color": "#FFA15A"
         },
         "name": "Chile",
         "offsetgroup": "Chile",
         "orientation": "h",
         "showlegend": true,
         "textposition": "auto",
         "type": "bar",
         "x": [
          15811200000
         ],
         "xaxis": "x",
         "y": [
          "Chile"
         ],
         "yaxis": "y"
        },
        {
         "alignmentgroup": "True",
         "base": [
          "2020-03-11"
         ],
         "hovertemplate": "Resource=%{y}<br>Start=%{base}<br>Finish=%{x}<extra></extra>",
         "legendgroup": "China",
         "marker": {
          "color": "#19d3f3"
         },
         "name": "China",
         "offsetgroup": "China",
         "orientation": "h",
         "showlegend": true,
         "textposition": "auto",
         "type": "bar",
         "x": [
          15120000000
         ],
         "xaxis": "x",
         "y": [
          "China"
         ],
         "yaxis": "y"
        },
        {
         "alignmentgroup": "True",
         "base": [
          "2020-01-22"
         ],
         "hovertemplate": "Resource=%{y}<br>Start=%{base}<br>Finish=%{x}<extra></extra>",
         "legendgroup": "Mainland China",
         "marker": {
          "color": "#FF6692"
         },
         "name": "Mainland China",
         "offsetgroup": "Mainland China",
         "orientation": "h",
         "showlegend": true,
         "textposition": "auto",
         "type": "bar",
         "x": [
          4233600000
         ],
         "xaxis": "x",
         "y": [
          "Mainland China"
         ],
         "yaxis": "y"
        },
        {
         "alignmentgroup": "True",
         "base": [
          "2020-01-23"
         ],
         "hovertemplate": "Resource=%{y}<br>Start=%{base}<br>Finish=%{x}<extra></extra>",
         "legendgroup": "Colombia",
         "marker": {
          "color": "#B6E880"
         },
         "name": "Colombia",
         "offsetgroup": "Colombia",
         "orientation": "h",
         "showlegend": true,
         "textposition": "auto",
         "type": "bar",
         "x": [
          19267200000
         ],
         "xaxis": "x",
         "y": [
          "Colombia"
         ],
         "yaxis": "y"
        },
        {
         "alignmentgroup": "True",
         "base": [
          "2020-05-01"
         ],
         "hovertemplate": "Resource=%{y}<br>Start=%{base}<br>Finish=%{x}<extra></extra>",
         "legendgroup": "Comoros",
         "marker": {
          "color": "#FF97FF"
         },
         "name": "Comoros",
         "offsetgroup": "Comoros",
         "orientation": "h",
         "showlegend": true,
         "textposition": "auto",
         "type": "bar",
         "x": [
          10713600000
         ],
         "xaxis": "x",
         "y": [
          "Comoros"
         ],
         "yaxis": "y"
        },
        {
         "alignmentgroup": "True",
         "base": [
          "2020-03-15"
         ],
         "hovertemplate": "Resource=%{y}<br>Start=%{base}<br>Finish=%{x}<extra></extra>",
         "legendgroup": "Congo (Brazzaville)",
         "marker": {
          "color": "#FECB52"
         },
         "name": "Congo (Brazzaville)",
         "offsetgroup": "Congo (Brazzaville)",
         "orientation": "h",
         "showlegend": true,
         "textposition": "auto",
         "type": "bar",
         "x": [
          14774400000
         ],
         "xaxis": "x",
         "y": [
          "Congo (Brazzaville)"
         ],
         "yaxis": "y"
        },
        {
         "alignmentgroup": "True",
         "base": [
          "2020-03-11"
         ],
         "hovertemplate": "Resource=%{y}<br>Start=%{base}<br>Finish=%{x}<extra></extra>",
         "legendgroup": "Congo (Kinshasa)",
         "marker": {
          "color": "#636efa"
         },
         "name": "Congo (Kinshasa)",
         "offsetgroup": "Congo (Kinshasa)",
         "orientation": "h",
         "showlegend": true,
         "textposition": "auto",
         "type": "bar",
         "x": [
          15120000000
         ],
         "xaxis": "x",
         "y": [
          "Congo (Kinshasa)"
         ],
         "yaxis": "y"
        },
        {
         "alignmentgroup": "True",
         "base": [
          "2020-03-16"
         ],
         "hovertemplate": "Resource=%{y}<br>Start=%{base}<br>Finish=%{x}<extra></extra>",
         "legendgroup": "Republic of the Congo",
         "marker": {
          "color": "#EF553B"
         },
         "name": "Republic of the Congo",
         "offsetgroup": "Republic of the Congo",
         "orientation": "h",
         "showlegend": true,
         "textposition": "auto",
         "type": "bar",
         "x": [
          86400000
         ],
         "xaxis": "x",
         "y": [
          "Republic of the Congo"
         ],
         "yaxis": "y"
        },
        {
         "alignmentgroup": "True",
         "base": [
          "2020-03-06"
         ],
         "hovertemplate": "Resource=%{y}<br>Start=%{base}<br>Finish=%{x}<extra></extra>",
         "legendgroup": "Costa Rica",
         "marker": {
          "color": "#00cc96"
         },
         "name": "Costa Rica",
         "offsetgroup": "Costa Rica",
         "orientation": "h",
         "showlegend": true,
         "textposition": "auto",
         "type": "bar",
         "x": [
          15552000000
         ],
         "xaxis": "x",
         "y": [
          "Costa Rica"
         ],
         "yaxis": "y"
        },
        {
         "alignmentgroup": "True",
         "base": [
          "2020-03-11"
         ],
         "hovertemplate": "Resource=%{y}<br>Start=%{base}<br>Finish=%{x}<extra></extra>",
         "legendgroup": "Cote d'Ivoire",
         "marker": {
          "color": "#ab63fa"
         },
         "name": "Cote d'Ivoire",
         "offsetgroup": "Cote d'Ivoire",
         "orientation": "h",
         "showlegend": true,
         "textposition": "auto",
         "type": "bar",
         "x": [
          15120000000
         ],
         "xaxis": "x",
         "y": [
          "Cote d'Ivoire"
         ],
         "yaxis": "y"
        },
        {
         "alignmentgroup": "True",
         "base": [
          "2020-02-25"
         ],
         "hovertemplate": "Resource=%{y}<br>Start=%{base}<br>Finish=%{x}<extra></extra>",
         "legendgroup": "Croatia",
         "marker": {
          "color": "#FFA15A"
         },
         "name": "Croatia",
         "offsetgroup": "Croatia",
         "orientation": "h",
         "showlegend": true,
         "textposition": "auto",
         "type": "bar",
         "x": [
          16416000000
         ],
         "xaxis": "x",
         "y": [
          "Croatia"
         ],
         "yaxis": "y"
        },
        {
         "alignmentgroup": "True",
         "base": [
          "2020-03-12"
         ],
         "hovertemplate": "Resource=%{y}<br>Start=%{base}<br>Finish=%{x}<extra></extra>",
         "legendgroup": "Cuba",
         "marker": {
          "color": "#19d3f3"
         },
         "name": "Cuba",
         "offsetgroup": "Cuba",
         "orientation": "h",
         "showlegend": true,
         "textposition": "auto",
         "type": "bar",
         "x": [
          15033600000
         ],
         "xaxis": "x",
         "y": [
          "Cuba"
         ],
         "yaxis": "y"
        },
        {
         "alignmentgroup": "True",
         "base": [
          "2020-03-14"
         ],
         "hovertemplate": "Resource=%{y}<br>Start=%{base}<br>Finish=%{x}<extra></extra>",
         "legendgroup": "Curacao",
         "marker": {
          "color": "#FF6692"
         },
         "name": "Curacao",
         "offsetgroup": "Curacao",
         "orientation": "h",
         "showlegend": true,
         "textposition": "auto",
         "type": "bar",
         "x": [
          0
         ],
         "xaxis": "x",
         "y": [
          "Curacao"
         ],
         "yaxis": "y"
        },
        {
         "alignmentgroup": "True",
         "base": [
          "2020-03-09"
         ],
         "hovertemplate": "Resource=%{y}<br>Start=%{base}<br>Finish=%{x}<extra></extra>",
         "legendgroup": "Cyprus",
         "marker": {
          "color": "#B6E880"
         },
         "name": "Cyprus",
         "offsetgroup": "Cyprus",
         "orientation": "h",
         "showlegend": true,
         "textposition": "auto",
         "type": "bar",
         "x": [
          15292800000
         ],
         "xaxis": "x",
         "y": [
          "Cyprus"
         ],
         "yaxis": "y"
        },
        {
         "alignmentgroup": "True",
         "base": [
          "2020-03-01"
         ],
         "hovertemplate": "Resource=%{y}<br>Start=%{base}<br>Finish=%{x}<extra></extra>",
         "legendgroup": "Czech Republic",
         "marker": {
          "color": "#FF97FF"
         },
         "name": "Czech Republic",
         "offsetgroup": "Czech Republic",
         "orientation": "h",
         "showlegend": true,
         "textposition": "auto",
         "type": "bar",
         "x": [
          777600000
         ],
         "xaxis": "x",
         "y": [
          "Czech Republic"
         ],
         "yaxis": "y"
        },
        {
         "alignmentgroup": "True",
         "base": [
          "2020-03-11"
         ],
         "hovertemplate": "Resource=%{y}<br>Start=%{base}<br>Finish=%{x}<extra></extra>",
         "legendgroup": "Czechia",
         "marker": {
          "color": "#FECB52"
         },
         "name": "Czechia",
         "offsetgroup": "Czechia",
         "orientation": "h",
         "showlegend": true,
         "textposition": "auto",
         "type": "bar",
         "x": [
          15120000000
         ],
         "xaxis": "x",
         "y": [
          "Czechia"
         ],
         "yaxis": "y"
        },
        {
         "alignmentgroup": "True",
         "base": [
          "2020-02-27"
         ],
         "hovertemplate": "Resource=%{y}<br>Start=%{base}<br>Finish=%{x}<extra></extra>",
         "legendgroup": "Denmark",
         "marker": {
          "color": "#636efa"
         },
         "name": "Denmark",
         "offsetgroup": "Denmark",
         "orientation": "h",
         "showlegend": true,
         "textposition": "auto",
         "type": "bar",
         "x": [
          16243200000
         ],
         "xaxis": "x",
         "y": [
          "Denmark"
         ],
         "yaxis": "y"
        },
        {
         "alignmentgroup": "True",
         "base": [
          "2020-03-11"
         ],
         "hovertemplate": "Resource=%{y}<br>Start=%{base}<br>Finish=%{x}<extra></extra>",
         "legendgroup": "Cruise Ship",
         "marker": {
          "color": "#EF553B"
         },
         "name": "Cruise Ship",
         "offsetgroup": "Cruise Ship",
         "orientation": "h",
         "showlegend": true,
         "textposition": "auto",
         "type": "bar",
         "x": [
          1036800000
         ],
         "xaxis": "x",
         "y": [
          "Cruise Ship"
         ],
         "yaxis": "y"
        },
        {
         "alignmentgroup": "True",
         "base": [
          "2020-03-25"
         ],
         "hovertemplate": "Resource=%{y}<br>Start=%{base}<br>Finish=%{x}<extra></extra>",
         "legendgroup": "Diamond Princess",
         "marker": {
          "color": "#00cc96"
         },
         "name": "Diamond Princess",
         "offsetgroup": "Diamond Princess",
         "orientation": "h",
         "showlegend": true,
         "textposition": "auto",
         "type": "bar",
         "x": [
          13910400000
         ],
         "xaxis": "x",
         "y": [
          "Diamond Princess"
         ],
         "yaxis": "y"
        },
        {
         "alignmentgroup": "True",
         "base": [
          "2020-03-18"
         ],
         "hovertemplate": "Resource=%{y}<br>Start=%{base}<br>Finish=%{x}<extra></extra>",
         "legendgroup": "Djibouti",
         "marker": {
          "color": "#ab63fa"
         },
         "name": "Djibouti",
         "offsetgroup": "Djibouti",
         "orientation": "h",
         "showlegend": true,
         "textposition": "auto",
         "type": "bar",
         "x": [
          14515200000
         ],
         "xaxis": "x",
         "y": [
          "Djibouti"
         ],
         "yaxis": "y"
        },
        {
         "alignmentgroup": "True",
         "base": [
          "2020-03-22"
         ],
         "hovertemplate": "Resource=%{y}<br>Start=%{base}<br>Finish=%{x}<extra></extra>",
         "legendgroup": "Dominica",
         "marker": {
          "color": "#FFA15A"
         },
         "name": "Dominica",
         "offsetgroup": "Dominica",
         "orientation": "h",
         "showlegend": true,
         "textposition": "auto",
         "type": "bar",
         "x": [
          14169600000
         ],
         "xaxis": "x",
         "y": [
          "Dominica"
         ],
         "yaxis": "y"
        },
        {
         "alignmentgroup": "True",
         "base": [
          "2020-03-01"
         ],
         "hovertemplate": "Resource=%{y}<br>Start=%{base}<br>Finish=%{x}<extra></extra>",
         "legendgroup": "Dominican Republic",
         "marker": {
          "color": "#19d3f3"
         },
         "name": "Dominican Republic",
         "offsetgroup": "Dominican Republic",
         "orientation": "h",
         "showlegend": true,
         "textposition": "auto",
         "type": "bar",
         "x": [
          15984000000
         ],
         "xaxis": "x",
         "y": [
          "Dominican Republic"
         ],
         "yaxis": "y"
        },
        {
         "alignmentgroup": "True",
         "base": [
          "2020-03-01"
         ],
         "hovertemplate": "Resource=%{y}<br>Start=%{base}<br>Finish=%{x}<extra></extra>",
         "legendgroup": "Ecuador",
         "marker": {
          "color": "#FF6692"
         },
         "name": "Ecuador",
         "offsetgroup": "Ecuador",
         "orientation": "h",
         "showlegend": true,
         "textposition": "auto",
         "type": "bar",
         "x": [
          15984000000
         ],
         "xaxis": "x",
         "y": [
          "Ecuador"
         ],
         "yaxis": "y"
        },
        {
         "alignmentgroup": "True",
         "base": [
          "2020-02-14"
         ],
         "hovertemplate": "Resource=%{y}<br>Start=%{base}<br>Finish=%{x}<extra></extra>",
         "legendgroup": "Egypt",
         "marker": {
          "color": "#B6E880"
         },
         "name": "Egypt",
         "offsetgroup": "Egypt",
         "orientation": "h",
         "showlegend": true,
         "textposition": "auto",
         "type": "bar",
         "x": [
          17366400000
         ],
         "xaxis": "x",
         "y": [
          "Egypt"
         ],
         "yaxis": "y"
        },
        {
         "alignmentgroup": "True",
         "base": [
          "2020-03-19"
         ],
         "hovertemplate": "Resource=%{y}<br>Start=%{base}<br>Finish=%{x}<extra></extra>",
         "legendgroup": "El Salvador",
         "marker": {
          "color": "#FF97FF"
         },
         "name": "El Salvador",
         "offsetgroup": "El Salvador",
         "orientation": "h",
         "showlegend": true,
         "textposition": "auto",
         "type": "bar",
         "x": [
          14428800000
         ],
         "xaxis": "x",
         "y": [
          "El Salvador"
         ],
         "yaxis": "y"
        },
        {
         "alignmentgroup": "True",
         "base": [
          "2020-03-15"
         ],
         "hovertemplate": "Resource=%{y}<br>Start=%{base}<br>Finish=%{x}<extra></extra>",
         "legendgroup": "Equatorial Guinea",
         "marker": {
          "color": "#FECB52"
         },
         "name": "Equatorial Guinea",
         "offsetgroup": "Equatorial Guinea",
         "orientation": "h",
         "showlegend": true,
         "textposition": "auto",
         "type": "bar",
         "x": [
          14774400000
         ],
         "xaxis": "x",
         "y": [
          "Equatorial Guinea"
         ],
         "yaxis": "y"
        },
        {
         "alignmentgroup": "True",
         "base": [
          "2020-03-21"
         ],
         "hovertemplate": "Resource=%{y}<br>Start=%{base}<br>Finish=%{x}<extra></extra>",
         "legendgroup": "Eritrea",
         "marker": {
          "color": "#636efa"
         },
         "name": "Eritrea",
         "offsetgroup": "Eritrea",
         "orientation": "h",
         "showlegend": true,
         "textposition": "auto",
         "type": "bar",
         "x": [
          14256000000
         ],
         "xaxis": "x",
         "y": [
          "Eritrea"
         ],
         "yaxis": "y"
        },
        {
         "alignmentgroup": "True",
         "base": [
          "2020-02-27"
         ],
         "hovertemplate": "Resource=%{y}<br>Start=%{base}<br>Finish=%{x}<extra></extra>",
         "legendgroup": "Estonia",
         "marker": {
          "color": "#EF553B"
         },
         "name": "Estonia",
         "offsetgroup": "Estonia",
         "orientation": "h",
         "showlegend": true,
         "textposition": "auto",
         "type": "bar",
         "x": [
          16243200000
         ],
         "xaxis": "x",
         "y": [
          "Estonia"
         ],
         "yaxis": "y"
        },
        {
         "alignmentgroup": "True",
         "base": [
          "2020-03-14"
         ],
         "hovertemplate": "Resource=%{y}<br>Start=%{base}<br>Finish=%{x}<extra></extra>",
         "legendgroup": "Eswatini",
         "marker": {
          "color": "#00cc96"
         },
         "name": "Eswatini",
         "offsetgroup": "Eswatini",
         "orientation": "h",
         "showlegend": true,
         "textposition": "auto",
         "type": "bar",
         "x": [
          14860800000
         ],
         "xaxis": "x",
         "y": [
          "Eswatini"
         ],
         "yaxis": "y"
        },
        {
         "alignmentgroup": "True",
         "base": [
          "2020-03-11"
         ],
         "hovertemplate": "Resource=%{y}<br>Start=%{base}<br>Finish=%{x}<extra></extra>",
         "legendgroup": "Ethiopia",
         "marker": {
          "color": "#ab63fa"
         },
         "name": "Ethiopia",
         "offsetgroup": "Ethiopia",
         "orientation": "h",
         "showlegend": true,
         "textposition": "auto",
         "type": "bar",
         "x": [
          15120000000
         ],
         "xaxis": "x",
         "y": [
          "Ethiopia"
         ],
         "yaxis": "y"
        },
        {
         "alignmentgroup": "True",
         "base": [
          "2020-03-04"
         ],
         "hovertemplate": "Resource=%{y}<br>Start=%{base}<br>Finish=%{x}<extra></extra>",
         "legendgroup": "Faroe Islands",
         "marker": {
          "color": "#FFA15A"
         },
         "name": "Faroe Islands",
         "offsetgroup": "Faroe Islands",
         "orientation": "h",
         "showlegend": true,
         "textposition": "auto",
         "type": "bar",
         "x": [
          345600000
         ],
         "xaxis": "x",
         "y": [
          "Faroe Islands"
         ],
         "yaxis": "y"
        },
        {
         "alignmentgroup": "True",
         "base": [
          "2020-03-19"
         ],
         "hovertemplate": "Resource=%{y}<br>Start=%{base}<br>Finish=%{x}<extra></extra>",
         "legendgroup": "Fiji",
         "marker": {
          "color": "#19d3f3"
         },
         "name": "Fiji",
         "offsetgroup": "Fiji",
         "orientation": "h",
         "showlegend": true,
         "textposition": "auto",
         "type": "bar",
         "x": [
          14428800000
         ],
         "xaxis": "x",
         "y": [
          "Fiji"
         ],
         "yaxis": "y"
        },
        {
         "alignmentgroup": "True",
         "base": [
          "2020-01-29"
         ],
         "hovertemplate": "Resource=%{y}<br>Start=%{base}<br>Finish=%{x}<extra></extra>",
         "legendgroup": "Finland",
         "marker": {
          "color": "#FF6692"
         },
         "name": "Finland",
         "offsetgroup": "Finland",
         "orientation": "h",
         "showlegend": true,
         "textposition": "auto",
         "type": "bar",
         "x": [
          18748800000
         ],
         "xaxis": "x",
         "y": [
          "Finland"
         ],
         "yaxis": "y"
        },
        {
         "alignmentgroup": "True",
         "base": [
          "2020-01-24"
         ],
         "hovertemplate": "Resource=%{y}<br>Start=%{base}<br>Finish=%{x}<extra></extra>",
         "legendgroup": "France",
         "marker": {
          "color": "#B6E880"
         },
         "name": "France",
         "offsetgroup": "France",
         "orientation": "h",
         "showlegend": true,
         "textposition": "auto",
         "type": "bar",
         "x": [
          19180800000
         ],
         "xaxis": "x",
         "y": [
          "France"
         ],
         "yaxis": "y"
        },
        {
         "alignmentgroup": "True",
         "base": [
          "2020-03-07"
         ],
         "hovertemplate": "Resource=%{y}<br>Start=%{base}<br>Finish=%{x}<extra></extra>",
         "legendgroup": "French Guiana",
         "marker": {
          "color": "#FF97FF"
         },
         "name": "French Guiana",
         "offsetgroup": "French Guiana",
         "orientation": "h",
         "showlegend": true,
         "textposition": "auto",
         "type": "bar",
         "x": [
          1209600000
         ],
         "xaxis": "x",
         "y": [
          "French Guiana"
         ],
         "yaxis": "y"
        },
        {
         "alignmentgroup": "True",
         "base": [
          "2020-03-14"
         ],
         "hovertemplate": "Resource=%{y}<br>Start=%{base}<br>Finish=%{x}<extra></extra>",
         "legendgroup": "Gabon",
         "marker": {
          "color": "#FECB52"
         },
         "name": "Gabon",
         "offsetgroup": "Gabon",
         "orientation": "h",
         "showlegend": true,
         "textposition": "auto",
         "type": "bar",
         "x": [
          14860800000
         ],
         "xaxis": "x",
         "y": [
          "Gabon"
         ],
         "yaxis": "y"
        },
        {
         "alignmentgroup": "True",
         "base": [
          "2020-03-22"
         ],
         "hovertemplate": "Resource=%{y}<br>Start=%{base}<br>Finish=%{x}<extra></extra>",
         "legendgroup": "Gambia",
         "marker": {
          "color": "#636efa"
         },
         "name": "Gambia",
         "offsetgroup": "Gambia",
         "orientation": "h",
         "showlegend": true,
         "textposition": "auto",
         "type": "bar",
         "x": [
          14169600000
         ],
         "xaxis": "x",
         "y": [
          "Gambia"
         ],
         "yaxis": "y"
        },
        {
         "alignmentgroup": "True",
         "base": [
          "2020-03-18"
         ],
         "hovertemplate": "Resource=%{y}<br>Start=%{base}<br>Finish=%{x}<extra></extra>",
         "legendgroup": "Gambia, The",
         "marker": {
          "color": "#EF553B"
         },
         "name": "Gambia, The",
         "offsetgroup": "Gambia, The",
         "orientation": "h",
         "showlegend": true,
         "textposition": "auto",
         "type": "bar",
         "x": [
          0
         ],
         "xaxis": "x",
         "y": [
          "Gambia, The"
         ],
         "yaxis": "y"
        },
        {
         "alignmentgroup": "True",
         "base": [
          "2020-03-17"
         ],
         "hovertemplate": "Resource=%{y}<br>Start=%{base}<br>Finish=%{x}<extra></extra>",
         "legendgroup": "The Gambia",
         "marker": {
          "color": "#00cc96"
         },
         "name": "The Gambia",
         "offsetgroup": "The Gambia",
         "orientation": "h",
         "showlegend": true,
         "textposition": "auto",
         "type": "bar",
         "x": [
          86400000
         ],
         "xaxis": "x",
         "y": [
          "The Gambia"
         ],
         "yaxis": "y"
        },
        {
         "alignmentgroup": "True",
         "base": [
          "2020-02-26"
         ],
         "hovertemplate": "Resource=%{y}<br>Start=%{base}<br>Finish=%{x}<extra></extra>",
         "legendgroup": "Georgia",
         "marker": {
          "color": "#ab63fa"
         },
         "name": "Georgia",
         "offsetgroup": "Georgia",
         "orientation": "h",
         "showlegend": true,
         "textposition": "auto",
         "type": "bar",
         "x": [
          16329600000
         ],
         "xaxis": "x",
         "y": [
          "Georgia"
         ],
         "yaxis": "y"
        },
        {
         "alignmentgroup": "True",
         "base": [
          "2020-01-28"
         ],
         "hovertemplate": "Resource=%{y}<br>Start=%{base}<br>Finish=%{x}<extra></extra>",
         "legendgroup": "Germany",
         "marker": {
          "color": "#FFA15A"
         },
         "name": "Germany",
         "offsetgroup": "Germany",
         "orientation": "h",
         "showlegend": true,
         "textposition": "auto",
         "type": "bar",
         "x": [
          18835200000
         ],
         "xaxis": "x",
         "y": [
          "Germany"
         ],
         "yaxis": "y"
        },
        {
         "alignmentgroup": "True",
         "base": [
          "2020-03-14"
         ],
         "hovertemplate": "Resource=%{y}<br>Start=%{base}<br>Finish=%{x}<extra></extra>",
         "legendgroup": "Ghana",
         "marker": {
          "color": "#19d3f3"
         },
         "name": "Ghana",
         "offsetgroup": "Ghana",
         "orientation": "h",
         "showlegend": true,
         "textposition": "auto",
         "type": "bar",
         "x": [
          14860800000
         ],
         "xaxis": "x",
         "y": [
          "Ghana"
         ],
         "yaxis": "y"
        },
        {
         "alignmentgroup": "True",
         "base": [
          "2020-03-04"
         ],
         "hovertemplate": "Resource=%{y}<br>Start=%{base}<br>Finish=%{x}<extra></extra>",
         "legendgroup": "Gibraltar",
         "marker": {
          "color": "#FF6692"
         },
         "name": "Gibraltar",
         "offsetgroup": "Gibraltar",
         "orientation": "h",
         "showlegend": true,
         "textposition": "auto",
         "type": "bar",
         "x": [
          518400000
         ],
         "xaxis": "x",
         "y": [
          "Gibraltar"
         ],
         "yaxis": "y"
        },
        {
         "alignmentgroup": "True",
         "base": [
          "2020-02-26"
         ],
         "hovertemplate": "Resource=%{y}<br>Start=%{base}<br>Finish=%{x}<extra></extra>",
         "legendgroup": "Greece",
         "marker": {
          "color": "#B6E880"
         },
         "name": "Greece",
         "offsetgroup": "Greece",
         "orientation": "h",
         "showlegend": true,
         "textposition": "auto",
         "type": "bar",
         "x": [
          16329600000
         ],
         "xaxis": "x",
         "y": [
          "Greece"
         ],
         "yaxis": "y"
        },
        {
         "alignmentgroup": "True",
         "base": [
          "2020-03-16"
         ],
         "hovertemplate": "Resource=%{y}<br>Start=%{base}<br>Finish=%{x}<extra></extra>",
         "legendgroup": "Greenland",
         "marker": {
          "color": "#FF97FF"
         },
         "name": "Greenland",
         "offsetgroup": "Greenland",
         "orientation": "h",
         "showlegend": true,
         "textposition": "auto",
         "type": "bar",
         "x": [
          259200000
         ],
         "xaxis": "x",
         "y": [
          "Greenland"
         ],
         "yaxis": "y"
        },
        {
         "alignmentgroup": "True",
         "base": [
          "2020-03-22"
         ],
         "hovertemplate": "Resource=%{y}<br>Start=%{base}<br>Finish=%{x}<extra></extra>",
         "legendgroup": "Grenada",
         "marker": {
          "color": "#FECB52"
         },
         "name": "Grenada",
         "offsetgroup": "Grenada",
         "orientation": "h",
         "showlegend": true,
         "textposition": "auto",
         "type": "bar",
         "x": [
          14169600000
         ],
         "xaxis": "x",
         "y": [
          "Grenada"
         ],
         "yaxis": "y"
        },
        {
         "alignmentgroup": "True",
         "base": [
          "2020-03-11"
         ],
         "hovertemplate": "Resource=%{y}<br>Start=%{base}<br>Finish=%{x}<extra></extra>",
         "legendgroup": "Guadeloupe",
         "marker": {
          "color": "#636efa"
         },
         "name": "Guadeloupe",
         "offsetgroup": "Guadeloupe",
         "orientation": "h",
         "showlegend": true,
         "textposition": "auto",
         "type": "bar",
         "x": [
          864000000
         ],
         "xaxis": "x",
         "y": [
          "Guadeloupe"
         ],
         "yaxis": "y"
        },
        {
         "alignmentgroup": "True",
         "base": [
          "2020-03-16"
         ],
         "hovertemplate": "Resource=%{y}<br>Start=%{base}<br>Finish=%{x}<extra></extra>",
         "legendgroup": "Guam",
         "marker": {
          "color": "#EF553B"
         },
         "name": "Guam",
         "offsetgroup": "Guam",
         "orientation": "h",
         "showlegend": true,
         "textposition": "auto",
         "type": "bar",
         "x": [
          172800000
         ],
         "xaxis": "x",
         "y": [
          "Guam"
         ],
         "yaxis": "y"
        },
        {
         "alignmentgroup": "True",
         "base": [
          "2020-03-14"
         ],
         "hovertemplate": "Resource=%{y}<br>Start=%{base}<br>Finish=%{x}<extra></extra>",
         "legendgroup": "Guatemala",
         "marker": {
          "color": "#00cc96"
         },
         "name": "Guatemala",
         "offsetgroup": "Guatemala",
         "orientation": "h",
         "showlegend": true,
         "textposition": "auto",
         "type": "bar",
         "x": [
          14860800000
         ],
         "xaxis": "x",
         "y": [
          "Guatemala"
         ],
         "yaxis": "y"
        },
        {
         "alignmentgroup": "True",
         "base": [
          "2020-03-11"
         ],
         "hovertemplate": "Resource=%{y}<br>Start=%{base}<br>Finish=%{x}<extra></extra>",
         "legendgroup": "Guinea",
         "marker": {
          "color": "#ab63fa"
         },
         "name": "Guinea",
         "offsetgroup": "Guinea",
         "orientation": "h",
         "showlegend": true,
         "textposition": "auto",
         "type": "bar",
         "x": [
          15120000000
         ],
         "xaxis": "x",
         "y": [
          "Guinea"
         ],
         "yaxis": "y"
        },
        {
         "alignmentgroup": "True",
         "base": [
          "2020-03-25"
         ],
         "hovertemplate": "Resource=%{y}<br>Start=%{base}<br>Finish=%{x}<extra></extra>",
         "legendgroup": "Guinea-Bissau",
         "marker": {
          "color": "#FFA15A"
         },
         "name": "Guinea-Bissau",
         "offsetgroup": "Guinea-Bissau",
         "orientation": "h",
         "showlegend": true,
         "textposition": "auto",
         "type": "bar",
         "x": [
          13910400000
         ],
         "xaxis": "x",
         "y": [
          "Guinea-Bissau"
         ],
         "yaxis": "y"
        },
        {
         "alignmentgroup": "True",
         "base": [
          "2020-03-12"
         ],
         "hovertemplate": "Resource=%{y}<br>Start=%{base}<br>Finish=%{x}<extra></extra>",
         "legendgroup": "Guyana",
         "marker": {
          "color": "#19d3f3"
         },
         "name": "Guyana",
         "offsetgroup": "Guyana",
         "orientation": "h",
         "showlegend": true,
         "textposition": "auto",
         "type": "bar",
         "x": [
          15033600000
         ],
         "xaxis": "x",
         "y": [
          "Guyana"
         ],
         "yaxis": "y"
        },
        {
         "alignmentgroup": "True",
         "base": [
          "2020-03-20"
         ],
         "hovertemplate": "Resource=%{y}<br>Start=%{base}<br>Finish=%{x}<extra></extra>",
         "legendgroup": "Haiti",
         "marker": {
          "color": "#FF6692"
         },
         "name": "Haiti",
         "offsetgroup": "Haiti",
         "orientation": "h",
         "showlegend": true,
         "textposition": "auto",
         "type": "bar",
         "x": [
          14342400000
         ],
         "xaxis": "x",
         "y": [
          "Haiti"
         ],
         "yaxis": "y"
        },
        {
         "alignmentgroup": "True",
         "base": [
          "2020-03-11"
         ],
         "hovertemplate": "Resource=%{y}<br>Start=%{base}<br>Finish=%{x}<extra></extra>",
         "legendgroup": "Honduras",
         "marker": {
          "color": "#B6E880"
         },
         "name": "Honduras",
         "offsetgroup": "Honduras",
         "orientation": "h",
         "showlegend": true,
         "textposition": "auto",
         "type": "bar",
         "x": [
          15120000000
         ],
         "xaxis": "x",
         "y": [
          "Honduras"
         ],
         "yaxis": "y"
        },
        {
         "alignmentgroup": "True",
         "base": [
          "2020-03-10"
         ],
         "hovertemplate": "Resource=%{y}<br>Start=%{base}<br>Finish=%{x}<extra></extra>",
         "legendgroup": "Hong Kong SAR",
         "marker": {
          "color": "#FF97FF"
         },
         "name": "Hong Kong SAR",
         "offsetgroup": "Hong Kong SAR",
         "orientation": "h",
         "showlegend": true,
         "textposition": "auto",
         "type": "bar",
         "x": [
          0
         ],
         "xaxis": "x",
         "y": [
          "Hong Kong SAR"
         ],
         "yaxis": "y"
        },
        {
         "alignmentgroup": "True",
         "base": [
          "2020-01-22"
         ],
         "hovertemplate": "Resource=%{y}<br>Start=%{base}<br>Finish=%{x}<extra></extra>",
         "legendgroup": "Hong Kong",
         "marker": {
          "color": "#FECB52"
         },
         "name": "Hong Kong",
         "offsetgroup": "Hong Kong",
         "orientation": "h",
         "showlegend": true,
         "textposition": "auto",
         "type": "bar",
         "x": [
          4060800000
         ],
         "xaxis": "x",
         "y": [
          "Hong Kong"
         ],
         "yaxis": "y"
        },
        {
         "alignmentgroup": "True",
         "base": [
          "2020-03-04"
         ],
         "hovertemplate": "Resource=%{y}<br>Start=%{base}<br>Finish=%{x}<extra></extra>",
         "legendgroup": "Hungary",
         "marker": {
          "color": "#636efa"
         },
         "name": "Hungary",
         "offsetgroup": "Hungary",
         "orientation": "h",
         "showlegend": true,
         "textposition": "auto",
         "type": "bar",
         "x": [
          15724800000
         ],
         "xaxis": "x",
         "y": [
          "Hungary"
         ],
         "yaxis": "y"
        },
        {
         "alignmentgroup": "True",
         "base": [
          "2020-02-28"
         ],
         "hovertemplate": "Resource=%{y}<br>Start=%{base}<br>Finish=%{x}<extra></extra>",
         "legendgroup": "Iceland",
         "marker": {
          "color": "#EF553B"
         },
         "name": "Iceland",
         "offsetgroup": "Iceland",
         "orientation": "h",
         "showlegend": true,
         "textposition": "auto",
         "type": "bar",
         "x": [
          16156800000
         ],
         "xaxis": "x",
         "y": [
          "Iceland"
         ],
         "yaxis": "y"
        },
        {
         "alignmentgroup": "True",
         "base": [
          "2020-01-30"
         ],
         "hovertemplate": "Resource=%{y}<br>Start=%{base}<br>Finish=%{x}<extra></extra>",
         "legendgroup": "India",
         "marker": {
          "color": "#00cc96"
         },
         "name": "India",
         "offsetgroup": "India",
         "orientation": "h",
         "showlegend": true,
         "textposition": "auto",
         "type": "bar",
         "x": [
          18662400000
         ],
         "xaxis": "x",
         "y": [
          "India"
         ],
         "yaxis": "y"
        },
        {
         "alignmentgroup": "True",
         "base": [
          "2020-03-02"
         ],
         "hovertemplate": "Resource=%{y}<br>Start=%{base}<br>Finish=%{x}<extra></extra>",
         "legendgroup": "Indonesia",
         "marker": {
          "color": "#ab63fa"
         },
         "name": "Indonesia",
         "offsetgroup": "Indonesia",
         "orientation": "h",
         "showlegend": true,
         "textposition": "auto",
         "type": "bar",
         "x": [
          15897600000
         ],
         "xaxis": "x",
         "y": [
          "Indonesia"
         ],
         "yaxis": "y"
        },
        {
         "alignmentgroup": "True",
         "base": [
          "2020-02-19"
         ],
         "hovertemplate": "Resource=%{y}<br>Start=%{base}<br>Finish=%{x}<extra></extra>",
         "legendgroup": "Iran",
         "marker": {
          "color": "#FFA15A"
         },
         "name": "Iran",
         "offsetgroup": "Iran",
         "orientation": "h",
         "showlegend": true,
         "textposition": "auto",
         "type": "bar",
         "x": [
          16934400000
         ],
         "xaxis": "x",
         "y": [
          "Iran"
         ],
         "yaxis": "y"
        },
        {
         "alignmentgroup": "True",
         "base": [
          "2020-03-10"
         ],
         "hovertemplate": "Resource=%{y}<br>Start=%{base}<br>Finish=%{x}<extra></extra>",
         "legendgroup": "Iran (Islamic Republic of)",
         "marker": {
          "color": "#19d3f3"
         },
         "name": "Iran (Islamic Republic of)",
         "offsetgroup": "Iran (Islamic Republic of)",
         "orientation": "h",
         "showlegend": true,
         "textposition": "auto",
         "type": "bar",
         "x": [
          0
         ],
         "xaxis": "x",
         "y": [
          "Iran (Islamic Republic of)"
         ],
         "yaxis": "y"
        },
        {
         "alignmentgroup": "True",
         "base": [
          "2020-02-23"
         ],
         "hovertemplate": "Resource=%{y}<br>Start=%{base}<br>Finish=%{x}<extra></extra>",
         "legendgroup": "Iraq",
         "marker": {
          "color": "#FF6692"
         },
         "name": "Iraq",
         "offsetgroup": "Iraq",
         "orientation": "h",
         "showlegend": true,
         "textposition": "auto",
         "type": "bar",
         "x": [
          16588800000
         ],
         "xaxis": "x",
         "y": [
          "Iraq"
         ],
         "yaxis": "y"
        },
        {
         "alignmentgroup": "True",
         "base": [
          "2020-02-29"
         ],
         "hovertemplate": "Resource=%{y}<br>Start=%{base}<br>Finish=%{x}<extra></extra>",
         "legendgroup": "Ireland",
         "marker": {
          "color": "#B6E880"
         },
         "name": "Ireland",
         "offsetgroup": "Ireland",
         "orientation": "h",
         "showlegend": true,
         "textposition": "auto",
         "type": "bar",
         "x": [
          16070400000
         ],
         "xaxis": "x",
         "y": [
          "Ireland"
         ],
         "yaxis": "y"
        },
        {
         "alignmentgroup": "True",
         "base": [
          "2020-03-08"
         ],
         "hovertemplate": "Resource=%{y}<br>Start=%{base}<br>Finish=%{x}<extra></extra>",
         "legendgroup": "Republic of Ireland",
         "marker": {
          "color": "#FF97FF"
         },
         "name": "Republic of Ireland",
         "offsetgroup": "Republic of Ireland",
         "orientation": "h",
         "showlegend": true,
         "textposition": "auto",
         "type": "bar",
         "x": [
          0
         ],
         "xaxis": "x",
         "y": [
          "Republic of Ireland"
         ],
         "yaxis": "y"
        },
        {
         "alignmentgroup": "True",
         "base": [
          "2020-02-21"
         ],
         "hovertemplate": "Resource=%{y}<br>Start=%{base}<br>Finish=%{x}<extra></extra>",
         "legendgroup": "Israel",
         "marker": {
          "color": "#FECB52"
         },
         "name": "Israel",
         "offsetgroup": "Israel",
         "orientation": "h",
         "showlegend": true,
         "textposition": "auto",
         "type": "bar",
         "x": [
          16761600000
         ],
         "xaxis": "x",
         "y": [
          "Israel"
         ],
         "yaxis": "y"
        },
        {
         "alignmentgroup": "True",
         "base": [
          "2020-01-31"
         ],
         "hovertemplate": "Resource=%{y}<br>Start=%{base}<br>Finish=%{x}<extra></extra>",
         "legendgroup": "Italy",
         "marker": {
          "color": "#636efa"
         },
         "name": "Italy",
         "offsetgroup": "Italy",
         "orientation": "h",
         "showlegend": true,
         "textposition": "auto",
         "type": "bar",
         "x": [
          18576000000
         ],
         "xaxis": "x",
         "y": [
          "Italy"
         ],
         "yaxis": "y"
        },
        {
         "alignmentgroup": "True",
         "base": [
          "2020-01-27"
         ],
         "hovertemplate": "Resource=%{y}<br>Start=%{base}<br>Finish=%{x}<extra></extra>",
         "legendgroup": "Ivory Coast",
         "marker": {
          "color": "#EF553B"
         },
         "name": "Ivory Coast",
         "offsetgroup": "Ivory Coast",
         "orientation": "h",
         "showlegend": true,
         "textposition": "auto",
         "type": "bar",
         "x": [
          0
         ],
         "xaxis": "x",
         "y": [
          "Ivory Coast"
         ],
         "yaxis": "y"
        },
        {
         "alignmentgroup": "True",
         "base": [
          "2020-03-11"
         ],
         "hovertemplate": "Resource=%{y}<br>Start=%{base}<br>Finish=%{x}<extra></extra>",
         "legendgroup": "Jamaica",
         "marker": {
          "color": "#00cc96"
         },
         "name": "Jamaica",
         "offsetgroup": "Jamaica",
         "orientation": "h",
         "showlegend": true,
         "textposition": "auto",
         "type": "bar",
         "x": [
          15120000000
         ],
         "xaxis": "x",
         "y": [
          "Jamaica"
         ],
         "yaxis": "y"
        },
        {
         "alignmentgroup": "True",
         "base": [
          "2020-01-22"
         ],
         "hovertemplate": "Resource=%{y}<br>Start=%{base}<br>Finish=%{x}<extra></extra>",
         "legendgroup": "Japan",
         "marker": {
          "color": "#ab63fa"
         },
         "name": "Japan",
         "offsetgroup": "Japan",
         "orientation": "h",
         "showlegend": true,
         "textposition": "auto",
         "type": "bar",
         "x": [
          19353600000
         ],
         "xaxis": "x",
         "y": [
          "Japan"
         ],
         "yaxis": "y"
        },
        {
         "alignmentgroup": "True",
         "base": [
          "2020-03-03"
         ],
         "hovertemplate": "Resource=%{y}<br>Start=%{base}<br>Finish=%{x}<extra></extra>",
         "legendgroup": "Jordan",
         "marker": {
          "color": "#FFA15A"
         },
         "name": "Jordan",
         "offsetgroup": "Jordan",
         "orientation": "h",
         "showlegend": true,
         "textposition": "auto",
         "type": "bar",
         "x": [
          15811200000
         ],
         "xaxis": "x",
         "y": [
          "Jordan"
         ],
         "yaxis": "y"
        },
        {
         "alignmentgroup": "True",
         "base": [
          "2020-03-11"
         ],
         "hovertemplate": "Resource=%{y}<br>Start=%{base}<br>Finish=%{x}<extra></extra>",
         "legendgroup": "Kazakhstan",
         "marker": {
          "color": "#19d3f3"
         },
         "name": "Kazakhstan",
         "offsetgroup": "Kazakhstan",
         "orientation": "h",
         "showlegend": true,
         "textposition": "auto",
         "type": "bar",
         "x": [
          15120000000
         ],
         "xaxis": "x",
         "y": [
          "Kazakhstan"
         ],
         "yaxis": "y"
        },
        {
         "alignmentgroup": "True",
         "base": [
          "2020-03-11"
         ],
         "hovertemplate": "Resource=%{y}<br>Start=%{base}<br>Finish=%{x}<extra></extra>",
         "legendgroup": "Kenya",
         "marker": {
          "color": "#FF6692"
         },
         "name": "Kenya",
         "offsetgroup": "Kenya",
         "orientation": "h",
         "showlegend": true,
         "textposition": "auto",
         "type": "bar",
         "x": [
          15120000000
         ],
         "xaxis": "x",
         "y": [
          "Kenya"
         ],
         "yaxis": "y"
        },
        {
         "alignmentgroup": "True",
         "base": [
          "2020-03-11"
         ],
         "hovertemplate": "Resource=%{y}<br>Start=%{base}<br>Finish=%{x}<extra></extra>",
         "legendgroup": "Korea, South",
         "marker": {
          "color": "#B6E880"
         },
         "name": "Korea, South",
         "offsetgroup": "Korea, South",
         "orientation": "h",
         "showlegend": true,
         "textposition": "auto",
         "type": "bar",
         "x": [
          15120000000
         ],
         "xaxis": "x",
         "y": [
          "Korea, South"
         ],
         "yaxis": "y"
        },
        {
         "alignmentgroup": "True",
         "base": [
          "2020-03-10"
         ],
         "hovertemplate": "Resource=%{y}<br>Start=%{base}<br>Finish=%{x}<extra></extra>",
         "legendgroup": "Republic of Korea",
         "marker": {
          "color": "#FF97FF"
         },
         "name": "Republic of Korea",
         "offsetgroup": "Republic of Korea",
         "orientation": "h",
         "showlegend": true,
         "textposition": "auto",
         "type": "bar",
         "x": [
          0
         ],
         "xaxis": "x",
         "y": [
          "Republic of Korea"
         ],
         "yaxis": "y"
        },
        {
         "alignmentgroup": "True",
         "base": [
          "2020-01-22"
         ],
         "hovertemplate": "Resource=%{y}<br>Start=%{base}<br>Finish=%{x}<extra></extra>",
         "legendgroup": "South Korea",
         "marker": {
          "color": "#FECB52"
         },
         "name": "South Korea",
         "offsetgroup": "South Korea",
         "orientation": "h",
         "showlegend": true,
         "textposition": "auto",
         "type": "bar",
         "x": [
          4060800000
         ],
         "xaxis": "x",
         "y": [
          "South Korea"
         ],
         "yaxis": "y"
        },
        {
         "alignmentgroup": "True",
         "base": [
          "2020-03-15"
         ],
         "hovertemplate": "Resource=%{y}<br>Start=%{base}<br>Finish=%{x}<extra></extra>",
         "legendgroup": "Kosovo",
         "marker": {
          "color": "#636efa"
         },
         "name": "Kosovo",
         "offsetgroup": "Kosovo",
         "orientation": "h",
         "showlegend": true,
         "textposition": "auto",
         "type": "bar",
         "x": [
          14774400000
         ],
         "xaxis": "x",
         "y": [
          "Kosovo"
         ],
         "yaxis": "y"
        },
        {
         "alignmentgroup": "True",
         "base": [
          "2020-02-24"
         ],
         "hovertemplate": "Resource=%{y}<br>Start=%{base}<br>Finish=%{x}<extra></extra>",
         "legendgroup": "Kuwait",
         "marker": {
          "color": "#EF553B"
         },
         "name": "Kuwait",
         "offsetgroup": "Kuwait",
         "orientation": "h",
         "showlegend": true,
         "textposition": "auto",
         "type": "bar",
         "x": [
          16502400000
         ],
         "xaxis": "x",
         "y": [
          "Kuwait"
         ],
         "yaxis": "y"
        },
        {
         "alignmentgroup": "True",
         "base": [
          "2020-03-18"
         ],
         "hovertemplate": "Resource=%{y}<br>Start=%{base}<br>Finish=%{x}<extra></extra>",
         "legendgroup": "Kyrgyzstan",
         "marker": {
          "color": "#00cc96"
         },
         "name": "Kyrgyzstan",
         "offsetgroup": "Kyrgyzstan",
         "orientation": "h",
         "showlegend": true,
         "textposition": "auto",
         "type": "bar",
         "x": [
          14515200000
         ],
         "xaxis": "x",
         "y": [
          "Kyrgyzstan"
         ],
         "yaxis": "y"
        },
        {
         "alignmentgroup": "True",
         "base": [
          "2020-03-24"
         ],
         "hovertemplate": "Resource=%{y}<br>Start=%{base}<br>Finish=%{x}<extra></extra>",
         "legendgroup": "Laos",
         "marker": {
          "color": "#ab63fa"
         },
         "name": "Laos",
         "offsetgroup": "Laos",
         "orientation": "h",
         "showlegend": true,
         "textposition": "auto",
         "type": "bar",
         "x": [
          13996800000
         ],
         "xaxis": "x",
         "y": [
          "Laos"
         ],
         "yaxis": "y"
        },
        {
         "alignmentgroup": "True",
         "base": [
          "2020-03-02"
         ],
         "hovertemplate": "Resource=%{y}<br>Start=%{base}<br>Finish=%{x}<extra></extra>",
         "legendgroup": "Latvia",
         "marker": {
          "color": "#FFA15A"
         },
         "name": "Latvia",
         "offsetgroup": "Latvia",
         "orientation": "h",
         "showlegend": true,
         "textposition": "auto",
         "type": "bar",
         "x": [
          15897600000
         ],
         "xaxis": "x",
         "y": [
          "Latvia"
         ],
         "yaxis": "y"
        },
        {
         "alignmentgroup": "True",
         "base": [
          "2020-02-21"
         ],
         "hovertemplate": "Resource=%{y}<br>Start=%{base}<br>Finish=%{x}<extra></extra>",
         "legendgroup": "Lebanon",
         "marker": {
          "color": "#19d3f3"
         },
         "name": "Lebanon",
         "offsetgroup": "Lebanon",
         "orientation": "h",
         "showlegend": true,
         "textposition": "auto",
         "type": "bar",
         "x": [
          16761600000
         ],
         "xaxis": "x",
         "y": [
          "Lebanon"
         ],
         "yaxis": "y"
        },
        {
         "alignmentgroup": "True",
         "base": [
          "2020-05-14"
         ],
         "hovertemplate": "Resource=%{y}<br>Start=%{base}<br>Finish=%{x}<extra></extra>",
         "legendgroup": "Lesotho",
         "marker": {
          "color": "#FF6692"
         },
         "name": "Lesotho",
         "offsetgroup": "Lesotho",
         "orientation": "h",
         "showlegend": true,
         "textposition": "auto",
         "type": "bar",
         "x": [
          9590400000
         ],
         "xaxis": "x",
         "y": [
          "Lesotho"
         ],
         "yaxis": "y"
        },
        {
         "alignmentgroup": "True",
         "base": [
          "2020-03-16"
         ],
         "hovertemplate": "Resource=%{y}<br>Start=%{base}<br>Finish=%{x}<extra></extra>",
         "legendgroup": "Liberia",
         "marker": {
          "color": "#B6E880"
         },
         "name": "Liberia",
         "offsetgroup": "Liberia",
         "orientation": "h",
         "showlegend": true,
         "textposition": "auto",
         "type": "bar",
         "x": [
          14688000000
         ],
         "xaxis": "x",
         "y": [
          "Liberia"
         ],
         "yaxis": "y"
        },
        {
         "alignmentgroup": "True",
         "base": [
          "2020-03-24"
         ],
         "hovertemplate": "Resource=%{y}<br>Start=%{base}<br>Finish=%{x}<extra></extra>",
         "legendgroup": "Libya",
         "marker": {
          "color": "#FF97FF"
         },
         "name": "Libya",
         "offsetgroup": "Libya",
         "orientation": "h",
         "showlegend": true,
         "textposition": "auto",
         "type": "bar",
         "x": [
          13996800000
         ],
         "xaxis": "x",
         "y": [
          "Libya"
         ],
         "yaxis": "y"
        },
        {
         "alignmentgroup": "True",
         "base": [
          "2020-03-04"
         ],
         "hovertemplate": "Resource=%{y}<br>Start=%{base}<br>Finish=%{x}<extra></extra>",
         "legendgroup": "Liechtenstein",
         "marker": {
          "color": "#FECB52"
         },
         "name": "Liechtenstein",
         "offsetgroup": "Liechtenstein",
         "orientation": "h",
         "showlegend": true,
         "textposition": "auto",
         "type": "bar",
         "x": [
          15724800000
         ],
         "xaxis": "x",
         "y": [
          "Liechtenstein"
         ],
         "yaxis": "y"
        },
        {
         "alignmentgroup": "True",
         "base": [
          "2020-02-28"
         ],
         "hovertemplate": "Resource=%{y}<br>Start=%{base}<br>Finish=%{x}<extra></extra>",
         "legendgroup": "Lithuania",
         "marker": {
          "color": "#636efa"
         },
         "name": "Lithuania",
         "offsetgroup": "Lithuania",
         "orientation": "h",
         "showlegend": true,
         "textposition": "auto",
         "type": "bar",
         "x": [
          16156800000
         ],
         "xaxis": "x",
         "y": [
          "Lithuania"
         ],
         "yaxis": "y"
        },
        {
         "alignmentgroup": "True",
         "base": [
          "2020-02-29"
         ],
         "hovertemplate": "Resource=%{y}<br>Start=%{base}<br>Finish=%{x}<extra></extra>",
         "legendgroup": "Luxembourg",
         "marker": {
          "color": "#EF553B"
         },
         "name": "Luxembourg",
         "offsetgroup": "Luxembourg",
         "orientation": "h",
         "showlegend": true,
         "textposition": "auto",
         "type": "bar",
         "x": [
          16070400000
         ],
         "xaxis": "x",
         "y": [
          "Luxembourg"
         ],
         "yaxis": "y"
        },
        {
         "alignmentgroup": "True",
         "base": [
          "2020-03-28"
         ],
         "hovertemplate": "Resource=%{y}<br>Start=%{base}<br>Finish=%{x}<extra></extra>",
         "legendgroup": "MS Zaandam",
         "marker": {
          "color": "#00cc96"
         },
         "name": "MS Zaandam",
         "offsetgroup": "MS Zaandam",
         "orientation": "h",
         "showlegend": true,
         "textposition": "auto",
         "type": "bar",
         "x": [
          13651200000
         ],
         "xaxis": "x",
         "y": [
          "MS Zaandam"
         ],
         "yaxis": "y"
        },
        {
         "alignmentgroup": "True",
         "base": [
          "2020-03-10"
         ],
         "hovertemplate": "Resource=%{y}<br>Start=%{base}<br>Finish=%{x}<extra></extra>",
         "legendgroup": "Macao SAR",
         "marker": {
          "color": "#ab63fa"
         },
         "name": "Macao SAR",
         "offsetgroup": "Macao SAR",
         "orientation": "h",
         "showlegend": true,
         "textposition": "auto",
         "type": "bar",
         "x": [
          0
         ],
         "xaxis": "x",
         "y": [
          "Macao SAR"
         ],
         "yaxis": "y"
        },
        {
         "alignmentgroup": "True",
         "base": [
          "2020-01-22"
         ],
         "hovertemplate": "Resource=%{y}<br>Start=%{base}<br>Finish=%{x}<extra></extra>",
         "legendgroup": "Macau",
         "marker": {
          "color": "#FFA15A"
         },
         "name": "Macau",
         "offsetgroup": "Macau",
         "orientation": "h",
         "showlegend": true,
         "textposition": "auto",
         "type": "bar",
         "x": [
          3801600000
         ],
         "xaxis": "x",
         "y": [
          "Macau"
         ],
         "yaxis": "y"
        },
        {
         "alignmentgroup": "True",
         "base": [
          "2020-03-20"
         ],
         "hovertemplate": "Resource=%{y}<br>Start=%{base}<br>Finish=%{x}<extra></extra>",
         "legendgroup": "Madagascar",
         "marker": {
          "color": "#19d3f3"
         },
         "name": "Madagascar",
         "offsetgroup": "Madagascar",
         "orientation": "h",
         "showlegend": true,
         "textposition": "auto",
         "type": "bar",
         "x": [
          14342400000
         ],
         "xaxis": "x",
         "y": [
          "Madagascar"
         ],
         "yaxis": "y"
        },
        {
         "alignmentgroup": "True",
         "base": [
          "2020-04-02"
         ],
         "hovertemplate": "Resource=%{y}<br>Start=%{base}<br>Finish=%{x}<extra></extra>",
         "legendgroup": "Malawi",
         "marker": {
          "color": "#FF6692"
         },
         "name": "Malawi",
         "offsetgroup": "Malawi",
         "orientation": "h",
         "showlegend": true,
         "textposition": "auto",
         "type": "bar",
         "x": [
          13219200000
         ],
         "xaxis": "x",
         "y": [
          "Malawi"
         ],
         "yaxis": "y"
        },
        {
         "alignmentgroup": "True",
         "base": [
          "2020-01-23"
         ],
         "hovertemplate": "Resource=%{y}<br>Start=%{base}<br>Finish=%{x}<extra></extra>",
         "legendgroup": "Malaysia",
         "marker": {
          "color": "#B6E880"
         },
         "name": "Malaysia",
         "offsetgroup": "Malaysia",
         "orientation": "h",
         "showlegend": true,
         "textposition": "auto",
         "type": "bar",
         "x": [
          19267200000
         ],
         "xaxis": "x",
         "y": [
          "Malaysia"
         ],
         "yaxis": "y"
        },
        {
         "alignmentgroup": "True",
         "base": [
          "2020-03-08"
         ],
         "hovertemplate": "Resource=%{y}<br>Start=%{base}<br>Finish=%{x}<extra></extra>",
         "legendgroup": "Maldives",
         "marker": {
          "color": "#FF97FF"
         },
         "name": "Maldives",
         "offsetgroup": "Maldives",
         "orientation": "h",
         "showlegend": true,
         "textposition": "auto",
         "type": "bar",
         "x": [
          15379200000
         ],
         "xaxis": "x",
         "y": [
          "Maldives"
         ],
         "yaxis": "y"
        },
        {
         "alignmentgroup": "True",
         "base": [
          "2020-03-25"
         ],
         "hovertemplate": "Resource=%{y}<br>Start=%{base}<br>Finish=%{x}<extra></extra>",
         "legendgroup": "Mali",
         "marker": {
          "color": "#FECB52"
         },
         "name": "Mali",
         "offsetgroup": "Mali",
         "orientation": "h",
         "showlegend": true,
         "textposition": "auto",
         "type": "bar",
         "x": [
          13910400000
         ],
         "xaxis": "x",
         "y": [
          "Mali"
         ],
         "yaxis": "y"
        },
        {
         "alignmentgroup": "True",
         "base": [
          "2020-03-07"
         ],
         "hovertemplate": "Resource=%{y}<br>Start=%{base}<br>Finish=%{x}<extra></extra>",
         "legendgroup": "Malta",
         "marker": {
          "color": "#636efa"
         },
         "name": "Malta",
         "offsetgroup": "Malta",
         "orientation": "h",
         "showlegend": true,
         "textposition": "auto",
         "type": "bar",
         "x": [
          15465600000
         ],
         "xaxis": "x",
         "y": [
          "Malta"
         ],
         "yaxis": "y"
        },
        {
         "alignmentgroup": "True",
         "base": [
          "2020-03-07"
         ],
         "hovertemplate": "Resource=%{y}<br>Start=%{base}<br>Finish=%{x}<extra></extra>",
         "legendgroup": "Martinique",
         "marker": {
          "color": "#EF553B"
         },
         "name": "Martinique",
         "offsetgroup": "Martinique",
         "orientation": "h",
         "showlegend": true,
         "textposition": "auto",
         "type": "bar",
         "x": [
          1123200000
         ],
         "xaxis": "x",
         "y": [
          "Martinique"
         ],
         "yaxis": "y"
        },
        {
         "alignmentgroup": "True",
         "base": [
          "2020-03-14"
         ],
         "hovertemplate": "Resource=%{y}<br>Start=%{base}<br>Finish=%{x}<extra></extra>",
         "legendgroup": "Mauritania",
         "marker": {
          "color": "#00cc96"
         },
         "name": "Mauritania",
         "offsetgroup": "Mauritania",
         "orientation": "h",
         "showlegend": true,
         "textposition": "auto",
         "type": "bar",
         "x": [
          14860800000
         ],
         "xaxis": "x",
         "y": [
          "Mauritania"
         ],
         "yaxis": "y"
        },
        {
         "alignmentgroup": "True",
         "base": [
          "2020-03-18"
         ],
         "hovertemplate": "Resource=%{y}<br>Start=%{base}<br>Finish=%{x}<extra></extra>",
         "legendgroup": "Mauritius",
         "marker": {
          "color": "#ab63fa"
         },
         "name": "Mauritius",
         "offsetgroup": "Mauritius",
         "orientation": "h",
         "showlegend": true,
         "textposition": "auto",
         "type": "bar",
         "x": [
          14515200000
         ],
         "xaxis": "x",
         "y": [
          "Mauritius"
         ],
         "yaxis": "y"
        },
        {
         "alignmentgroup": "True",
         "base": [
          "2020-03-16"
         ],
         "hovertemplate": "Resource=%{y}<br>Start=%{base}<br>Finish=%{x}<extra></extra>",
         "legendgroup": "Mayotte",
         "marker": {
          "color": "#FFA15A"
         },
         "name": "Mayotte",
         "offsetgroup": "Mayotte",
         "orientation": "h",
         "showlegend": true,
         "textposition": "auto",
         "type": "bar",
         "x": [
          432000000
         ],
         "xaxis": "x",
         "y": [
          "Mayotte"
         ],
         "yaxis": "y"
        },
        {
         "alignmentgroup": "True",
         "base": [
          "2020-01-23"
         ],
         "hovertemplate": "Resource=%{y}<br>Start=%{base}<br>Finish=%{x}<extra></extra>",
         "legendgroup": "Mexico",
         "marker": {
          "color": "#19d3f3"
         },
         "name": "Mexico",
         "offsetgroup": "Mexico",
         "orientation": "h",
         "showlegend": true,
         "textposition": "auto",
         "type": "bar",
         "x": [
          19267200000
         ],
         "xaxis": "x",
         "y": [
          "Mexico"
         ],
         "yaxis": "y"
        },
        {
         "alignmentgroup": "True",
         "base": [
          "2020-03-08"
         ],
         "hovertemplate": "Resource=%{y}<br>Start=%{base}<br>Finish=%{x}<extra></extra>",
         "legendgroup": "Moldova",
         "marker": {
          "color": "#FF6692"
         },
         "name": "Moldova",
         "offsetgroup": "Moldova",
         "orientation": "h",
         "showlegend": true,
         "textposition": "auto",
         "type": "bar",
         "x": [
          15379200000
         ],
         "xaxis": "x",
         "y": [
          "Moldova"
         ],
         "yaxis": "y"
        },
        {
         "alignmentgroup": "True",
         "base": [
          "2020-03-10"
         ],
         "hovertemplate": "Resource=%{y}<br>Start=%{base}<br>Finish=%{x}<extra></extra>",
         "legendgroup": "Republic of Moldova",
         "marker": {
          "color": "#B6E880"
         },
         "name": "Republic of Moldova",
         "offsetgroup": "Republic of Moldova",
         "orientation": "h",
         "showlegend": true,
         "textposition": "auto",
         "type": "bar",
         "x": [
          0
         ],
         "xaxis": "x",
         "y": [
          "Republic of Moldova"
         ],
         "yaxis": "y"
        },
        {
         "alignmentgroup": "True",
         "base": [
          "2020-02-29"
         ],
         "hovertemplate": "Resource=%{y}<br>Start=%{base}<br>Finish=%{x}<extra></extra>",
         "legendgroup": "Monaco",
         "marker": {
          "color": "#FF97FF"
         },
         "name": "Monaco",
         "offsetgroup": "Monaco",
         "orientation": "h",
         "showlegend": true,
         "textposition": "auto",
         "type": "bar",
         "x": [
          16070400000
         ],
         "xaxis": "x",
         "y": [
          "Monaco"
         ],
         "yaxis": "y"
        },
        {
         "alignmentgroup": "True",
         "base": [
          "2020-03-10"
         ],
         "hovertemplate": "Resource=%{y}<br>Start=%{base}<br>Finish=%{x}<extra></extra>",
         "legendgroup": "Mongolia",
         "marker": {
          "color": "#FECB52"
         },
         "name": "Mongolia",
         "offsetgroup": "Mongolia",
         "orientation": "h",
         "showlegend": true,
         "textposition": "auto",
         "type": "bar",
         "x": [
          15206400000
         ],
         "xaxis": "x",
         "y": [
          "Mongolia"
         ],
         "yaxis": "y"
        },
        {
         "alignmentgroup": "True",
         "base": [
          "2020-03-17"
         ],
         "hovertemplate": "Resource=%{y}<br>Start=%{base}<br>Finish=%{x}<extra></extra>",
         "legendgroup": "Montenegro",
         "marker": {
          "color": "#636efa"
         },
         "name": "Montenegro",
         "offsetgroup": "Montenegro",
         "orientation": "h",
         "showlegend": true,
         "textposition": "auto",
         "type": "bar",
         "x": [
          14601600000
         ],
         "xaxis": "x",
         "y": [
          "Montenegro"
         ],
         "yaxis": "y"
        },
        {
         "alignmentgroup": "True",
         "base": [
          "2020-03-02"
         ],
         "hovertemplate": "Resource=%{y}<br>Start=%{base}<br>Finish=%{x}<extra></extra>",
         "legendgroup": "Morocco",
         "marker": {
          "color": "#EF553B"
         },
         "name": "Morocco",
         "offsetgroup": "Morocco",
         "orientation": "h",
         "showlegend": true,
         "textposition": "auto",
         "type": "bar",
         "x": [
          15897600000
         ],
         "xaxis": "x",
         "y": [
          "Morocco"
         ],
         "yaxis": "y"
        },
        {
         "alignmentgroup": "True",
         "base": [
          "2020-03-22"
         ],
         "hovertemplate": "Resource=%{y}<br>Start=%{base}<br>Finish=%{x}<extra></extra>",
         "legendgroup": "Mozambique",
         "marker": {
          "color": "#00cc96"
         },
         "name": "Mozambique",
         "offsetgroup": "Mozambique",
         "orientation": "h",
         "showlegend": true,
         "textposition": "auto",
         "type": "bar",
         "x": [
          14169600000
         ],
         "xaxis": "x",
         "y": [
          "Mozambique"
         ],
         "yaxis": "y"
        },
        {
         "alignmentgroup": "True",
         "base": [
          "2020-03-14"
         ],
         "hovertemplate": "Resource=%{y}<br>Start=%{base}<br>Finish=%{x}<extra></extra>",
         "legendgroup": "Namibia",
         "marker": {
          "color": "#ab63fa"
         },
         "name": "Namibia",
         "offsetgroup": "Namibia",
         "orientation": "h",
         "showlegend": true,
         "textposition": "auto",
         "type": "bar",
         "x": [
          14860800000
         ],
         "xaxis": "x",
         "y": [
          "Namibia"
         ],
         "yaxis": "y"
        },
        {
         "alignmentgroup": "True",
         "base": [
          "2020-01-25"
         ],
         "hovertemplate": "Resource=%{y}<br>Start=%{base}<br>Finish=%{x}<extra></extra>",
         "legendgroup": "Nepal",
         "marker": {
          "color": "#FFA15A"
         },
         "name": "Nepal",
         "offsetgroup": "Nepal",
         "orientation": "h",
         "showlegend": true,
         "textposition": "auto",
         "type": "bar",
         "x": [
          19094400000
         ],
         "xaxis": "x",
         "y": [
          "Nepal"
         ],
         "yaxis": "y"
        },
        {
         "alignmentgroup": "True",
         "base": [
          "2020-02-27"
         ],
         "hovertemplate": "Resource=%{y}<br>Start=%{base}<br>Finish=%{x}<extra></extra>",
         "legendgroup": "Netherlands",
         "marker": {
          "color": "#19d3f3"
         },
         "name": "Netherlands",
         "offsetgroup": "Netherlands",
         "orientation": "h",
         "showlegend": true,
         "textposition": "auto",
         "type": "bar",
         "x": [
          16243200000
         ],
         "xaxis": "x",
         "y": [
          "Netherlands"
         ],
         "yaxis": "y"
        },
        {
         "alignmentgroup": "True",
         "base": [
          "2020-02-28"
         ],
         "hovertemplate": "Resource=%{y}<br>Start=%{base}<br>Finish=%{x}<extra></extra>",
         "legendgroup": "New Zealand",
         "marker": {
          "color": "#FF6692"
         },
         "name": "New Zealand",
         "offsetgroup": "New Zealand",
         "orientation": "h",
         "showlegend": true,
         "textposition": "auto",
         "type": "bar",
         "x": [
          16156800000
         ],
         "xaxis": "x",
         "y": [
          "New Zealand"
         ],
         "yaxis": "y"
        },
        {
         "alignmentgroup": "True",
         "base": [
          "2020-03-19"
         ],
         "hovertemplate": "Resource=%{y}<br>Start=%{base}<br>Finish=%{x}<extra></extra>",
         "legendgroup": "Nicaragua",
         "marker": {
          "color": "#B6E880"
         },
         "name": "Nicaragua",
         "offsetgroup": "Nicaragua",
         "orientation": "h",
         "showlegend": true,
         "textposition": "auto",
         "type": "bar",
         "x": [
          14428800000
         ],
         "xaxis": "x",
         "y": [
          "Nicaragua"
         ],
         "yaxis": "y"
        },
        {
         "alignmentgroup": "True",
         "base": [
          "2020-03-20"
         ],
         "hovertemplate": "Resource=%{y}<br>Start=%{base}<br>Finish=%{x}<extra></extra>",
         "legendgroup": "Niger",
         "marker": {
          "color": "#FF97FF"
         },
         "name": "Niger",
         "offsetgroup": "Niger",
         "orientation": "h",
         "showlegend": true,
         "textposition": "auto",
         "type": "bar",
         "x": [
          14342400000
         ],
         "xaxis": "x",
         "y": [
          "Niger"
         ],
         "yaxis": "y"
        },
        {
         "alignmentgroup": "True",
         "base": [
          "2020-02-28"
         ],
         "hovertemplate": "Resource=%{y}<br>Start=%{base}<br>Finish=%{x}<extra></extra>",
         "legendgroup": "Nigeria",
         "marker": {
          "color": "#FECB52"
         },
         "name": "Nigeria",
         "offsetgroup": "Nigeria",
         "orientation": "h",
         "showlegend": true,
         "textposition": "auto",
         "type": "bar",
         "x": [
          16156800000
         ],
         "xaxis": "x",
         "y": [
          "Nigeria"
         ],
         "yaxis": "y"
        },
        {
         "alignmentgroup": "True",
         "base": [
          "2020-02-28"
         ],
         "hovertemplate": "Resource=%{y}<br>Start=%{base}<br>Finish=%{x}<extra></extra>",
         "legendgroup": "North Ireland",
         "marker": {
          "color": "#636efa"
         },
         "name": "North Ireland",
         "offsetgroup": "North Ireland",
         "orientation": "h",
         "showlegend": true,
         "textposition": "auto",
         "type": "bar",
         "x": [
          0
         ],
         "xaxis": "x",
         "y": [
          "North Ireland"
         ],
         "yaxis": "y"
        },
        {
         "alignmentgroup": "True",
         "base": [
          "2020-02-26"
         ],
         "hovertemplate": "Resource=%{y}<br>Start=%{base}<br>Finish=%{x}<extra></extra>",
         "legendgroup": "North Macedonia",
         "marker": {
          "color": "#EF553B"
         },
         "name": "North Macedonia",
         "offsetgroup": "North Macedonia",
         "orientation": "h",
         "showlegend": true,
         "textposition": "auto",
         "type": "bar",
         "x": [
          16329600000
         ],
         "xaxis": "x",
         "y": [
          "North Macedonia"
         ],
         "yaxis": "y"
        },
        {
         "alignmentgroup": "True",
         "base": [
          "2020-02-26"
         ],
         "hovertemplate": "Resource=%{y}<br>Start=%{base}<br>Finish=%{x}<extra></extra>",
         "legendgroup": "Norway",
         "marker": {
          "color": "#00cc96"
         },
         "name": "Norway",
         "offsetgroup": "Norway",
         "orientation": "h",
         "showlegend": true,
         "textposition": "auto",
         "type": "bar",
         "x": [
          16329600000
         ],
         "xaxis": "x",
         "y": [
          "Norway"
         ],
         "yaxis": "y"
        },
        {
         "alignmentgroup": "True",
         "base": [
          "2020-02-24"
         ],
         "hovertemplate": "Resource=%{y}<br>Start=%{base}<br>Finish=%{x}<extra></extra>",
         "legendgroup": "Oman",
         "marker": {
          "color": "#ab63fa"
         },
         "name": "Oman",
         "offsetgroup": "Oman",
         "orientation": "h",
         "showlegend": true,
         "textposition": "auto",
         "type": "bar",
         "x": [
          16502400000
         ],
         "xaxis": "x",
         "y": [
          "Oman"
         ],
         "yaxis": "y"
        },
        {
         "alignmentgroup": "True",
         "base": [
          "2020-02-26"
         ],
         "hovertemplate": "Resource=%{y}<br>Start=%{base}<br>Finish=%{x}<extra></extra>",
         "legendgroup": "Pakistan",
         "marker": {
          "color": "#FFA15A"
         },
         "name": "Pakistan",
         "offsetgroup": "Pakistan",
         "orientation": "h",
         "showlegend": true,
         "textposition": "auto",
         "type": "bar",
         "x": [
          16329600000
         ],
         "xaxis": "x",
         "y": [
          "Pakistan"
         ],
         "yaxis": "y"
        },
        {
         "alignmentgroup": "True",
         "base": [
          "2020-03-05"
         ],
         "hovertemplate": "Resource=%{y}<br>Start=%{base}<br>Finish=%{x}<extra></extra>",
         "legendgroup": "Palestine",
         "marker": {
          "color": "#19d3f3"
         },
         "name": "Palestine",
         "offsetgroup": "Palestine",
         "orientation": "h",
         "showlegend": true,
         "textposition": "auto",
         "type": "bar",
         "x": [
          172800000
         ],
         "xaxis": "x",
         "y": [
          "Palestine"
         ],
         "yaxis": "y"
        },
        {
         "alignmentgroup": "True",
         "base": [
          "2020-03-10"
         ],
         "hovertemplate": "Resource=%{y}<br>Start=%{base}<br>Finish=%{x}<extra></extra>",
         "legendgroup": "occupied Palestinian territory",
         "marker": {
          "color": "#FF6692"
         },
         "name": "occupied Palestinian territory",
         "offsetgroup": "occupied Palestinian territory",
         "orientation": "h",
         "showlegend": true,
         "textposition": "auto",
         "type": "bar",
         "x": [
          86400000
         ],
         "xaxis": "x",
         "y": [
          "occupied Palestinian territory"
         ],
         "yaxis": "y"
        },
        {
         "alignmentgroup": "True",
         "base": [
          "2020-03-10"
         ],
         "hovertemplate": "Resource=%{y}<br>Start=%{base}<br>Finish=%{x}<extra></extra>",
         "legendgroup": "Panama",
         "marker": {
          "color": "#B6E880"
         },
         "name": "Panama",
         "offsetgroup": "Panama",
         "orientation": "h",
         "showlegend": true,
         "textposition": "auto",
         "type": "bar",
         "x": [
          15206400000
         ],
         "xaxis": "x",
         "y": [
          "Panama"
         ],
         "yaxis": "y"
        },
        {
         "alignmentgroup": "True",
         "base": [
          "2020-03-20"
         ],
         "hovertemplate": "Resource=%{y}<br>Start=%{base}<br>Finish=%{x}<extra></extra>",
         "legendgroup": "Papua New Guinea",
         "marker": {
          "color": "#FF97FF"
         },
         "name": "Papua New Guinea",
         "offsetgroup": "Papua New Guinea",
         "orientation": "h",
         "showlegend": true,
         "textposition": "auto",
         "type": "bar",
         "x": [
          14342400000
         ],
         "xaxis": "x",
         "y": [
          "Papua New Guinea"
         ],
         "yaxis": "y"
        },
        {
         "alignmentgroup": "True",
         "base": [
          "2020-03-08"
         ],
         "hovertemplate": "Resource=%{y}<br>Start=%{base}<br>Finish=%{x}<extra></extra>",
         "legendgroup": "Paraguay",
         "marker": {
          "color": "#FECB52"
         },
         "name": "Paraguay",
         "offsetgroup": "Paraguay",
         "orientation": "h",
         "showlegend": true,
         "textposition": "auto",
         "type": "bar",
         "x": [
          15379200000
         ],
         "xaxis": "x",
         "y": [
          "Paraguay"
         ],
         "yaxis": "y"
        },
        {
         "alignmentgroup": "True",
         "base": [
          "2020-03-06"
         ],
         "hovertemplate": "Resource=%{y}<br>Start=%{base}<br>Finish=%{x}<extra></extra>",
         "legendgroup": "Peru",
         "marker": {
          "color": "#636efa"
         },
         "name": "Peru",
         "offsetgroup": "Peru",
         "orientation": "h",
         "showlegend": true,
         "textposition": "auto",
         "type": "bar",
         "x": [
          15552000000
         ],
         "xaxis": "x",
         "y": [
          "Peru"
         ],
         "yaxis": "y"
        },
        {
         "alignmentgroup": "True",
         "base": [
          "2020-01-23"
         ],
         "hovertemplate": "Resource=%{y}<br>Start=%{base}<br>Finish=%{x}<extra></extra>",
         "legendgroup": "Philippines",
         "marker": {
          "color": "#EF553B"
         },
         "name": "Philippines",
         "offsetgroup": "Philippines",
         "orientation": "h",
         "showlegend": true,
         "textposition": "auto",
         "type": "bar",
         "x": [
          19267200000
         ],
         "xaxis": "x",
         "y": [
          "Philippines"
         ],
         "yaxis": "y"
        },
        {
         "alignmentgroup": "True",
         "base": [
          "2020-03-04"
         ],
         "hovertemplate": "Resource=%{y}<br>Start=%{base}<br>Finish=%{x}<extra></extra>",
         "legendgroup": "Poland",
         "marker": {
          "color": "#00cc96"
         },
         "name": "Poland",
         "offsetgroup": "Poland",
         "orientation": "h",
         "showlegend": true,
         "textposition": "auto",
         "type": "bar",
         "x": [
          15724800000
         ],
         "xaxis": "x",
         "y": [
          "Poland"
         ],
         "yaxis": "y"
        },
        {
         "alignmentgroup": "True",
         "base": [
          "2020-03-02"
         ],
         "hovertemplate": "Resource=%{y}<br>Start=%{base}<br>Finish=%{x}<extra></extra>",
         "legendgroup": "Portugal",
         "marker": {
          "color": "#ab63fa"
         },
         "name": "Portugal",
         "offsetgroup": "Portugal",
         "orientation": "h",
         "showlegend": true,
         "textposition": "auto",
         "type": "bar",
         "x": [
          15897600000
         ],
         "xaxis": "x",
         "y": [
          "Portugal"
         ],
         "yaxis": "y"
        },
        {
         "alignmentgroup": "True",
         "base": [
          "2020-03-16"
         ],
         "hovertemplate": "Resource=%{y}<br>Start=%{base}<br>Finish=%{x}<extra></extra>",
         "legendgroup": "Puerto Rico",
         "marker": {
          "color": "#FFA15A"
         },
         "name": "Puerto Rico",
         "offsetgroup": "Puerto Rico",
         "orientation": "h",
         "showlegend": true,
         "textposition": "auto",
         "type": "bar",
         "x": [
          86400000
         ],
         "xaxis": "x",
         "y": [
          "Puerto Rico"
         ],
         "yaxis": "y"
        },
        {
         "alignmentgroup": "True",
         "base": [
          "2020-02-29"
         ],
         "hovertemplate": "Resource=%{y}<br>Start=%{base}<br>Finish=%{x}<extra></extra>",
         "legendgroup": "Qatar",
         "marker": {
          "color": "#19d3f3"
         },
         "name": "Qatar",
         "offsetgroup": "Qatar",
         "orientation": "h",
         "showlegend": true,
         "textposition": "auto",
         "type": "bar",
         "x": [
          16070400000
         ],
         "xaxis": "x",
         "y": [
          "Qatar"
         ],
         "yaxis": "y"
        },
        {
         "alignmentgroup": "True",
         "base": [
          "2020-03-11"
         ],
         "hovertemplate": "Resource=%{y}<br>Start=%{base}<br>Finish=%{x}<extra></extra>",
         "legendgroup": "Reunion",
         "marker": {
          "color": "#FF6692"
         },
         "name": "Reunion",
         "offsetgroup": "Reunion",
         "orientation": "h",
         "showlegend": true,
         "textposition": "auto",
         "type": "bar",
         "x": [
          864000000
         ],
         "xaxis": "x",
         "y": [
          "Reunion"
         ],
         "yaxis": "y"
        },
        {
         "alignmentgroup": "True",
         "base": [
          "2020-02-26"
         ],
         "hovertemplate": "Resource=%{y}<br>Start=%{base}<br>Finish=%{x}<extra></extra>",
         "legendgroup": "Romania",
         "marker": {
          "color": "#B6E880"
         },
         "name": "Romania",
         "offsetgroup": "Romania",
         "orientation": "h",
         "showlegend": true,
         "textposition": "auto",
         "type": "bar",
         "x": [
          16329600000
         ],
         "xaxis": "x",
         "y": [
          "Romania"
         ],
         "yaxis": "y"
        },
        {
         "alignmentgroup": "True",
         "base": [
          "2020-01-31"
         ],
         "hovertemplate": "Resource=%{y}<br>Start=%{base}<br>Finish=%{x}<extra></extra>",
         "legendgroup": "Russia",
         "marker": {
          "color": "#FF97FF"
         },
         "name": "Russia",
         "offsetgroup": "Russia",
         "orientation": "h",
         "showlegend": true,
         "textposition": "auto",
         "type": "bar",
         "x": [
          18576000000
         ],
         "xaxis": "x",
         "y": [
          "Russia"
         ],
         "yaxis": "y"
        },
        {
         "alignmentgroup": "True",
         "base": [
          "2020-03-10"
         ],
         "hovertemplate": "Resource=%{y}<br>Start=%{base}<br>Finish=%{x}<extra></extra>",
         "legendgroup": "Russian Federation",
         "marker": {
          "color": "#FECB52"
         },
         "name": "Russian Federation",
         "offsetgroup": "Russian Federation",
         "orientation": "h",
         "showlegend": true,
         "textposition": "auto",
         "type": "bar",
         "x": [
          0
         ],
         "xaxis": "x",
         "y": [
          "Russian Federation"
         ],
         "yaxis": "y"
        },
        {
         "alignmentgroup": "True",
         "base": [
          "2020-03-14"
         ],
         "hovertemplate": "Resource=%{y}<br>Start=%{base}<br>Finish=%{x}<extra></extra>",
         "legendgroup": "Rwanda",
         "marker": {
          "color": "#636efa"
         },
         "name": "Rwanda",
         "offsetgroup": "Rwanda",
         "orientation": "h",
         "showlegend": true,
         "textposition": "auto",
         "type": "bar",
         "x": [
          14860800000
         ],
         "xaxis": "x",
         "y": [
          "Rwanda"
         ],
         "yaxis": "y"
        },
        {
         "alignmentgroup": "True",
         "base": [
          "2020-03-04"
         ],
         "hovertemplate": "Resource=%{y}<br>Start=%{base}<br>Finish=%{x}<extra></extra>",
         "legendgroup": "Saint Barthelemy",
         "marker": {
          "color": "#EF553B"
         },
         "name": "Saint Barthelemy",
         "offsetgroup": "Saint Barthelemy",
         "orientation": "h",
         "showlegend": true,
         "textposition": "auto",
         "type": "bar",
         "x": [
          432000000
         ],
         "xaxis": "x",
         "y": [
          "Saint Barthelemy"
         ],
         "yaxis": "y"
        },
        {
         "alignmentgroup": "True",
         "base": [
          "2020-03-25"
         ],
         "hovertemplate": "Resource=%{y}<br>Start=%{base}<br>Finish=%{x}<extra></extra>",
         "legendgroup": "Saint Kitts and Nevis",
         "marker": {
          "color": "#00cc96"
         },
         "name": "Saint Kitts and Nevis",
         "offsetgroup": "Saint Kitts and Nevis",
         "orientation": "h",
         "showlegend": true,
         "textposition": "auto",
         "type": "bar",
         "x": [
          13910400000
         ],
         "xaxis": "x",
         "y": [
          "Saint Kitts and Nevis"
         ],
         "yaxis": "y"
        },
        {
         "alignmentgroup": "True",
         "base": [
          "2020-03-14"
         ],
         "hovertemplate": "Resource=%{y}<br>Start=%{base}<br>Finish=%{x}<extra></extra>",
         "legendgroup": "Saint Lucia",
         "marker": {
          "color": "#ab63fa"
         },
         "name": "Saint Lucia",
         "offsetgroup": "Saint Lucia",
         "orientation": "h",
         "showlegend": true,
         "textposition": "auto",
         "type": "bar",
         "x": [
          14860800000
         ],
         "xaxis": "x",
         "y": [
          "Saint Lucia"
         ],
         "yaxis": "y"
        },
        {
         "alignmentgroup": "True",
         "base": [
          "2020-03-10"
         ],
         "hovertemplate": "Resource=%{y}<br>Start=%{base}<br>Finish=%{x}<extra></extra>",
         "legendgroup": "Saint Martin",
         "marker": {
          "color": "#FFA15A"
         },
         "name": "Saint Martin",
         "offsetgroup": "Saint Martin",
         "orientation": "h",
         "showlegend": true,
         "textposition": "auto",
         "type": "bar",
         "x": [
          0
         ],
         "xaxis": "x",
         "y": [
          "Saint Martin"
         ],
         "yaxis": "y"
        },
        {
         "alignmentgroup": "True",
         "base": [
          "2020-03-09"
         ],
         "hovertemplate": "Resource=%{y}<br>Start=%{base}<br>Finish=%{x}<extra></extra>",
         "legendgroup": "St. Martin",
         "marker": {
          "color": "#19d3f3"
         },
         "name": "St. Martin",
         "offsetgroup": "St. Martin",
         "orientation": "h",
         "showlegend": true,
         "textposition": "auto",
         "type": "bar",
         "x": [
          0
         ],
         "xaxis": "x",
         "y": [
          "St. Martin"
         ],
         "yaxis": "y"
        },
        {
         "alignmentgroup": "True",
         "base": [
          "2020-03-14"
         ],
         "hovertemplate": "Resource=%{y}<br>Start=%{base}<br>Finish=%{x}<extra></extra>",
         "legendgroup": "Saint Vincent and the Grenadines",
         "marker": {
          "color": "#FF6692"
         },
         "name": "Saint Vincent and the Grenadines",
         "offsetgroup": "Saint Vincent and the Grenadines",
         "orientation": "h",
         "showlegend": true,
         "textposition": "auto",
         "type": "bar",
         "x": [
          14860800000
         ],
         "xaxis": "x",
         "y": [
          "Saint Vincent and the Grenadines"
         ],
         "yaxis": "y"
        },
        {
         "alignmentgroup": "True",
         "base": [
          "2020-02-27"
         ],
         "hovertemplate": "Resource=%{y}<br>Start=%{base}<br>Finish=%{x}<extra></extra>",
         "legendgroup": "San Marino",
         "marker": {
          "color": "#B6E880"
         },
         "name": "San Marino",
         "offsetgroup": "San Marino",
         "orientation": "h",
         "showlegend": true,
         "textposition": "auto",
         "type": "bar",
         "x": [
          16243200000
         ],
         "xaxis": "x",
         "y": [
          "San Marino"
         ],
         "yaxis": "y"
        },
        {
         "alignmentgroup": "True",
         "base": [
          "2020-04-06"
         ],
         "hovertemplate": "Resource=%{y}<br>Start=%{base}<br>Finish=%{x}<extra></extra>",
         "legendgroup": "Sao Tome and Principe",
         "marker": {
          "color": "#FF97FF"
         },
         "name": "Sao Tome and Principe",
         "offsetgroup": "Sao Tome and Principe",
         "orientation": "h",
         "showlegend": true,
         "textposition": "auto",
         "type": "bar",
         "x": [
          12873600000
         ],
         "xaxis": "x",
         "y": [
          "Sao Tome and Principe"
         ],
         "yaxis": "y"
        },
        {
         "alignmentgroup": "True",
         "base": [
          "2020-03-02"
         ],
         "hovertemplate": "Resource=%{y}<br>Start=%{base}<br>Finish=%{x}<extra></extra>",
         "legendgroup": "Saudi Arabia",
         "marker": {
          "color": "#FECB52"
         },
         "name": "Saudi Arabia",
         "offsetgroup": "Saudi Arabia",
         "orientation": "h",
         "showlegend": true,
         "textposition": "auto",
         "type": "bar",
         "x": [
          15897600000
         ],
         "xaxis": "x",
         "y": [
          "Saudi Arabia"
         ],
         "yaxis": "y"
        },
        {
         "alignmentgroup": "True",
         "base": [
          "2020-03-02"
         ],
         "hovertemplate": "Resource=%{y}<br>Start=%{base}<br>Finish=%{x}<extra></extra>",
         "legendgroup": "Senegal",
         "marker": {
          "color": "#636efa"
         },
         "name": "Senegal",
         "offsetgroup": "Senegal",
         "orientation": "h",
         "showlegend": true,
         "textposition": "auto",
         "type": "bar",
         "x": [
          15897600000
         ],
         "xaxis": "x",
         "y": [
          "Senegal"
         ],
         "yaxis": "y"
        },
        {
         "alignmentgroup": "True",
         "base": [
          "2020-03-06"
         ],
         "hovertemplate": "Resource=%{y}<br>Start=%{base}<br>Finish=%{x}<extra></extra>",
         "legendgroup": "Serbia",
         "marker": {
          "color": "#EF553B"
         },
         "name": "Serbia",
         "offsetgroup": "Serbia",
         "orientation": "h",
         "showlegend": true,
         "textposition": "auto",
         "type": "bar",
         "x": [
          15552000000
         ],
         "xaxis": "x",
         "y": [
          "Serbia"
         ],
         "yaxis": "y"
        },
        {
         "alignmentgroup": "True",
         "base": [
          "2020-03-14"
         ],
         "hovertemplate": "Resource=%{y}<br>Start=%{base}<br>Finish=%{x}<extra></extra>",
         "legendgroup": "Seychelles",
         "marker": {
          "color": "#00cc96"
         },
         "name": "Seychelles",
         "offsetgroup": "Seychelles",
         "orientation": "h",
         "showlegend": true,
         "textposition": "auto",
         "type": "bar",
         "x": [
          14860800000
         ],
         "xaxis": "x",
         "y": [
          "Seychelles"
         ],
         "yaxis": "y"
        },
        {
         "alignmentgroup": "True",
         "base": [
          "2020-03-31"
         ],
         "hovertemplate": "Resource=%{y}<br>Start=%{base}<br>Finish=%{x}<extra></extra>",
         "legendgroup": "Sierra Leone",
         "marker": {
          "color": "#ab63fa"
         },
         "name": "Sierra Leone",
         "offsetgroup": "Sierra Leone",
         "orientation": "h",
         "showlegend": true,
         "textposition": "auto",
         "type": "bar",
         "x": [
          13392000000
         ],
         "xaxis": "x",
         "y": [
          "Sierra Leone"
         ],
         "yaxis": "y"
        },
        {
         "alignmentgroup": "True",
         "base": [
          "2020-01-23"
         ],
         "hovertemplate": "Resource=%{y}<br>Start=%{base}<br>Finish=%{x}<extra></extra>",
         "legendgroup": "Singapore",
         "marker": {
          "color": "#FFA15A"
         },
         "name": "Singapore",
         "offsetgroup": "Singapore",
         "orientation": "h",
         "showlegend": true,
         "textposition": "auto",
         "type": "bar",
         "x": [
          19267200000
         ],
         "xaxis": "x",
         "y": [
          "Singapore"
         ],
         "yaxis": "y"
        },
        {
         "alignmentgroup": "True",
         "base": [
          "2020-03-06"
         ],
         "hovertemplate": "Resource=%{y}<br>Start=%{base}<br>Finish=%{x}<extra></extra>",
         "legendgroup": "Slovakia",
         "marker": {
          "color": "#19d3f3"
         },
         "name": "Slovakia",
         "offsetgroup": "Slovakia",
         "orientation": "h",
         "showlegend": true,
         "textposition": "auto",
         "type": "bar",
         "x": [
          15552000000
         ],
         "xaxis": "x",
         "y": [
          "Slovakia"
         ],
         "yaxis": "y"
        },
        {
         "alignmentgroup": "True",
         "base": [
          "2020-03-05"
         ],
         "hovertemplate": "Resource=%{y}<br>Start=%{base}<br>Finish=%{x}<extra></extra>",
         "legendgroup": "Slovenia",
         "marker": {
          "color": "#FF6692"
         },
         "name": "Slovenia",
         "offsetgroup": "Slovenia",
         "orientation": "h",
         "showlegend": true,
         "textposition": "auto",
         "type": "bar",
         "x": [
          15638400000
         ],
         "xaxis": "x",
         "y": [
          "Slovenia"
         ],
         "yaxis": "y"
        },
        {
         "alignmentgroup": "True",
         "base": [
          "2020-03-16"
         ],
         "hovertemplate": "Resource=%{y}<br>Start=%{base}<br>Finish=%{x}<extra></extra>",
         "legendgroup": "Somalia",
         "marker": {
          "color": "#B6E880"
         },
         "name": "Somalia",
         "offsetgroup": "Somalia",
         "orientation": "h",
         "showlegend": true,
         "textposition": "auto",
         "type": "bar",
         "x": [
          14688000000
         ],
         "xaxis": "x",
         "y": [
          "Somalia"
         ],
         "yaxis": "y"
        },
        {
         "alignmentgroup": "True",
         "base": [
          "2020-03-05"
         ],
         "hovertemplate": "Resource=%{y}<br>Start=%{base}<br>Finish=%{x}<extra></extra>",
         "legendgroup": "South Africa",
         "marker": {
          "color": "#FF97FF"
         },
         "name": "South Africa",
         "offsetgroup": "South Africa",
         "orientation": "h",
         "showlegend": true,
         "textposition": "auto",
         "type": "bar",
         "x": [
          15638400000
         ],
         "xaxis": "x",
         "y": [
          "South Africa"
         ],
         "yaxis": "y"
        },
        {
         "alignmentgroup": "True",
         "base": [
          "2020-04-05"
         ],
         "hovertemplate": "Resource=%{y}<br>Start=%{base}<br>Finish=%{x}<extra></extra>",
         "legendgroup": "South Sudan",
         "marker": {
          "color": "#FECB52"
         },
         "name": "South Sudan",
         "offsetgroup": "South Sudan",
         "orientation": "h",
         "showlegend": true,
         "textposition": "auto",
         "type": "bar",
         "x": [
          12960000000
         ],
         "xaxis": "x",
         "y": [
          "South Sudan"
         ],
         "yaxis": "y"
        },
        {
         "alignmentgroup": "True",
         "base": [
          "2020-02-01"
         ],
         "hovertemplate": "Resource=%{y}<br>Start=%{base}<br>Finish=%{x}<extra></extra>",
         "legendgroup": "Spain",
         "marker": {
          "color": "#636efa"
         },
         "name": "Spain",
         "offsetgroup": "Spain",
         "orientation": "h",
         "showlegend": true,
         "textposition": "auto",
         "type": "bar",
         "x": [
          18489600000
         ],
         "xaxis": "x",
         "y": [
          "Spain"
         ],
         "yaxis": "y"
        },
        {
         "alignmentgroup": "True",
         "base": [
          "2020-01-27"
         ],
         "hovertemplate": "Resource=%{y}<br>Start=%{base}<br>Finish=%{x}<extra></extra>",
         "legendgroup": "Sri Lanka",
         "marker": {
          "color": "#EF553B"
         },
         "name": "Sri Lanka",
         "offsetgroup": "Sri Lanka",
         "orientation": "h",
         "showlegend": true,
         "textposition": "auto",
         "type": "bar",
         "x": [
          18921600000
         ],
         "xaxis": "x",
         "y": [
          "Sri Lanka"
         ],
         "yaxis": "y"
        },
        {
         "alignmentgroup": "True",
         "base": [
          "2020-03-11"
         ],
         "hovertemplate": "Resource=%{y}<br>Start=%{base}<br>Finish=%{x}<extra></extra>",
         "legendgroup": "Sudan",
         "marker": {
          "color": "#00cc96"
         },
         "name": "Sudan",
         "offsetgroup": "Sudan",
         "orientation": "h",
         "showlegend": true,
         "textposition": "auto",
         "type": "bar",
         "x": [
          15120000000
         ],
         "xaxis": "x",
         "y": [
          "Sudan"
         ],
         "yaxis": "y"
        },
        {
         "alignmentgroup": "True",
         "base": [
          "2020-03-14"
         ],
         "hovertemplate": "Resource=%{y}<br>Start=%{base}<br>Finish=%{x}<extra></extra>",
         "legendgroup": "Suriname",
         "marker": {
          "color": "#ab63fa"
         },
         "name": "Suriname",
         "offsetgroup": "Suriname",
         "orientation": "h",
         "showlegend": true,
         "textposition": "auto",
         "type": "bar",
         "x": [
          14860800000
         ],
         "xaxis": "x",
         "y": [
          "Suriname"
         ],
         "yaxis": "y"
        },
        {
         "alignmentgroup": "True",
         "base": [
          "2020-01-31"
         ],
         "hovertemplate": "Resource=%{y}<br>Start=%{base}<br>Finish=%{x}<extra></extra>",
         "legendgroup": "Sweden",
         "marker": {
          "color": "#FFA15A"
         },
         "name": "Sweden",
         "offsetgroup": "Sweden",
         "orientation": "h",
         "showlegend": true,
         "textposition": "auto",
         "type": "bar",
         "x": [
          18576000000
         ],
         "xaxis": "x",
         "y": [
          "Sweden"
         ],
         "yaxis": "y"
        },
        {
         "alignmentgroup": "True",
         "base": [
          "2020-02-25"
         ],
         "hovertemplate": "Resource=%{y}<br>Start=%{base}<br>Finish=%{x}<extra></extra>",
         "legendgroup": "Switzerland",
         "marker": {
          "color": "#19d3f3"
         },
         "name": "Switzerland",
         "offsetgroup": "Switzerland",
         "orientation": "h",
         "showlegend": true,
         "textposition": "auto",
         "type": "bar",
         "x": [
          16416000000
         ],
         "xaxis": "x",
         "y": [
          "Switzerland"
         ],
         "yaxis": "y"
        },
        {
         "alignmentgroup": "True",
         "base": [
          "2020-03-22"
         ],
         "hovertemplate": "Resource=%{y}<br>Start=%{base}<br>Finish=%{x}<extra></extra>",
         "legendgroup": "Syria",
         "marker": {
          "color": "#FF6692"
         },
         "name": "Syria",
         "offsetgroup": "Syria",
         "orientation": "h",
         "showlegend": true,
         "textposition": "auto",
         "type": "bar",
         "x": [
          14169600000
         ],
         "xaxis": "x",
         "y": [
          "Syria"
         ],
         "yaxis": "y"
        },
        {
         "alignmentgroup": "True",
         "base": [
          "2020-03-10"
         ],
         "hovertemplate": "Resource=%{y}<br>Start=%{base}<br>Finish=%{x}<extra></extra>",
         "legendgroup": "Taipei and environs",
         "marker": {
          "color": "#B6E880"
         },
         "name": "Taipei and environs",
         "offsetgroup": "Taipei and environs",
         "orientation": "h",
         "showlegend": true,
         "textposition": "auto",
         "type": "bar",
         "x": [
          0
         ],
         "xaxis": "x",
         "y": [
          "Taipei and environs"
         ],
         "yaxis": "y"
        },
        {
         "alignmentgroup": "True",
         "base": [
          "2020-01-22"
         ],
         "hovertemplate": "Resource=%{y}<br>Start=%{base}<br>Finish=%{x}<extra></extra>",
         "legendgroup": "Taiwan",
         "marker": {
          "color": "#FF97FF"
         },
         "name": "Taiwan",
         "offsetgroup": "Taiwan",
         "orientation": "h",
         "showlegend": true,
         "textposition": "auto",
         "type": "bar",
         "x": [
          4060800000
         ],
         "xaxis": "x",
         "y": [
          "Taiwan"
         ],
         "yaxis": "y"
        },
        {
         "alignmentgroup": "True",
         "base": [
          "2020-03-11"
         ],
         "hovertemplate": "Resource=%{y}<br>Start=%{base}<br>Finish=%{x}<extra></extra>",
         "legendgroup": "Taiwan*",
         "marker": {
          "color": "#FECB52"
         },
         "name": "Taiwan*",
         "offsetgroup": "Taiwan*",
         "orientation": "h",
         "showlegend": true,
         "textposition": "auto",
         "type": "bar",
         "x": [
          15120000000
         ],
         "xaxis": "x",
         "y": [
          "Taiwan*"
         ],
         "yaxis": "y"
        },
        {
         "alignmentgroup": "True",
         "base": [
          "2020-05-01"
         ],
         "hovertemplate": "Resource=%{y}<br>Start=%{base}<br>Finish=%{x}<extra></extra>",
         "legendgroup": "Tajikistan",
         "marker": {
          "color": "#636efa"
         },
         "name": "Tajikistan",
         "offsetgroup": "Tajikistan",
         "orientation": "h",
         "showlegend": true,
         "textposition": "auto",
         "type": "bar",
         "x": [
          10713600000
         ],
         "xaxis": "x",
         "y": [
          "Tajikistan"
         ],
         "yaxis": "y"
        },
        {
         "alignmentgroup": "True",
         "base": [
          "2020-03-16"
         ],
         "hovertemplate": "Resource=%{y}<br>Start=%{base}<br>Finish=%{x}<extra></extra>",
         "legendgroup": "Tanzania",
         "marker": {
          "color": "#EF553B"
         },
         "name": "Tanzania",
         "offsetgroup": "Tanzania",
         "orientation": "h",
         "showlegend": true,
         "textposition": "auto",
         "type": "bar",
         "x": [
          14688000000
         ],
         "xaxis": "x",
         "y": [
          "Tanzania"
         ],
         "yaxis": "y"
        },
        {
         "alignmentgroup": "True",
         "base": [
          "2020-01-22"
         ],
         "hovertemplate": "Resource=%{y}<br>Start=%{base}<br>Finish=%{x}<extra></extra>",
         "legendgroup": "Thailand",
         "marker": {
          "color": "#00cc96"
         },
         "name": "Thailand",
         "offsetgroup": "Thailand",
         "orientation": "h",
         "showlegend": true,
         "textposition": "auto",
         "type": "bar",
         "x": [
          19353600000
         ],
         "xaxis": "x",
         "y": [
          "Thailand"
         ],
         "yaxis": "y"
        },
        {
         "alignmentgroup": "True",
         "base": [
          "2020-03-21"
         ],
         "hovertemplate": "Resource=%{y}<br>Start=%{base}<br>Finish=%{x}<extra></extra>",
         "legendgroup": "East Timor",
         "marker": {
          "color": "#ab63fa"
         },
         "name": "East Timor",
         "offsetgroup": "East Timor",
         "orientation": "h",
         "showlegend": true,
         "textposition": "auto",
         "type": "bar",
         "x": [
          0
         ],
         "xaxis": "x",
         "y": [
          "East Timor"
         ],
         "yaxis": "y"
        },
        {
         "alignmentgroup": "True",
         "base": [
          "2020-03-22"
         ],
         "hovertemplate": "Resource=%{y}<br>Start=%{base}<br>Finish=%{x}<extra></extra>",
         "legendgroup": "Timor-Leste",
         "marker": {
          "color": "#FFA15A"
         },
         "name": "Timor-Leste",
         "offsetgroup": "Timor-Leste",
         "orientation": "h",
         "showlegend": true,
         "textposition": "auto",
         "type": "bar",
         "x": [
          14169600000
         ],
         "xaxis": "x",
         "y": [
          "Timor-Leste"
         ],
         "yaxis": "y"
        },
        {
         "alignmentgroup": "True",
         "base": [
          "2020-03-06"
         ],
         "hovertemplate": "Resource=%{y}<br>Start=%{base}<br>Finish=%{x}<extra></extra>",
         "legendgroup": "Togo",
         "marker": {
          "color": "#19d3f3"
         },
         "name": "Togo",
         "offsetgroup": "Togo",
         "orientation": "h",
         "showlegend": true,
         "textposition": "auto",
         "type": "bar",
         "x": [
          15552000000
         ],
         "xaxis": "x",
         "y": [
          "Togo"
         ],
         "yaxis": "y"
        },
        {
         "alignmentgroup": "True",
         "base": [
          "2020-03-14"
         ],
         "hovertemplate": "Resource=%{y}<br>Start=%{base}<br>Finish=%{x}<extra></extra>",
         "legendgroup": "Trinidad and Tobago",
         "marker": {
          "color": "#FF6692"
         },
         "name": "Trinidad and Tobago",
         "offsetgroup": "Trinidad and Tobago",
         "orientation": "h",
         "showlegend": true,
         "textposition": "auto",
         "type": "bar",
         "x": [
          14860800000
         ],
         "xaxis": "x",
         "y": [
          "Trinidad and Tobago"
         ],
         "yaxis": "y"
        },
        {
         "alignmentgroup": "True",
         "base": [
          "2020-03-04"
         ],
         "hovertemplate": "Resource=%{y}<br>Start=%{base}<br>Finish=%{x}<extra></extra>",
         "legendgroup": "Tunisia",
         "marker": {
          "color": "#B6E880"
         },
         "name": "Tunisia",
         "offsetgroup": "Tunisia",
         "orientation": "h",
         "showlegend": true,
         "textposition": "auto",
         "type": "bar",
         "x": [
          15724800000
         ],
         "xaxis": "x",
         "y": [
          "Tunisia"
         ],
         "yaxis": "y"
        },
        {
         "alignmentgroup": "True",
         "base": [
          "2020-03-11"
         ],
         "hovertemplate": "Resource=%{y}<br>Start=%{base}<br>Finish=%{x}<extra></extra>",
         "legendgroup": "Turkey",
         "marker": {
          "color": "#FF97FF"
         },
         "name": "Turkey",
         "offsetgroup": "Turkey",
         "orientation": "h",
         "showlegend": true,
         "textposition": "auto",
         "type": "bar",
         "x": [
          15120000000
         ],
         "xaxis": "x",
         "y": [
          "Turkey"
         ],
         "yaxis": "y"
        },
        {
         "alignmentgroup": "True",
         "base": [
          "2020-01-22"
         ],
         "hovertemplate": "Resource=%{y}<br>Start=%{base}<br>Finish=%{x}<extra></extra>",
         "legendgroup": "US",
         "marker": {
          "color": "#FECB52"
         },
         "name": "US",
         "offsetgroup": "US",
         "orientation": "h",
         "showlegend": true,
         "textposition": "auto",
         "type": "bar",
         "x": [
          19353600000
         ],
         "xaxis": "x",
         "y": [
          "US"
         ],
         "yaxis": "y"
        },
        {
         "alignmentgroup": "True",
         "base": [
          "2020-03-21"
         ],
         "hovertemplate": "Resource=%{y}<br>Start=%{base}<br>Finish=%{x}<extra></extra>",
         "legendgroup": "Uganda",
         "marker": {
          "color": "#636efa"
         },
         "name": "Uganda",
         "offsetgroup": "Uganda",
         "orientation": "h",
         "showlegend": true,
         "textposition": "auto",
         "type": "bar",
         "x": [
          14256000000
         ],
         "xaxis": "x",
         "y": [
          "Uganda"
         ],
         "yaxis": "y"
        },
        {
         "alignmentgroup": "True",
         "base": [
          "2020-03-03"
         ],
         "hovertemplate": "Resource=%{y}<br>Start=%{base}<br>Finish=%{x}<extra></extra>",
         "legendgroup": "Ukraine",
         "marker": {
          "color": "#EF553B"
         },
         "name": "Ukraine",
         "offsetgroup": "Ukraine",
         "orientation": "h",
         "showlegend": true,
         "textposition": "auto",
         "type": "bar",
         "x": [
          15811200000
         ],
         "xaxis": "x",
         "y": [
          "Ukraine"
         ],
         "yaxis": "y"
        },
        {
         "alignmentgroup": "True",
         "base": [
          "2020-01-29"
         ],
         "hovertemplate": "Resource=%{y}<br>Start=%{base}<br>Finish=%{x}<extra></extra>",
         "legendgroup": "United Arab Emirates",
         "marker": {
          "color": "#00cc96"
         },
         "name": "United Arab Emirates",
         "offsetgroup": "United Arab Emirates",
         "orientation": "h",
         "showlegend": true,
         "textposition": "auto",
         "type": "bar",
         "x": [
          18748800000
         ],
         "xaxis": "x",
         "y": [
          "United Arab Emirates"
         ],
         "yaxis": "y"
        },
        {
         "alignmentgroup": "True",
         "base": [
          "2020-01-31"
         ],
         "hovertemplate": "Resource=%{y}<br>Start=%{base}<br>Finish=%{x}<extra></extra>",
         "legendgroup": "UK",
         "marker": {
          "color": "#ab63fa"
         },
         "name": "UK",
         "offsetgroup": "UK",
         "orientation": "h",
         "showlegend": true,
         "textposition": "auto",
         "type": "bar",
         "x": [
          3369600000
         ],
         "xaxis": "x",
         "y": [
          "UK"
         ],
         "yaxis": "y"
        },
        {
         "alignmentgroup": "True",
         "base": [
          "2020-03-11"
         ],
         "hovertemplate": "Resource=%{y}<br>Start=%{base}<br>Finish=%{x}<extra></extra>",
         "legendgroup": "United Kingdom",
         "marker": {
          "color": "#FFA15A"
         },
         "name": "United Kingdom",
         "offsetgroup": "United Kingdom",
         "orientation": "h",
         "showlegend": true,
         "textposition": "auto",
         "type": "bar",
         "x": [
          15120000000
         ],
         "xaxis": "x",
         "y": [
          "United Kingdom"
         ],
         "yaxis": "y"
        },
        {
         "alignmentgroup": "True",
         "base": [
          "2020-03-14"
         ],
         "hovertemplate": "Resource=%{y}<br>Start=%{base}<br>Finish=%{x}<extra></extra>",
         "legendgroup": "Uruguay",
         "marker": {
          "color": "#19d3f3"
         },
         "name": "Uruguay",
         "offsetgroup": "Uruguay",
         "orientation": "h",
         "showlegend": true,
         "textposition": "auto",
         "type": "bar",
         "x": [
          14860800000
         ],
         "xaxis": "x",
         "y": [
          "Uruguay"
         ],
         "yaxis": "y"
        },
        {
         "alignmentgroup": "True",
         "base": [
          "2020-03-15"
         ],
         "hovertemplate": "Resource=%{y}<br>Start=%{base}<br>Finish=%{x}<extra></extra>",
         "legendgroup": "Uzbekistan",
         "marker": {
          "color": "#FF6692"
         },
         "name": "Uzbekistan",
         "offsetgroup": "Uzbekistan",
         "orientation": "h",
         "showlegend": true,
         "textposition": "auto",
         "type": "bar",
         "x": [
          14774400000
         ],
         "xaxis": "x",
         "y": [
          "Uzbekistan"
         ],
         "yaxis": "y"
        },
        {
         "alignmentgroup": "True",
         "base": [
          "2020-03-10"
         ],
         "hovertemplate": "Resource=%{y}<br>Start=%{base}<br>Finish=%{x}<extra></extra>",
         "legendgroup": "Holy See",
         "marker": {
          "color": "#B6E880"
         },
         "name": "Holy See",
         "offsetgroup": "Holy See",
         "orientation": "h",
         "showlegend": true,
         "textposition": "auto",
         "type": "bar",
         "x": [
          15206400000
         ],
         "xaxis": "x",
         "y": [
          "Holy See"
         ],
         "yaxis": "y"
        },
        {
         "alignmentgroup": "True",
         "base": [
          "2020-03-06"
         ],
         "hovertemplate": "Resource=%{y}<br>Start=%{base}<br>Finish=%{x}<extra></extra>",
         "legendgroup": "Vatican City",
         "marker": {
          "color": "#FF97FF"
         },
         "name": "Vatican City",
         "offsetgroup": "Vatican City",
         "orientation": "h",
         "showlegend": true,
         "textposition": "auto",
         "type": "bar",
         "x": [
          0
         ],
         "xaxis": "x",
         "y": [
          "Vatican City"
         ],
         "yaxis": "y"
        },
        {
         "alignmentgroup": "True",
         "base": [
          "2020-03-14"
         ],
         "hovertemplate": "Resource=%{y}<br>Start=%{base}<br>Finish=%{x}<extra></extra>",
         "legendgroup": "Venezuela",
         "marker": {
          "color": "#FECB52"
         },
         "name": "Venezuela",
         "offsetgroup": "Venezuela",
         "orientation": "h",
         "showlegend": true,
         "textposition": "auto",
         "type": "bar",
         "x": [
          14860800000
         ],
         "xaxis": "x",
         "y": [
          "Venezuela"
         ],
         "yaxis": "y"
        },
        {
         "alignmentgroup": "True",
         "base": [
          "2020-03-10"
         ],
         "hovertemplate": "Resource=%{y}<br>Start=%{base}<br>Finish=%{x}<extra></extra>",
         "legendgroup": "Viet Nam",
         "marker": {
          "color": "#636efa"
         },
         "name": "Viet Nam",
         "offsetgroup": "Viet Nam",
         "orientation": "h",
         "showlegend": true,
         "textposition": "auto",
         "type": "bar",
         "x": [
          0
         ],
         "xaxis": "x",
         "y": [
          "Viet Nam"
         ],
         "yaxis": "y"
        },
        {
         "alignmentgroup": "True",
         "base": [
          "2020-01-23"
         ],
         "hovertemplate": "Resource=%{y}<br>Start=%{base}<br>Finish=%{x}<extra></extra>",
         "legendgroup": "Vietnam",
         "marker": {
          "color": "#EF553B"
         },
         "name": "Vietnam",
         "offsetgroup": "Vietnam",
         "orientation": "h",
         "showlegend": true,
         "textposition": "auto",
         "type": "bar",
         "x": [
          19267200000
         ],
         "xaxis": "x",
         "y": [
          "Vietnam"
         ],
         "yaxis": "y"
        },
        {
         "alignmentgroup": "True",
         "base": [
          "2020-03-26"
         ],
         "hovertemplate": "Resource=%{y}<br>Start=%{base}<br>Finish=%{x}<extra></extra>",
         "legendgroup": "West Bank and Gaza",
         "marker": {
          "color": "#00cc96"
         },
         "name": "West Bank and Gaza",
         "offsetgroup": "West Bank and Gaza",
         "orientation": "h",
         "showlegend": true,
         "textposition": "auto",
         "type": "bar",
         "x": [
          13824000000
         ],
         "xaxis": "x",
         "y": [
          "West Bank and Gaza"
         ],
         "yaxis": "y"
        },
        {
         "alignmentgroup": "True",
         "base": [
          "2020-04-05"
         ],
         "hovertemplate": "Resource=%{y}<br>Start=%{base}<br>Finish=%{x}<extra></extra>",
         "legendgroup": "Western Sahara",
         "marker": {
          "color": "#ab63fa"
         },
         "name": "Western Sahara",
         "offsetgroup": "Western Sahara",
         "orientation": "h",
         "showlegend": true,
         "textposition": "auto",
         "type": "bar",
         "x": [
          12960000000
         ],
         "xaxis": "x",
         "y": [
          "Western Sahara"
         ],
         "yaxis": "y"
        },
        {
         "alignmentgroup": "True",
         "base": [
          "2020-04-10"
         ],
         "hovertemplate": "Resource=%{y}<br>Start=%{base}<br>Finish=%{x}<extra></extra>",
         "legendgroup": "Yemen",
         "marker": {
          "color": "#FFA15A"
         },
         "name": "Yemen",
         "offsetgroup": "Yemen",
         "orientation": "h",
         "showlegend": true,
         "textposition": "auto",
         "type": "bar",
         "x": [
          12528000000
         ],
         "xaxis": "x",
         "y": [
          "Yemen"
         ],
         "yaxis": "y"
        },
        {
         "alignmentgroup": "True",
         "base": [
          "2020-03-18"
         ],
         "hovertemplate": "Resource=%{y}<br>Start=%{base}<br>Finish=%{x}<extra></extra>",
         "legendgroup": "Zambia",
         "marker": {
          "color": "#19d3f3"
         },
         "name": "Zambia",
         "offsetgroup": "Zambia",
         "orientation": "h",
         "showlegend": true,
         "textposition": "auto",
         "type": "bar",
         "x": [
          14515200000
         ],
         "xaxis": "x",
         "y": [
          "Zambia"
         ],
         "yaxis": "y"
        },
        {
         "alignmentgroup": "True",
         "base": [
          "2020-03-20"
         ],
         "hovertemplate": "Resource=%{y}<br>Start=%{base}<br>Finish=%{x}<extra></extra>",
         "legendgroup": "Zimbabwe",
         "marker": {
          "color": "#FF6692"
         },
         "name": "Zimbabwe",
         "offsetgroup": "Zimbabwe",
         "orientation": "h",
         "showlegend": true,
         "textposition": "auto",
         "type": "bar",
         "x": [
          14342400000
         ],
         "xaxis": "x",
         "y": [
          "Zimbabwe"
         ],
         "yaxis": "y"
        },
        {
         "alignmentgroup": "True",
         "base": [
          "2020-02-07"
         ],
         "hovertemplate": "Resource=%{y}<br>Start=%{base}<br>Finish=%{x}<extra></extra>",
         "legendgroup": "Others",
         "marker": {
          "color": "#B6E880"
         },
         "name": "Others",
         "offsetgroup": "Others",
         "orientation": "h",
         "showlegend": true,
         "textposition": "auto",
         "type": "bar",
         "x": [
          2419200000
         ],
         "xaxis": "x",
         "y": [
          "Others"
         ],
         "yaxis": "y"
        }
       ],
       "layout": {
        "barmode": "overlay",
        "height": 2000,
        "legend": {
         "title": {
          "text": "Resource"
         },
         "tracegroupgap": 0
        },
        "margin": {
         "t": 60
        },
        "template": {
         "data": {
          "bar": [
           {
            "error_x": {
             "color": "#2a3f5f"
            },
            "error_y": {
             "color": "#2a3f5f"
            },
            "marker": {
             "line": {
              "color": "#E5ECF6",
              "width": 0.5
             }
            },
            "type": "bar"
           }
          ],
          "barpolar": [
           {
            "marker": {
             "line": {
              "color": "#E5ECF6",
              "width": 0.5
             }
            },
            "type": "barpolar"
           }
          ],
          "carpet": [
           {
            "aaxis": {
             "endlinecolor": "#2a3f5f",
             "gridcolor": "white",
             "linecolor": "white",
             "minorgridcolor": "white",
             "startlinecolor": "#2a3f5f"
            },
            "baxis": {
             "endlinecolor": "#2a3f5f",
             "gridcolor": "white",
             "linecolor": "white",
             "minorgridcolor": "white",
             "startlinecolor": "#2a3f5f"
            },
            "type": "carpet"
           }
          ],
          "choropleth": [
           {
            "colorbar": {
             "outlinewidth": 0,
             "ticks": ""
            },
            "type": "choropleth"
           }
          ],
          "contour": [
           {
            "colorbar": {
             "outlinewidth": 0,
             "ticks": ""
            },
            "colorscale": [
             [
              0,
              "#0d0887"
             ],
             [
              0.1111111111111111,
              "#46039f"
             ],
             [
              0.2222222222222222,
              "#7201a8"
             ],
             [
              0.3333333333333333,
              "#9c179e"
             ],
             [
              0.4444444444444444,
              "#bd3786"
             ],
             [
              0.5555555555555556,
              "#d8576b"
             ],
             [
              0.6666666666666666,
              "#ed7953"
             ],
             [
              0.7777777777777778,
              "#fb9f3a"
             ],
             [
              0.8888888888888888,
              "#fdca26"
             ],
             [
              1,
              "#f0f921"
             ]
            ],
            "type": "contour"
           }
          ],
          "contourcarpet": [
           {
            "colorbar": {
             "outlinewidth": 0,
             "ticks": ""
            },
            "type": "contourcarpet"
           }
          ],
          "heatmap": [
           {
            "colorbar": {
             "outlinewidth": 0,
             "ticks": ""
            },
            "colorscale": [
             [
              0,
              "#0d0887"
             ],
             [
              0.1111111111111111,
              "#46039f"
             ],
             [
              0.2222222222222222,
              "#7201a8"
             ],
             [
              0.3333333333333333,
              "#9c179e"
             ],
             [
              0.4444444444444444,
              "#bd3786"
             ],
             [
              0.5555555555555556,
              "#d8576b"
             ],
             [
              0.6666666666666666,
              "#ed7953"
             ],
             [
              0.7777777777777778,
              "#fb9f3a"
             ],
             [
              0.8888888888888888,
              "#fdca26"
             ],
             [
              1,
              "#f0f921"
             ]
            ],
            "type": "heatmap"
           }
          ],
          "heatmapgl": [
           {
            "colorbar": {
             "outlinewidth": 0,
             "ticks": ""
            },
            "colorscale": [
             [
              0,
              "#0d0887"
             ],
             [
              0.1111111111111111,
              "#46039f"
             ],
             [
              0.2222222222222222,
              "#7201a8"
             ],
             [
              0.3333333333333333,
              "#9c179e"
             ],
             [
              0.4444444444444444,
              "#bd3786"
             ],
             [
              0.5555555555555556,
              "#d8576b"
             ],
             [
              0.6666666666666666,
              "#ed7953"
             ],
             [
              0.7777777777777778,
              "#fb9f3a"
             ],
             [
              0.8888888888888888,
              "#fdca26"
             ],
             [
              1,
              "#f0f921"
             ]
            ],
            "type": "heatmapgl"
           }
          ],
          "histogram": [
           {
            "marker": {
             "colorbar": {
              "outlinewidth": 0,
              "ticks": ""
             }
            },
            "type": "histogram"
           }
          ],
          "histogram2d": [
           {
            "colorbar": {
             "outlinewidth": 0,
             "ticks": ""
            },
            "colorscale": [
             [
              0,
              "#0d0887"
             ],
             [
              0.1111111111111111,
              "#46039f"
             ],
             [
              0.2222222222222222,
              "#7201a8"
             ],
             [
              0.3333333333333333,
              "#9c179e"
             ],
             [
              0.4444444444444444,
              "#bd3786"
             ],
             [
              0.5555555555555556,
              "#d8576b"
             ],
             [
              0.6666666666666666,
              "#ed7953"
             ],
             [
              0.7777777777777778,
              "#fb9f3a"
             ],
             [
              0.8888888888888888,
              "#fdca26"
             ],
             [
              1,
              "#f0f921"
             ]
            ],
            "type": "histogram2d"
           }
          ],
          "histogram2dcontour": [
           {
            "colorbar": {
             "outlinewidth": 0,
             "ticks": ""
            },
            "colorscale": [
             [
              0,
              "#0d0887"
             ],
             [
              0.1111111111111111,
              "#46039f"
             ],
             [
              0.2222222222222222,
              "#7201a8"
             ],
             [
              0.3333333333333333,
              "#9c179e"
             ],
             [
              0.4444444444444444,
              "#bd3786"
             ],
             [
              0.5555555555555556,
              "#d8576b"
             ],
             [
              0.6666666666666666,
              "#ed7953"
             ],
             [
              0.7777777777777778,
              "#fb9f3a"
             ],
             [
              0.8888888888888888,
              "#fdca26"
             ],
             [
              1,
              "#f0f921"
             ]
            ],
            "type": "histogram2dcontour"
           }
          ],
          "mesh3d": [
           {
            "colorbar": {
             "outlinewidth": 0,
             "ticks": ""
            },
            "type": "mesh3d"
           }
          ],
          "parcoords": [
           {
            "line": {
             "colorbar": {
              "outlinewidth": 0,
              "ticks": ""
             }
            },
            "type": "parcoords"
           }
          ],
          "pie": [
           {
            "automargin": true,
            "type": "pie"
           }
          ],
          "scatter": [
           {
            "marker": {
             "colorbar": {
              "outlinewidth": 0,
              "ticks": ""
             }
            },
            "type": "scatter"
           }
          ],
          "scatter3d": [
           {
            "line": {
             "colorbar": {
              "outlinewidth": 0,
              "ticks": ""
             }
            },
            "marker": {
             "colorbar": {
              "outlinewidth": 0,
              "ticks": ""
             }
            },
            "type": "scatter3d"
           }
          ],
          "scattercarpet": [
           {
            "marker": {
             "colorbar": {
              "outlinewidth": 0,
              "ticks": ""
             }
            },
            "type": "scattercarpet"
           }
          ],
          "scattergeo": [
           {
            "marker": {
             "colorbar": {
              "outlinewidth": 0,
              "ticks": ""
             }
            },
            "type": "scattergeo"
           }
          ],
          "scattergl": [
           {
            "marker": {
             "colorbar": {
              "outlinewidth": 0,
              "ticks": ""
             }
            },
            "type": "scattergl"
           }
          ],
          "scattermapbox": [
           {
            "marker": {
             "colorbar": {
              "outlinewidth": 0,
              "ticks": ""
             }
            },
            "type": "scattermapbox"
           }
          ],
          "scatterpolar": [
           {
            "marker": {
             "colorbar": {
              "outlinewidth": 0,
              "ticks": ""
             }
            },
            "type": "scatterpolar"
           }
          ],
          "scatterpolargl": [
           {
            "marker": {
             "colorbar": {
              "outlinewidth": 0,
              "ticks": ""
             }
            },
            "type": "scatterpolargl"
           }
          ],
          "scatterternary": [
           {
            "marker": {
             "colorbar": {
              "outlinewidth": 0,
              "ticks": ""
             }
            },
            "type": "scatterternary"
           }
          ],
          "surface": [
           {
            "colorbar": {
             "outlinewidth": 0,
             "ticks": ""
            },
            "colorscale": [
             [
              0,
              "#0d0887"
             ],
             [
              0.1111111111111111,
              "#46039f"
             ],
             [
              0.2222222222222222,
              "#7201a8"
             ],
             [
              0.3333333333333333,
              "#9c179e"
             ],
             [
              0.4444444444444444,
              "#bd3786"
             ],
             [
              0.5555555555555556,
              "#d8576b"
             ],
             [
              0.6666666666666666,
              "#ed7953"
             ],
             [
              0.7777777777777778,
              "#fb9f3a"
             ],
             [
              0.8888888888888888,
              "#fdca26"
             ],
             [
              1,
              "#f0f921"
             ]
            ],
            "type": "surface"
           }
          ],
          "table": [
           {
            "cells": {
             "fill": {
              "color": "#EBF0F8"
             },
             "line": {
              "color": "white"
             }
            },
            "header": {
             "fill": {
              "color": "#C8D4E3"
             },
             "line": {
              "color": "white"
             }
            },
            "type": "table"
           }
          ]
         },
         "layout": {
          "annotationdefaults": {
           "arrowcolor": "#2a3f5f",
           "arrowhead": 0,
           "arrowwidth": 1
          },
          "coloraxis": {
           "colorbar": {
            "outlinewidth": 0,
            "ticks": ""
           }
          },
          "colorscale": {
           "diverging": [
            [
             0,
             "#8e0152"
            ],
            [
             0.1,
             "#c51b7d"
            ],
            [
             0.2,
             "#de77ae"
            ],
            [
             0.3,
             "#f1b6da"
            ],
            [
             0.4,
             "#fde0ef"
            ],
            [
             0.5,
             "#f7f7f7"
            ],
            [
             0.6,
             "#e6f5d0"
            ],
            [
             0.7,
             "#b8e186"
            ],
            [
             0.8,
             "#7fbc41"
            ],
            [
             0.9,
             "#4d9221"
            ],
            [
             1,
             "#276419"
            ]
           ],
           "sequential": [
            [
             0,
             "#0d0887"
            ],
            [
             0.1111111111111111,
             "#46039f"
            ],
            [
             0.2222222222222222,
             "#7201a8"
            ],
            [
             0.3333333333333333,
             "#9c179e"
            ],
            [
             0.4444444444444444,
             "#bd3786"
            ],
            [
             0.5555555555555556,
             "#d8576b"
            ],
            [
             0.6666666666666666,
             "#ed7953"
            ],
            [
             0.7777777777777778,
             "#fb9f3a"
            ],
            [
             0.8888888888888888,
             "#fdca26"
            ],
            [
             1,
             "#f0f921"
            ]
           ],
           "sequentialminus": [
            [
             0,
             "#0d0887"
            ],
            [
             0.1111111111111111,
             "#46039f"
            ],
            [
             0.2222222222222222,
             "#7201a8"
            ],
            [
             0.3333333333333333,
             "#9c179e"
            ],
            [
             0.4444444444444444,
             "#bd3786"
            ],
            [
             0.5555555555555556,
             "#d8576b"
            ],
            [
             0.6666666666666666,
             "#ed7953"
            ],
            [
             0.7777777777777778,
             "#fb9f3a"
            ],
            [
             0.8888888888888888,
             "#fdca26"
            ],
            [
             1,
             "#f0f921"
            ]
           ]
          },
          "colorway": [
           "#636efa",
           "#EF553B",
           "#00cc96",
           "#ab63fa",
           "#FFA15A",
           "#19d3f3",
           "#FF6692",
           "#B6E880",
           "#FF97FF",
           "#FECB52"
          ],
          "font": {
           "color": "#2a3f5f"
          },
          "geo": {
           "bgcolor": "white",
           "lakecolor": "white",
           "landcolor": "#E5ECF6",
           "showlakes": true,
           "showland": true,
           "subunitcolor": "white"
          },
          "hoverlabel": {
           "align": "left"
          },
          "hovermode": "closest",
          "mapbox": {
           "style": "light"
          },
          "paper_bgcolor": "white",
          "plot_bgcolor": "#E5ECF6",
          "polar": {
           "angularaxis": {
            "gridcolor": "white",
            "linecolor": "white",
            "ticks": ""
           },
           "bgcolor": "#E5ECF6",
           "radialaxis": {
            "gridcolor": "white",
            "linecolor": "white",
            "ticks": ""
           }
          },
          "scene": {
           "xaxis": {
            "backgroundcolor": "#E5ECF6",
            "gridcolor": "white",
            "gridwidth": 2,
            "linecolor": "white",
            "showbackground": true,
            "ticks": "",
            "zerolinecolor": "white"
           },
           "yaxis": {
            "backgroundcolor": "#E5ECF6",
            "gridcolor": "white",
            "gridwidth": 2,
            "linecolor": "white",
            "showbackground": true,
            "ticks": "",
            "zerolinecolor": "white"
           },
           "zaxis": {
            "backgroundcolor": "#E5ECF6",
            "gridcolor": "white",
            "gridwidth": 2,
            "linecolor": "white",
            "showbackground": true,
            "ticks": "",
            "zerolinecolor": "white"
           }
          },
          "shapedefaults": {
           "line": {
            "color": "#2a3f5f"
           }
          },
          "ternary": {
           "aaxis": {
            "gridcolor": "white",
            "linecolor": "white",
            "ticks": ""
           },
           "baxis": {
            "gridcolor": "white",
            "linecolor": "white",
            "ticks": ""
           },
           "bgcolor": "#E5ECF6",
           "caxis": {
            "gridcolor": "white",
            "linecolor": "white",
            "ticks": ""
           }
          },
          "title": {
           "x": 0.05
          },
          "xaxis": {
           "automargin": true,
           "gridcolor": "white",
           "linecolor": "white",
           "ticks": "",
           "title": {
            "standoff": 15
           },
           "zerolinecolor": "white",
           "zerolinewidth": 2
          },
          "yaxis": {
           "automargin": true,
           "gridcolor": "white",
           "linecolor": "white",
           "ticks": "",
           "title": {
            "standoff": 15
           },
           "zerolinecolor": "white",
           "zerolinewidth": 2
          }
         }
        },
        "width": 1300,
        "xaxis": {
         "anchor": "y",
         "autorange": true,
         "domain": [
          0,
          1
         ],
         "range": [
          "2020-01-09 13:20",
          "2020-09-14 10:40"
         ],
         "showspikes": false,
         "type": "date"
        },
        "yaxis": {
         "anchor": "x",
         "autorange": true,
         "categoryarray": [
          "Others",
          "Zimbabwe",
          "Zambia",
          "Yemen",
          "Western Sahara",
          "West Bank and Gaza",
          "Vietnam",
          "Viet Nam",
          "Venezuela",
          "Vatican City",
          "Holy See",
          "Uzbekistan",
          "Uruguay",
          "United Kingdom",
          "UK",
          "United Arab Emirates",
          "Ukraine",
          "Uganda",
          "US",
          "Turkey",
          "Tunisia",
          "Trinidad and Tobago",
          "Togo",
          "Timor-Leste",
          "East Timor",
          "Thailand",
          "Tanzania",
          "Tajikistan",
          "Taiwan*",
          "Taiwan",
          "Taipei and environs",
          "Syria",
          "Switzerland",
          "Sweden",
          "Suriname",
          "Sudan",
          "Sri Lanka",
          "Spain",
          "South Sudan",
          "South Africa",
          "Somalia",
          "Slovenia",
          "Slovakia",
          "Singapore",
          "Sierra Leone",
          "Seychelles",
          "Serbia",
          "Senegal",
          "Saudi Arabia",
          "Sao Tome and Principe",
          "San Marino",
          "Saint Vincent and the Grenadines",
          "St. Martin",
          "Saint Martin",
          "Saint Lucia",
          "Saint Kitts and Nevis",
          "Saint Barthelemy",
          "Rwanda",
          "Russian Federation",
          "Russia",
          "Romania",
          "Reunion",
          "Qatar",
          "Puerto Rico",
          "Portugal",
          "Poland",
          "Philippines",
          "Peru",
          "Paraguay",
          "Papua New Guinea",
          "Panama",
          "occupied Palestinian territory",
          "Palestine",
          "Pakistan",
          "Oman",
          "Norway",
          "North Macedonia",
          "North Ireland",
          "Nigeria",
          "Niger",
          "Nicaragua",
          "New Zealand",
          "Netherlands",
          "Nepal",
          "Namibia",
          "Mozambique",
          "Morocco",
          "Montenegro",
          "Mongolia",
          "Monaco",
          "Republic of Moldova",
          "Moldova",
          "Mexico",
          "Mayotte",
          "Mauritius",
          "Mauritania",
          "Martinique",
          "Malta",
          "Mali",
          "Maldives",
          "Malaysia",
          "Malawi",
          "Madagascar",
          "Macau",
          "Macao SAR",
          "MS Zaandam",
          "Luxembourg",
          "Lithuania",
          "Liechtenstein",
          "Libya",
          "Liberia",
          "Lesotho",
          "Lebanon",
          "Latvia",
          "Laos",
          "Kyrgyzstan",
          "Kuwait",
          "Kosovo",
          "South Korea",
          "Republic of Korea",
          "Korea, South",
          "Kenya",
          "Kazakhstan",
          "Jordan",
          "Japan",
          "Jamaica",
          "Ivory Coast",
          "Italy",
          "Israel",
          "Republic of Ireland",
          "Ireland",
          "Iraq",
          "Iran (Islamic Republic of)",
          "Iran",
          "Indonesia",
          "India",
          "Iceland",
          "Hungary",
          "Hong Kong",
          "Hong Kong SAR",
          "Honduras",
          "Haiti",
          "Guyana",
          "Guinea-Bissau",
          "Guinea",
          "Guatemala",
          "Guam",
          "Guadeloupe",
          "Grenada",
          "Greenland",
          "Greece",
          "Gibraltar",
          "Ghana",
          "Germany",
          "Georgia",
          "The Gambia",
          "Gambia, The",
          "Gambia",
          "Gabon",
          "French Guiana",
          "France",
          "Finland",
          "Fiji",
          "Faroe Islands",
          "Ethiopia",
          "Eswatini",
          "Estonia",
          "Eritrea",
          "Equatorial Guinea",
          "El Salvador",
          "Egypt",
          "Ecuador",
          "Dominican Republic",
          "Dominica",
          "Djibouti",
          "Diamond Princess",
          "Cruise Ship",
          "Denmark",
          "Czechia",
          "Czech Republic",
          "Cyprus",
          "Curacao",
          "Cuba",
          "Croatia",
          "Cote d'Ivoire",
          "Costa Rica",
          "Republic of the Congo",
          "Congo (Kinshasa)",
          "Congo (Brazzaville)",
          "Comoros",
          "Colombia",
          "Mainland China",
          "China",
          "Chile",
          "Jersey",
          "Guernsey",
          "Channel Islands",
          "Chad",
          "Central African Republic",
          "Cayman Islands",
          "Cape Verde",
          "Canada",
          "Cameroon",
          "Cambodia",
          "Cabo Verde",
          "Burundi",
          "Burma",
          "Burkina Faso",
          "Bulgaria",
          "Brunei",
          "Brazil",
          "Botswana",
          "Bosnia and Herzegovina",
          "Bolivia",
          "Bhutan",
          "Benin",
          "Belize",
          "Belgium",
          "Belarus",
          "Barbados",
          "Bangladesh",
          "Bahrain",
          "The Bahamas",
          "Bahamas, The",
          "Bahamas",
          "Azerbaijan",
          " Azerbaijan",
          "Austria",
          "Australia",
          "Aruba",
          "Armenia",
          "Argentina",
          "Antigua and Barbuda",
          "Angola",
          "Andorra",
          "Algeria",
          "Albania",
          "Afghanistan"
         ],
         "categoryorder": "array",
         "domain": [
          0,
          1
         ],
         "range": [
          -0.5,
          237.5
         ],
         "showspikes": false,
         "title": {
          "text": "Resource"
         },
         "type": "category"
        }
       }
      },
      "image/png": "[encoded data removed]",
      "text/html": [
       "<div>\n",
       "        \n",
       "        \n",
       "            <div id=\"2d7e6852-285d-4ed9-8096-3c7dfdba6d99\" class=\"plotly-graph-div\" style=\"height:2000px; width:1300px;\"></div>\n",
       "            <script type=\"text/javascript\">\n",
       "                require([\"plotly\"], function(Plotly) {\n",
       "                    window.PLOTLYENV=window.PLOTLYENV || {};\n",
       "                    \n",
       "                if (document.getElementById(\"2d7e6852-285d-4ed9-8096-3c7dfdba6d99\")) {\n",
       "                    Plotly.newPlot(\n",
       "                        '2d7e6852-285d-4ed9-8096-3c7dfdba6d99',\n",
       "                        [{\"alignmentgroup\": \"True\", \"base\": [\"2020-02-24\"], \"hovertemplate\": \"Resource=%{y}<br>Start=%{base}<br>Finish=%{x}<extra></extra>\", \"legendgroup\": \"Afghanistan\", \"marker\": {\"color\": \"#636efa\"}, \"name\": \"Afghanistan\", \"offsetgroup\": \"Afghanistan\", \"orientation\": \"h\", \"showlegend\": true, \"textposition\": \"auto\", \"type\": \"bar\", \"x\": [16502400000.0], \"xaxis\": \"x\", \"y\": [\"Afghanistan\"], \"yaxis\": \"y\"}, {\"alignmentgroup\": \"True\", \"base\": [\"2020-03-09\"], \"hovertemplate\": \"Resource=%{y}<br>Start=%{base}<br>Finish=%{x}<extra></extra>\", \"legendgroup\": \"Albania\", \"marker\": {\"color\": \"#EF553B\"}, \"name\": \"Albania\", \"offsetgroup\": \"Albania\", \"orientation\": \"h\", \"showlegend\": true, \"textposition\": \"auto\", \"type\": \"bar\", \"x\": [15292800000.0], \"xaxis\": \"x\", \"y\": [\"Albania\"], \"yaxis\": \"y\"}, {\"alignmentgroup\": \"True\", \"base\": [\"2020-02-25\"], \"hovertemplate\": \"Resource=%{y}<br>Start=%{base}<br>Finish=%{x}<extra></extra>\", \"legendgroup\": \"Algeria\", \"marker\": {\"color\": \"#00cc96\"}, \"name\": \"Algeria\", \"offsetgroup\": \"Algeria\", \"orientation\": \"h\", \"showlegend\": true, \"textposition\": \"auto\", \"type\": \"bar\", \"x\": [16416000000.0], \"xaxis\": \"x\", \"y\": [\"Algeria\"], \"yaxis\": \"y\"}, {\"alignmentgroup\": \"True\", \"base\": [\"2020-03-02\"], \"hovertemplate\": \"Resource=%{y}<br>Start=%{base}<br>Finish=%{x}<extra></extra>\", \"legendgroup\": \"Andorra\", \"marker\": {\"color\": \"#ab63fa\"}, \"name\": \"Andorra\", \"offsetgroup\": \"Andorra\", \"orientation\": \"h\", \"showlegend\": true, \"textposition\": \"auto\", \"type\": \"bar\", \"x\": [15897600000.0], \"xaxis\": \"x\", \"y\": [\"Andorra\"], \"yaxis\": \"y\"}, {\"alignmentgroup\": \"True\", \"base\": [\"2020-03-20\"], \"hovertemplate\": \"Resource=%{y}<br>Start=%{base}<br>Finish=%{x}<extra></extra>\", \"legendgroup\": \"Angola\", \"marker\": {\"color\": \"#FFA15A\"}, \"name\": \"Angola\", \"offsetgroup\": \"Angola\", \"orientation\": \"h\", \"showlegend\": true, \"textposition\": \"auto\", \"type\": \"bar\", \"x\": [14342400000.0], \"xaxis\": \"x\", \"y\": [\"Angola\"], \"yaxis\": \"y\"}, {\"alignmentgroup\": \"True\", \"base\": [\"2020-03-11\"], \"hovertemplate\": \"Resource=%{y}<br>Start=%{base}<br>Finish=%{x}<extra></extra>\", \"legendgroup\": \"Antigua and Barbuda\", \"marker\": {\"color\": \"#19d3f3\"}, \"name\": \"Antigua and Barbuda\", \"offsetgroup\": \"Antigua and Barbuda\", \"orientation\": \"h\", \"showlegend\": true, \"textposition\": \"auto\", \"type\": \"bar\", \"x\": [15120000000.0], \"xaxis\": \"x\", \"y\": [\"Antigua and Barbuda\"], \"yaxis\": \"y\"}, {\"alignmentgroup\": \"True\", \"base\": [\"2020-03-03\"], \"hovertemplate\": \"Resource=%{y}<br>Start=%{base}<br>Finish=%{x}<extra></extra>\", \"legendgroup\": \"Argentina\", \"marker\": {\"color\": \"#FF6692\"}, \"name\": \"Argentina\", \"offsetgroup\": \"Argentina\", \"orientation\": \"h\", \"showlegend\": true, \"textposition\": \"auto\", \"type\": \"bar\", \"x\": [15811200000.0], \"xaxis\": \"x\", \"y\": [\"Argentina\"], \"yaxis\": \"y\"}, {\"alignmentgroup\": \"True\", \"base\": [\"2020-03-01\"], \"hovertemplate\": \"Resource=%{y}<br>Start=%{base}<br>Finish=%{x}<extra></extra>\", \"legendgroup\": \"Armenia\", \"marker\": {\"color\": \"#B6E880\"}, \"name\": \"Armenia\", \"offsetgroup\": \"Armenia\", \"orientation\": \"h\", \"showlegend\": true, \"textposition\": \"auto\", \"type\": \"bar\", \"x\": [15984000000.0], \"xaxis\": \"x\", \"y\": [\"Armenia\"], \"yaxis\": \"y\"}, {\"alignmentgroup\": \"True\", \"base\": [\"2020-03-11\"], \"hovertemplate\": \"Resource=%{y}<br>Start=%{base}<br>Finish=%{x}<extra></extra>\", \"legendgroup\": \"Aruba\", \"marker\": {\"color\": \"#FF97FF\"}, \"name\": \"Aruba\", \"offsetgroup\": \"Aruba\", \"orientation\": \"h\", \"showlegend\": true, \"textposition\": \"auto\", \"type\": \"bar\", \"x\": [604800000.0], \"xaxis\": \"x\", \"y\": [\"Aruba\"], \"yaxis\": \"y\"}, {\"alignmentgroup\": \"True\", \"base\": [\"2020-01-23\"], \"hovertemplate\": \"Resource=%{y}<br>Start=%{base}<br>Finish=%{x}<extra></extra>\", \"legendgroup\": \"Australia\", \"marker\": {\"color\": \"#FECB52\"}, \"name\": \"Australia\", \"offsetgroup\": \"Australia\", \"orientation\": \"h\", \"showlegend\": true, \"textposition\": \"auto\", \"type\": \"bar\", \"x\": [19267200000.0], \"xaxis\": \"x\", \"y\": [\"Australia\"], \"yaxis\": \"y\"}, {\"alignmentgroup\": \"True\", \"base\": [\"2020-02-25\"], \"hovertemplate\": \"Resource=%{y}<br>Start=%{base}<br>Finish=%{x}<extra></extra>\", \"legendgroup\": \"Austria\", \"marker\": {\"color\": \"#636efa\"}, \"name\": \"Austria\", \"offsetgroup\": \"Austria\", \"orientation\": \"h\", \"showlegend\": true, \"textposition\": \"auto\", \"type\": \"bar\", \"x\": [16416000000.0], \"xaxis\": \"x\", \"y\": [\"Austria\"], \"yaxis\": \"y\"}, {\"alignmentgroup\": \"True\", \"base\": [\"2020-02-28\"], \"hovertemplate\": \"Resource=%{y}<br>Start=%{base}<br>Finish=%{x}<extra></extra>\", \"legendgroup\": \" Azerbaijan\", \"marker\": {\"color\": \"#EF553B\"}, \"name\": \" Azerbaijan\", \"offsetgroup\": \" Azerbaijan\", \"orientation\": \"h\", \"showlegend\": true, \"textposition\": \"auto\", \"type\": \"bar\", \"x\": [0.0], \"xaxis\": \"x\", \"y\": [\" Azerbaijan\"], \"yaxis\": \"y\"}, {\"alignmentgroup\": \"True\", \"base\": [\"2020-03-01\"], \"hovertemplate\": \"Resource=%{y}<br>Start=%{base}<br>Finish=%{x}<extra></extra>\", \"legendgroup\": \"Azerbaijan\", \"marker\": {\"color\": \"#00cc96\"}, \"name\": \"Azerbaijan\", \"offsetgroup\": \"Azerbaijan\", \"orientation\": \"h\", \"showlegend\": true, \"textposition\": \"auto\", \"type\": \"bar\", \"x\": [15984000000.0], \"xaxis\": \"x\", \"y\": [\"Azerbaijan\"], \"yaxis\": \"y\"}, {\"alignmentgroup\": \"True\", \"base\": [\"2020-03-22\"], \"hovertemplate\": \"Resource=%{y}<br>Start=%{base}<br>Finish=%{x}<extra></extra>\", \"legendgroup\": \"Bahamas\", \"marker\": {\"color\": \"#ab63fa\"}, \"name\": \"Bahamas\", \"offsetgroup\": \"Bahamas\", \"orientation\": \"h\", \"showlegend\": true, \"textposition\": \"auto\", \"type\": \"bar\", \"x\": [14169600000.0], \"xaxis\": \"x\", \"y\": [\"Bahamas\"], \"yaxis\": \"y\"}, {\"alignmentgroup\": \"True\", \"base\": [\"2020-03-19\"], \"hovertemplate\": \"Resource=%{y}<br>Start=%{base}<br>Finish=%{x}<extra></extra>\", \"legendgroup\": \"Bahamas, The\", \"marker\": {\"color\": \"#FFA15A\"}, \"name\": \"Bahamas, The\", \"offsetgroup\": \"Bahamas, The\", \"orientation\": \"h\", \"showlegend\": true, \"textposition\": \"auto\", \"type\": \"bar\", \"x\": [172800000.0], \"xaxis\": \"x\", \"y\": [\"Bahamas, The\"], \"yaxis\": \"y\"}, {\"alignmentgroup\": \"True\", \"base\": [\"2020-03-16\"], \"hovertemplate\": \"Resource=%{y}<br>Start=%{base}<br>Finish=%{x}<extra></extra>\", \"legendgroup\": \"The Bahamas\", \"marker\": {\"color\": \"#19d3f3\"}, \"name\": \"The Bahamas\", \"offsetgroup\": \"The Bahamas\", \"orientation\": \"h\", \"showlegend\": true, \"textposition\": \"auto\", \"type\": \"bar\", \"x\": [259200000.0], \"xaxis\": \"x\", \"y\": [\"The Bahamas\"], \"yaxis\": \"y\"}, {\"alignmentgroup\": \"True\", \"base\": [\"2020-02-24\"], \"hovertemplate\": \"Resource=%{y}<br>Start=%{base}<br>Finish=%{x}<extra></extra>\", \"legendgroup\": \"Bahrain\", \"marker\": {\"color\": \"#FF6692\"}, \"name\": \"Bahrain\", \"offsetgroup\": \"Bahrain\", \"orientation\": \"h\", \"showlegend\": true, \"textposition\": \"auto\", \"type\": \"bar\", \"x\": [16502400000.0], \"xaxis\": \"x\", \"y\": [\"Bahrain\"], \"yaxis\": \"y\"}, {\"alignmentgroup\": \"True\", \"base\": [\"2020-03-08\"], \"hovertemplate\": \"Resource=%{y}<br>Start=%{base}<br>Finish=%{x}<extra></extra>\", \"legendgroup\": \"Bangladesh\", \"marker\": {\"color\": \"#B6E880\"}, \"name\": \"Bangladesh\", \"offsetgroup\": \"Bangladesh\", \"orientation\": \"h\", \"showlegend\": true, \"textposition\": \"auto\", \"type\": \"bar\", \"x\": [15379200000.0], \"xaxis\": \"x\", \"y\": [\"Bangladesh\"], \"yaxis\": \"y\"}, {\"alignmentgroup\": \"True\", \"base\": [\"2020-03-17\"], \"hovertemplate\": \"Resource=%{y}<br>Start=%{base}<br>Finish=%{x}<extra></extra>\", \"legendgroup\": \"Barbados\", \"marker\": {\"color\": \"#FF97FF\"}, \"name\": \"Barbados\", \"offsetgroup\": \"Barbados\", \"orientation\": \"h\", \"showlegend\": true, \"textposition\": \"auto\", \"type\": \"bar\", \"x\": [14601600000.0], \"xaxis\": \"x\", \"y\": [\"Barbados\"], \"yaxis\": \"y\"}, {\"alignmentgroup\": \"True\", \"base\": [\"2020-02-28\"], \"hovertemplate\": \"Resource=%{y}<br>Start=%{base}<br>Finish=%{x}<extra></extra>\", \"legendgroup\": \"Belarus\", \"marker\": {\"color\": \"#FECB52\"}, \"name\": \"Belarus\", \"offsetgroup\": \"Belarus\", \"orientation\": \"h\", \"showlegend\": true, \"textposition\": \"auto\", \"type\": \"bar\", \"x\": [16156800000.0], \"xaxis\": \"x\", \"y\": [\"Belarus\"], \"yaxis\": \"y\"}, {\"alignmentgroup\": \"True\", \"base\": [\"2020-02-04\"], \"hovertemplate\": \"Resource=%{y}<br>Start=%{base}<br>Finish=%{x}<extra></extra>\", \"legendgroup\": \"Belgium\", \"marker\": {\"color\": \"#636efa\"}, \"name\": \"Belgium\", \"offsetgroup\": \"Belgium\", \"orientation\": \"h\", \"showlegend\": true, \"textposition\": \"auto\", \"type\": \"bar\", \"x\": [18230400000.0], \"xaxis\": \"x\", \"y\": [\"Belgium\"], \"yaxis\": \"y\"}, {\"alignmentgroup\": \"True\", \"base\": [\"2020-03-23\"], \"hovertemplate\": \"Resource=%{y}<br>Start=%{base}<br>Finish=%{x}<extra></extra>\", \"legendgroup\": \"Belize\", \"marker\": {\"color\": \"#EF553B\"}, \"name\": \"Belize\", \"offsetgroup\": \"Belize\", \"orientation\": \"h\", \"showlegend\": true, \"textposition\": \"auto\", \"type\": \"bar\", \"x\": [14083200000.0], \"xaxis\": \"x\", \"y\": [\"Belize\"], \"yaxis\": \"y\"}, {\"alignmentgroup\": \"True\", \"base\": [\"2020-03-16\"], \"hovertemplate\": \"Resource=%{y}<br>Start=%{base}<br>Finish=%{x}<extra></extra>\", \"legendgroup\": \"Benin\", \"marker\": {\"color\": \"#00cc96\"}, \"name\": \"Benin\", \"offsetgroup\": \"Benin\", \"orientation\": \"h\", \"showlegend\": true, \"textposition\": \"auto\", \"type\": \"bar\", \"x\": [14688000000.0], \"xaxis\": \"x\", \"y\": [\"Benin\"], \"yaxis\": \"y\"}, {\"alignmentgroup\": \"True\", \"base\": [\"2020-03-06\"], \"hovertemplate\": \"Resource=%{y}<br>Start=%{base}<br>Finish=%{x}<extra></extra>\", \"legendgroup\": \"Bhutan\", \"marker\": {\"color\": \"#ab63fa\"}, \"name\": \"Bhutan\", \"offsetgroup\": \"Bhutan\", \"orientation\": \"h\", \"showlegend\": true, \"textposition\": \"auto\", \"type\": \"bar\", \"x\": [15552000000.0], \"xaxis\": \"x\", \"y\": [\"Bhutan\"], \"yaxis\": \"y\"}, {\"alignmentgroup\": \"True\", \"base\": [\"2020-03-11\"], \"hovertemplate\": \"Resource=%{y}<br>Start=%{base}<br>Finish=%{x}<extra></extra>\", \"legendgroup\": \"Bolivia\", \"marker\": {\"color\": \"#FFA15A\"}, \"name\": \"Bolivia\", \"offsetgroup\": \"Bolivia\", \"orientation\": \"h\", \"showlegend\": true, \"textposition\": \"auto\", \"type\": \"bar\", \"x\": [15120000000.0], \"xaxis\": \"x\", \"y\": [\"Bolivia\"], \"yaxis\": \"y\"}, {\"alignmentgroup\": \"True\", \"base\": [\"2020-03-05\"], \"hovertemplate\": \"Resource=%{y}<br>Start=%{base}<br>Finish=%{x}<extra></extra>\", \"legendgroup\": \"Bosnia and Herzegovina\", \"marker\": {\"color\": \"#19d3f3\"}, \"name\": \"Bosnia and Herzegovina\", \"offsetgroup\": \"Bosnia and Herzegovina\", \"orientation\": \"h\", \"showlegend\": true, \"textposition\": \"auto\", \"type\": \"bar\", \"x\": [15638400000.0], \"xaxis\": \"x\", \"y\": [\"Bosnia and Herzegovina\"], \"yaxis\": \"y\"}, {\"alignmentgroup\": \"True\", \"base\": [\"2020-03-30\"], \"hovertemplate\": \"Resource=%{y}<br>Start=%{base}<br>Finish=%{x}<extra></extra>\", \"legendgroup\": \"Botswana\", \"marker\": {\"color\": \"#FF6692\"}, \"name\": \"Botswana\", \"offsetgroup\": \"Botswana\", \"orientation\": \"h\", \"showlegend\": true, \"textposition\": \"auto\", \"type\": \"bar\", \"x\": [13478400000.0], \"xaxis\": \"x\", \"y\": [\"Botswana\"], \"yaxis\": \"y\"}, {\"alignmentgroup\": \"True\", \"base\": [\"2020-01-23\"], \"hovertemplate\": \"Resource=%{y}<br>Start=%{base}<br>Finish=%{x}<extra></extra>\", \"legendgroup\": \"Brazil\", \"marker\": {\"color\": \"#B6E880\"}, \"name\": \"Brazil\", \"offsetgroup\": \"Brazil\", \"orientation\": \"h\", \"showlegend\": true, \"textposition\": \"auto\", \"type\": \"bar\", \"x\": [19267200000.0], \"xaxis\": \"x\", \"y\": [\"Brazil\"], \"yaxis\": \"y\"}, {\"alignmentgroup\": \"True\", \"base\": [\"2020-03-09\"], \"hovertemplate\": \"Resource=%{y}<br>Start=%{base}<br>Finish=%{x}<extra></extra>\", \"legendgroup\": \"Brunei\", \"marker\": {\"color\": \"#FF97FF\"}, \"name\": \"Brunei\", \"offsetgroup\": \"Brunei\", \"orientation\": \"h\", \"showlegend\": true, \"textposition\": \"auto\", \"type\": \"bar\", \"x\": [15292800000.0], \"xaxis\": \"x\", \"y\": [\"Brunei\"], \"yaxis\": \"y\"}, {\"alignmentgroup\": \"True\", \"base\": [\"2020-03-08\"], \"hovertemplate\": \"Resource=%{y}<br>Start=%{base}<br>Finish=%{x}<extra></extra>\", \"legendgroup\": \"Bulgaria\", \"marker\": {\"color\": \"#FECB52\"}, \"name\": \"Bulgaria\", \"offsetgroup\": \"Bulgaria\", \"orientation\": \"h\", \"showlegend\": true, \"textposition\": \"auto\", \"type\": \"bar\", \"x\": [15379200000.0], \"xaxis\": \"x\", \"y\": [\"Bulgaria\"], \"yaxis\": \"y\"}, {\"alignmentgroup\": \"True\", \"base\": [\"2020-03-10\"], \"hovertemplate\": \"Resource=%{y}<br>Start=%{base}<br>Finish=%{x}<extra></extra>\", \"legendgroup\": \"Burkina Faso\", \"marker\": {\"color\": \"#636efa\"}, \"name\": \"Burkina Faso\", \"offsetgroup\": \"Burkina Faso\", \"orientation\": \"h\", \"showlegend\": true, \"textposition\": \"auto\", \"type\": \"bar\", \"x\": [15206400000.0], \"xaxis\": \"x\", \"y\": [\"Burkina Faso\"], \"yaxis\": \"y\"}, {\"alignmentgroup\": \"True\", \"base\": [\"2020-03-27\"], \"hovertemplate\": \"Resource=%{y}<br>Start=%{base}<br>Finish=%{x}<extra></extra>\", \"legendgroup\": \"Burma\", \"marker\": {\"color\": \"#EF553B\"}, \"name\": \"Burma\", \"offsetgroup\": \"Burma\", \"orientation\": \"h\", \"showlegend\": true, \"textposition\": \"auto\", \"type\": \"bar\", \"x\": [13737600000.0], \"xaxis\": \"x\", \"y\": [\"Burma\"], \"yaxis\": \"y\"}, {\"alignmentgroup\": \"True\", \"base\": [\"2020-03-31\"], \"hovertemplate\": \"Resource=%{y}<br>Start=%{base}<br>Finish=%{x}<extra></extra>\", \"legendgroup\": \"Burundi\", \"marker\": {\"color\": \"#00cc96\"}, \"name\": \"Burundi\", \"offsetgroup\": \"Burundi\", \"orientation\": \"h\", \"showlegend\": true, \"textposition\": \"auto\", \"type\": \"bar\", \"x\": [13392000000.0], \"xaxis\": \"x\", \"y\": [\"Burundi\"], \"yaxis\": \"y\"}, {\"alignmentgroup\": \"True\", \"base\": [\"2020-03-20\"], \"hovertemplate\": \"Resource=%{y}<br>Start=%{base}<br>Finish=%{x}<extra></extra>\", \"legendgroup\": \"Cabo Verde\", \"marker\": {\"color\": \"#ab63fa\"}, \"name\": \"Cabo Verde\", \"offsetgroup\": \"Cabo Verde\", \"orientation\": \"h\", \"showlegend\": true, \"textposition\": \"auto\", \"type\": \"bar\", \"x\": [14342400000.0], \"xaxis\": \"x\", \"y\": [\"Cabo Verde\"], \"yaxis\": \"y\"}, {\"alignmentgroup\": \"True\", \"base\": [\"2020-01-27\"], \"hovertemplate\": \"Resource=%{y}<br>Start=%{base}<br>Finish=%{x}<extra></extra>\", \"legendgroup\": \"Cambodia\", \"marker\": {\"color\": \"#FFA15A\"}, \"name\": \"Cambodia\", \"offsetgroup\": \"Cambodia\", \"orientation\": \"h\", \"showlegend\": true, \"textposition\": \"auto\", \"type\": \"bar\", \"x\": [18921600000.0], \"xaxis\": \"x\", \"y\": [\"Cambodia\"], \"yaxis\": \"y\"}, {\"alignmentgroup\": \"True\", \"base\": [\"2020-03-06\"], \"hovertemplate\": \"Resource=%{y}<br>Start=%{base}<br>Finish=%{x}<extra></extra>\", \"legendgroup\": \"Cameroon\", \"marker\": {\"color\": \"#19d3f3\"}, \"name\": \"Cameroon\", \"offsetgroup\": \"Cameroon\", \"orientation\": \"h\", \"showlegend\": true, \"textposition\": \"auto\", \"type\": \"bar\", \"x\": [15552000000.0], \"xaxis\": \"x\", \"y\": [\"Cameroon\"], \"yaxis\": \"y\"}, {\"alignmentgroup\": \"True\", \"base\": [\"2020-01-26\"], \"hovertemplate\": \"Resource=%{y}<br>Start=%{base}<br>Finish=%{x}<extra></extra>\", \"legendgroup\": \"Canada\", \"marker\": {\"color\": \"#FF6692\"}, \"name\": \"Canada\", \"offsetgroup\": \"Canada\", \"orientation\": \"h\", \"showlegend\": true, \"textposition\": \"auto\", \"type\": \"bar\", \"x\": [19008000000.0], \"xaxis\": \"x\", \"y\": [\"Canada\"], \"yaxis\": \"y\"}, {\"alignmentgroup\": \"True\", \"base\": [\"2020-03-21\"], \"hovertemplate\": \"Resource=%{y}<br>Start=%{base}<br>Finish=%{x}<extra></extra>\", \"legendgroup\": \"Cape Verde\", \"marker\": {\"color\": \"#B6E880\"}, \"name\": \"Cape Verde\", \"offsetgroup\": \"Cape Verde\", \"orientation\": \"h\", \"showlegend\": true, \"textposition\": \"auto\", \"type\": \"bar\", \"x\": [0.0], \"xaxis\": \"x\", \"y\": [\"Cape Verde\"], \"yaxis\": \"y\"}, {\"alignmentgroup\": \"True\", \"base\": [\"2020-03-11\"], \"hovertemplate\": \"Resource=%{y}<br>Start=%{base}<br>Finish=%{x}<extra></extra>\", \"legendgroup\": \"Cayman Islands\", \"marker\": {\"color\": \"#FF97FF\"}, \"name\": \"Cayman Islands\", \"offsetgroup\": \"Cayman Islands\", \"orientation\": \"h\", \"showlegend\": true, \"textposition\": \"auto\", \"type\": \"bar\", \"x\": [172800000.0], \"xaxis\": \"x\", \"y\": [\"Cayman Islands\"], \"yaxis\": \"y\"}, {\"alignmentgroup\": \"True\", \"base\": [\"2020-03-15\"], \"hovertemplate\": \"Resource=%{y}<br>Start=%{base}<br>Finish=%{x}<extra></extra>\", \"legendgroup\": \"Central African Republic\", \"marker\": {\"color\": \"#FECB52\"}, \"name\": \"Central African Republic\", \"offsetgroup\": \"Central African Republic\", \"orientation\": \"h\", \"showlegend\": true, \"textposition\": \"auto\", \"type\": \"bar\", \"x\": [14774400000.0], \"xaxis\": \"x\", \"y\": [\"Central African Republic\"], \"yaxis\": \"y\"}, {\"alignmentgroup\": \"True\", \"base\": [\"2020-03-19\"], \"hovertemplate\": \"Resource=%{y}<br>Start=%{base}<br>Finish=%{x}<extra></extra>\", \"legendgroup\": \"Chad\", \"marker\": {\"color\": \"#636efa\"}, \"name\": \"Chad\", \"offsetgroup\": \"Chad\", \"orientation\": \"h\", \"showlegend\": true, \"textposition\": \"auto\", \"type\": \"bar\", \"x\": [14428800000.0], \"xaxis\": \"x\", \"y\": [\"Chad\"], \"yaxis\": \"y\"}, {\"alignmentgroup\": \"True\", \"base\": [\"2020-03-10\"], \"hovertemplate\": \"Resource=%{y}<br>Start=%{base}<br>Finish=%{x}<extra></extra>\", \"legendgroup\": \"Channel Islands\", \"marker\": {\"color\": \"#EF553B\"}, \"name\": \"Channel Islands\", \"offsetgroup\": \"Channel Islands\", \"orientation\": \"h\", \"showlegend\": true, \"textposition\": \"auto\", \"type\": \"bar\", \"x\": [0.0], \"xaxis\": \"x\", \"y\": [\"Channel Islands\"], \"yaxis\": \"y\"}, {\"alignmentgroup\": \"True\", \"base\": [\"2020-03-13\"], \"hovertemplate\": \"Resource=%{y}<br>Start=%{base}<br>Finish=%{x}<extra></extra>\", \"legendgroup\": \"Guernsey\", \"marker\": {\"color\": \"#00cc96\"}, \"name\": \"Guernsey\", \"offsetgroup\": \"Guernsey\", \"orientation\": \"h\", \"showlegend\": true, \"textposition\": \"auto\", \"type\": \"bar\", \"x\": [345600000.0], \"xaxis\": \"x\", \"y\": [\"Guernsey\"], \"yaxis\": \"y\"}, {\"alignmentgroup\": \"True\", \"base\": [\"2020-03-14\"], \"hovertemplate\": \"Resource=%{y}<br>Start=%{base}<br>Finish=%{x}<extra></extra>\", \"legendgroup\": \"Jersey\", \"marker\": {\"color\": \"#ab63fa\"}, \"name\": \"Jersey\", \"offsetgroup\": \"Jersey\", \"orientation\": \"h\", \"showlegend\": true, \"textposition\": \"auto\", \"type\": \"bar\", \"x\": [259200000.0], \"xaxis\": \"x\", \"y\": [\"Jersey\"], \"yaxis\": \"y\"}, {\"alignmentgroup\": \"True\", \"base\": [\"2020-03-03\"], \"hovertemplate\": \"Resource=%{y}<br>Start=%{base}<br>Finish=%{x}<extra></extra>\", \"legendgroup\": \"Chile\", \"marker\": {\"color\": \"#FFA15A\"}, \"name\": \"Chile\", \"offsetgroup\": \"Chile\", \"orientation\": \"h\", \"showlegend\": true, \"textposition\": \"auto\", \"type\": \"bar\", \"x\": [15811200000.0], \"xaxis\": \"x\", \"y\": [\"Chile\"], \"yaxis\": \"y\"}, {\"alignmentgroup\": \"True\", \"base\": [\"2020-03-11\"], \"hovertemplate\": \"Resource=%{y}<br>Start=%{base}<br>Finish=%{x}<extra></extra>\", \"legendgroup\": \"China\", \"marker\": {\"color\": \"#19d3f3\"}, \"name\": \"China\", \"offsetgroup\": \"China\", \"orientation\": \"h\", \"showlegend\": true, \"textposition\": \"auto\", \"type\": \"bar\", \"x\": [15120000000.0], \"xaxis\": \"x\", \"y\": [\"China\"], \"yaxis\": \"y\"}, {\"alignmentgroup\": \"True\", \"base\": [\"2020-01-22\"], \"hovertemplate\": \"Resource=%{y}<br>Start=%{base}<br>Finish=%{x}<extra></extra>\", \"legendgroup\": \"Mainland China\", \"marker\": {\"color\": \"#FF6692\"}, \"name\": \"Mainland China\", \"offsetgroup\": \"Mainland China\", \"orientation\": \"h\", \"showlegend\": true, \"textposition\": \"auto\", \"type\": \"bar\", \"x\": [4233600000.0], \"xaxis\": \"x\", \"y\": [\"Mainland China\"], \"yaxis\": \"y\"}, {\"alignmentgroup\": \"True\", \"base\": [\"2020-01-23\"], \"hovertemplate\": \"Resource=%{y}<br>Start=%{base}<br>Finish=%{x}<extra></extra>\", \"legendgroup\": \"Colombia\", \"marker\": {\"color\": \"#B6E880\"}, \"name\": \"Colombia\", \"offsetgroup\": \"Colombia\", \"orientation\": \"h\", \"showlegend\": true, \"textposition\": \"auto\", \"type\": \"bar\", \"x\": [19267200000.0], \"xaxis\": \"x\", \"y\": [\"Colombia\"], \"yaxis\": \"y\"}, {\"alignmentgroup\": \"True\", \"base\": [\"2020-05-01\"], \"hovertemplate\": \"Resource=%{y}<br>Start=%{base}<br>Finish=%{x}<extra></extra>\", \"legendgroup\": \"Comoros\", \"marker\": {\"color\": \"#FF97FF\"}, \"name\": \"Comoros\", \"offsetgroup\": \"Comoros\", \"orientation\": \"h\", \"showlegend\": true, \"textposition\": \"auto\", \"type\": \"bar\", \"x\": [10713600000.0], \"xaxis\": \"x\", \"y\": [\"Comoros\"], \"yaxis\": \"y\"}, {\"alignmentgroup\": \"True\", \"base\": [\"2020-03-15\"], \"hovertemplate\": \"Resource=%{y}<br>Start=%{base}<br>Finish=%{x}<extra></extra>\", \"legendgroup\": \"Congo (Brazzaville)\", \"marker\": {\"color\": \"#FECB52\"}, \"name\": \"Congo (Brazzaville)\", \"offsetgroup\": \"Congo (Brazzaville)\", \"orientation\": \"h\", \"showlegend\": true, \"textposition\": \"auto\", \"type\": \"bar\", \"x\": [14774400000.0], \"xaxis\": \"x\", \"y\": [\"Congo (Brazzaville)\"], \"yaxis\": \"y\"}, {\"alignmentgroup\": \"True\", \"base\": [\"2020-03-11\"], \"hovertemplate\": \"Resource=%{y}<br>Start=%{base}<br>Finish=%{x}<extra></extra>\", \"legendgroup\": \"Congo (Kinshasa)\", \"marker\": {\"color\": \"#636efa\"}, \"name\": \"Congo (Kinshasa)\", \"offsetgroup\": \"Congo (Kinshasa)\", \"orientation\": \"h\", \"showlegend\": true, \"textposition\": \"auto\", \"type\": \"bar\", \"x\": [15120000000.0], \"xaxis\": \"x\", \"y\": [\"Congo (Kinshasa)\"], \"yaxis\": \"y\"}, {\"alignmentgroup\": \"True\", \"base\": [\"2020-03-16\"], \"hovertemplate\": \"Resource=%{y}<br>Start=%{base}<br>Finish=%{x}<extra></extra>\", \"legendgroup\": \"Republic of the Congo\", \"marker\": {\"color\": \"#EF553B\"}, \"name\": \"Republic of the Congo\", \"offsetgroup\": \"Republic of the Congo\", \"orientation\": \"h\", \"showlegend\": true, \"textposition\": \"auto\", \"type\": \"bar\", \"x\": [86400000.0], \"xaxis\": \"x\", \"y\": [\"Republic of the Congo\"], \"yaxis\": \"y\"}, {\"alignmentgroup\": \"True\", \"base\": [\"2020-03-06\"], \"hovertemplate\": \"Resource=%{y}<br>Start=%{base}<br>Finish=%{x}<extra></extra>\", \"legendgroup\": \"Costa Rica\", \"marker\": {\"color\": \"#00cc96\"}, \"name\": \"Costa Rica\", \"offsetgroup\": \"Costa Rica\", \"orientation\": \"h\", \"showlegend\": true, \"textposition\": \"auto\", \"type\": \"bar\", \"x\": [15552000000.0], \"xaxis\": \"x\", \"y\": [\"Costa Rica\"], \"yaxis\": \"y\"}, {\"alignmentgroup\": \"True\", \"base\": [\"2020-03-11\"], \"hovertemplate\": \"Resource=%{y}<br>Start=%{base}<br>Finish=%{x}<extra></extra>\", \"legendgroup\": \"Cote d'Ivoire\", \"marker\": {\"color\": \"#ab63fa\"}, \"name\": \"Cote d'Ivoire\", \"offsetgroup\": \"Cote d'Ivoire\", \"orientation\": \"h\", \"showlegend\": true, \"textposition\": \"auto\", \"type\": \"bar\", \"x\": [15120000000.0], \"xaxis\": \"x\", \"y\": [\"Cote d'Ivoire\"], \"yaxis\": \"y\"}, {\"alignmentgroup\": \"True\", \"base\": [\"2020-02-25\"], \"hovertemplate\": \"Resource=%{y}<br>Start=%{base}<br>Finish=%{x}<extra></extra>\", \"legendgroup\": \"Croatia\", \"marker\": {\"color\": \"#FFA15A\"}, \"name\": \"Croatia\", \"offsetgroup\": \"Croatia\", \"orientation\": \"h\", \"showlegend\": true, \"textposition\": \"auto\", \"type\": \"bar\", \"x\": [16416000000.0], \"xaxis\": \"x\", \"y\": [\"Croatia\"], \"yaxis\": \"y\"}, {\"alignmentgroup\": \"True\", \"base\": [\"2020-03-12\"], \"hovertemplate\": \"Resource=%{y}<br>Start=%{base}<br>Finish=%{x}<extra></extra>\", \"legendgroup\": \"Cuba\", \"marker\": {\"color\": \"#19d3f3\"}, \"name\": \"Cuba\", \"offsetgroup\": \"Cuba\", \"orientation\": \"h\", \"showlegend\": true, \"textposition\": \"auto\", \"type\": \"bar\", \"x\": [15033600000.0], \"xaxis\": \"x\", \"y\": [\"Cuba\"], \"yaxis\": \"y\"}, {\"alignmentgroup\": \"True\", \"base\": [\"2020-03-14\"], \"hovertemplate\": \"Resource=%{y}<br>Start=%{base}<br>Finish=%{x}<extra></extra>\", \"legendgroup\": \"Curacao\", \"marker\": {\"color\": \"#FF6692\"}, \"name\": \"Curacao\", \"offsetgroup\": \"Curacao\", \"orientation\": \"h\", \"showlegend\": true, \"textposition\": \"auto\", \"type\": \"bar\", \"x\": [0.0], \"xaxis\": \"x\", \"y\": [\"Curacao\"], \"yaxis\": \"y\"}, {\"alignmentgroup\": \"True\", \"base\": [\"2020-03-09\"], \"hovertemplate\": \"Resource=%{y}<br>Start=%{base}<br>Finish=%{x}<extra></extra>\", \"legendgroup\": \"Cyprus\", \"marker\": {\"color\": \"#B6E880\"}, \"name\": \"Cyprus\", \"offsetgroup\": \"Cyprus\", \"orientation\": \"h\", \"showlegend\": true, \"textposition\": \"auto\", \"type\": \"bar\", \"x\": [15292800000.0], \"xaxis\": \"x\", \"y\": [\"Cyprus\"], \"yaxis\": \"y\"}, {\"alignmentgroup\": \"True\", \"base\": [\"2020-03-01\"], \"hovertemplate\": \"Resource=%{y}<br>Start=%{base}<br>Finish=%{x}<extra></extra>\", \"legendgroup\": \"Czech Republic\", \"marker\": {\"color\": \"#FF97FF\"}, \"name\": \"Czech Republic\", \"offsetgroup\": \"Czech Republic\", \"orientation\": \"h\", \"showlegend\": true, \"textposition\": \"auto\", \"type\": \"bar\", \"x\": [777600000.0], \"xaxis\": \"x\", \"y\": [\"Czech Republic\"], \"yaxis\": \"y\"}, {\"alignmentgroup\": \"True\", \"base\": [\"2020-03-11\"], \"hovertemplate\": \"Resource=%{y}<br>Start=%{base}<br>Finish=%{x}<extra></extra>\", \"legendgroup\": \"Czechia\", \"marker\": {\"color\": \"#FECB52\"}, \"name\": \"Czechia\", \"offsetgroup\": \"Czechia\", \"orientation\": \"h\", \"showlegend\": true, \"textposition\": \"auto\", \"type\": \"bar\", \"x\": [15120000000.0], \"xaxis\": \"x\", \"y\": [\"Czechia\"], \"yaxis\": \"y\"}, {\"alignmentgroup\": \"True\", \"base\": [\"2020-02-27\"], \"hovertemplate\": \"Resource=%{y}<br>Start=%{base}<br>Finish=%{x}<extra></extra>\", \"legendgroup\": \"Denmark\", \"marker\": {\"color\": \"#636efa\"}, \"name\": \"Denmark\", \"offsetgroup\": \"Denmark\", \"orientation\": \"h\", \"showlegend\": true, \"textposition\": \"auto\", \"type\": \"bar\", \"x\": [16243200000.0], \"xaxis\": \"x\", \"y\": [\"Denmark\"], \"yaxis\": \"y\"}, {\"alignmentgroup\": \"True\", \"base\": [\"2020-03-11\"], \"hovertemplate\": \"Resource=%{y}<br>Start=%{base}<br>Finish=%{x}<extra></extra>\", \"legendgroup\": \"Cruise Ship\", \"marker\": {\"color\": \"#EF553B\"}, \"name\": \"Cruise Ship\", \"offsetgroup\": \"Cruise Ship\", \"orientation\": \"h\", \"showlegend\": true, \"textposition\": \"auto\", \"type\": \"bar\", \"x\": [1036800000.0], \"xaxis\": \"x\", \"y\": [\"Cruise Ship\"], \"yaxis\": \"y\"}, {\"alignmentgroup\": \"True\", \"base\": [\"2020-03-25\"], \"hovertemplate\": \"Resource=%{y}<br>Start=%{base}<br>Finish=%{x}<extra></extra>\", \"legendgroup\": \"Diamond Princess\", \"marker\": {\"color\": \"#00cc96\"}, \"name\": \"Diamond Princess\", \"offsetgroup\": \"Diamond Princess\", \"orientation\": \"h\", \"showlegend\": true, \"textposition\": \"auto\", \"type\": \"bar\", \"x\": [13910400000.0], \"xaxis\": \"x\", \"y\": [\"Diamond Princess\"], \"yaxis\": \"y\"}, {\"alignmentgroup\": \"True\", \"base\": [\"2020-03-18\"], \"hovertemplate\": \"Resource=%{y}<br>Start=%{base}<br>Finish=%{x}<extra></extra>\", \"legendgroup\": \"Djibouti\", \"marker\": {\"color\": \"#ab63fa\"}, \"name\": \"Djibouti\", \"offsetgroup\": \"Djibouti\", \"orientation\": \"h\", \"showlegend\": true, \"textposition\": \"auto\", \"type\": \"bar\", \"x\": [14515200000.0], \"xaxis\": \"x\", \"y\": [\"Djibouti\"], \"yaxis\": \"y\"}, {\"alignmentgroup\": \"True\", \"base\": [\"2020-03-22\"], \"hovertemplate\": \"Resource=%{y}<br>Start=%{base}<br>Finish=%{x}<extra></extra>\", \"legendgroup\": \"Dominica\", \"marker\": {\"color\": \"#FFA15A\"}, \"name\": \"Dominica\", \"offsetgroup\": \"Dominica\", \"orientation\": \"h\", \"showlegend\": true, \"textposition\": \"auto\", \"type\": \"bar\", \"x\": [14169600000.0], \"xaxis\": \"x\", \"y\": [\"Dominica\"], \"yaxis\": \"y\"}, {\"alignmentgroup\": \"True\", \"base\": [\"2020-03-01\"], \"hovertemplate\": \"Resource=%{y}<br>Start=%{base}<br>Finish=%{x}<extra></extra>\", \"legendgroup\": \"Dominican Republic\", \"marker\": {\"color\": \"#19d3f3\"}, \"name\": \"Dominican Republic\", \"offsetgroup\": \"Dominican Republic\", \"orientation\": \"h\", \"showlegend\": true, \"textposition\": \"auto\", \"type\": \"bar\", \"x\": [15984000000.0], \"xaxis\": \"x\", \"y\": [\"Dominican Republic\"], \"yaxis\": \"y\"}, {\"alignmentgroup\": \"True\", \"base\": [\"2020-03-01\"], \"hovertemplate\": \"Resource=%{y}<br>Start=%{base}<br>Finish=%{x}<extra></extra>\", \"legendgroup\": \"Ecuador\", \"marker\": {\"color\": \"#FF6692\"}, \"name\": \"Ecuador\", \"offsetgroup\": \"Ecuador\", \"orientation\": \"h\", \"showlegend\": true, \"textposition\": \"auto\", \"type\": \"bar\", \"x\": [15984000000.0], \"xaxis\": \"x\", \"y\": [\"Ecuador\"], \"yaxis\": \"y\"}, {\"alignmentgroup\": \"True\", \"base\": [\"2020-02-14\"], \"hovertemplate\": \"Resource=%{y}<br>Start=%{base}<br>Finish=%{x}<extra></extra>\", \"legendgroup\": \"Egypt\", \"marker\": {\"color\": \"#B6E880\"}, \"name\": \"Egypt\", \"offsetgroup\": \"Egypt\", \"orientation\": \"h\", \"showlegend\": true, \"textposition\": \"auto\", \"type\": \"bar\", \"x\": [17366400000.0], \"xaxis\": \"x\", \"y\": [\"Egypt\"], \"yaxis\": \"y\"}, {\"alignmentgroup\": \"True\", \"base\": [\"2020-03-19\"], \"hovertemplate\": \"Resource=%{y}<br>Start=%{base}<br>Finish=%{x}<extra></extra>\", \"legendgroup\": \"El Salvador\", \"marker\": {\"color\": \"#FF97FF\"}, \"name\": \"El Salvador\", \"offsetgroup\": \"El Salvador\", \"orientation\": \"h\", \"showlegend\": true, \"textposition\": \"auto\", \"type\": \"bar\", \"x\": [14428800000.0], \"xaxis\": \"x\", \"y\": [\"El Salvador\"], \"yaxis\": \"y\"}, {\"alignmentgroup\": \"True\", \"base\": [\"2020-03-15\"], \"hovertemplate\": \"Resource=%{y}<br>Start=%{base}<br>Finish=%{x}<extra></extra>\", \"legendgroup\": \"Equatorial Guinea\", \"marker\": {\"color\": \"#FECB52\"}, \"name\": \"Equatorial Guinea\", \"offsetgroup\": \"Equatorial Guinea\", \"orientation\": \"h\", \"showlegend\": true, \"textposition\": \"auto\", \"type\": \"bar\", \"x\": [14774400000.0], \"xaxis\": \"x\", \"y\": [\"Equatorial Guinea\"], \"yaxis\": \"y\"}, {\"alignmentgroup\": \"True\", \"base\": [\"2020-03-21\"], \"hovertemplate\": \"Resource=%{y}<br>Start=%{base}<br>Finish=%{x}<extra></extra>\", \"legendgroup\": \"Eritrea\", \"marker\": {\"color\": \"#636efa\"}, \"name\": \"Eritrea\", \"offsetgroup\": \"Eritrea\", \"orientation\": \"h\", \"showlegend\": true, \"textposition\": \"auto\", \"type\": \"bar\", \"x\": [14256000000.0], \"xaxis\": \"x\", \"y\": [\"Eritrea\"], \"yaxis\": \"y\"}, {\"alignmentgroup\": \"True\", \"base\": [\"2020-02-27\"], \"hovertemplate\": \"Resource=%{y}<br>Start=%{base}<br>Finish=%{x}<extra></extra>\", \"legendgroup\": \"Estonia\", \"marker\": {\"color\": \"#EF553B\"}, \"name\": \"Estonia\", \"offsetgroup\": \"Estonia\", \"orientation\": \"h\", \"showlegend\": true, \"textposition\": \"auto\", \"type\": \"bar\", \"x\": [16243200000.0], \"xaxis\": \"x\", \"y\": [\"Estonia\"], \"yaxis\": \"y\"}, {\"alignmentgroup\": \"True\", \"base\": [\"2020-03-14\"], \"hovertemplate\": \"Resource=%{y}<br>Start=%{base}<br>Finish=%{x}<extra></extra>\", \"legendgroup\": \"Eswatini\", \"marker\": {\"color\": \"#00cc96\"}, \"name\": \"Eswatini\", \"offsetgroup\": \"Eswatini\", \"orientation\": \"h\", \"showlegend\": true, \"textposition\": \"auto\", \"type\": \"bar\", \"x\": [14860800000.0], \"xaxis\": \"x\", \"y\": [\"Eswatini\"], \"yaxis\": \"y\"}, {\"alignmentgroup\": \"True\", \"base\": [\"2020-03-11\"], \"hovertemplate\": \"Resource=%{y}<br>Start=%{base}<br>Finish=%{x}<extra></extra>\", \"legendgroup\": \"Ethiopia\", \"marker\": {\"color\": \"#ab63fa\"}, \"name\": \"Ethiopia\", \"offsetgroup\": \"Ethiopia\", \"orientation\": \"h\", \"showlegend\": true, \"textposition\": \"auto\", \"type\": \"bar\", \"x\": [15120000000.0], \"xaxis\": \"x\", \"y\": [\"Ethiopia\"], \"yaxis\": \"y\"}, {\"alignmentgroup\": \"True\", \"base\": [\"2020-03-04\"], \"hovertemplate\": \"Resource=%{y}<br>Start=%{base}<br>Finish=%{x}<extra></extra>\", \"legendgroup\": \"Faroe Islands\", \"marker\": {\"color\": \"#FFA15A\"}, \"name\": \"Faroe Islands\", \"offsetgroup\": \"Faroe Islands\", \"orientation\": \"h\", \"showlegend\": true, \"textposition\": \"auto\", \"type\": \"bar\", \"x\": [345600000.0], \"xaxis\": \"x\", \"y\": [\"Faroe Islands\"], \"yaxis\": \"y\"}, {\"alignmentgroup\": \"True\", \"base\": [\"2020-03-19\"], \"hovertemplate\": \"Resource=%{y}<br>Start=%{base}<br>Finish=%{x}<extra></extra>\", \"legendgroup\": \"Fiji\", \"marker\": {\"color\": \"#19d3f3\"}, \"name\": \"Fiji\", \"offsetgroup\": \"Fiji\", \"orientation\": \"h\", \"showlegend\": true, \"textposition\": \"auto\", \"type\": \"bar\", \"x\": [14428800000.0], \"xaxis\": \"x\", \"y\": [\"Fiji\"], \"yaxis\": \"y\"}, {\"alignmentgroup\": \"True\", \"base\": [\"2020-01-29\"], \"hovertemplate\": \"Resource=%{y}<br>Start=%{base}<br>Finish=%{x}<extra></extra>\", \"legendgroup\": \"Finland\", \"marker\": {\"color\": \"#FF6692\"}, \"name\": \"Finland\", \"offsetgroup\": \"Finland\", \"orientation\": \"h\", \"showlegend\": true, \"textposition\": \"auto\", \"type\": \"bar\", \"x\": [18748800000.0], \"xaxis\": \"x\", \"y\": [\"Finland\"], \"yaxis\": \"y\"}, {\"alignmentgroup\": \"True\", \"base\": [\"2020-01-24\"], \"hovertemplate\": \"Resource=%{y}<br>Start=%{base}<br>Finish=%{x}<extra></extra>\", \"legendgroup\": \"France\", \"marker\": {\"color\": \"#B6E880\"}, \"name\": \"France\", \"offsetgroup\": \"France\", \"orientation\": \"h\", \"showlegend\": true, \"textposition\": \"auto\", \"type\": \"bar\", \"x\": [19180800000.0], \"xaxis\": \"x\", \"y\": [\"France\"], \"yaxis\": \"y\"}, {\"alignmentgroup\": \"True\", \"base\": [\"2020-03-07\"], \"hovertemplate\": \"Resource=%{y}<br>Start=%{base}<br>Finish=%{x}<extra></extra>\", \"legendgroup\": \"French Guiana\", \"marker\": {\"color\": \"#FF97FF\"}, \"name\": \"French Guiana\", \"offsetgroup\": \"French Guiana\", \"orientation\": \"h\", \"showlegend\": true, \"textposition\": \"auto\", \"type\": \"bar\", \"x\": [1209600000.0], \"xaxis\": \"x\", \"y\": [\"French Guiana\"], \"yaxis\": \"y\"}, {\"alignmentgroup\": \"True\", \"base\": [\"2020-03-14\"], \"hovertemplate\": \"Resource=%{y}<br>Start=%{base}<br>Finish=%{x}<extra></extra>\", \"legendgroup\": \"Gabon\", \"marker\": {\"color\": \"#FECB52\"}, \"name\": \"Gabon\", \"offsetgroup\": \"Gabon\", \"orientation\": \"h\", \"showlegend\": true, \"textposition\": \"auto\", \"type\": \"bar\", \"x\": [14860800000.0], \"xaxis\": \"x\", \"y\": [\"Gabon\"], \"yaxis\": \"y\"}, {\"alignmentgroup\": \"True\", \"base\": [\"2020-03-22\"], \"hovertemplate\": \"Resource=%{y}<br>Start=%{base}<br>Finish=%{x}<extra></extra>\", \"legendgroup\": \"Gambia\", \"marker\": {\"color\": \"#636efa\"}, \"name\": \"Gambia\", \"offsetgroup\": \"Gambia\", \"orientation\": \"h\", \"showlegend\": true, \"textposition\": \"auto\", \"type\": \"bar\", \"x\": [14169600000.0], \"xaxis\": \"x\", \"y\": [\"Gambia\"], \"yaxis\": \"y\"}, {\"alignmentgroup\": \"True\", \"base\": [\"2020-03-18\"], \"hovertemplate\": \"Resource=%{y}<br>Start=%{base}<br>Finish=%{x}<extra></extra>\", \"legendgroup\": \"Gambia, The\", \"marker\": {\"color\": \"#EF553B\"}, \"name\": \"Gambia, The\", \"offsetgroup\": \"Gambia, The\", \"orientation\": \"h\", \"showlegend\": true, \"textposition\": \"auto\", \"type\": \"bar\", \"x\": [0.0], \"xaxis\": \"x\", \"y\": [\"Gambia, The\"], \"yaxis\": \"y\"}, {\"alignmentgroup\": \"True\", \"base\": [\"2020-03-17\"], \"hovertemplate\": \"Resource=%{y}<br>Start=%{base}<br>Finish=%{x}<extra></extra>\", \"legendgroup\": \"The Gambia\", \"marker\": {\"color\": \"#00cc96\"}, \"name\": \"The Gambia\", \"offsetgroup\": \"The Gambia\", \"orientation\": \"h\", \"showlegend\": true, \"textposition\": \"auto\", \"type\": \"bar\", \"x\": [86400000.0], \"xaxis\": \"x\", \"y\": [\"The Gambia\"], \"yaxis\": \"y\"}, {\"alignmentgroup\": \"True\", \"base\": [\"2020-02-26\"], \"hovertemplate\": \"Resource=%{y}<br>Start=%{base}<br>Finish=%{x}<extra></extra>\", \"legendgroup\": \"Georgia\", \"marker\": {\"color\": \"#ab63fa\"}, \"name\": \"Georgia\", \"offsetgroup\": \"Georgia\", \"orientation\": \"h\", \"showlegend\": true, \"textposition\": \"auto\", \"type\": \"bar\", \"x\": [16329600000.0], \"xaxis\": \"x\", \"y\": [\"Georgia\"], \"yaxis\": \"y\"}, {\"alignmentgroup\": \"True\", \"base\": [\"2020-01-28\"], \"hovertemplate\": \"Resource=%{y}<br>Start=%{base}<br>Finish=%{x}<extra></extra>\", \"legendgroup\": \"Germany\", \"marker\": {\"color\": \"#FFA15A\"}, \"name\": \"Germany\", \"offsetgroup\": \"Germany\", \"orientation\": \"h\", \"showlegend\": true, \"textposition\": \"auto\", \"type\": \"bar\", \"x\": [18835200000.0], \"xaxis\": \"x\", \"y\": [\"Germany\"], \"yaxis\": \"y\"}, {\"alignmentgroup\": \"True\", \"base\": [\"2020-03-14\"], \"hovertemplate\": \"Resource=%{y}<br>Start=%{base}<br>Finish=%{x}<extra></extra>\", \"legendgroup\": \"Ghana\", \"marker\": {\"color\": \"#19d3f3\"}, \"name\": \"Ghana\", \"offsetgroup\": \"Ghana\", \"orientation\": \"h\", \"showlegend\": true, \"textposition\": \"auto\", \"type\": \"bar\", \"x\": [14860800000.0], \"xaxis\": \"x\", \"y\": [\"Ghana\"], \"yaxis\": \"y\"}, {\"alignmentgroup\": \"True\", \"base\": [\"2020-03-04\"], \"hovertemplate\": \"Resource=%{y}<br>Start=%{base}<br>Finish=%{x}<extra></extra>\", \"legendgroup\": \"Gibraltar\", \"marker\": {\"color\": \"#FF6692\"}, \"name\": \"Gibraltar\", \"offsetgroup\": \"Gibraltar\", \"orientation\": \"h\", \"showlegend\": true, \"textposition\": \"auto\", \"type\": \"bar\", \"x\": [518400000.0], \"xaxis\": \"x\", \"y\": [\"Gibraltar\"], \"yaxis\": \"y\"}, {\"alignmentgroup\": \"True\", \"base\": [\"2020-02-26\"], \"hovertemplate\": \"Resource=%{y}<br>Start=%{base}<br>Finish=%{x}<extra></extra>\", \"legendgroup\": \"Greece\", \"marker\": {\"color\": \"#B6E880\"}, \"name\": \"Greece\", \"offsetgroup\": \"Greece\", \"orientation\": \"h\", \"showlegend\": true, \"textposition\": \"auto\", \"type\": \"bar\", \"x\": [16329600000.0], \"xaxis\": \"x\", \"y\": [\"Greece\"], \"yaxis\": \"y\"}, {\"alignmentgroup\": \"True\", \"base\": [\"2020-03-16\"], \"hovertemplate\": \"Resource=%{y}<br>Start=%{base}<br>Finish=%{x}<extra></extra>\", \"legendgroup\": \"Greenland\", \"marker\": {\"color\": \"#FF97FF\"}, \"name\": \"Greenland\", \"offsetgroup\": \"Greenland\", \"orientation\": \"h\", \"showlegend\": true, \"textposition\": \"auto\", \"type\": \"bar\", \"x\": [259200000.0], \"xaxis\": \"x\", \"y\": [\"Greenland\"], \"yaxis\": \"y\"}, {\"alignmentgroup\": \"True\", \"base\": [\"2020-03-22\"], \"hovertemplate\": \"Resource=%{y}<br>Start=%{base}<br>Finish=%{x}<extra></extra>\", \"legendgroup\": \"Grenada\", \"marker\": {\"color\": \"#FECB52\"}, \"name\": \"Grenada\", \"offsetgroup\": \"Grenada\", \"orientation\": \"h\", \"showlegend\": true, \"textposition\": \"auto\", \"type\": \"bar\", \"x\": [14169600000.0], \"xaxis\": \"x\", \"y\": [\"Grenada\"], \"yaxis\": \"y\"}, {\"alignmentgroup\": \"True\", \"base\": [\"2020-03-11\"], \"hovertemplate\": \"Resource=%{y}<br>Start=%{base}<br>Finish=%{x}<extra></extra>\", \"legendgroup\": \"Guadeloupe\", \"marker\": {\"color\": \"#636efa\"}, \"name\": \"Guadeloupe\", \"offsetgroup\": \"Guadeloupe\", \"orientation\": \"h\", \"showlegend\": true, \"textposition\": \"auto\", \"type\": \"bar\", \"x\": [864000000.0], \"xaxis\": \"x\", \"y\": [\"Guadeloupe\"], \"yaxis\": \"y\"}, {\"alignmentgroup\": \"True\", \"base\": [\"2020-03-16\"], \"hovertemplate\": \"Resource=%{y}<br>Start=%{base}<br>Finish=%{x}<extra></extra>\", \"legendgroup\": \"Guam\", \"marker\": {\"color\": \"#EF553B\"}, \"name\": \"Guam\", \"offsetgroup\": \"Guam\", \"orientation\": \"h\", \"showlegend\": true, \"textposition\": \"auto\", \"type\": \"bar\", \"x\": [172800000.0], \"xaxis\": \"x\", \"y\": [\"Guam\"], \"yaxis\": \"y\"}, {\"alignmentgroup\": \"True\", \"base\": [\"2020-03-14\"], \"hovertemplate\": \"Resource=%{y}<br>Start=%{base}<br>Finish=%{x}<extra></extra>\", \"legendgroup\": \"Guatemala\", \"marker\": {\"color\": \"#00cc96\"}, \"name\": \"Guatemala\", \"offsetgroup\": \"Guatemala\", \"orientation\": \"h\", \"showlegend\": true, \"textposition\": \"auto\", \"type\": \"bar\", \"x\": [14860800000.0], \"xaxis\": \"x\", \"y\": [\"Guatemala\"], \"yaxis\": \"y\"}, {\"alignmentgroup\": \"True\", \"base\": [\"2020-03-11\"], \"hovertemplate\": \"Resource=%{y}<br>Start=%{base}<br>Finish=%{x}<extra></extra>\", \"legendgroup\": \"Guinea\", \"marker\": {\"color\": \"#ab63fa\"}, \"name\": \"Guinea\", \"offsetgroup\": \"Guinea\", \"orientation\": \"h\", \"showlegend\": true, \"textposition\": \"auto\", \"type\": \"bar\", \"x\": [15120000000.0], \"xaxis\": \"x\", \"y\": [\"Guinea\"], \"yaxis\": \"y\"}, {\"alignmentgroup\": \"True\", \"base\": [\"2020-03-25\"], \"hovertemplate\": \"Resource=%{y}<br>Start=%{base}<br>Finish=%{x}<extra></extra>\", \"legendgroup\": \"Guinea-Bissau\", \"marker\": {\"color\": \"#FFA15A\"}, \"name\": \"Guinea-Bissau\", \"offsetgroup\": \"Guinea-Bissau\", \"orientation\": \"h\", \"showlegend\": true, \"textposition\": \"auto\", \"type\": \"bar\", \"x\": [13910400000.0], \"xaxis\": \"x\", \"y\": [\"Guinea-Bissau\"], \"yaxis\": \"y\"}, {\"alignmentgroup\": \"True\", \"base\": [\"2020-03-12\"], \"hovertemplate\": \"Resource=%{y}<br>Start=%{base}<br>Finish=%{x}<extra></extra>\", \"legendgroup\": \"Guyana\", \"marker\": {\"color\": \"#19d3f3\"}, \"name\": \"Guyana\", \"offsetgroup\": \"Guyana\", \"orientation\": \"h\", \"showlegend\": true, \"textposition\": \"auto\", \"type\": \"bar\", \"x\": [15033600000.0], \"xaxis\": \"x\", \"y\": [\"Guyana\"], \"yaxis\": \"y\"}, {\"alignmentgroup\": \"True\", \"base\": [\"2020-03-20\"], \"hovertemplate\": \"Resource=%{y}<br>Start=%{base}<br>Finish=%{x}<extra></extra>\", \"legendgroup\": \"Haiti\", \"marker\": {\"color\": \"#FF6692\"}, \"name\": \"Haiti\", \"offsetgroup\": \"Haiti\", \"orientation\": \"h\", \"showlegend\": true, \"textposition\": \"auto\", \"type\": \"bar\", \"x\": [14342400000.0], \"xaxis\": \"x\", \"y\": [\"Haiti\"], \"yaxis\": \"y\"}, {\"alignmentgroup\": \"True\", \"base\": [\"2020-03-11\"], \"hovertemplate\": \"Resource=%{y}<br>Start=%{base}<br>Finish=%{x}<extra></extra>\", \"legendgroup\": \"Honduras\", \"marker\": {\"color\": \"#B6E880\"}, \"name\": \"Honduras\", \"offsetgroup\": \"Honduras\", \"orientation\": \"h\", \"showlegend\": true, \"textposition\": \"auto\", \"type\": \"bar\", \"x\": [15120000000.0], \"xaxis\": \"x\", \"y\": [\"Honduras\"], \"yaxis\": \"y\"}, {\"alignmentgroup\": \"True\", \"base\": [\"2020-03-10\"], \"hovertemplate\": \"Resource=%{y}<br>Start=%{base}<br>Finish=%{x}<extra></extra>\", \"legendgroup\": \"Hong Kong SAR\", \"marker\": {\"color\": \"#FF97FF\"}, \"name\": \"Hong Kong SAR\", \"offsetgroup\": \"Hong Kong SAR\", \"orientation\": \"h\", \"showlegend\": true, \"textposition\": \"auto\", \"type\": \"bar\", \"x\": [0.0], \"xaxis\": \"x\", \"y\": [\"Hong Kong SAR\"], \"yaxis\": \"y\"}, {\"alignmentgroup\": \"True\", \"base\": [\"2020-01-22\"], \"hovertemplate\": \"Resource=%{y}<br>Start=%{base}<br>Finish=%{x}<extra></extra>\", \"legendgroup\": \"Hong Kong\", \"marker\": {\"color\": \"#FECB52\"}, \"name\": \"Hong Kong\", \"offsetgroup\": \"Hong Kong\", \"orientation\": \"h\", \"showlegend\": true, \"textposition\": \"auto\", \"type\": \"bar\", \"x\": [4060800000.0], \"xaxis\": \"x\", \"y\": [\"Hong Kong\"], \"yaxis\": \"y\"}, {\"alignmentgroup\": \"True\", \"base\": [\"2020-03-04\"], \"hovertemplate\": \"Resource=%{y}<br>Start=%{base}<br>Finish=%{x}<extra></extra>\", \"legendgroup\": \"Hungary\", \"marker\": {\"color\": \"#636efa\"}, \"name\": \"Hungary\", \"offsetgroup\": \"Hungary\", \"orientation\": \"h\", \"showlegend\": true, \"textposition\": \"auto\", \"type\": \"bar\", \"x\": [15724800000.0], \"xaxis\": \"x\", \"y\": [\"Hungary\"], \"yaxis\": \"y\"}, {\"alignmentgroup\": \"True\", \"base\": [\"2020-02-28\"], \"hovertemplate\": \"Resource=%{y}<br>Start=%{base}<br>Finish=%{x}<extra></extra>\", \"legendgroup\": \"Iceland\", \"marker\": {\"color\": \"#EF553B\"}, \"name\": \"Iceland\", \"offsetgroup\": \"Iceland\", \"orientation\": \"h\", \"showlegend\": true, \"textposition\": \"auto\", \"type\": \"bar\", \"x\": [16156800000.0], \"xaxis\": \"x\", \"y\": [\"Iceland\"], \"yaxis\": \"y\"}, {\"alignmentgroup\": \"True\", \"base\": [\"2020-01-30\"], \"hovertemplate\": \"Resource=%{y}<br>Start=%{base}<br>Finish=%{x}<extra></extra>\", \"legendgroup\": \"India\", \"marker\": {\"color\": \"#00cc96\"}, \"name\": \"India\", \"offsetgroup\": \"India\", \"orientation\": \"h\", \"showlegend\": true, \"textposition\": \"auto\", \"type\": \"bar\", \"x\": [18662400000.0], \"xaxis\": \"x\", \"y\": [\"India\"], \"yaxis\": \"y\"}, {\"alignmentgroup\": \"True\", \"base\": [\"2020-03-02\"], \"hovertemplate\": \"Resource=%{y}<br>Start=%{base}<br>Finish=%{x}<extra></extra>\", \"legendgroup\": \"Indonesia\", \"marker\": {\"color\": \"#ab63fa\"}, \"name\": \"Indonesia\", \"offsetgroup\": \"Indonesia\", \"orientation\": \"h\", \"showlegend\": true, \"textposition\": \"auto\", \"type\": \"bar\", \"x\": [15897600000.0], \"xaxis\": \"x\", \"y\": [\"Indonesia\"], \"yaxis\": \"y\"}, {\"alignmentgroup\": \"True\", \"base\": [\"2020-02-19\"], \"hovertemplate\": \"Resource=%{y}<br>Start=%{base}<br>Finish=%{x}<extra></extra>\", \"legendgroup\": \"Iran\", \"marker\": {\"color\": \"#FFA15A\"}, \"name\": \"Iran\", \"offsetgroup\": \"Iran\", \"orientation\": \"h\", \"showlegend\": true, \"textposition\": \"auto\", \"type\": \"bar\", \"x\": [16934400000.0], \"xaxis\": \"x\", \"y\": [\"Iran\"], \"yaxis\": \"y\"}, {\"alignmentgroup\": \"True\", \"base\": [\"2020-03-10\"], \"hovertemplate\": \"Resource=%{y}<br>Start=%{base}<br>Finish=%{x}<extra></extra>\", \"legendgroup\": \"Iran (Islamic Republic of)\", \"marker\": {\"color\": \"#19d3f3\"}, \"name\": \"Iran (Islamic Republic of)\", \"offsetgroup\": \"Iran (Islamic Republic of)\", \"orientation\": \"h\", \"showlegend\": true, \"textposition\": \"auto\", \"type\": \"bar\", \"x\": [0.0], \"xaxis\": \"x\", \"y\": [\"Iran (Islamic Republic of)\"], \"yaxis\": \"y\"}, {\"alignmentgroup\": \"True\", \"base\": [\"2020-02-23\"], \"hovertemplate\": \"Resource=%{y}<br>Start=%{base}<br>Finish=%{x}<extra></extra>\", \"legendgroup\": \"Iraq\", \"marker\": {\"color\": \"#FF6692\"}, \"name\": \"Iraq\", \"offsetgroup\": \"Iraq\", \"orientation\": \"h\", \"showlegend\": true, \"textposition\": \"auto\", \"type\": \"bar\", \"x\": [16588800000.0], \"xaxis\": \"x\", \"y\": [\"Iraq\"], \"yaxis\": \"y\"}, {\"alignmentgroup\": \"True\", \"base\": [\"2020-02-29\"], \"hovertemplate\": \"Resource=%{y}<br>Start=%{base}<br>Finish=%{x}<extra></extra>\", \"legendgroup\": \"Ireland\", \"marker\": {\"color\": \"#B6E880\"}, \"name\": \"Ireland\", \"offsetgroup\": \"Ireland\", \"orientation\": \"h\", \"showlegend\": true, \"textposition\": \"auto\", \"type\": \"bar\", \"x\": [16070400000.0], \"xaxis\": \"x\", \"y\": [\"Ireland\"], \"yaxis\": \"y\"}, {\"alignmentgroup\": \"True\", \"base\": [\"2020-03-08\"], \"hovertemplate\": \"Resource=%{y}<br>Start=%{base}<br>Finish=%{x}<extra></extra>\", \"legendgroup\": \"Republic of Ireland\", \"marker\": {\"color\": \"#FF97FF\"}, \"name\": \"Republic of Ireland\", \"offsetgroup\": \"Republic of Ireland\", \"orientation\": \"h\", \"showlegend\": true, \"textposition\": \"auto\", \"type\": \"bar\", \"x\": [0.0], \"xaxis\": \"x\", \"y\": [\"Republic of Ireland\"], \"yaxis\": \"y\"}, {\"alignmentgroup\": \"True\", \"base\": [\"2020-02-21\"], \"hovertemplate\": \"Resource=%{y}<br>Start=%{base}<br>Finish=%{x}<extra></extra>\", \"legendgroup\": \"Israel\", \"marker\": {\"color\": \"#FECB52\"}, \"name\": \"Israel\", \"offsetgroup\": \"Israel\", \"orientation\": \"h\", \"showlegend\": true, \"textposition\": \"auto\", \"type\": \"bar\", \"x\": [16761600000.0], \"xaxis\": \"x\", \"y\": [\"Israel\"], \"yaxis\": \"y\"}, {\"alignmentgroup\": \"True\", \"base\": [\"2020-01-31\"], \"hovertemplate\": \"Resource=%{y}<br>Start=%{base}<br>Finish=%{x}<extra></extra>\", \"legendgroup\": \"Italy\", \"marker\": {\"color\": \"#636efa\"}, \"name\": \"Italy\", \"offsetgroup\": \"Italy\", \"orientation\": \"h\", \"showlegend\": true, \"textposition\": \"auto\", \"type\": \"bar\", \"x\": [18576000000.0], \"xaxis\": \"x\", \"y\": [\"Italy\"], \"yaxis\": \"y\"}, {\"alignmentgroup\": \"True\", \"base\": [\"2020-01-27\"], \"hovertemplate\": \"Resource=%{y}<br>Start=%{base}<br>Finish=%{x}<extra></extra>\", \"legendgroup\": \"Ivory Coast\", \"marker\": {\"color\": \"#EF553B\"}, \"name\": \"Ivory Coast\", \"offsetgroup\": \"Ivory Coast\", \"orientation\": \"h\", \"showlegend\": true, \"textposition\": \"auto\", \"type\": \"bar\", \"x\": [0.0], \"xaxis\": \"x\", \"y\": [\"Ivory Coast\"], \"yaxis\": \"y\"}, {\"alignmentgroup\": \"True\", \"base\": [\"2020-03-11\"], \"hovertemplate\": \"Resource=%{y}<br>Start=%{base}<br>Finish=%{x}<extra></extra>\", \"legendgroup\": \"Jamaica\", \"marker\": {\"color\": \"#00cc96\"}, \"name\": \"Jamaica\", \"offsetgroup\": \"Jamaica\", \"orientation\": \"h\", \"showlegend\": true, \"textposition\": \"auto\", \"type\": \"bar\", \"x\": [15120000000.0], \"xaxis\": \"x\", \"y\": [\"Jamaica\"], \"yaxis\": \"y\"}, {\"alignmentgroup\": \"True\", \"base\": [\"2020-01-22\"], \"hovertemplate\": \"Resource=%{y}<br>Start=%{base}<br>Finish=%{x}<extra></extra>\", \"legendgroup\": \"Japan\", \"marker\": {\"color\": \"#ab63fa\"}, \"name\": \"Japan\", \"offsetgroup\": \"Japan\", \"orientation\": \"h\", \"showlegend\": true, \"textposition\": \"auto\", \"type\": \"bar\", \"x\": [19353600000.0], \"xaxis\": \"x\", \"y\": [\"Japan\"], \"yaxis\": \"y\"}, {\"alignmentgroup\": \"True\", \"base\": [\"2020-03-03\"], \"hovertemplate\": \"Resource=%{y}<br>Start=%{base}<br>Finish=%{x}<extra></extra>\", \"legendgroup\": \"Jordan\", \"marker\": {\"color\": \"#FFA15A\"}, \"name\": \"Jordan\", \"offsetgroup\": \"Jordan\", \"orientation\": \"h\", \"showlegend\": true, \"textposition\": \"auto\", \"type\": \"bar\", \"x\": [15811200000.0], \"xaxis\": \"x\", \"y\": [\"Jordan\"], \"yaxis\": \"y\"}, {\"alignmentgroup\": \"True\", \"base\": [\"2020-03-11\"], \"hovertemplate\": \"Resource=%{y}<br>Start=%{base}<br>Finish=%{x}<extra></extra>\", \"legendgroup\": \"Kazakhstan\", \"marker\": {\"color\": \"#19d3f3\"}, \"name\": \"Kazakhstan\", \"offsetgroup\": \"Kazakhstan\", \"orientation\": \"h\", \"showlegend\": true, \"textposition\": \"auto\", \"type\": \"bar\", \"x\": [15120000000.0], \"xaxis\": \"x\", \"y\": [\"Kazakhstan\"], \"yaxis\": \"y\"}, {\"alignmentgroup\": \"True\", \"base\": [\"2020-03-11\"], \"hovertemplate\": \"Resource=%{y}<br>Start=%{base}<br>Finish=%{x}<extra></extra>\", \"legendgroup\": \"Kenya\", \"marker\": {\"color\": \"#FF6692\"}, \"name\": \"Kenya\", \"offsetgroup\": \"Kenya\", \"orientation\": \"h\", \"showlegend\": true, \"textposition\": \"auto\", \"type\": \"bar\", \"x\": [15120000000.0], \"xaxis\": \"x\", \"y\": [\"Kenya\"], \"yaxis\": \"y\"}, {\"alignmentgroup\": \"True\", \"base\": [\"2020-03-11\"], \"hovertemplate\": \"Resource=%{y}<br>Start=%{base}<br>Finish=%{x}<extra></extra>\", \"legendgroup\": \"Korea, South\", \"marker\": {\"color\": \"#B6E880\"}, \"name\": \"Korea, South\", \"offsetgroup\": \"Korea, South\", \"orientation\": \"h\", \"showlegend\": true, \"textposition\": \"auto\", \"type\": \"bar\", \"x\": [15120000000.0], \"xaxis\": \"x\", \"y\": [\"Korea, South\"], \"yaxis\": \"y\"}, {\"alignmentgroup\": \"True\", \"base\": [\"2020-03-10\"], \"hovertemplate\": \"Resource=%{y}<br>Start=%{base}<br>Finish=%{x}<extra></extra>\", \"legendgroup\": \"Republic of Korea\", \"marker\": {\"color\": \"#FF97FF\"}, \"name\": \"Republic of Korea\", \"offsetgroup\": \"Republic of Korea\", \"orientation\": \"h\", \"showlegend\": true, \"textposition\": \"auto\", \"type\": \"bar\", \"x\": [0.0], \"xaxis\": \"x\", \"y\": [\"Republic of Korea\"], \"yaxis\": \"y\"}, {\"alignmentgroup\": \"True\", \"base\": [\"2020-01-22\"], \"hovertemplate\": \"Resource=%{y}<br>Start=%{base}<br>Finish=%{x}<extra></extra>\", \"legendgroup\": \"South Korea\", \"marker\": {\"color\": \"#FECB52\"}, \"name\": \"South Korea\", \"offsetgroup\": \"South Korea\", \"orientation\": \"h\", \"showlegend\": true, \"textposition\": \"auto\", \"type\": \"bar\", \"x\": [4060800000.0], \"xaxis\": \"x\", \"y\": [\"South Korea\"], \"yaxis\": \"y\"}, {\"alignmentgroup\": \"True\", \"base\": [\"2020-03-15\"], \"hovertemplate\": \"Resource=%{y}<br>Start=%{base}<br>Finish=%{x}<extra></extra>\", \"legendgroup\": \"Kosovo\", \"marker\": {\"color\": \"#636efa\"}, \"name\": \"Kosovo\", \"offsetgroup\": \"Kosovo\", \"orientation\": \"h\", \"showlegend\": true, \"textposition\": \"auto\", \"type\": \"bar\", \"x\": [14774400000.0], \"xaxis\": \"x\", \"y\": [\"Kosovo\"], \"yaxis\": \"y\"}, {\"alignmentgroup\": \"True\", \"base\": [\"2020-02-24\"], \"hovertemplate\": \"Resource=%{y}<br>Start=%{base}<br>Finish=%{x}<extra></extra>\", \"legendgroup\": \"Kuwait\", \"marker\": {\"color\": \"#EF553B\"}, \"name\": \"Kuwait\", \"offsetgroup\": \"Kuwait\", \"orientation\": \"h\", \"showlegend\": true, \"textposition\": \"auto\", \"type\": \"bar\", \"x\": [16502400000.0], \"xaxis\": \"x\", \"y\": [\"Kuwait\"], \"yaxis\": \"y\"}, {\"alignmentgroup\": \"True\", \"base\": [\"2020-03-18\"], \"hovertemplate\": \"Resource=%{y}<br>Start=%{base}<br>Finish=%{x}<extra></extra>\", \"legendgroup\": \"Kyrgyzstan\", \"marker\": {\"color\": \"#00cc96\"}, \"name\": \"Kyrgyzstan\", \"offsetgroup\": \"Kyrgyzstan\", \"orientation\": \"h\", \"showlegend\": true, \"textposition\": \"auto\", \"type\": \"bar\", \"x\": [14515200000.0], \"xaxis\": \"x\", \"y\": [\"Kyrgyzstan\"], \"yaxis\": \"y\"}, {\"alignmentgroup\": \"True\", \"base\": [\"2020-03-24\"], \"hovertemplate\": \"Resource=%{y}<br>Start=%{base}<br>Finish=%{x}<extra></extra>\", \"legendgroup\": \"Laos\", \"marker\": {\"color\": \"#ab63fa\"}, \"name\": \"Laos\", \"offsetgroup\": \"Laos\", \"orientation\": \"h\", \"showlegend\": true, \"textposition\": \"auto\", \"type\": \"bar\", \"x\": [13996800000.0], \"xaxis\": \"x\", \"y\": [\"Laos\"], \"yaxis\": \"y\"}, {\"alignmentgroup\": \"True\", \"base\": [\"2020-03-02\"], \"hovertemplate\": \"Resource=%{y}<br>Start=%{base}<br>Finish=%{x}<extra></extra>\", \"legendgroup\": \"Latvia\", \"marker\": {\"color\": \"#FFA15A\"}, \"name\": \"Latvia\", \"offsetgroup\": \"Latvia\", \"orientation\": \"h\", \"showlegend\": true, \"textposition\": \"auto\", \"type\": \"bar\", \"x\": [15897600000.0], \"xaxis\": \"x\", \"y\": [\"Latvia\"], \"yaxis\": \"y\"}, {\"alignmentgroup\": \"True\", \"base\": [\"2020-02-21\"], \"hovertemplate\": \"Resource=%{y}<br>Start=%{base}<br>Finish=%{x}<extra></extra>\", \"legendgroup\": \"Lebanon\", \"marker\": {\"color\": \"#19d3f3\"}, \"name\": \"Lebanon\", \"offsetgroup\": \"Lebanon\", \"orientation\": \"h\", \"showlegend\": true, \"textposition\": \"auto\", \"type\": \"bar\", \"x\": [16761600000.0], \"xaxis\": \"x\", \"y\": [\"Lebanon\"], \"yaxis\": \"y\"}, {\"alignmentgroup\": \"True\", \"base\": [\"2020-05-14\"], \"hovertemplate\": \"Resource=%{y}<br>Start=%{base}<br>Finish=%{x}<extra></extra>\", \"legendgroup\": \"Lesotho\", \"marker\": {\"color\": \"#FF6692\"}, \"name\": \"Lesotho\", \"offsetgroup\": \"Lesotho\", \"orientation\": \"h\", \"showlegend\": true, \"textposition\": \"auto\", \"type\": \"bar\", \"x\": [9590400000.0], \"xaxis\": \"x\", \"y\": [\"Lesotho\"], \"yaxis\": \"y\"}, {\"alignmentgroup\": \"True\", \"base\": [\"2020-03-16\"], \"hovertemplate\": \"Resource=%{y}<br>Start=%{base}<br>Finish=%{x}<extra></extra>\", \"legendgroup\": \"Liberia\", \"marker\": {\"color\": \"#B6E880\"}, \"name\": \"Liberia\", \"offsetgroup\": \"Liberia\", \"orientation\": \"h\", \"showlegend\": true, \"textposition\": \"auto\", \"type\": \"bar\", \"x\": [14688000000.0], \"xaxis\": \"x\", \"y\": [\"Liberia\"], \"yaxis\": \"y\"}, {\"alignmentgroup\": \"True\", \"base\": [\"2020-03-24\"], \"hovertemplate\": \"Resource=%{y}<br>Start=%{base}<br>Finish=%{x}<extra></extra>\", \"legendgroup\": \"Libya\", \"marker\": {\"color\": \"#FF97FF\"}, \"name\": \"Libya\", \"offsetgroup\": \"Libya\", \"orientation\": \"h\", \"showlegend\": true, \"textposition\": \"auto\", \"type\": \"bar\", \"x\": [13996800000.0], \"xaxis\": \"x\", \"y\": [\"Libya\"], \"yaxis\": \"y\"}, {\"alignmentgroup\": \"True\", \"base\": [\"2020-03-04\"], \"hovertemplate\": \"Resource=%{y}<br>Start=%{base}<br>Finish=%{x}<extra></extra>\", \"legendgroup\": \"Liechtenstein\", \"marker\": {\"color\": \"#FECB52\"}, \"name\": \"Liechtenstein\", \"offsetgroup\": \"Liechtenstein\", \"orientation\": \"h\", \"showlegend\": true, \"textposition\": \"auto\", \"type\": \"bar\", \"x\": [15724800000.0], \"xaxis\": \"x\", \"y\": [\"Liechtenstein\"], \"yaxis\": \"y\"}, {\"alignmentgroup\": \"True\", \"base\": [\"2020-02-28\"], \"hovertemplate\": \"Resource=%{y}<br>Start=%{base}<br>Finish=%{x}<extra></extra>\", \"legendgroup\": \"Lithuania\", \"marker\": {\"color\": \"#636efa\"}, \"name\": \"Lithuania\", \"offsetgroup\": \"Lithuania\", \"orientation\": \"h\", \"showlegend\": true, \"textposition\": \"auto\", \"type\": \"bar\", \"x\": [16156800000.0], \"xaxis\": \"x\", \"y\": [\"Lithuania\"], \"yaxis\": \"y\"}, {\"alignmentgroup\": \"True\", \"base\": [\"2020-02-29\"], \"hovertemplate\": \"Resource=%{y}<br>Start=%{base}<br>Finish=%{x}<extra></extra>\", \"legendgroup\": \"Luxembourg\", \"marker\": {\"color\": \"#EF553B\"}, \"name\": \"Luxembourg\", \"offsetgroup\": \"Luxembourg\", \"orientation\": \"h\", \"showlegend\": true, \"textposition\": \"auto\", \"type\": \"bar\", \"x\": [16070400000.0], \"xaxis\": \"x\", \"y\": [\"Luxembourg\"], \"yaxis\": \"y\"}, {\"alignmentgroup\": \"True\", \"base\": [\"2020-03-28\"], \"hovertemplate\": \"Resource=%{y}<br>Start=%{base}<br>Finish=%{x}<extra></extra>\", \"legendgroup\": \"MS Zaandam\", \"marker\": {\"color\": \"#00cc96\"}, \"name\": \"MS Zaandam\", \"offsetgroup\": \"MS Zaandam\", \"orientation\": \"h\", \"showlegend\": true, \"textposition\": \"auto\", \"type\": \"bar\", \"x\": [13651200000.0], \"xaxis\": \"x\", \"y\": [\"MS Zaandam\"], \"yaxis\": \"y\"}, {\"alignmentgroup\": \"True\", \"base\": [\"2020-03-10\"], \"hovertemplate\": \"Resource=%{y}<br>Start=%{base}<br>Finish=%{x}<extra></extra>\", \"legendgroup\": \"Macao SAR\", \"marker\": {\"color\": \"#ab63fa\"}, \"name\": \"Macao SAR\", \"offsetgroup\": \"Macao SAR\", \"orientation\": \"h\", \"showlegend\": true, \"textposition\": \"auto\", \"type\": \"bar\", \"x\": [0.0], \"xaxis\": \"x\", \"y\": [\"Macao SAR\"], \"yaxis\": \"y\"}, {\"alignmentgroup\": \"True\", \"base\": [\"2020-01-22\"], \"hovertemplate\": \"Resource=%{y}<br>Start=%{base}<br>Finish=%{x}<extra></extra>\", \"legendgroup\": \"Macau\", \"marker\": {\"color\": \"#FFA15A\"}, \"name\": \"Macau\", \"offsetgroup\": \"Macau\", \"orientation\": \"h\", \"showlegend\": true, \"textposition\": \"auto\", \"type\": \"bar\", \"x\": [3801600000.0], \"xaxis\": \"x\", \"y\": [\"Macau\"], \"yaxis\": \"y\"}, {\"alignmentgroup\": \"True\", \"base\": [\"2020-03-20\"], \"hovertemplate\": \"Resource=%{y}<br>Start=%{base}<br>Finish=%{x}<extra></extra>\", \"legendgroup\": \"Madagascar\", \"marker\": {\"color\": \"#19d3f3\"}, \"name\": \"Madagascar\", \"offsetgroup\": \"Madagascar\", \"orientation\": \"h\", \"showlegend\": true, \"textposition\": \"auto\", \"type\": \"bar\", \"x\": [14342400000.0], \"xaxis\": \"x\", \"y\": [\"Madagascar\"], \"yaxis\": \"y\"}, {\"alignmentgroup\": \"True\", \"base\": [\"2020-04-02\"], \"hovertemplate\": \"Resource=%{y}<br>Start=%{base}<br>Finish=%{x}<extra></extra>\", \"legendgroup\": \"Malawi\", \"marker\": {\"color\": \"#FF6692\"}, \"name\": \"Malawi\", \"offsetgroup\": \"Malawi\", \"orientation\": \"h\", \"showlegend\": true, \"textposition\": \"auto\", \"type\": \"bar\", \"x\": [13219200000.0], \"xaxis\": \"x\", \"y\": [\"Malawi\"], \"yaxis\": \"y\"}, {\"alignmentgroup\": \"True\", \"base\": [\"2020-01-23\"], \"hovertemplate\": \"Resource=%{y}<br>Start=%{base}<br>Finish=%{x}<extra></extra>\", \"legendgroup\": \"Malaysia\", \"marker\": {\"color\": \"#B6E880\"}, \"name\": \"Malaysia\", \"offsetgroup\": \"Malaysia\", \"orientation\": \"h\", \"showlegend\": true, \"textposition\": \"auto\", \"type\": \"bar\", \"x\": [19267200000.0], \"xaxis\": \"x\", \"y\": [\"Malaysia\"], \"yaxis\": \"y\"}, {\"alignmentgroup\": \"True\", \"base\": [\"2020-03-08\"], \"hovertemplate\": \"Resource=%{y}<br>Start=%{base}<br>Finish=%{x}<extra></extra>\", \"legendgroup\": \"Maldives\", \"marker\": {\"color\": \"#FF97FF\"}, \"name\": \"Maldives\", \"offsetgroup\": \"Maldives\", \"orientation\": \"h\", \"showlegend\": true, \"textposition\": \"auto\", \"type\": \"bar\", \"x\": [15379200000.0], \"xaxis\": \"x\", \"y\": [\"Maldives\"], \"yaxis\": \"y\"}, {\"alignmentgroup\": \"True\", \"base\": [\"2020-03-25\"], \"hovertemplate\": \"Resource=%{y}<br>Start=%{base}<br>Finish=%{x}<extra></extra>\", \"legendgroup\": \"Mali\", \"marker\": {\"color\": \"#FECB52\"}, \"name\": \"Mali\", \"offsetgroup\": \"Mali\", \"orientation\": \"h\", \"showlegend\": true, \"textposition\": \"auto\", \"type\": \"bar\", \"x\": [13910400000.0], \"xaxis\": \"x\", \"y\": [\"Mali\"], \"yaxis\": \"y\"}, {\"alignmentgroup\": \"True\", \"base\": [\"2020-03-07\"], \"hovertemplate\": \"Resource=%{y}<br>Start=%{base}<br>Finish=%{x}<extra></extra>\", \"legendgroup\": \"Malta\", \"marker\": {\"color\": \"#636efa\"}, \"name\": \"Malta\", \"offsetgroup\": \"Malta\", \"orientation\": \"h\", \"showlegend\": true, \"textposition\": \"auto\", \"type\": \"bar\", \"x\": [15465600000.0], \"xaxis\": \"x\", \"y\": [\"Malta\"], \"yaxis\": \"y\"}, {\"alignmentgroup\": \"True\", \"base\": [\"2020-03-07\"], \"hovertemplate\": \"Resource=%{y}<br>Start=%{base}<br>Finish=%{x}<extra></extra>\", \"legendgroup\": \"Martinique\", \"marker\": {\"color\": \"#EF553B\"}, \"name\": \"Martinique\", \"offsetgroup\": \"Martinique\", \"orientation\": \"h\", \"showlegend\": true, \"textposition\": \"auto\", \"type\": \"bar\", \"x\": [1123200000.0], \"xaxis\": \"x\", \"y\": [\"Martinique\"], \"yaxis\": \"y\"}, {\"alignmentgroup\": \"True\", \"base\": [\"2020-03-14\"], \"hovertemplate\": \"Resource=%{y}<br>Start=%{base}<br>Finish=%{x}<extra></extra>\", \"legendgroup\": \"Mauritania\", \"marker\": {\"color\": \"#00cc96\"}, \"name\": \"Mauritania\", \"offsetgroup\": \"Mauritania\", \"orientation\": \"h\", \"showlegend\": true, \"textposition\": \"auto\", \"type\": \"bar\", \"x\": [14860800000.0], \"xaxis\": \"x\", \"y\": [\"Mauritania\"], \"yaxis\": \"y\"}, {\"alignmentgroup\": \"True\", \"base\": [\"2020-03-18\"], \"hovertemplate\": \"Resource=%{y}<br>Start=%{base}<br>Finish=%{x}<extra></extra>\", \"legendgroup\": \"Mauritius\", \"marker\": {\"color\": \"#ab63fa\"}, \"name\": \"Mauritius\", \"offsetgroup\": \"Mauritius\", \"orientation\": \"h\", \"showlegend\": true, \"textposition\": \"auto\", \"type\": \"bar\", \"x\": [14515200000.0], \"xaxis\": \"x\", \"y\": [\"Mauritius\"], \"yaxis\": \"y\"}, {\"alignmentgroup\": \"True\", \"base\": [\"2020-03-16\"], \"hovertemplate\": \"Resource=%{y}<br>Start=%{base}<br>Finish=%{x}<extra></extra>\", \"legendgroup\": \"Mayotte\", \"marker\": {\"color\": \"#FFA15A\"}, \"name\": \"Mayotte\", \"offsetgroup\": \"Mayotte\", \"orientation\": \"h\", \"showlegend\": true, \"textposition\": \"auto\", \"type\": \"bar\", \"x\": [432000000.0], \"xaxis\": \"x\", \"y\": [\"Mayotte\"], \"yaxis\": \"y\"}, {\"alignmentgroup\": \"True\", \"base\": [\"2020-01-23\"], \"hovertemplate\": \"Resource=%{y}<br>Start=%{base}<br>Finish=%{x}<extra></extra>\", \"legendgroup\": \"Mexico\", \"marker\": {\"color\": \"#19d3f3\"}, \"name\": \"Mexico\", \"offsetgroup\": \"Mexico\", \"orientation\": \"h\", \"showlegend\": true, \"textposition\": \"auto\", \"type\": \"bar\", \"x\": [19267200000.0], \"xaxis\": \"x\", \"y\": [\"Mexico\"], \"yaxis\": \"y\"}, {\"alignmentgroup\": \"True\", \"base\": [\"2020-03-08\"], \"hovertemplate\": \"Resource=%{y}<br>Start=%{base}<br>Finish=%{x}<extra></extra>\", \"legendgroup\": \"Moldova\", \"marker\": {\"color\": \"#FF6692\"}, \"name\": \"Moldova\", \"offsetgroup\": \"Moldova\", \"orientation\": \"h\", \"showlegend\": true, \"textposition\": \"auto\", \"type\": \"bar\", \"x\": [15379200000.0], \"xaxis\": \"x\", \"y\": [\"Moldova\"], \"yaxis\": \"y\"}, {\"alignmentgroup\": \"True\", \"base\": [\"2020-03-10\"], \"hovertemplate\": \"Resource=%{y}<br>Start=%{base}<br>Finish=%{x}<extra></extra>\", \"legendgroup\": \"Republic of Moldova\", \"marker\": {\"color\": \"#B6E880\"}, \"name\": \"Republic of Moldova\", \"offsetgroup\": \"Republic of Moldova\", \"orientation\": \"h\", \"showlegend\": true, \"textposition\": \"auto\", \"type\": \"bar\", \"x\": [0.0], \"xaxis\": \"x\", \"y\": [\"Republic of Moldova\"], \"yaxis\": \"y\"}, {\"alignmentgroup\": \"True\", \"base\": [\"2020-02-29\"], \"hovertemplate\": \"Resource=%{y}<br>Start=%{base}<br>Finish=%{x}<extra></extra>\", \"legendgroup\": \"Monaco\", \"marker\": {\"color\": \"#FF97FF\"}, \"name\": \"Monaco\", \"offsetgroup\": \"Monaco\", \"orientation\": \"h\", \"showlegend\": true, \"textposition\": \"auto\", \"type\": \"bar\", \"x\": [16070400000.0], \"xaxis\": \"x\", \"y\": [\"Monaco\"], \"yaxis\": \"y\"}, {\"alignmentgroup\": \"True\", \"base\": [\"2020-03-10\"], \"hovertemplate\": \"Resource=%{y}<br>Start=%{base}<br>Finish=%{x}<extra></extra>\", \"legendgroup\": \"Mongolia\", \"marker\": {\"color\": \"#FECB52\"}, \"name\": \"Mongolia\", \"offsetgroup\": \"Mongolia\", \"orientation\": \"h\", \"showlegend\": true, \"textposition\": \"auto\", \"type\": \"bar\", \"x\": [15206400000.0], \"xaxis\": \"x\", \"y\": [\"Mongolia\"], \"yaxis\": \"y\"}, {\"alignmentgroup\": \"True\", \"base\": [\"2020-03-17\"], \"hovertemplate\": \"Resource=%{y}<br>Start=%{base}<br>Finish=%{x}<extra></extra>\", \"legendgroup\": \"Montenegro\", \"marker\": {\"color\": \"#636efa\"}, \"name\": \"Montenegro\", \"offsetgroup\": \"Montenegro\", \"orientation\": \"h\", \"showlegend\": true, \"textposition\": \"auto\", \"type\": \"bar\", \"x\": [14601600000.0], \"xaxis\": \"x\", \"y\": [\"Montenegro\"], \"yaxis\": \"y\"}, {\"alignmentgroup\": \"True\", \"base\": [\"2020-03-02\"], \"hovertemplate\": \"Resource=%{y}<br>Start=%{base}<br>Finish=%{x}<extra></extra>\", \"legendgroup\": \"Morocco\", \"marker\": {\"color\": \"#EF553B\"}, \"name\": \"Morocco\", \"offsetgroup\": \"Morocco\", \"orientation\": \"h\", \"showlegend\": true, \"textposition\": \"auto\", \"type\": \"bar\", \"x\": [15897600000.0], \"xaxis\": \"x\", \"y\": [\"Morocco\"], \"yaxis\": \"y\"}, {\"alignmentgroup\": \"True\", \"base\": [\"2020-03-22\"], \"hovertemplate\": \"Resource=%{y}<br>Start=%{base}<br>Finish=%{x}<extra></extra>\", \"legendgroup\": \"Mozambique\", \"marker\": {\"color\": \"#00cc96\"}, \"name\": \"Mozambique\", \"offsetgroup\": \"Mozambique\", \"orientation\": \"h\", \"showlegend\": true, \"textposition\": \"auto\", \"type\": \"bar\", \"x\": [14169600000.0], \"xaxis\": \"x\", \"y\": [\"Mozambique\"], \"yaxis\": \"y\"}, {\"alignmentgroup\": \"True\", \"base\": [\"2020-03-14\"], \"hovertemplate\": \"Resource=%{y}<br>Start=%{base}<br>Finish=%{x}<extra></extra>\", \"legendgroup\": \"Namibia\", \"marker\": {\"color\": \"#ab63fa\"}, \"name\": \"Namibia\", \"offsetgroup\": \"Namibia\", \"orientation\": \"h\", \"showlegend\": true, \"textposition\": \"auto\", \"type\": \"bar\", \"x\": [14860800000.0], \"xaxis\": \"x\", \"y\": [\"Namibia\"], \"yaxis\": \"y\"}, {\"alignmentgroup\": \"True\", \"base\": [\"2020-01-25\"], \"hovertemplate\": \"Resource=%{y}<br>Start=%{base}<br>Finish=%{x}<extra></extra>\", \"legendgroup\": \"Nepal\", \"marker\": {\"color\": \"#FFA15A\"}, \"name\": \"Nepal\", \"offsetgroup\": \"Nepal\", \"orientation\": \"h\", \"showlegend\": true, \"textposition\": \"auto\", \"type\": \"bar\", \"x\": [19094400000.0], \"xaxis\": \"x\", \"y\": [\"Nepal\"], \"yaxis\": \"y\"}, {\"alignmentgroup\": \"True\", \"base\": [\"2020-02-27\"], \"hovertemplate\": \"Resource=%{y}<br>Start=%{base}<br>Finish=%{x}<extra></extra>\", \"legendgroup\": \"Netherlands\", \"marker\": {\"color\": \"#19d3f3\"}, \"name\": \"Netherlands\", \"offsetgroup\": \"Netherlands\", \"orientation\": \"h\", \"showlegend\": true, \"textposition\": \"auto\", \"type\": \"bar\", \"x\": [16243200000.0], \"xaxis\": \"x\", \"y\": [\"Netherlands\"], \"yaxis\": \"y\"}, {\"alignmentgroup\": \"True\", \"base\": [\"2020-02-28\"], \"hovertemplate\": \"Resource=%{y}<br>Start=%{base}<br>Finish=%{x}<extra></extra>\", \"legendgroup\": \"New Zealand\", \"marker\": {\"color\": \"#FF6692\"}, \"name\": \"New Zealand\", \"offsetgroup\": \"New Zealand\", \"orientation\": \"h\", \"showlegend\": true, \"textposition\": \"auto\", \"type\": \"bar\", \"x\": [16156800000.0], \"xaxis\": \"x\", \"y\": [\"New Zealand\"], \"yaxis\": \"y\"}, {\"alignmentgroup\": \"True\", \"base\": [\"2020-03-19\"], \"hovertemplate\": \"Resource=%{y}<br>Start=%{base}<br>Finish=%{x}<extra></extra>\", \"legendgroup\": \"Nicaragua\", \"marker\": {\"color\": \"#B6E880\"}, \"name\": \"Nicaragua\", \"offsetgroup\": \"Nicaragua\", \"orientation\": \"h\", \"showlegend\": true, \"textposition\": \"auto\", \"type\": \"bar\", \"x\": [14428800000.0], \"xaxis\": \"x\", \"y\": [\"Nicaragua\"], \"yaxis\": \"y\"}, {\"alignmentgroup\": \"True\", \"base\": [\"2020-03-20\"], \"hovertemplate\": \"Resource=%{y}<br>Start=%{base}<br>Finish=%{x}<extra></extra>\", \"legendgroup\": \"Niger\", \"marker\": {\"color\": \"#FF97FF\"}, \"name\": \"Niger\", \"offsetgroup\": \"Niger\", \"orientation\": \"h\", \"showlegend\": true, \"textposition\": \"auto\", \"type\": \"bar\", \"x\": [14342400000.0], \"xaxis\": \"x\", \"y\": [\"Niger\"], \"yaxis\": \"y\"}, {\"alignmentgroup\": \"True\", \"base\": [\"2020-02-28\"], \"hovertemplate\": \"Resource=%{y}<br>Start=%{base}<br>Finish=%{x}<extra></extra>\", \"legendgroup\": \"Nigeria\", \"marker\": {\"color\": \"#FECB52\"}, \"name\": \"Nigeria\", \"offsetgroup\": \"Nigeria\", \"orientation\": \"h\", \"showlegend\": true, \"textposition\": \"auto\", \"type\": \"bar\", \"x\": [16156800000.0], \"xaxis\": \"x\", \"y\": [\"Nigeria\"], \"yaxis\": \"y\"}, {\"alignmentgroup\": \"True\", \"base\": [\"2020-02-28\"], \"hovertemplate\": \"Resource=%{y}<br>Start=%{base}<br>Finish=%{x}<extra></extra>\", \"legendgroup\": \"North Ireland\", \"marker\": {\"color\": \"#636efa\"}, \"name\": \"North Ireland\", \"offsetgroup\": \"North Ireland\", \"orientation\": \"h\", \"showlegend\": true, \"textposition\": \"auto\", \"type\": \"bar\", \"x\": [0.0], \"xaxis\": \"x\", \"y\": [\"North Ireland\"], \"yaxis\": \"y\"}, {\"alignmentgroup\": \"True\", \"base\": [\"2020-02-26\"], \"hovertemplate\": \"Resource=%{y}<br>Start=%{base}<br>Finish=%{x}<extra></extra>\", \"legendgroup\": \"North Macedonia\", \"marker\": {\"color\": \"#EF553B\"}, \"name\": \"North Macedonia\", \"offsetgroup\": \"North Macedonia\", \"orientation\": \"h\", \"showlegend\": true, \"textposition\": \"auto\", \"type\": \"bar\", \"x\": [16329600000.0], \"xaxis\": \"x\", \"y\": [\"North Macedonia\"], \"yaxis\": \"y\"}, {\"alignmentgroup\": \"True\", \"base\": [\"2020-02-26\"], \"hovertemplate\": \"Resource=%{y}<br>Start=%{base}<br>Finish=%{x}<extra></extra>\", \"legendgroup\": \"Norway\", \"marker\": {\"color\": \"#00cc96\"}, \"name\": \"Norway\", \"offsetgroup\": \"Norway\", \"orientation\": \"h\", \"showlegend\": true, \"textposition\": \"auto\", \"type\": \"bar\", \"x\": [16329600000.0], \"xaxis\": \"x\", \"y\": [\"Norway\"], \"yaxis\": \"y\"}, {\"alignmentgroup\": \"True\", \"base\": [\"2020-02-24\"], \"hovertemplate\": \"Resource=%{y}<br>Start=%{base}<br>Finish=%{x}<extra></extra>\", \"legendgroup\": \"Oman\", \"marker\": {\"color\": \"#ab63fa\"}, \"name\": \"Oman\", \"offsetgroup\": \"Oman\", \"orientation\": \"h\", \"showlegend\": true, \"textposition\": \"auto\", \"type\": \"bar\", \"x\": [16502400000.0], \"xaxis\": \"x\", \"y\": [\"Oman\"], \"yaxis\": \"y\"}, {\"alignmentgroup\": \"True\", \"base\": [\"2020-02-26\"], \"hovertemplate\": \"Resource=%{y}<br>Start=%{base}<br>Finish=%{x}<extra></extra>\", \"legendgroup\": \"Pakistan\", \"marker\": {\"color\": \"#FFA15A\"}, \"name\": \"Pakistan\", \"offsetgroup\": \"Pakistan\", \"orientation\": \"h\", \"showlegend\": true, \"textposition\": \"auto\", \"type\": \"bar\", \"x\": [16329600000.0], \"xaxis\": \"x\", \"y\": [\"Pakistan\"], \"yaxis\": \"y\"}, {\"alignmentgroup\": \"True\", \"base\": [\"2020-03-05\"], \"hovertemplate\": \"Resource=%{y}<br>Start=%{base}<br>Finish=%{x}<extra></extra>\", \"legendgroup\": \"Palestine\", \"marker\": {\"color\": \"#19d3f3\"}, \"name\": \"Palestine\", \"offsetgroup\": \"Palestine\", \"orientation\": \"h\", \"showlegend\": true, \"textposition\": \"auto\", \"type\": \"bar\", \"x\": [172800000.0], \"xaxis\": \"x\", \"y\": [\"Palestine\"], \"yaxis\": \"y\"}, {\"alignmentgroup\": \"True\", \"base\": [\"2020-03-10\"], \"hovertemplate\": \"Resource=%{y}<br>Start=%{base}<br>Finish=%{x}<extra></extra>\", \"legendgroup\": \"occupied Palestinian territory\", \"marker\": {\"color\": \"#FF6692\"}, \"name\": \"occupied Palestinian territory\", \"offsetgroup\": \"occupied Palestinian territory\", \"orientation\": \"h\", \"showlegend\": true, \"textposition\": \"auto\", \"type\": \"bar\", \"x\": [86400000.0], \"xaxis\": \"x\", \"y\": [\"occupied Palestinian territory\"], \"yaxis\": \"y\"}, {\"alignmentgroup\": \"True\", \"base\": [\"2020-03-10\"], \"hovertemplate\": \"Resource=%{y}<br>Start=%{base}<br>Finish=%{x}<extra></extra>\", \"legendgroup\": \"Panama\", \"marker\": {\"color\": \"#B6E880\"}, \"name\": \"Panama\", \"offsetgroup\": \"Panama\", \"orientation\": \"h\", \"showlegend\": true, \"textposition\": \"auto\", \"type\": \"bar\", \"x\": [15206400000.0], \"xaxis\": \"x\", \"y\": [\"Panama\"], \"yaxis\": \"y\"}, {\"alignmentgroup\": \"True\", \"base\": [\"2020-03-20\"], \"hovertemplate\": \"Resource=%{y}<br>Start=%{base}<br>Finish=%{x}<extra></extra>\", \"legendgroup\": \"Papua New Guinea\", \"marker\": {\"color\": \"#FF97FF\"}, \"name\": \"Papua New Guinea\", \"offsetgroup\": \"Papua New Guinea\", \"orientation\": \"h\", \"showlegend\": true, \"textposition\": \"auto\", \"type\": \"bar\", \"x\": [14342400000.0], \"xaxis\": \"x\", \"y\": [\"Papua New Guinea\"], \"yaxis\": \"y\"}, {\"alignmentgroup\": \"True\", \"base\": [\"2020-03-08\"], \"hovertemplate\": \"Resource=%{y}<br>Start=%{base}<br>Finish=%{x}<extra></extra>\", \"legendgroup\": \"Paraguay\", \"marker\": {\"color\": \"#FECB52\"}, \"name\": \"Paraguay\", \"offsetgroup\": \"Paraguay\", \"orientation\": \"h\", \"showlegend\": true, \"textposition\": \"auto\", \"type\": \"bar\", \"x\": [15379200000.0], \"xaxis\": \"x\", \"y\": [\"Paraguay\"], \"yaxis\": \"y\"}, {\"alignmentgroup\": \"True\", \"base\": [\"2020-03-06\"], \"hovertemplate\": \"Resource=%{y}<br>Start=%{base}<br>Finish=%{x}<extra></extra>\", \"legendgroup\": \"Peru\", \"marker\": {\"color\": \"#636efa\"}, \"name\": \"Peru\", \"offsetgroup\": \"Peru\", \"orientation\": \"h\", \"showlegend\": true, \"textposition\": \"auto\", \"type\": \"bar\", \"x\": [15552000000.0], \"xaxis\": \"x\", \"y\": [\"Peru\"], \"yaxis\": \"y\"}, {\"alignmentgroup\": \"True\", \"base\": [\"2020-01-23\"], \"hovertemplate\": \"Resource=%{y}<br>Start=%{base}<br>Finish=%{x}<extra></extra>\", \"legendgroup\": \"Philippines\", \"marker\": {\"color\": \"#EF553B\"}, \"name\": \"Philippines\", \"offsetgroup\": \"Philippines\", \"orientation\": \"h\", \"showlegend\": true, \"textposition\": \"auto\", \"type\": \"bar\", \"x\": [19267200000.0], \"xaxis\": \"x\", \"y\": [\"Philippines\"], \"yaxis\": \"y\"}, {\"alignmentgroup\": \"True\", \"base\": [\"2020-03-04\"], \"hovertemplate\": \"Resource=%{y}<br>Start=%{base}<br>Finish=%{x}<extra></extra>\", \"legendgroup\": \"Poland\", \"marker\": {\"color\": \"#00cc96\"}, \"name\": \"Poland\", \"offsetgroup\": \"Poland\", \"orientation\": \"h\", \"showlegend\": true, \"textposition\": \"auto\", \"type\": \"bar\", \"x\": [15724800000.0], \"xaxis\": \"x\", \"y\": [\"Poland\"], \"yaxis\": \"y\"}, {\"alignmentgroup\": \"True\", \"base\": [\"2020-03-02\"], \"hovertemplate\": \"Resource=%{y}<br>Start=%{base}<br>Finish=%{x}<extra></extra>\", \"legendgroup\": \"Portugal\", \"marker\": {\"color\": \"#ab63fa\"}, \"name\": \"Portugal\", \"offsetgroup\": \"Portugal\", \"orientation\": \"h\", \"showlegend\": true, \"textposition\": \"auto\", \"type\": \"bar\", \"x\": [15897600000.0], \"xaxis\": \"x\", \"y\": [\"Portugal\"], \"yaxis\": \"y\"}, {\"alignmentgroup\": \"True\", \"base\": [\"2020-03-16\"], \"hovertemplate\": \"Resource=%{y}<br>Start=%{base}<br>Finish=%{x}<extra></extra>\", \"legendgroup\": \"Puerto Rico\", \"marker\": {\"color\": \"#FFA15A\"}, \"name\": \"Puerto Rico\", \"offsetgroup\": \"Puerto Rico\", \"orientation\": \"h\", \"showlegend\": true, \"textposition\": \"auto\", \"type\": \"bar\", \"x\": [86400000.0], \"xaxis\": \"x\", \"y\": [\"Puerto Rico\"], \"yaxis\": \"y\"}, {\"alignmentgroup\": \"True\", \"base\": [\"2020-02-29\"], \"hovertemplate\": \"Resource=%{y}<br>Start=%{base}<br>Finish=%{x}<extra></extra>\", \"legendgroup\": \"Qatar\", \"marker\": {\"color\": \"#19d3f3\"}, \"name\": \"Qatar\", \"offsetgroup\": \"Qatar\", \"orientation\": \"h\", \"showlegend\": true, \"textposition\": \"auto\", \"type\": \"bar\", \"x\": [16070400000.0], \"xaxis\": \"x\", \"y\": [\"Qatar\"], \"yaxis\": \"y\"}, {\"alignmentgroup\": \"True\", \"base\": [\"2020-03-11\"], \"hovertemplate\": \"Resource=%{y}<br>Start=%{base}<br>Finish=%{x}<extra></extra>\", \"legendgroup\": \"Reunion\", \"marker\": {\"color\": \"#FF6692\"}, \"name\": \"Reunion\", \"offsetgroup\": \"Reunion\", \"orientation\": \"h\", \"showlegend\": true, \"textposition\": \"auto\", \"type\": \"bar\", \"x\": [864000000.0], \"xaxis\": \"x\", \"y\": [\"Reunion\"], \"yaxis\": \"y\"}, {\"alignmentgroup\": \"True\", \"base\": [\"2020-02-26\"], \"hovertemplate\": \"Resource=%{y}<br>Start=%{base}<br>Finish=%{x}<extra></extra>\", \"legendgroup\": \"Romania\", \"marker\": {\"color\": \"#B6E880\"}, \"name\": \"Romania\", \"offsetgroup\": \"Romania\", \"orientation\": \"h\", \"showlegend\": true, \"textposition\": \"auto\", \"type\": \"bar\", \"x\": [16329600000.0], \"xaxis\": \"x\", \"y\": [\"Romania\"], \"yaxis\": \"y\"}, {\"alignmentgroup\": \"True\", \"base\": [\"2020-01-31\"], \"hovertemplate\": \"Resource=%{y}<br>Start=%{base}<br>Finish=%{x}<extra></extra>\", \"legendgroup\": \"Russia\", \"marker\": {\"color\": \"#FF97FF\"}, \"name\": \"Russia\", \"offsetgroup\": \"Russia\", \"orientation\": \"h\", \"showlegend\": true, \"textposition\": \"auto\", \"type\": \"bar\", \"x\": [18576000000.0], \"xaxis\": \"x\", \"y\": [\"Russia\"], \"yaxis\": \"y\"}, {\"alignmentgroup\": \"True\", \"base\": [\"2020-03-10\"], \"hovertemplate\": \"Resource=%{y}<br>Start=%{base}<br>Finish=%{x}<extra></extra>\", \"legendgroup\": \"Russian Federation\", \"marker\": {\"color\": \"#FECB52\"}, \"name\": \"Russian Federation\", \"offsetgroup\": \"Russian Federation\", \"orientation\": \"h\", \"showlegend\": true, \"textposition\": \"auto\", \"type\": \"bar\", \"x\": [0.0], \"xaxis\": \"x\", \"y\": [\"Russian Federation\"], \"yaxis\": \"y\"}, {\"alignmentgroup\": \"True\", \"base\": [\"2020-03-14\"], \"hovertemplate\": \"Resource=%{y}<br>Start=%{base}<br>Finish=%{x}<extra></extra>\", \"legendgroup\": \"Rwanda\", \"marker\": {\"color\": \"#636efa\"}, \"name\": \"Rwanda\", \"offsetgroup\": \"Rwanda\", \"orientation\": \"h\", \"showlegend\": true, \"textposition\": \"auto\", \"type\": \"bar\", \"x\": [14860800000.0], \"xaxis\": \"x\", \"y\": [\"Rwanda\"], \"yaxis\": \"y\"}, {\"alignmentgroup\": \"True\", \"base\": [\"2020-03-04\"], \"hovertemplate\": \"Resource=%{y}<br>Start=%{base}<br>Finish=%{x}<extra></extra>\", \"legendgroup\": \"Saint Barthelemy\", \"marker\": {\"color\": \"#EF553B\"}, \"name\": \"Saint Barthelemy\", \"offsetgroup\": \"Saint Barthelemy\", \"orientation\": \"h\", \"showlegend\": true, \"textposition\": \"auto\", \"type\": \"bar\", \"x\": [432000000.0], \"xaxis\": \"x\", \"y\": [\"Saint Barthelemy\"], \"yaxis\": \"y\"}, {\"alignmentgroup\": \"True\", \"base\": [\"2020-03-25\"], \"hovertemplate\": \"Resource=%{y}<br>Start=%{base}<br>Finish=%{x}<extra></extra>\", \"legendgroup\": \"Saint Kitts and Nevis\", \"marker\": {\"color\": \"#00cc96\"}, \"name\": \"Saint Kitts and Nevis\", \"offsetgroup\": \"Saint Kitts and Nevis\", \"orientation\": \"h\", \"showlegend\": true, \"textposition\": \"auto\", \"type\": \"bar\", \"x\": [13910400000.0], \"xaxis\": \"x\", \"y\": [\"Saint Kitts and Nevis\"], \"yaxis\": \"y\"}, {\"alignmentgroup\": \"True\", \"base\": [\"2020-03-14\"], \"hovertemplate\": \"Resource=%{y}<br>Start=%{base}<br>Finish=%{x}<extra></extra>\", \"legendgroup\": \"Saint Lucia\", \"marker\": {\"color\": \"#ab63fa\"}, \"name\": \"Saint Lucia\", \"offsetgroup\": \"Saint Lucia\", \"orientation\": \"h\", \"showlegend\": true, \"textposition\": \"auto\", \"type\": \"bar\", \"x\": [14860800000.0], \"xaxis\": \"x\", \"y\": [\"Saint Lucia\"], \"yaxis\": \"y\"}, {\"alignmentgroup\": \"True\", \"base\": [\"2020-03-10\"], \"hovertemplate\": \"Resource=%{y}<br>Start=%{base}<br>Finish=%{x}<extra></extra>\", \"legendgroup\": \"Saint Martin\", \"marker\": {\"color\": \"#FFA15A\"}, \"name\": \"Saint Martin\", \"offsetgroup\": \"Saint Martin\", \"orientation\": \"h\", \"showlegend\": true, \"textposition\": \"auto\", \"type\": \"bar\", \"x\": [0.0], \"xaxis\": \"x\", \"y\": [\"Saint Martin\"], \"yaxis\": \"y\"}, {\"alignmentgroup\": \"True\", \"base\": [\"2020-03-09\"], \"hovertemplate\": \"Resource=%{y}<br>Start=%{base}<br>Finish=%{x}<extra></extra>\", \"legendgroup\": \"St. Martin\", \"marker\": {\"color\": \"#19d3f3\"}, \"name\": \"St. Martin\", \"offsetgroup\": \"St. Martin\", \"orientation\": \"h\", \"showlegend\": true, \"textposition\": \"auto\", \"type\": \"bar\", \"x\": [0.0], \"xaxis\": \"x\", \"y\": [\"St. Martin\"], \"yaxis\": \"y\"}, {\"alignmentgroup\": \"True\", \"base\": [\"2020-03-14\"], \"hovertemplate\": \"Resource=%{y}<br>Start=%{base}<br>Finish=%{x}<extra></extra>\", \"legendgroup\": \"Saint Vincent and the Grenadines\", \"marker\": {\"color\": \"#FF6692\"}, \"name\": \"Saint Vincent and the Grenadines\", \"offsetgroup\": \"Saint Vincent and the Grenadines\", \"orientation\": \"h\", \"showlegend\": true, \"textposition\": \"auto\", \"type\": \"bar\", \"x\": [14860800000.0], \"xaxis\": \"x\", \"y\": [\"Saint Vincent and the Grenadines\"], \"yaxis\": \"y\"}, {\"alignmentgroup\": \"True\", \"base\": [\"2020-02-27\"], \"hovertemplate\": \"Resource=%{y}<br>Start=%{base}<br>Finish=%{x}<extra></extra>\", \"legendgroup\": \"San Marino\", \"marker\": {\"color\": \"#B6E880\"}, \"name\": \"San Marino\", \"offsetgroup\": \"San Marino\", \"orientation\": \"h\", \"showlegend\": true, \"textposition\": \"auto\", \"type\": \"bar\", \"x\": [16243200000.0], \"xaxis\": \"x\", \"y\": [\"San Marino\"], \"yaxis\": \"y\"}, {\"alignmentgroup\": \"True\", \"base\": [\"2020-04-06\"], \"hovertemplate\": \"Resource=%{y}<br>Start=%{base}<br>Finish=%{x}<extra></extra>\", \"legendgroup\": \"Sao Tome and Principe\", \"marker\": {\"color\": \"#FF97FF\"}, \"name\": \"Sao Tome and Principe\", \"offsetgroup\": \"Sao Tome and Principe\", \"orientation\": \"h\", \"showlegend\": true, \"textposition\": \"auto\", \"type\": \"bar\", \"x\": [12873600000.0], \"xaxis\": \"x\", \"y\": [\"Sao Tome and Principe\"], \"yaxis\": \"y\"}, {\"alignmentgroup\": \"True\", \"base\": [\"2020-03-02\"], \"hovertemplate\": \"Resource=%{y}<br>Start=%{base}<br>Finish=%{x}<extra></extra>\", \"legendgroup\": \"Saudi Arabia\", \"marker\": {\"color\": \"#FECB52\"}, \"name\": \"Saudi Arabia\", \"offsetgroup\": \"Saudi Arabia\", \"orientation\": \"h\", \"showlegend\": true, \"textposition\": \"auto\", \"type\": \"bar\", \"x\": [15897600000.0], \"xaxis\": \"x\", \"y\": [\"Saudi Arabia\"], \"yaxis\": \"y\"}, {\"alignmentgroup\": \"True\", \"base\": [\"2020-03-02\"], \"hovertemplate\": \"Resource=%{y}<br>Start=%{base}<br>Finish=%{x}<extra></extra>\", \"legendgroup\": \"Senegal\", \"marker\": {\"color\": \"#636efa\"}, \"name\": \"Senegal\", \"offsetgroup\": \"Senegal\", \"orientation\": \"h\", \"showlegend\": true, \"textposition\": \"auto\", \"type\": \"bar\", \"x\": [15897600000.0], \"xaxis\": \"x\", \"y\": [\"Senegal\"], \"yaxis\": \"y\"}, {\"alignmentgroup\": \"True\", \"base\": [\"2020-03-06\"], \"hovertemplate\": \"Resource=%{y}<br>Start=%{base}<br>Finish=%{x}<extra></extra>\", \"legendgroup\": \"Serbia\", \"marker\": {\"color\": \"#EF553B\"}, \"name\": \"Serbia\", \"offsetgroup\": \"Serbia\", \"orientation\": \"h\", \"showlegend\": true, \"textposition\": \"auto\", \"type\": \"bar\", \"x\": [15552000000.0], \"xaxis\": \"x\", \"y\": [\"Serbia\"], \"yaxis\": \"y\"}, {\"alignmentgroup\": \"True\", \"base\": [\"2020-03-14\"], \"hovertemplate\": \"Resource=%{y}<br>Start=%{base}<br>Finish=%{x}<extra></extra>\", \"legendgroup\": \"Seychelles\", \"marker\": {\"color\": \"#00cc96\"}, \"name\": \"Seychelles\", \"offsetgroup\": \"Seychelles\", \"orientation\": \"h\", \"showlegend\": true, \"textposition\": \"auto\", \"type\": \"bar\", \"x\": [14860800000.0], \"xaxis\": \"x\", \"y\": [\"Seychelles\"], \"yaxis\": \"y\"}, {\"alignmentgroup\": \"True\", \"base\": [\"2020-03-31\"], \"hovertemplate\": \"Resource=%{y}<br>Start=%{base}<br>Finish=%{x}<extra></extra>\", \"legendgroup\": \"Sierra Leone\", \"marker\": {\"color\": \"#ab63fa\"}, \"name\": \"Sierra Leone\", \"offsetgroup\": \"Sierra Leone\", \"orientation\": \"h\", \"showlegend\": true, \"textposition\": \"auto\", \"type\": \"bar\", \"x\": [13392000000.0], \"xaxis\": \"x\", \"y\": [\"Sierra Leone\"], \"yaxis\": \"y\"}, {\"alignmentgroup\": \"True\", \"base\": [\"2020-01-23\"], \"hovertemplate\": \"Resource=%{y}<br>Start=%{base}<br>Finish=%{x}<extra></extra>\", \"legendgroup\": \"Singapore\", \"marker\": {\"color\": \"#FFA15A\"}, \"name\": \"Singapore\", \"offsetgroup\": \"Singapore\", \"orientation\": \"h\", \"showlegend\": true, \"textposition\": \"auto\", \"type\": \"bar\", \"x\": [19267200000.0], \"xaxis\": \"x\", \"y\": [\"Singapore\"], \"yaxis\": \"y\"}, {\"alignmentgroup\": \"True\", \"base\": [\"2020-03-06\"], \"hovertemplate\": \"Resource=%{y}<br>Start=%{base}<br>Finish=%{x}<extra></extra>\", \"legendgroup\": \"Slovakia\", \"marker\": {\"color\": \"#19d3f3\"}, \"name\": \"Slovakia\", \"offsetgroup\": \"Slovakia\", \"orientation\": \"h\", \"showlegend\": true, \"textposition\": \"auto\", \"type\": \"bar\", \"x\": [15552000000.0], \"xaxis\": \"x\", \"y\": [\"Slovakia\"], \"yaxis\": \"y\"}, {\"alignmentgroup\": \"True\", \"base\": [\"2020-03-05\"], \"hovertemplate\": \"Resource=%{y}<br>Start=%{base}<br>Finish=%{x}<extra></extra>\", \"legendgroup\": \"Slovenia\", \"marker\": {\"color\": \"#FF6692\"}, \"name\": \"Slovenia\", \"offsetgroup\": \"Slovenia\", \"orientation\": \"h\", \"showlegend\": true, \"textposition\": \"auto\", \"type\": \"bar\", \"x\": [15638400000.0], \"xaxis\": \"x\", \"y\": [\"Slovenia\"], \"yaxis\": \"y\"}, {\"alignmentgroup\": \"True\", \"base\": [\"2020-03-16\"], \"hovertemplate\": \"Resource=%{y}<br>Start=%{base}<br>Finish=%{x}<extra></extra>\", \"legendgroup\": \"Somalia\", \"marker\": {\"color\": \"#B6E880\"}, \"name\": \"Somalia\", \"offsetgroup\": \"Somalia\", \"orientation\": \"h\", \"showlegend\": true, \"textposition\": \"auto\", \"type\": \"bar\", \"x\": [14688000000.0], \"xaxis\": \"x\", \"y\": [\"Somalia\"], \"yaxis\": \"y\"}, {\"alignmentgroup\": \"True\", \"base\": [\"2020-03-05\"], \"hovertemplate\": \"Resource=%{y}<br>Start=%{base}<br>Finish=%{x}<extra></extra>\", \"legendgroup\": \"South Africa\", \"marker\": {\"color\": \"#FF97FF\"}, \"name\": \"South Africa\", \"offsetgroup\": \"South Africa\", \"orientation\": \"h\", \"showlegend\": true, \"textposition\": \"auto\", \"type\": \"bar\", \"x\": [15638400000.0], \"xaxis\": \"x\", \"y\": [\"South Africa\"], \"yaxis\": \"y\"}, {\"alignmentgroup\": \"True\", \"base\": [\"2020-04-05\"], \"hovertemplate\": \"Resource=%{y}<br>Start=%{base}<br>Finish=%{x}<extra></extra>\", \"legendgroup\": \"South Sudan\", \"marker\": {\"color\": \"#FECB52\"}, \"name\": \"South Sudan\", \"offsetgroup\": \"South Sudan\", \"orientation\": \"h\", \"showlegend\": true, \"textposition\": \"auto\", \"type\": \"bar\", \"x\": [12960000000.0], \"xaxis\": \"x\", \"y\": [\"South Sudan\"], \"yaxis\": \"y\"}, {\"alignmentgroup\": \"True\", \"base\": [\"2020-02-01\"], \"hovertemplate\": \"Resource=%{y}<br>Start=%{base}<br>Finish=%{x}<extra></extra>\", \"legendgroup\": \"Spain\", \"marker\": {\"color\": \"#636efa\"}, \"name\": \"Spain\", \"offsetgroup\": \"Spain\", \"orientation\": \"h\", \"showlegend\": true, \"textposition\": \"auto\", \"type\": \"bar\", \"x\": [18489600000.0], \"xaxis\": \"x\", \"y\": [\"Spain\"], \"yaxis\": \"y\"}, {\"alignmentgroup\": \"True\", \"base\": [\"2020-01-27\"], \"hovertemplate\": \"Resource=%{y}<br>Start=%{base}<br>Finish=%{x}<extra></extra>\", \"legendgroup\": \"Sri Lanka\", \"marker\": {\"color\": \"#EF553B\"}, \"name\": \"Sri Lanka\", \"offsetgroup\": \"Sri Lanka\", \"orientation\": \"h\", \"showlegend\": true, \"textposition\": \"auto\", \"type\": \"bar\", \"x\": [18921600000.0], \"xaxis\": \"x\", \"y\": [\"Sri Lanka\"], \"yaxis\": \"y\"}, {\"alignmentgroup\": \"True\", \"base\": [\"2020-03-11\"], \"hovertemplate\": \"Resource=%{y}<br>Start=%{base}<br>Finish=%{x}<extra></extra>\", \"legendgroup\": \"Sudan\", \"marker\": {\"color\": \"#00cc96\"}, \"name\": \"Sudan\", \"offsetgroup\": \"Sudan\", \"orientation\": \"h\", \"showlegend\": true, \"textposition\": \"auto\", \"type\": \"bar\", \"x\": [15120000000.0], \"xaxis\": \"x\", \"y\": [\"Sudan\"], \"yaxis\": \"y\"}, {\"alignmentgroup\": \"True\", \"base\": [\"2020-03-14\"], \"hovertemplate\": \"Resource=%{y}<br>Start=%{base}<br>Finish=%{x}<extra></extra>\", \"legendgroup\": \"Suriname\", \"marker\": {\"color\": \"#ab63fa\"}, \"name\": \"Suriname\", \"offsetgroup\": \"Suriname\", \"orientation\": \"h\", \"showlegend\": true, \"textposition\": \"auto\", \"type\": \"bar\", \"x\": [14860800000.0], \"xaxis\": \"x\", \"y\": [\"Suriname\"], \"yaxis\": \"y\"}, {\"alignmentgroup\": \"True\", \"base\": [\"2020-01-31\"], \"hovertemplate\": \"Resource=%{y}<br>Start=%{base}<br>Finish=%{x}<extra></extra>\", \"legendgroup\": \"Sweden\", \"marker\": {\"color\": \"#FFA15A\"}, \"name\": \"Sweden\", \"offsetgroup\": \"Sweden\", \"orientation\": \"h\", \"showlegend\": true, \"textposition\": \"auto\", \"type\": \"bar\", \"x\": [18576000000.0], \"xaxis\": \"x\", \"y\": [\"Sweden\"], \"yaxis\": \"y\"}, {\"alignmentgroup\": \"True\", \"base\": [\"2020-02-25\"], \"hovertemplate\": \"Resource=%{y}<br>Start=%{base}<br>Finish=%{x}<extra></extra>\", \"legendgroup\": \"Switzerland\", \"marker\": {\"color\": \"#19d3f3\"}, \"name\": \"Switzerland\", \"offsetgroup\": \"Switzerland\", \"orientation\": \"h\", \"showlegend\": true, \"textposition\": \"auto\", \"type\": \"bar\", \"x\": [16416000000.0], \"xaxis\": \"x\", \"y\": [\"Switzerland\"], \"yaxis\": \"y\"}, {\"alignmentgroup\": \"True\", \"base\": [\"2020-03-22\"], \"hovertemplate\": \"Resource=%{y}<br>Start=%{base}<br>Finish=%{x}<extra></extra>\", \"legendgroup\": \"Syria\", \"marker\": {\"color\": \"#FF6692\"}, \"name\": \"Syria\", \"offsetgroup\": \"Syria\", \"orientation\": \"h\", \"showlegend\": true, \"textposition\": \"auto\", \"type\": \"bar\", \"x\": [14169600000.0], \"xaxis\": \"x\", \"y\": [\"Syria\"], \"yaxis\": \"y\"}, {\"alignmentgroup\": \"True\", \"base\": [\"2020-03-10\"], \"hovertemplate\": \"Resource=%{y}<br>Start=%{base}<br>Finish=%{x}<extra></extra>\", \"legendgroup\": \"Taipei and environs\", \"marker\": {\"color\": \"#B6E880\"}, \"name\": \"Taipei and environs\", \"offsetgroup\": \"Taipei and environs\", \"orientation\": \"h\", \"showlegend\": true, \"textposition\": \"auto\", \"type\": \"bar\", \"x\": [0.0], \"xaxis\": \"x\", \"y\": [\"Taipei and environs\"], \"yaxis\": \"y\"}, {\"alignmentgroup\": \"True\", \"base\": [\"2020-01-22\"], \"hovertemplate\": \"Resource=%{y}<br>Start=%{base}<br>Finish=%{x}<extra></extra>\", \"legendgroup\": \"Taiwan\", \"marker\": {\"color\": \"#FF97FF\"}, \"name\": \"Taiwan\", \"offsetgroup\": \"Taiwan\", \"orientation\": \"h\", \"showlegend\": true, \"textposition\": \"auto\", \"type\": \"bar\", \"x\": [4060800000.0], \"xaxis\": \"x\", \"y\": [\"Taiwan\"], \"yaxis\": \"y\"}, {\"alignmentgroup\": \"True\", \"base\": [\"2020-03-11\"], \"hovertemplate\": \"Resource=%{y}<br>Start=%{base}<br>Finish=%{x}<extra></extra>\", \"legendgroup\": \"Taiwan*\", \"marker\": {\"color\": \"#FECB52\"}, \"name\": \"Taiwan*\", \"offsetgroup\": \"Taiwan*\", \"orientation\": \"h\", \"showlegend\": true, \"textposition\": \"auto\", \"type\": \"bar\", \"x\": [15120000000.0], \"xaxis\": \"x\", \"y\": [\"Taiwan*\"], \"yaxis\": \"y\"}, {\"alignmentgroup\": \"True\", \"base\": [\"2020-05-01\"], \"hovertemplate\": \"Resource=%{y}<br>Start=%{base}<br>Finish=%{x}<extra></extra>\", \"legendgroup\": \"Tajikistan\", \"marker\": {\"color\": \"#636efa\"}, \"name\": \"Tajikistan\", \"offsetgroup\": \"Tajikistan\", \"orientation\": \"h\", \"showlegend\": true, \"textposition\": \"auto\", \"type\": \"bar\", \"x\": [10713600000.0], \"xaxis\": \"x\", \"y\": [\"Tajikistan\"], \"yaxis\": \"y\"}, {\"alignmentgroup\": \"True\", \"base\": [\"2020-03-16\"], \"hovertemplate\": \"Resource=%{y}<br>Start=%{base}<br>Finish=%{x}<extra></extra>\", \"legendgroup\": \"Tanzania\", \"marker\": {\"color\": \"#EF553B\"}, \"name\": \"Tanzania\", \"offsetgroup\": \"Tanzania\", \"orientation\": \"h\", \"showlegend\": true, \"textposition\": \"auto\", \"type\": \"bar\", \"x\": [14688000000.0], \"xaxis\": \"x\", \"y\": [\"Tanzania\"], \"yaxis\": \"y\"}, {\"alignmentgroup\": \"True\", \"base\": [\"2020-01-22\"], \"hovertemplate\": \"Resource=%{y}<br>Start=%{base}<br>Finish=%{x}<extra></extra>\", \"legendgroup\": \"Thailand\", \"marker\": {\"color\": \"#00cc96\"}, \"name\": \"Thailand\", \"offsetgroup\": \"Thailand\", \"orientation\": \"h\", \"showlegend\": true, \"textposition\": \"auto\", \"type\": \"bar\", \"x\": [19353600000.0], \"xaxis\": \"x\", \"y\": [\"Thailand\"], \"yaxis\": \"y\"}, {\"alignmentgroup\": \"True\", \"base\": [\"2020-03-21\"], \"hovertemplate\": \"Resource=%{y}<br>Start=%{base}<br>Finish=%{x}<extra></extra>\", \"legendgroup\": \"East Timor\", \"marker\": {\"color\": \"#ab63fa\"}, \"name\": \"East Timor\", \"offsetgroup\": \"East Timor\", \"orientation\": \"h\", \"showlegend\": true, \"textposition\": \"auto\", \"type\": \"bar\", \"x\": [0.0], \"xaxis\": \"x\", \"y\": [\"East Timor\"], \"yaxis\": \"y\"}, {\"alignmentgroup\": \"True\", \"base\": [\"2020-03-22\"], \"hovertemplate\": \"Resource=%{y}<br>Start=%{base}<br>Finish=%{x}<extra></extra>\", \"legendgroup\": \"Timor-Leste\", \"marker\": {\"color\": \"#FFA15A\"}, \"name\": \"Timor-Leste\", \"offsetgroup\": \"Timor-Leste\", \"orientation\": \"h\", \"showlegend\": true, \"textposition\": \"auto\", \"type\": \"bar\", \"x\": [14169600000.0], \"xaxis\": \"x\", \"y\": [\"Timor-Leste\"], \"yaxis\": \"y\"}, {\"alignmentgroup\": \"True\", \"base\": [\"2020-03-06\"], \"hovertemplate\": \"Resource=%{y}<br>Start=%{base}<br>Finish=%{x}<extra></extra>\", \"legendgroup\": \"Togo\", \"marker\": {\"color\": \"#19d3f3\"}, \"name\": \"Togo\", \"offsetgroup\": \"Togo\", \"orientation\": \"h\", \"showlegend\": true, \"textposition\": \"auto\", \"type\": \"bar\", \"x\": [15552000000.0], \"xaxis\": \"x\", \"y\": [\"Togo\"], \"yaxis\": \"y\"}, {\"alignmentgroup\": \"True\", \"base\": [\"2020-03-14\"], \"hovertemplate\": \"Resource=%{y}<br>Start=%{base}<br>Finish=%{x}<extra></extra>\", \"legendgroup\": \"Trinidad and Tobago\", \"marker\": {\"color\": \"#FF6692\"}, \"name\": \"Trinidad and Tobago\", \"offsetgroup\": \"Trinidad and Tobago\", \"orientation\": \"h\", \"showlegend\": true, \"textposition\": \"auto\", \"type\": \"bar\", \"x\": [14860800000.0], \"xaxis\": \"x\", \"y\": [\"Trinidad and Tobago\"], \"yaxis\": \"y\"}, {\"alignmentgroup\": \"True\", \"base\": [\"2020-03-04\"], \"hovertemplate\": \"Resource=%{y}<br>Start=%{base}<br>Finish=%{x}<extra></extra>\", \"legendgroup\": \"Tunisia\", \"marker\": {\"color\": \"#B6E880\"}, \"name\": \"Tunisia\", \"offsetgroup\": \"Tunisia\", \"orientation\": \"h\", \"showlegend\": true, \"textposition\": \"auto\", \"type\": \"bar\", \"x\": [15724800000.0], \"xaxis\": \"x\", \"y\": [\"Tunisia\"], \"yaxis\": \"y\"}, {\"alignmentgroup\": \"True\", \"base\": [\"2020-03-11\"], \"hovertemplate\": \"Resource=%{y}<br>Start=%{base}<br>Finish=%{x}<extra></extra>\", \"legendgroup\": \"Turkey\", \"marker\": {\"color\": \"#FF97FF\"}, \"name\": \"Turkey\", \"offsetgroup\": \"Turkey\", \"orientation\": \"h\", \"showlegend\": true, \"textposition\": \"auto\", \"type\": \"bar\", \"x\": [15120000000.0], \"xaxis\": \"x\", \"y\": [\"Turkey\"], \"yaxis\": \"y\"}, {\"alignmentgroup\": \"True\", \"base\": [\"2020-01-22\"], \"hovertemplate\": \"Resource=%{y}<br>Start=%{base}<br>Finish=%{x}<extra></extra>\", \"legendgroup\": \"US\", \"marker\": {\"color\": \"#FECB52\"}, \"name\": \"US\", \"offsetgroup\": \"US\", \"orientation\": \"h\", \"showlegend\": true, \"textposition\": \"auto\", \"type\": \"bar\", \"x\": [19353600000.0], \"xaxis\": \"x\", \"y\": [\"US\"], \"yaxis\": \"y\"}, {\"alignmentgroup\": \"True\", \"base\": [\"2020-03-21\"], \"hovertemplate\": \"Resource=%{y}<br>Start=%{base}<br>Finish=%{x}<extra></extra>\", \"legendgroup\": \"Uganda\", \"marker\": {\"color\": \"#636efa\"}, \"name\": \"Uganda\", \"offsetgroup\": \"Uganda\", \"orientation\": \"h\", \"showlegend\": true, \"textposition\": \"auto\", \"type\": \"bar\", \"x\": [14256000000.0], \"xaxis\": \"x\", \"y\": [\"Uganda\"], \"yaxis\": \"y\"}, {\"alignmentgroup\": \"True\", \"base\": [\"2020-03-03\"], \"hovertemplate\": \"Resource=%{y}<br>Start=%{base}<br>Finish=%{x}<extra></extra>\", \"legendgroup\": \"Ukraine\", \"marker\": {\"color\": \"#EF553B\"}, \"name\": \"Ukraine\", \"offsetgroup\": \"Ukraine\", \"orientation\": \"h\", \"showlegend\": true, \"textposition\": \"auto\", \"type\": \"bar\", \"x\": [15811200000.0], \"xaxis\": \"x\", \"y\": [\"Ukraine\"], \"yaxis\": \"y\"}, {\"alignmentgroup\": \"True\", \"base\": [\"2020-01-29\"], \"hovertemplate\": \"Resource=%{y}<br>Start=%{base}<br>Finish=%{x}<extra></extra>\", \"legendgroup\": \"United Arab Emirates\", \"marker\": {\"color\": \"#00cc96\"}, \"name\": \"United Arab Emirates\", \"offsetgroup\": \"United Arab Emirates\", \"orientation\": \"h\", \"showlegend\": true, \"textposition\": \"auto\", \"type\": \"bar\", \"x\": [18748800000.0], \"xaxis\": \"x\", \"y\": [\"United Arab Emirates\"], \"yaxis\": \"y\"}, {\"alignmentgroup\": \"True\", \"base\": [\"2020-01-31\"], \"hovertemplate\": \"Resource=%{y}<br>Start=%{base}<br>Finish=%{x}<extra></extra>\", \"legendgroup\": \"UK\", \"marker\": {\"color\": \"#ab63fa\"}, \"name\": \"UK\", \"offsetgroup\": \"UK\", \"orientation\": \"h\", \"showlegend\": true, \"textposition\": \"auto\", \"type\": \"bar\", \"x\": [3369600000.0], \"xaxis\": \"x\", \"y\": [\"UK\"], \"yaxis\": \"y\"}, {\"alignmentgroup\": \"True\", \"base\": [\"2020-03-11\"], \"hovertemplate\": \"Resource=%{y}<br>Start=%{base}<br>Finish=%{x}<extra></extra>\", \"legendgroup\": \"United Kingdom\", \"marker\": {\"color\": \"#FFA15A\"}, \"name\": \"United Kingdom\", \"offsetgroup\": \"United Kingdom\", \"orientation\": \"h\", \"showlegend\": true, \"textposition\": \"auto\", \"type\": \"bar\", \"x\": [15120000000.0], \"xaxis\": \"x\", \"y\": [\"United Kingdom\"], \"yaxis\": \"y\"}, {\"alignmentgroup\": \"True\", \"base\": [\"2020-03-14\"], \"hovertemplate\": \"Resource=%{y}<br>Start=%{base}<br>Finish=%{x}<extra></extra>\", \"legendgroup\": \"Uruguay\", \"marker\": {\"color\": \"#19d3f3\"}, \"name\": \"Uruguay\", \"offsetgroup\": \"Uruguay\", \"orientation\": \"h\", \"showlegend\": true, \"textposition\": \"auto\", \"type\": \"bar\", \"x\": [14860800000.0], \"xaxis\": \"x\", \"y\": [\"Uruguay\"], \"yaxis\": \"y\"}, {\"alignmentgroup\": \"True\", \"base\": [\"2020-03-15\"], \"hovertemplate\": \"Resource=%{y}<br>Start=%{base}<br>Finish=%{x}<extra></extra>\", \"legendgroup\": \"Uzbekistan\", \"marker\": {\"color\": \"#FF6692\"}, \"name\": \"Uzbekistan\", \"offsetgroup\": \"Uzbekistan\", \"orientation\": \"h\", \"showlegend\": true, \"textposition\": \"auto\", \"type\": \"bar\", \"x\": [14774400000.0], \"xaxis\": \"x\", \"y\": [\"Uzbekistan\"], \"yaxis\": \"y\"}, {\"alignmentgroup\": \"True\", \"base\": [\"2020-03-10\"], \"hovertemplate\": \"Resource=%{y}<br>Start=%{base}<br>Finish=%{x}<extra></extra>\", \"legendgroup\": \"Holy See\", \"marker\": {\"color\": \"#B6E880\"}, \"name\": \"Holy See\", \"offsetgroup\": \"Holy See\", \"orientation\": \"h\", \"showlegend\": true, \"textposition\": \"auto\", \"type\": \"bar\", \"x\": [15206400000.0], \"xaxis\": \"x\", \"y\": [\"Holy See\"], \"yaxis\": \"y\"}, {\"alignmentgroup\": \"True\", \"base\": [\"2020-03-06\"], \"hovertemplate\": \"Resource=%{y}<br>Start=%{base}<br>Finish=%{x}<extra></extra>\", \"legendgroup\": \"Vatican City\", \"marker\": {\"color\": \"#FF97FF\"}, \"name\": \"Vatican City\", \"offsetgroup\": \"Vatican City\", \"orientation\": \"h\", \"showlegend\": true, \"textposition\": \"auto\", \"type\": \"bar\", \"x\": [0.0], \"xaxis\": \"x\", \"y\": [\"Vatican City\"], \"yaxis\": \"y\"}, {\"alignmentgroup\": \"True\", \"base\": [\"2020-03-14\"], \"hovertemplate\": \"Resource=%{y}<br>Start=%{base}<br>Finish=%{x}<extra></extra>\", \"legendgroup\": \"Venezuela\", \"marker\": {\"color\": \"#FECB52\"}, \"name\": \"Venezuela\", \"offsetgroup\": \"Venezuela\", \"orientation\": \"h\", \"showlegend\": true, \"textposition\": \"auto\", \"type\": \"bar\", \"x\": [14860800000.0], \"xaxis\": \"x\", \"y\": [\"Venezuela\"], \"yaxis\": \"y\"}, {\"alignmentgroup\": \"True\", \"base\": [\"2020-03-10\"], \"hovertemplate\": \"Resource=%{y}<br>Start=%{base}<br>Finish=%{x}<extra></extra>\", \"legendgroup\": \"Viet Nam\", \"marker\": {\"color\": \"#636efa\"}, \"name\": \"Viet Nam\", \"offsetgroup\": \"Viet Nam\", \"orientation\": \"h\", \"showlegend\": true, \"textposition\": \"auto\", \"type\": \"bar\", \"x\": [0.0], \"xaxis\": \"x\", \"y\": [\"Viet Nam\"], \"yaxis\": \"y\"}, {\"alignmentgroup\": \"True\", \"base\": [\"2020-01-23\"], \"hovertemplate\": \"Resource=%{y}<br>Start=%{base}<br>Finish=%{x}<extra></extra>\", \"legendgroup\": \"Vietnam\", \"marker\": {\"color\": \"#EF553B\"}, \"name\": \"Vietnam\", \"offsetgroup\": \"Vietnam\", \"orientation\": \"h\", \"showlegend\": true, \"textposition\": \"auto\", \"type\": \"bar\", \"x\": [19267200000.0], \"xaxis\": \"x\", \"y\": [\"Vietnam\"], \"yaxis\": \"y\"}, {\"alignmentgroup\": \"True\", \"base\": [\"2020-03-26\"], \"hovertemplate\": \"Resource=%{y}<br>Start=%{base}<br>Finish=%{x}<extra></extra>\", \"legendgroup\": \"West Bank and Gaza\", \"marker\": {\"color\": \"#00cc96\"}, \"name\": \"West Bank and Gaza\", \"offsetgroup\": \"West Bank and Gaza\", \"orientation\": \"h\", \"showlegend\": true, \"textposition\": \"auto\", \"type\": \"bar\", \"x\": [13824000000.0], \"xaxis\": \"x\", \"y\": [\"West Bank and Gaza\"], \"yaxis\": \"y\"}, {\"alignmentgroup\": \"True\", \"base\": [\"2020-04-05\"], \"hovertemplate\": \"Resource=%{y}<br>Start=%{base}<br>Finish=%{x}<extra></extra>\", \"legendgroup\": \"Western Sahara\", \"marker\": {\"color\": \"#ab63fa\"}, \"name\": \"Western Sahara\", \"offsetgroup\": \"Western Sahara\", \"orientation\": \"h\", \"showlegend\": true, \"textposition\": \"auto\", \"type\": \"bar\", \"x\": [12960000000.0], \"xaxis\": \"x\", \"y\": [\"Western Sahara\"], \"yaxis\": \"y\"}, {\"alignmentgroup\": \"True\", \"base\": [\"2020-04-10\"], \"hovertemplate\": \"Resource=%{y}<br>Start=%{base}<br>Finish=%{x}<extra></extra>\", \"legendgroup\": \"Yemen\", \"marker\": {\"color\": \"#FFA15A\"}, \"name\": \"Yemen\", \"offsetgroup\": \"Yemen\", \"orientation\": \"h\", \"showlegend\": true, \"textposition\": \"auto\", \"type\": \"bar\", \"x\": [12528000000.0], \"xaxis\": \"x\", \"y\": [\"Yemen\"], \"yaxis\": \"y\"}, {\"alignmentgroup\": \"True\", \"base\": [\"2020-03-18\"], \"hovertemplate\": \"Resource=%{y}<br>Start=%{base}<br>Finish=%{x}<extra></extra>\", \"legendgroup\": \"Zambia\", \"marker\": {\"color\": \"#19d3f3\"}, \"name\": \"Zambia\", \"offsetgroup\": \"Zambia\", \"orientation\": \"h\", \"showlegend\": true, \"textposition\": \"auto\", \"type\": \"bar\", \"x\": [14515200000.0], \"xaxis\": \"x\", \"y\": [\"Zambia\"], \"yaxis\": \"y\"}, {\"alignmentgroup\": \"True\", \"base\": [\"2020-03-20\"], \"hovertemplate\": \"Resource=%{y}<br>Start=%{base}<br>Finish=%{x}<extra></extra>\", \"legendgroup\": \"Zimbabwe\", \"marker\": {\"color\": \"#FF6692\"}, \"name\": \"Zimbabwe\", \"offsetgroup\": \"Zimbabwe\", \"orientation\": \"h\", \"showlegend\": true, \"textposition\": \"auto\", \"type\": \"bar\", \"x\": [14342400000.0], \"xaxis\": \"x\", \"y\": [\"Zimbabwe\"], \"yaxis\": \"y\"}, {\"alignmentgroup\": \"True\", \"base\": [\"2020-02-07\"], \"hovertemplate\": \"Resource=%{y}<br>Start=%{base}<br>Finish=%{x}<extra></extra>\", \"legendgroup\": \"Others\", \"marker\": {\"color\": \"#B6E880\"}, \"name\": \"Others\", \"offsetgroup\": \"Others\", \"orientation\": \"h\", \"showlegend\": true, \"textposition\": \"auto\", \"type\": \"bar\", \"x\": [2419200000.0], \"xaxis\": \"x\", \"y\": [\"Others\"], \"yaxis\": \"y\"}],\n",
       "                        {\"barmode\": \"overlay\", \"height\": 2000, \"legend\": {\"title\": {\"text\": \"Resource\"}, \"tracegroupgap\": 0}, \"margin\": {\"t\": 60}, \"template\": {\"data\": {\"bar\": [{\"error_x\": {\"color\": \"#2a3f5f\"}, \"error_y\": {\"color\": \"#2a3f5f\"}, \"marker\": {\"line\": {\"color\": \"#E5ECF6\", \"width\": 0.5}}, \"type\": \"bar\"}], \"barpolar\": [{\"marker\": {\"line\": {\"color\": \"#E5ECF6\", \"width\": 0.5}}, \"type\": \"barpolar\"}], \"carpet\": [{\"aaxis\": {\"endlinecolor\": \"#2a3f5f\", \"gridcolor\": \"white\", \"linecolor\": \"white\", \"minorgridcolor\": \"white\", \"startlinecolor\": \"#2a3f5f\"}, \"baxis\": {\"endlinecolor\": \"#2a3f5f\", \"gridcolor\": \"white\", \"linecolor\": \"white\", \"minorgridcolor\": \"white\", \"startlinecolor\": \"#2a3f5f\"}, \"type\": \"carpet\"}], \"choropleth\": [{\"colorbar\": {\"outlinewidth\": 0, \"ticks\": \"\"}, \"type\": \"choropleth\"}], \"contour\": [{\"colorbar\": {\"outlinewidth\": 0, \"ticks\": \"\"}, \"colorscale\": [[0.0, \"#0d0887\"], [0.1111111111111111, \"#46039f\"], [0.2222222222222222, \"#7201a8\"], [0.3333333333333333, \"#9c179e\"], [0.4444444444444444, \"#bd3786\"], [0.5555555555555556, \"#d8576b\"], [0.6666666666666666, \"#ed7953\"], [0.7777777777777778, \"#fb9f3a\"], [0.8888888888888888, \"#fdca26\"], [1.0, \"#f0f921\"]], \"type\": \"contour\"}], \"contourcarpet\": [{\"colorbar\": {\"outlinewidth\": 0, \"ticks\": \"\"}, \"type\": \"contourcarpet\"}], \"heatmap\": [{\"colorbar\": {\"outlinewidth\": 0, \"ticks\": \"\"}, \"colorscale\": [[0.0, \"#0d0887\"], [0.1111111111111111, \"#46039f\"], [0.2222222222222222, \"#7201a8\"], [0.3333333333333333, \"#9c179e\"], [0.4444444444444444, \"#bd3786\"], [0.5555555555555556, \"#d8576b\"], [0.6666666666666666, \"#ed7953\"], [0.7777777777777778, \"#fb9f3a\"], [0.8888888888888888, \"#fdca26\"], [1.0, \"#f0f921\"]], \"type\": \"heatmap\"}], \"heatmapgl\": [{\"colorbar\": {\"outlinewidth\": 0, \"ticks\": \"\"}, \"colorscale\": [[0.0, \"#0d0887\"], [0.1111111111111111, \"#46039f\"], [0.2222222222222222, \"#7201a8\"], [0.3333333333333333, \"#9c179e\"], [0.4444444444444444, \"#bd3786\"], [0.5555555555555556, \"#d8576b\"], [0.6666666666666666, \"#ed7953\"], [0.7777777777777778, \"#fb9f3a\"], [0.8888888888888888, \"#fdca26\"], [1.0, \"#f0f921\"]], \"type\": \"heatmapgl\"}], \"histogram\": [{\"marker\": {\"colorbar\": {\"outlinewidth\": 0, \"ticks\": \"\"}}, \"type\": \"histogram\"}], \"histogram2d\": [{\"colorbar\": {\"outlinewidth\": 0, \"ticks\": \"\"}, \"colorscale\": [[0.0, \"#0d0887\"], [0.1111111111111111, \"#46039f\"], [0.2222222222222222, \"#7201a8\"], [0.3333333333333333, \"#9c179e\"], [0.4444444444444444, \"#bd3786\"], [0.5555555555555556, \"#d8576b\"], [0.6666666666666666, \"#ed7953\"], [0.7777777777777778, \"#fb9f3a\"], [0.8888888888888888, \"#fdca26\"], [1.0, \"#f0f921\"]], \"type\": \"histogram2d\"}], \"histogram2dcontour\": [{\"colorbar\": {\"outlinewidth\": 0, \"ticks\": \"\"}, \"colorscale\": [[0.0, \"#0d0887\"], [0.1111111111111111, \"#46039f\"], [0.2222222222222222, \"#7201a8\"], [0.3333333333333333, \"#9c179e\"], [0.4444444444444444, \"#bd3786\"], [0.5555555555555556, \"#d8576b\"], [0.6666666666666666, \"#ed7953\"], [0.7777777777777778, \"#fb9f3a\"], [0.8888888888888888, \"#fdca26\"], [1.0, \"#f0f921\"]], \"type\": \"histogram2dcontour\"}], \"mesh3d\": [{\"colorbar\": {\"outlinewidth\": 0, \"ticks\": \"\"}, \"type\": \"mesh3d\"}], \"parcoords\": [{\"line\": {\"colorbar\": {\"outlinewidth\": 0, \"ticks\": \"\"}}, \"type\": \"parcoords\"}], \"pie\": [{\"automargin\": true, \"type\": \"pie\"}], \"scatter\": [{\"marker\": {\"colorbar\": {\"outlinewidth\": 0, \"ticks\": \"\"}}, \"type\": \"scatter\"}], \"scatter3d\": [{\"line\": {\"colorbar\": {\"outlinewidth\": 0, \"ticks\": \"\"}}, \"marker\": {\"colorbar\": {\"outlinewidth\": 0, \"ticks\": \"\"}}, \"type\": \"scatter3d\"}], \"scattercarpet\": [{\"marker\": {\"colorbar\": {\"outlinewidth\": 0, \"ticks\": \"\"}}, \"type\": \"scattercarpet\"}], \"scattergeo\": [{\"marker\": {\"colorbar\": {\"outlinewidth\": 0, \"ticks\": \"\"}}, \"type\": \"scattergeo\"}], \"scattergl\": [{\"marker\": {\"colorbar\": {\"outlinewidth\": 0, \"ticks\": \"\"}}, \"type\": \"scattergl\"}], \"scattermapbox\": [{\"marker\": {\"colorbar\": {\"outlinewidth\": 0, \"ticks\": \"\"}}, \"type\": \"scattermapbox\"}], \"scatterpolar\": [{\"marker\": {\"colorbar\": {\"outlinewidth\": 0, \"ticks\": \"\"}}, \"type\": \"scatterpolar\"}], \"scatterpolargl\": [{\"marker\": {\"colorbar\": {\"outlinewidth\": 0, \"ticks\": \"\"}}, \"type\": \"scatterpolargl\"}], \"scatterternary\": [{\"marker\": {\"colorbar\": {\"outlinewidth\": 0, \"ticks\": \"\"}}, \"type\": \"scatterternary\"}], \"surface\": [{\"colorbar\": {\"outlinewidth\": 0, \"ticks\": \"\"}, \"colorscale\": [[0.0, \"#0d0887\"], [0.1111111111111111, \"#46039f\"], [0.2222222222222222, \"#7201a8\"], [0.3333333333333333, \"#9c179e\"], [0.4444444444444444, \"#bd3786\"], [0.5555555555555556, \"#d8576b\"], [0.6666666666666666, \"#ed7953\"], [0.7777777777777778, \"#fb9f3a\"], [0.8888888888888888, \"#fdca26\"], [1.0, \"#f0f921\"]], \"type\": \"surface\"}], \"table\": [{\"cells\": {\"fill\": {\"color\": \"#EBF0F8\"}, \"line\": {\"color\": \"white\"}}, \"header\": {\"fill\": {\"color\": \"#C8D4E3\"}, \"line\": {\"color\": \"white\"}}, \"type\": \"table\"}]}, \"layout\": {\"annotationdefaults\": {\"arrowcolor\": \"#2a3f5f\", \"arrowhead\": 0, \"arrowwidth\": 1}, \"coloraxis\": {\"colorbar\": {\"outlinewidth\": 0, \"ticks\": \"\"}}, \"colorscale\": {\"diverging\": [[0, \"#8e0152\"], [0.1, \"#c51b7d\"], [0.2, \"#de77ae\"], [0.3, \"#f1b6da\"], [0.4, \"#fde0ef\"], [0.5, \"#f7f7f7\"], [0.6, \"#e6f5d0\"], [0.7, \"#b8e186\"], [0.8, \"#7fbc41\"], [0.9, \"#4d9221\"], [1, \"#276419\"]], \"sequential\": [[0.0, \"#0d0887\"], [0.1111111111111111, \"#46039f\"], [0.2222222222222222, \"#7201a8\"], [0.3333333333333333, \"#9c179e\"], [0.4444444444444444, \"#bd3786\"], [0.5555555555555556, \"#d8576b\"], [0.6666666666666666, \"#ed7953\"], [0.7777777777777778, \"#fb9f3a\"], [0.8888888888888888, \"#fdca26\"], [1.0, \"#f0f921\"]], \"sequentialminus\": [[0.0, \"#0d0887\"], [0.1111111111111111, \"#46039f\"], [0.2222222222222222, \"#7201a8\"], [0.3333333333333333, \"#9c179e\"], [0.4444444444444444, \"#bd3786\"], [0.5555555555555556, \"#d8576b\"], [0.6666666666666666, \"#ed7953\"], [0.7777777777777778, \"#fb9f3a\"], [0.8888888888888888, \"#fdca26\"], [1.0, \"#f0f921\"]]}, \"colorway\": [\"#636efa\", \"#EF553B\", \"#00cc96\", \"#ab63fa\", \"#FFA15A\", \"#19d3f3\", \"#FF6692\", \"#B6E880\", \"#FF97FF\", \"#FECB52\"], \"font\": {\"color\": \"#2a3f5f\"}, \"geo\": {\"bgcolor\": \"white\", \"lakecolor\": \"white\", \"landcolor\": \"#E5ECF6\", \"showlakes\": true, \"showland\": true, \"subunitcolor\": \"white\"}, \"hoverlabel\": {\"align\": \"left\"}, \"hovermode\": \"closest\", \"mapbox\": {\"style\": \"light\"}, \"paper_bgcolor\": \"white\", \"plot_bgcolor\": \"#E5ECF6\", \"polar\": {\"angularaxis\": {\"gridcolor\": \"white\", \"linecolor\": \"white\", \"ticks\": \"\"}, \"bgcolor\": \"#E5ECF6\", \"radialaxis\": {\"gridcolor\": \"white\", \"linecolor\": \"white\", \"ticks\": \"\"}}, \"scene\": {\"xaxis\": {\"backgroundcolor\": \"#E5ECF6\", \"gridcolor\": \"white\", \"gridwidth\": 2, \"linecolor\": \"white\", \"showbackground\": true, \"ticks\": \"\", \"zerolinecolor\": \"white\"}, \"yaxis\": {\"backgroundcolor\": \"#E5ECF6\", \"gridcolor\": \"white\", \"gridwidth\": 2, \"linecolor\": \"white\", \"showbackground\": true, \"ticks\": \"\", \"zerolinecolor\": \"white\"}, \"zaxis\": {\"backgroundcolor\": \"#E5ECF6\", \"gridcolor\": \"white\", \"gridwidth\": 2, \"linecolor\": \"white\", \"showbackground\": true, \"ticks\": \"\", \"zerolinecolor\": \"white\"}}, \"shapedefaults\": {\"line\": {\"color\": \"#2a3f5f\"}}, \"ternary\": {\"aaxis\": {\"gridcolor\": \"white\", \"linecolor\": \"white\", \"ticks\": \"\"}, \"baxis\": {\"gridcolor\": \"white\", \"linecolor\": \"white\", \"ticks\": \"\"}, \"bgcolor\": \"#E5ECF6\", \"caxis\": {\"gridcolor\": \"white\", \"linecolor\": \"white\", \"ticks\": \"\"}}, \"title\": {\"x\": 0.05}, \"xaxis\": {\"automargin\": true, \"gridcolor\": \"white\", \"linecolor\": \"white\", \"ticks\": \"\", \"title\": {\"standoff\": 15}, \"zerolinecolor\": \"white\", \"zerolinewidth\": 2}, \"yaxis\": {\"automargin\": true, \"gridcolor\": \"white\", \"linecolor\": \"white\", \"ticks\": \"\", \"title\": {\"standoff\": 15}, \"zerolinecolor\": \"white\", \"zerolinewidth\": 2}}}, \"width\": 1300, \"xaxis\": {\"anchor\": \"y\", \"domain\": [0.0, 1.0], \"type\": \"date\"}, \"yaxis\": {\"anchor\": \"x\", \"categoryarray\": [\"Others\", \"Zimbabwe\", \"Zambia\", \"Yemen\", \"Western Sahara\", \"West Bank and Gaza\", \"Vietnam\", \"Viet Nam\", \"Venezuela\", \"Vatican City\", \"Holy See\", \"Uzbekistan\", \"Uruguay\", \"United Kingdom\", \"UK\", \"United Arab Emirates\", \"Ukraine\", \"Uganda\", \"US\", \"Turkey\", \"Tunisia\", \"Trinidad and Tobago\", \"Togo\", \"Timor-Leste\", \"East Timor\", \"Thailand\", \"Tanzania\", \"Tajikistan\", \"Taiwan*\", \"Taiwan\", \"Taipei and environs\", \"Syria\", \"Switzerland\", \"Sweden\", \"Suriname\", \"Sudan\", \"Sri Lanka\", \"Spain\", \"South Sudan\", \"South Africa\", \"Somalia\", \"Slovenia\", \"Slovakia\", \"Singapore\", \"Sierra Leone\", \"Seychelles\", \"Serbia\", \"Senegal\", \"Saudi Arabia\", \"Sao Tome and Principe\", \"San Marino\", \"Saint Vincent and the Grenadines\", \"St. Martin\", \"Saint Martin\", \"Saint Lucia\", \"Saint Kitts and Nevis\", \"Saint Barthelemy\", \"Rwanda\", \"Russian Federation\", \"Russia\", \"Romania\", \"Reunion\", \"Qatar\", \"Puerto Rico\", \"Portugal\", \"Poland\", \"Philippines\", \"Peru\", \"Paraguay\", \"Papua New Guinea\", \"Panama\", \"occupied Palestinian territory\", \"Palestine\", \"Pakistan\", \"Oman\", \"Norway\", \"North Macedonia\", \"North Ireland\", \"Nigeria\", \"Niger\", \"Nicaragua\", \"New Zealand\", \"Netherlands\", \"Nepal\", \"Namibia\", \"Mozambique\", \"Morocco\", \"Montenegro\", \"Mongolia\", \"Monaco\", \"Republic of Moldova\", \"Moldova\", \"Mexico\", \"Mayotte\", \"Mauritius\", \"Mauritania\", \"Martinique\", \"Malta\", \"Mali\", \"Maldives\", \"Malaysia\", \"Malawi\", \"Madagascar\", \"Macau\", \"Macao SAR\", \"MS Zaandam\", \"Luxembourg\", \"Lithuania\", \"Liechtenstein\", \"Libya\", \"Liberia\", \"Lesotho\", \"Lebanon\", \"Latvia\", \"Laos\", \"Kyrgyzstan\", \"Kuwait\", \"Kosovo\", \"South Korea\", \"Republic of Korea\", \"Korea, South\", \"Kenya\", \"Kazakhstan\", \"Jordan\", \"Japan\", \"Jamaica\", \"Ivory Coast\", \"Italy\", \"Israel\", \"Republic of Ireland\", \"Ireland\", \"Iraq\", \"Iran (Islamic Republic of)\", \"Iran\", \"Indonesia\", \"India\", \"Iceland\", \"Hungary\", \"Hong Kong\", \"Hong Kong SAR\", \"Honduras\", \"Haiti\", \"Guyana\", \"Guinea-Bissau\", \"Guinea\", \"Guatemala\", \"Guam\", \"Guadeloupe\", \"Grenada\", \"Greenland\", \"Greece\", \"Gibraltar\", \"Ghana\", \"Germany\", \"Georgia\", \"The Gambia\", \"Gambia, The\", \"Gambia\", \"Gabon\", \"French Guiana\", \"France\", \"Finland\", \"Fiji\", \"Faroe Islands\", \"Ethiopia\", \"Eswatini\", \"Estonia\", \"Eritrea\", \"Equatorial Guinea\", \"El Salvador\", \"Egypt\", \"Ecuador\", \"Dominican Republic\", \"Dominica\", \"Djibouti\", \"Diamond Princess\", \"Cruise Ship\", \"Denmark\", \"Czechia\", \"Czech Republic\", \"Cyprus\", \"Curacao\", \"Cuba\", \"Croatia\", \"Cote d'Ivoire\", \"Costa Rica\", \"Republic of the Congo\", \"Congo (Kinshasa)\", \"Congo (Brazzaville)\", \"Comoros\", \"Colombia\", \"Mainland China\", \"China\", \"Chile\", \"Jersey\", \"Guernsey\", \"Channel Islands\", \"Chad\", \"Central African Republic\", \"Cayman Islands\", \"Cape Verde\", \"Canada\", \"Cameroon\", \"Cambodia\", \"Cabo Verde\", \"Burundi\", \"Burma\", \"Burkina Faso\", \"Bulgaria\", \"Brunei\", \"Brazil\", \"Botswana\", \"Bosnia and Herzegovina\", \"Bolivia\", \"Bhutan\", \"Benin\", \"Belize\", \"Belgium\", \"Belarus\", \"Barbados\", \"Bangladesh\", \"Bahrain\", \"The Bahamas\", \"Bahamas, The\", \"Bahamas\", \"Azerbaijan\", \" Azerbaijan\", \"Austria\", \"Australia\", \"Aruba\", \"Armenia\", \"Argentina\", \"Antigua and Barbuda\", \"Angola\", \"Andorra\", \"Algeria\", \"Albania\", \"Afghanistan\"], \"categoryorder\": \"array\", \"domain\": [0.0, 1.0], \"title\": {\"text\": \"Resource\"}}},\n",
       "                        {\"responsive\": true}\n",
       "                    ).then(function(){\n",
       "                            \n",
       "var gd = document.getElementById('2d7e6852-285d-4ed9-8096-3c7dfdba6d99');\n",
       "var x = new MutationObserver(function (mutations, observer) {{\n",
       "        var display = window.getComputedStyle(gd).display;\n",
       "        if (!display || display === 'none') {{\n",
       "            console.log([gd, 'removed!']);\n",
       "            Plotly.purge(gd);\n",
       "            observer.disconnect();\n",
       "        }}\n",
       "}});\n",
       "\n",
       "// Listen for the removal of the full notebook cells\n",
       "var notebookContainer = gd.closest('#notebook-container');\n",
       "if (notebookContainer) {{\n",
       "    x.observe(notebookContainer, {childList: true});\n",
       "}}\n",
       "\n",
       "// Listen for the clearing of the current output cell\n",
       "var outputEl = gd.closest('.output');\n",
       "if (outputEl) {{\n",
       "    x.observe(outputEl, {childList: true});\n",
       "}}\n",
       "\n",
       "                        })\n",
       "                };\n",
       "                });\n",
       "            </script>\n",
       "        </div>"
      ]
     },
     "metadata": {},
     "output_type": "display_data"
    }
   ],
   "source": [
    "fig = px.timeline(pd.DataFrame(gantt_list), x_start=\"Start\", x_end=\"Finish\", y=\"Resource\", color=\"Resource\",\n",
    "                  facet_row_spacing=0.5, width=1300, height=2000)\n",
    "\n",
    "fig.show()"
   ]
  },
  {
   "cell_type": "code",
   "execution_count": null,
   "metadata": {},
   "outputs": [],
   "source": []
  },
  {
   "cell_type": "code",
   "execution_count": null,
   "metadata": {},
   "outputs": [],
   "source": []
  },
  {
   "cell_type": "code",
   "execution_count": null,
   "metadata": {},
   "outputs": [],
   "source": []
  }
 ],
 "metadata": {
  "kernelspec": {
   "display_name": "Python 3",
   "language": "python",
   "name": "python3"
  },
  "language_info": {
   "codemirror_mode": {
    "name": "ipython",
    "version": 3
   },
   "file_extension": ".py",
   "mimetype": "text/x-python",
   "name": "python",
   "nbconvert_exporter": "python",
   "pygments_lexer": "ipython3",
   "version": "3.8.3"
  }
 },
 "nbformat": 4,
 "nbformat_minor": 4
}
