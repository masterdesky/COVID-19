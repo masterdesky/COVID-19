{
 "cells": [
  {
   "cell_type": "markdown",
   "metadata": {},
   "source": [
    "# Preprocess data of COVID-19 for the analysis"
   ]
  },
  {
   "cell_type": "code",
   "execution_count": null,
   "metadata": {},
   "outputs": [],
   "source": [
    "import os\n",
    "import sys\n",
    "import datetime\n",
    "import numpy as np\n",
    "import pandas as pd\n",
    "import urllib.request\n",
    "from github import Github\n",
    "from getpass import getpass\n",
    "\n",
    "from IPython.display import clear_output, display"
   ]
  },
  {
   "cell_type": "markdown",
   "metadata": {},
   "source": [
    "## Login to GitHub"
   ]
  },
  {
   "cell_type": "code",
   "execution_count": null,
   "metadata": {},
   "outputs": [],
   "source": [
    "access_token = getpass()"
   ]
  },
  {
   "cell_type": "code",
   "execution_count": null,
   "metadata": {},
   "outputs": [],
   "source": [
    "# Login\n",
    "g = Github(access_token)\n",
    "\n",
    "# Get the COVID-19 repository of CSSEGISandData\n",
    "repo = g.get_repo('CSSEGISandData/COVID-19')"
   ]
  },
  {
   "cell_type": "markdown",
   "metadata": {},
   "source": [
    "## Load data from the GitHub repository of CSSEGISandData"
   ]
  },
  {
   "cell_type": "code",
   "execution_count": null,
   "metadata": {},
   "outputs": [],
   "source": [
    "# The root directory of the COVID datasets in the CSSEGISandData's repository\n",
    "_root = 'https://raw.githubusercontent.com/CSSEGISandData/COVID-19/master/'"
   ]
  },
  {
   "cell_type": "code",
   "execution_count": null,
   "metadata": {},
   "outputs": [],
   "source": [
    "# Get the names of the directories, which contain the daily reports of the pandemic\n",
    "# There are two different directories:\n",
    "#   - One contains data for the US\n",
    "#   - The other one contains data for the rest of the world\n",
    "world_repo = repo.get_contents('./csse_covid_19_data/csse_covid_19_daily_reports/')\n",
    "us_repo = repo.get_contents('./csse_covid_19_data/csse_covid_19_daily_reports_us/')"
   ]
  },
  {
   "cell_type": "markdown",
   "metadata": {},
   "source": [
    "### Gather all URLs where the daily datasets are stored in raw format"
   ]
  },
  {
   "cell_type": "code",
   "execution_count": null,
   "metadata": {},
   "outputs": [],
   "source": [
    "daily_world_raw = []\n",
    "daily_us_raw = []\n",
    "\n",
    "for d in world_repo:\n",
    "    _name = d.path\n",
    "    if '.csv' in _name:\n",
    "        daily_world_raw.append(_root + _name)\n",
    "\n",
    "for d in us_repo:\n",
    "    _name = d.path\n",
    "    if '.csv' in _name:\n",
    "        daily_us_raw.append(_root + _name)"
   ]
  },
  {
   "cell_type": "markdown",
   "metadata": {},
   "source": [
    "### Check a some datatables to inspect their structure"
   ]
  },
  {
   "cell_type": "code",
   "execution_count": null,
   "metadata": {},
   "outputs": [],
   "source": [
    "url_test = daily_world_raw[5]\n",
    "with urllib.request.urlopen(url_test) as url:\n",
    "    data_test = pd.read_csv(url, sep=',', comment='#', header=0)"
   ]
  },
  {
   "cell_type": "code",
   "execution_count": null,
   "metadata": {},
   "outputs": [],
   "source": [
    "data_test.head()"
   ]
  },
  {
   "cell_type": "code",
   "execution_count": null,
   "metadata": {},
   "outputs": [],
   "source": [
    "data_test.tail()"
   ]
  },
  {
   "cell_type": "code",
   "execution_count": null,
   "metadata": {},
   "outputs": [],
   "source": [
    "url_test = daily_world_raw[-1]\n",
    "with urllib.request.urlopen(url_test) as url:\n",
    "    data_test = pd.read_csv(url, sep=',', comment='#', header=0)"
   ]
  },
  {
   "cell_type": "code",
   "execution_count": null,
   "metadata": {},
   "outputs": [],
   "source": [
    "data_test.head()"
   ]
  },
  {
   "cell_type": "code",
   "execution_count": null,
   "metadata": {},
   "outputs": [],
   "source": [
    "data_test.tail()"
   ]
  },
  {
   "cell_type": "markdown",
   "metadata": {},
   "source": [
    "The structure heavily changed since the first data release, and thus we need to manually bodge it together to get a usable dataset."
   ]
  },
  {
   "cell_type": "markdown",
   "metadata": {},
   "source": [
    "### Gather all daily dataset"
   ]
  },
  {
   "cell_type": "code",
   "execution_count": null,
   "metadata": {},
   "outputs": [],
   "source": [
    "data_tables_world = []\n",
    "data_tables_us = []\n",
    "\n",
    "for raw_url in daily_world_raw:\n",
    "    with urllib.request.urlopen(raw_url) as url:\n",
    "        sys.stdout.flush()\n",
    "        sys.stdout.write('\\rCurrent file (world): {}'.format(raw_url.split('/')[-1]))\n",
    "        data_tables_world.append(pd.read_csv(url, sep=',', comment='#', header=0))\n",
    "clear_output()\n",
    "for raw_url in daily_us_raw:\n",
    "    with urllib.request.urlopen(raw_url) as url:\n",
    "        sys.stdout.flush()\n",
    "        sys.stdout.write('\\rCurrent file (US): {}'.format(raw_url.split('/')[-1]))\n",
    "        data_tables_us.append(pd.read_csv(url, sep=',', comment='#', header=0))\n",
    "clear_output()\n",
    "print('FINISHED!')"
   ]
  },
  {
   "cell_type": "markdown",
   "metadata": {},
   "source": [
    "## Standardize data tables\n",
    "\n",
    "During the (currently still active) period of the data release, numerous entries, labels and columns were changed for the sake of clarity and usablity. When it comes to the construction of time series, we have to standardize all tables first, only after that should we proceed with the aggregation. The standardization creates the opportunity to efficiently handle separate daily reports just as cross sections of the (now uniform) dataset. In this section the "
   ]
  },
  {
   "cell_type": "markdown",
   "metadata": {},
   "source": [
    "### 0. Standardize column names\n",
    "\n",
    "Some column names were changed between the first and the last release of the daily reports. First we need to standardize column names for all data tables. The affected columns are the following:\n",
    "\n",
    "| Old label               | New label         |\n",
    "|:----------------------- |:----------------- |\n",
    "| `Country/Region`        | `Country_Region`  |\n",
    "| `Last Update`           | `Last_Update`     |\n",
    "| `Lat`                   | `Latitude`        |\n",
    "| `Long_`                 | `Longitude`       |\n",
    "| `Province/State`        | `Province_State`  |"
   ]
  },
  {
   "cell_type": "markdown",
   "metadata": {},
   "source": [
    "#### Global data"
   ]
  },
  {
   "cell_type": "code",
   "execution_count": null,
   "metadata": {},
   "outputs": [],
   "source": [
    "column_formats = set()\n",
    "for df in data_tables_world:\n",
    "    cols = df.columns\n",
    "    for c in cols:\n",
    "        column_formats.add(c)"
   ]
  },
  {
   "cell_type": "code",
   "execution_count": null,
   "metadata": {},
   "outputs": [],
   "source": [
    "column_formats"
   ]
  },
  {
   "cell_type": "code",
   "execution_count": null,
   "metadata": {},
   "outputs": [],
   "source": [
    "column_dict_world = {\n",
    "    'Country/Region' : 'Country_Region',\n",
    "    'Last Update' : 'Last_Update',\n",
    "    'Lat' : 'Latitude',\n",
    "    'Long_' : 'Longitude',\n",
    "    'Province/State' : 'Province_State'\n",
    "}\n",
    "\n",
    "column_dict_world_K = [k for k, _ in column_dict_world.items()]\n",
    "column_dict_world_V = [v for _, v in column_dict_world.items()]"
   ]
  },
  {
   "cell_type": "code",
   "execution_count": null,
   "metadata": {},
   "outputs": [],
   "source": [
    "for i, df in enumerate(data_tables_world):\n",
    "    # Column names of the current DataFrame\n",
    "    cols = df.columns\n",
    "    # Create a dictionary with the new column names, since\n",
    "    # the pandas.DataFrame.rename method requires a  dictionary as\n",
    "    # its attribute\n",
    "    new_cols = {}\n",
    "    for c in cols:\n",
    "        if c in column_dict_world_K:\n",
    "            new_cols[c] = column_dict_world[c]\n",
    "        else:\n",
    "            new_cols[c] = c\n",
    "    \n",
    "    data_tables_world[i] = df.rename(columns=new_cols)"
   ]
  },
  {
   "cell_type": "markdown",
   "metadata": {},
   "source": [
    "#### US data"
   ]
  },
  {
   "cell_type": "code",
   "execution_count": null,
   "metadata": {},
   "outputs": [],
   "source": [
    "column_formats = set()\n",
    "for df in data_tables_us:\n",
    "    cols = df.columns\n",
    "    for c in cols:\n",
    "        column_formats.add(c)"
   ]
  },
  {
   "cell_type": "code",
   "execution_count": null,
   "metadata": {},
   "outputs": [],
   "source": [
    "column_formats"
   ]
  },
  {
   "cell_type": "code",
   "execution_count": null,
   "metadata": {},
   "outputs": [],
   "source": [
    "column_dict_us = {\n",
    "    'Lat' : 'Latitude',\n",
    "    'Long_' : 'Longitude',\n",
    "}\n",
    "\n",
    "column_dict_us_K = [k for k, _ in column_dict_us.items()]\n",
    "column_dict_us_V = [v for _, v in column_dict_us.items()]"
   ]
  },
  {
   "cell_type": "code",
   "execution_count": null,
   "metadata": {},
   "outputs": [],
   "source": [
    "for i, df in enumerate(data_tables_us):\n",
    "    # Column names of the current DataFrame\n",
    "    cols = df.columns\n",
    "    # Create a dictionary with the new column names, since\n",
    "    # the pandas.DataFrame.rename method requires a  dictionary as\n",
    "    # its attribute\n",
    "    new_cols = {}\n",
    "    for c in cols:\n",
    "        if c in column_dict_us_K:\n",
    "            new_cols[c] = column_dict_us[c]\n",
    "        else:\n",
    "            new_cols[c] = c\n",
    "    \n",
    "    data_tables_us[i] = df.rename(columns=new_cols)"
   ]
  },
  {
   "cell_type": "markdown",
   "metadata": {},
   "source": [
    "There are a lot of dispensable columns in the data tables, which are simply unnecessary for this analysis. To further standardize columns, we can trim down these columns from tables in the dataset."
   ]
  },
  {
   "cell_type": "code",
   "execution_count": null,
   "metadata": {},
   "outputs": [],
   "source": [
    "# We keep these columns in the tables\n",
    "column_names = ['Province_State', 'Country_Region', 'Last_Update', 'Confirmed', 'Recovered', 'Deaths']"
   ]
  },
  {
   "cell_type": "code",
   "execution_count": null,
   "metadata": {},
   "outputs": [],
   "source": [
    "for i, df in enumerate(data_tables_world):\n",
    "    data_tables_world[i] = df[column_names]"
   ]
  },
  {
   "cell_type": "code",
   "execution_count": null,
   "metadata": {},
   "outputs": [],
   "source": [
    "for i, df in enumerate(data_tables_us):\n",
    "    data_tables_us[i] = df[column_names]"
   ]
  },
  {
   "cell_type": "markdown",
   "metadata": {},
   "source": [
    "### 1. Standardize the column `Last_Update` with datetime entries"
   ]
  },
  {
   "cell_type": "code",
   "execution_count": null,
   "metadata": {},
   "outputs": [],
   "source": [
    "def convert_date_list(df_column):\n",
    "    \n",
    "    iso_column = df_column.copy()\n",
    "    \n",
    "    for i, d in enumerate(iso_column):\n",
    "        \n",
    "        # In the US data there are some entries with NaN values\n",
    "        # This branch intends to handle these faulty entries\n",
    "        nan = False\n",
    "        \n",
    "        if str(d).lower() == 'nan':\n",
    "            nan = True\n",
    "            # Since all non-NaN entries in the US dataset are usually the same for a single data table,\n",
    "            # we can randomly choose one from these values and replace all NaN entries with that\n",
    "            non_nan = [i for i in iso_column if str(i).lower() != 'nan']\n",
    "            d = non_nan[0]\n",
    "\n",
    "        # Standardize datetimes to the ISO 8601 format\n",
    "        if '/' in d:\n",
    "            if len(d.split(' ')[0].split('/')[-1]) == 2:\n",
    "                date_time_obj = datetime.datetime.strptime(d, '%m/%d/%y %H:%M')\n",
    "                iso_column[i] = date_time_obj.isoformat()\n",
    "            else:\n",
    "                date_time_obj = datetime.datetime.strptime(d, '%m/%d/%Y %H:%M')\n",
    "                iso_column[i] = date_time_obj.isoformat()\n",
    "        elif '-' in d:\n",
    "            if ' ' in d:\n",
    "                date_time_obj = datetime.datetime.strptime(d, '%Y-%m-%d %H:%M:%S')\n",
    "                iso_column[i] = date_time_obj.isoformat()\n",
    "            else:\n",
    "                # If the original value was NaN, we need to owerwrite the entry\n",
    "                # In any other case, the entry was already in a good format\n",
    "                if nan:\n",
    "                    iso_column[i] = d\n",
    "                else:\n",
    "                    continue\n",
    "        else:\n",
    "            # If the original value was NaN, we need to owerwrite the entry\n",
    "            # In any other case, the entry was already in a good format\n",
    "            if nan:\n",
    "                iso_column[i] = d\n",
    "            else:\n",
    "                continue\n",
    "\n",
    "    return iso_column"
   ]
  },
  {
   "cell_type": "code",
   "execution_count": null,
   "metadata": {},
   "outputs": [],
   "source": [
    "for i, df in enumerate(data_tables_world):\n",
    "    data_tables_world[i]['Last_Update'] = convert_date_list(df_column=df['Last_Update'])"
   ]
  },
  {
   "cell_type": "code",
   "execution_count": null,
   "metadata": {},
   "outputs": [],
   "source": [
    "for i, df in enumerate(data_tables_us):\n",
    "    data_tables_us[i]['Last_Update'] = convert_date_list(df_column=df['Last_Update'])"
   ]
  },
  {
   "cell_type": "markdown",
   "metadata": {},
   "source": [
    "### 2. Standardize the column `Country_Region` and `Province_State`\n",
    "\n",
    "Names of countries and regions were changed numerous times in the daily reports. In order to properly aggregate the data values for each country or region, we need to create a dictionary that contains all the different occurrences of their names. After that we can then manually match the different names for the same country/region.\n",
    "\n",
    "Also a lot of regions in the list are considered as overseas departments and regions, autonomous areas, etc. For the sake of clarity the data from these regions were merged into the dataset of their corresponding country during the interval of the data release. We should handle these cases as well."
   ]
  },
  {
   "cell_type": "code",
   "execution_count": null,
   "metadata": {},
   "outputs": [],
   "source": [
    "country_region = {\n",
    "    'Afghanistan' : ['Afghanistan'],\n",
    "    'Albania' : ['Albania'],\n",
    "    'Algeria' : ['Algeria'],\n",
    "    'Andorra' : ['Andorra'],\n",
    "    'Angola' : ['Angola'],\n",
    "    'Antigua and Barbuda' : ['Antigua and Barbuda'],\n",
    "    'Argentina' : ['Argentina'],\n",
    "    'Armenia' : ['Armenia'],\n",
    "    'Aruba' : ['Aruba'],\n",
    "    'Australia' : ['Australia'],\n",
    "    'Austria' : ['Austria'],\n",
    "    'Azerbaijan' : [' Azerbaijan', 'Azerbaijan'],\n",
    "    'Bahamas' : ['Bahamas', 'Bahamas, The', 'The Bahamas'],\n",
    "    'Bahrain' : ['Bahrain'],\n",
    "    'Bangladesh' : ['Bangladesh'],\n",
    "    'Barbados' : ['Barbados'],\n",
    "    'Belarus' : ['Belarus'],\n",
    "    'Belgium' : ['Belgium'],\n",
    "    'Belize' : ['Belize'],\n",
    "    'Benin' : ['Benin'],\n",
    "    'Bhutan' : ['Bhutan'],\n",
    "    'Bolivia' : ['Bolivia'],\n",
    "    'Bosnia and Herzegovina' : ['Bosnia and Herzegovina'],\n",
    "    'Botswana' : ['Botswana'],\n",
    "    'Brazil' : ['Brazil'],\n",
    "    'Brunei' : ['Brunei'],\n",
    "    'Bulgaria' : ['Bulgaria'],\n",
    "    'Burkina Faso' : ['Burkina Faso'],\n",
    "    'Burma' : ['Burma'],\n",
    "    'Burundi' : ['Burundi'],\n",
    "    'Cabo Verde' : ['Cabo Verde'],\n",
    "    'Cambodia' : ['Cambodia'],\n",
    "    'Cameroon' : ['Cameroon'],\n",
    "    'Canada' : ['Canada'],\n",
    "    'Cape Verde' : ['Cape Verde'],\n",
    "    'Cayman Islands' : ['Cayman Islands'],\n",
    "    'Central African Republic' : ['Central African Republic'],\n",
    "    'Chad' : ['Chad'],\n",
    "    'Channel Islands': ['Channel Islands', 'Guernsey', 'Jersey'],\n",
    "    'Chile' : ['Chile'],\n",
    "    'China' : ['China',  'Mainland China'],\n",
    "    'Colombia' : ['Colombia'],\n",
    "    'Comoros' : ['Comoros'],\n",
    "    'Congo (Brazzaville)' : ['Congo (Brazzaville)'],\n",
    "    'Congo (Kinshasa)' : ['Congo (Kinshasa)', 'Republic of the Congo'],\n",
    "    'Costa Rica' : ['Costa Rica'],\n",
    "    \"Cote d'Ivoire\" : [\"Cote d'Ivoire\"],\n",
    "    'Croatia' : ['Croatia'],\n",
    "    'Cuba' : ['Cuba'],\n",
    "    'Curacao' : ['Curacao'],\n",
    "    'Cyprus' : ['Cyprus'],\n",
    "    'Czechia' : ['Czech Republic', 'Czechia'],\n",
    "    'Denmark' : ['Denmark'],\n",
    "    'Diamond Princess' : ['Cruise Ship', 'Diamond Princess'],\n",
    "    'Djibouti' : ['Djibouti'],\n",
    "    'Dominica' : ['Dominica'],\n",
    "    'Dominican Republic' : ['Dominican Republic'],\n",
    "    'Ecuador' : ['Ecuador'],\n",
    "    'Egypt' : ['Egypt'],\n",
    "    'El Salvador' : ['El Salvador'],\n",
    "    'Equatorial Guinea' : ['Equatorial Guinea'],\n",
    "    'Eritrea' : ['Eritrea'],\n",
    "    'Estonia' : ['Estonia'],\n",
    "    'Eswatini' : ['Eswatini'],\n",
    "    'Ethiopia' : ['Ethiopia'],\n",
    "    'Faroe Islands' : ['Faroe Islands'],\n",
    "    'Fiji' : ['Fiji'],\n",
    "    'Finland' : ['Finland'],\n",
    "    'France' : ['France'],\n",
    "    'French Guiana': ['French Guiana'],\n",
    "    'Gabon' : ['Gabon'],\n",
    "    'Gambia' : ['Gambia', 'Gambia, The', 'The Gambia'],\n",
    "    'Georgia' : ['Georgia'],\n",
    "    'Germany' : ['Germany'],\n",
    "    'Ghana' : ['Ghana'],\n",
    "    'Gibraltar' : ['Gibraltar'],\n",
    "    'Greece' : ['Greece'],\n",
    "    'Greenland' : ['Greenland'],\n",
    "    'Grenada' : ['Grenada'],\n",
    "    'Guadeloupe' : ['Guadeloupe'],\n",
    "    'Guam' : ['Guam'],\n",
    "    'Guatemala' : ['Guatemala'],\n",
    "    'Guinea' : ['Guinea'],\n",
    "    'Guinea-Bissau' : ['Guinea-Bissau'],\n",
    "    'Guyana' : ['Guyana'],\n",
    "    'Haiti' : ['Haiti'],\n",
    "    'Holy See' : ['Holy See', 'Vatican City'],\n",
    "    'Honduras' : ['Honduras'],\n",
    "    'Hong Kong' : ['Hong Kong SAR', 'Hong Kong'],\n",
    "    'Hungary' : ['Hungary'],\n",
    "    'Iceland' : ['Iceland'],\n",
    "    'India' : ['India'],\n",
    "    'Indonesia' : ['Indonesia'],\n",
    "    'Iran' : ['Iran', 'Iran (Islamic Republic of)'],\n",
    "    'Iraq' : ['Iraq'],\n",
    "    'Ireland' : ['Ireland', 'Republic of Ireland'],\n",
    "    'Israel' : ['Israel'],\n",
    "    'Italy' : ['Italy'],\n",
    "    'Ivory Coast' : ['Ivory Coast'],\n",
    "    'Jamaica' : ['Jamaica'],\n",
    "    'Japan' : ['Japan'],\n",
    "    'Jordan' : ['Jordan'],\n",
    "    'Kazakhstan' : ['Kazakhstan'],\n",
    "    'Kenya' : ['Kenya'],\n",
    "    'Korea, South' : ['Korea, South', 'Republic of Korea', 'South Korea'],\n",
    "    'Kosovo' : ['Kosovo'],\n",
    "    'Kuwait' : ['Kuwait'],\n",
    "    'Kyrgyzstan' : ['Kyrgyzstan'],\n",
    "    'Laos' : ['Laos'],\n",
    "    'Latvia' : ['Latvia'],\n",
    "    'Lebanon' : ['Lebanon'],\n",
    "    'Lesotho' : ['Lesotho'],\n",
    "    'Liberia' : ['Liberia'],\n",
    "    'Libya' : ['Libya'],\n",
    "    'Liechtenstein' : ['Liechtenstein'],\n",
    "    'Lithuania' : ['Lithuania'],\n",
    "    'Luxembourg' : ['Luxembourg'],\n",
    "    'MS Zaandam' : ['MS Zaandam'],\n",
    "    'Macau' : ['Macao SAR', 'Macau'],\n",
    "    'Madagascar' : ['Madagascar'],\n",
    "    'Malawi' : ['Malawi'],\n",
    "    'Malaysia' : ['Malaysia'],\n",
    "    'Maldives' : ['Maldives'],\n",
    "    'Mali' : ['Mali'],\n",
    "    'Malta' : ['Malta'],\n",
    "    'Martinique' : ['Martinique'],\n",
    "    'Mauritania' : ['Mauritania'],\n",
    "    'Mauritius' : ['Mauritius'],\n",
    "    'Mayotte' : ['Mayotte'],\n",
    "    'Mexico' : ['Mexico'],\n",
    "    'Moldova' : ['Moldova', 'Republic of Moldova'],\n",
    "    'Monaco' : ['Monaco'],\n",
    "    'Mongolia' : ['Mongolia'],\n",
    "    'Montenegro' : ['Montenegro'],\n",
    "    'Morocco' : ['Morocco'],\n",
    "    'Mozambique' : ['Mozambique'],\n",
    "    'Namibia' : ['Namibia'],\n",
    "    'Nepal' : ['Nepal'],\n",
    "    'Netherlands' : ['Netherlands'],\n",
    "    'New Zealand' : ['New Zealand'],\n",
    "    'Nicaragua' : ['Nicaragua'],\n",
    "    'Niger' : ['Niger'],\n",
    "    'Nigeria' : ['Nigeria'],\n",
    "    'North Ireland' : ['North Ireland'],\n",
    "    'North Macedonia' : ['North Macedonia'],\n",
    "    'Norway' : ['Norway'],\n",
    "    'Oman' : ['Oman'],\n",
    "    'Pakistan' : ['Pakistan'],\n",
    "    'Palestine' : ['Palestine', 'occupied Palestinian territory'],\n",
    "    'Panama' : ['Panama'],\n",
    "    'Papua New Guinea' : ['Papua New Guinea'],\n",
    "    'Paraguay' : ['Paraguay'],\n",
    "    'Peru' : ['Peru'],\n",
    "    'Philippines' : ['Philippines'],\n",
    "    'Poland' : ['Poland'],\n",
    "    'Portugal' : ['Portugal'],\n",
    "    'Puerto Rico' : ['Puerto Rico'],\n",
    "    'Qatar' : ['Qatar'],\n",
    "    'Reunion' : ['Reunion'],\n",
    "    'Romania' : ['Romania'],\n",
    "    'Russia' : ['Russia', 'Russian Federation'],\n",
    "    'Rwanda' : ['Rwanda'],\n",
    "    'Saint Barthelemy' : ['Saint Barthelemy'],\n",
    "    'Saint Kitts and Nevis' : ['Saint Kitts and Nevis'],\n",
    "    'Saint Lucia' : ['Saint Lucia'],\n",
    "    'Saint Martin' : ['Saint Martin', 'St. Martin'],\n",
    "    'Saint Vincent and the Grenadines' : ['Saint Vincent and the Grenadines'],\n",
    "    'San Marino' : ['San Marino'],\n",
    "    'Sao Tome and Principe' : ['Sao Tome and Principe'],\n",
    "    'Saudi Arabia' : ['Saudi Arabia'],\n",
    "    'Senegal' : ['Senegal'],\n",
    "    'Serbia' : ['Serbia'],\n",
    "    'Seychelles' : ['Seychelles'],\n",
    "    'Sierra Leone' : ['Sierra Leone'],\n",
    "    'Singapore' : ['Singapore'],\n",
    "    'Slovakia' : ['Slovakia'],\n",
    "    'Slovenia' : ['Slovenia'],\n",
    "    'Somalia' : ['Somalia'],\n",
    "    'South Africa' : ['South Africa'],\n",
    "    'South Sudan' : ['South Sudan'],\n",
    "    'Spain' : ['Spain'],\n",
    "    'Sri Lanka' : ['Sri Lanka'],\n",
    "    'Sudan' : ['Sudan'],\n",
    "    'Suriname' : ['Suriname'],\n",
    "    'Sweden' : ['Sweden'],\n",
    "    'Switzerland' : ['Switzerland'],\n",
    "    'Syria' : ['Syria'],\n",
    "    'Taiwan*' : ['Taipei and environs', 'Taiwan', 'Taiwan*'],\n",
    "    'Tajikistan' : ['Tajikistan'],\n",
    "    'Tanzania' : ['Tanzania'],\n",
    "    'Thailand' : ['Thailand'],\n",
    "    'Timor-Leste' : ['East Timor', 'Timor-Leste'],\n",
    "    'Togo' : ['Togo'],\n",
    "    'Trinidad and Tobago' : ['Trinidad and Tobago'],\n",
    "    'Tunisia' : ['Tunisia'],\n",
    "    'Turkey' : ['Turkey'],\n",
    "    'US' : ['US'],\n",
    "    'Uganda' : ['Uganda'],\n",
    "    'Ukraine' : ['Ukraine'],\n",
    "    'United Arab Emirates' : ['United Arab Emirates'],\n",
    "    'United Kingdom' : ['UK', 'United Kingdom'],\n",
    "    'Uruguay' : ['Uruguay'],\n",
    "    'Uzbekistan' : ['Uzbekistan'],\n",
    "    'Venezuela' : ['Venezuela'],\n",
    "    'Vietnam' : ['Viet Nam', 'Vietnam'],\n",
    "    'West Bank and Gaza' : ['West Bank and Gaza'],\n",
    "    'Western Sahara' : ['Western Sahara'],\n",
    "    'Yemen' : ['Yemen'],\n",
    "    'Zambia' : ['Zambia'],\n",
    "    'Zimbabwe' : ['Zimbabwe'],\n",
    "    'Others' : ['Others']\n",
    "}"
   ]
  },
  {
   "cell_type": "code",
   "execution_count": null,
   "metadata": {},
   "outputs": [],
   "source": [
    "# Create a lookup table using the dictionary above to rename countries/regions\n",
    "region_LUT = {}\n",
    "for k, v in country_region.items():\n",
    "    for _name in v:\n",
    "        region_LUT[_name] = k"
   ]
  },
  {
   "cell_type": "markdown",
   "metadata": {},
   "source": [
    "#### Create a Gantt chart of the occurences of different region names in the dataset"
   ]
  },
  {
   "cell_type": "code",
   "execution_count": null,
   "metadata": {},
   "outputs": [],
   "source": [
    "import plotly.express as px"
   ]
  },
  {
   "cell_type": "code",
   "execution_count": null,
   "metadata": {},
   "outputs": [],
   "source": [
    "# Stores date of last update for every valid entry\n",
    "timeline_dict = {c : [] for c, _ in region_LUT.items()}\n",
    "\n",
    "for df in data_tables_world:\n",
    "    for i, c in enumerate(df['Country_Region'].values):\n",
    "        timeline_dict[c].append(df['Last_Update'].values[i])"
   ]
  },
  {
   "cell_type": "code",
   "execution_count": null,
   "metadata": {},
   "outputs": [],
   "source": [
    "gantt_list = []\n",
    "for c, _ in region_LUT.items():\n",
    "    d = timeline_dict[c]\n",
    "    gantt_list.append(dict(Task=c, Start=d[0][:10], Finish=d[-1][:10], Resource=c))"
   ]
  },
  {
   "cell_type": "code",
   "execution_count": null,
   "metadata": {},
   "outputs": [],
   "source": [
    "fig = px.timeline(pd.DataFrame(gantt_list), x_start=\"Start\", x_end=\"Finish\", y=\"Resource\", color=\"Resource\",\n",
    "                  facet_row_spacing=0.5, width=1300, height=2000)\n",
    "\n",
    "fig.show()"
   ]
  },
  {
   "cell_type": "markdown",
   "metadata": {},
   "source": [
    "#### Convert `Country_Region` entries to correct format"
   ]
  },
  {
   "cell_type": "code",
   "execution_count": null,
   "metadata": {},
   "outputs": [],
   "source": [
    "def convert_country_list(df_column):\n",
    "    \n",
    "    new_country_list = df_column.copy()\n",
    "    \n",
    "    for i, c in enumerate(new_country_list):\n",
    "        new_country_list[i] = region_LUT[c]\n",
    "        \n",
    "    return new_country_list"
   ]
  },
  {
   "cell_type": "code",
   "execution_count": null,
   "metadata": {},
   "outputs": [],
   "source": [
    "for i, df in enumerate(data_tables_world):\n",
    "    data_tables_world[i]['Country_Region'] = convert_country_list(df_column=df['Country_Region'])"
   ]
  },
  {
   "cell_type": "markdown",
   "metadata": {},
   "source": [
    "#### Merge"
   ]
  },
  {
   "cell_type": "code",
   "execution_count": null,
   "metadata": {},
   "outputs": [],
   "source": [
    "provinces_dict = {}\n",
    "for c in region_formats:\n",
    "    provinces_dict[c] = data_tables_world[-1][(data_tables_world[-1][\"Country_Region\"] == c)]['Province_State'].values\n",
    "    \n",
    "provinces_dict_K = [k for k, _ in provinces_dict.items()]\n",
    "provinces_dict_V = [v for _, v in provinces_dict.items()]\n",
    "provinces_dict_K, provinces_dict_V = zip(*sorted(zip(provinces_dict_K, provinces_dict_V)))"
   ]
  },
  {
   "cell_type": "code",
   "execution_count": null,
   "metadata": {},
   "outputs": [],
   "source": [
    "for k in provinces_dict_K:\n",
    "    print(k, ':', provinces_dict[k])"
   ]
  },
  {
   "cell_type": "code",
   "execution_count": null,
   "metadata": {},
   "outputs": [],
   "source": [
    "provinces = {\n",
    "    'Afghanistan' : ['Afghanistan'],\n",
    "    'Albania' : ['Albania'],\n",
    "    'Algeria' : ['Algeria'],\n",
    "    'Andorra' : ['Andorra'],\n",
    "    'Angola' : ['Angola'],\n",
    "    'Antigua and Barbuda' : ['Antigua and Barbuda'],\n",
    "    'Argentina' : ['Argentina'],\n",
    "    'Armenia' : ['Armenia'],\n",
    "    'Aruba' : ['Aruba'],\n",
    "    'Australia' : ['Australia'],\n",
    "    'Austria' : ['Austria'],\n",
    "    'Azerbaijan' : [' Azerbaijan', 'Azerbaijan'],\n",
    "    'Bahamas' : ['Bahamas', 'Bahamas, The', 'The Bahamas'],\n",
    "    'Bahrain' : ['Bahrain'],\n",
    "    'Bangladesh' : ['Bangladesh'],\n",
    "    'Barbados' : ['Barbados'],\n",
    "    'Belarus' : ['Belarus'],\n",
    "    'Belgium' : ['Belgium'],\n",
    "    'Belize' : ['Belize'],\n",
    "    'Benin' : ['Benin'],\n",
    "    'Bhutan' : ['Bhutan'],\n",
    "    'Bolivia' : ['Bolivia'],\n",
    "    'Bosnia and Herzegovina' : ['Bosnia and Herzegovina'],\n",
    "    'Botswana' : ['Botswana'],\n",
    "    'Brazil' : ['Brazil'],\n",
    "    'Brunei' : ['Brunei'],\n",
    "    'Bulgaria' : ['Bulgaria'],\n",
    "    'Burkina Faso' : ['Burkina Faso'],\n",
    "    'Burma' : ['Burma'],\n",
    "    'Burundi' : ['Burundi'],\n",
    "    'Cabo Verde' : ['Cabo Verde'],\n",
    "    'Cambodia' : ['Cambodia'],\n",
    "    'Cameroon' : ['Cameroon'],\n",
    "    'Canada' : ['Canada'],\n",
    "    'Cape Verde' : ['Cape Verde'],\n",
    "    'Cayman Islands' : ['Cayman Islands'],\n",
    "    'Central African Republic' : ['Central African Republic'],\n",
    "    'Chad' : ['Chad'],\n",
    "    'Channel Islands': ['Channel Islands', 'Guernsey', 'Jersey',]\n",
    "    'Chile' : ['Chile'],\n",
    "    'China' : ['China',  'Mainland China'],\n",
    "    'Colombia' : ['Colombia'],\n",
    "    'Comoros' : ['Comoros'],\n",
    "    'Congo (Brazzaville)' : ['Congo (Brazzaville)'],\n",
    "    'Congo (Kinshasa)' : ['Congo (Kinshasa)', 'Republic of the Congo'],\n",
    "    'Costa Rica' : ['Costa Rica'],\n",
    "    \"Cote d'Ivoire\" : [\"Cote d'Ivoire\"],\n",
    "    'Croatia' : ['Croatia'],\n",
    "    'Cuba' : ['Cuba'],\n",
    "    'Curacao' : ['Curacao'],\n",
    "    'Cyprus' : ['Cyprus'],\n",
    "    'Czechia' : ['Czech Republic', 'Czechia'],\n",
    "    'Denmark' : ['Denmark'],\n",
    "    'Diamond Princess' : ['Cruise Ship', 'Diamond Princess'],\n",
    "    'Djibouti' : ['Djibouti'],\n",
    "    'Dominica' : ['Dominica'],\n",
    "    'Dominican Republic' : ['Dominican Republic'],\n",
    "    'Ecuador' : ['Ecuador'],\n",
    "    'Egypt' : ['Egypt'],\n",
    "    'El Salvador' : ['El Salvador'],\n",
    "    'Equatorial Guinea' : ['Equatorial Guinea'],\n",
    "    'Eritrea' : ['Eritrea'],\n",
    "    'Estonia' : ['Estonia'],\n",
    "    'Eswatini' : ['Eswatini'],\n",
    "    'Ethiopia' : ['Ethiopia'],\n",
    "    'Faroe Islands' : ['Faroe Islands'],\n",
    "    'Fiji' : ['Fiji'],\n",
    "    'Finland' : ['Finland'],\n",
    "    'France' : ['France'],\n",
    "    'French Guiana': ['French Guiana'],\n",
    "    'Gabon' : ['Gabon'],\n",
    "    'Gambia' : ['Gambia', 'Gambia, The', 'The Gambia'],\n",
    "    'Georgia' : ['Georgia'],\n",
    "    'Germany' : ['Germany'],\n",
    "    'Ghana' : ['Ghana'],\n",
    "    'Gibraltar' : ['Gibraltar'],\n",
    "    'Greece' : ['Greece'],\n",
    "    'Greenland' : ['Greenland'],\n",
    "    'Grenada' : ['Grenada'],\n",
    "    'Guadeloupe' : ['Guadeloupe'],\n",
    "    'Guam' : ['Guam'],\n",
    "    'Guatemala' : ['Guatemala'],\n",
    "    'Guinea' : ['Guinea'],\n",
    "    'Guinea-Bissau' : ['Guinea-Bissau'],\n",
    "    'Guyana' : ['Guyana'],\n",
    "    'Haiti' : ['Haiti'],\n",
    "    'Holy See' : ['Holy See', 'Vatican City'],\n",
    "    'Honduras' : ['Honduras'],\n",
    "    'Hong Kong' : ['Hong Kong SAR', 'Hong Kong']\n",
    "    'Hungary' : ['Hungary'],\n",
    "    'Iceland' : ['Iceland'],\n",
    "    'India' : ['India'],\n",
    "    'Indonesia' : ['Indonesia'],\n",
    "    'Iran' : ['Iran', 'Iran (Islamic Republic of)'],\n",
    "    'Iraq' : ['Iraq'],\n",
    "    'Ireland' : ['Ireland', 'Republic of Ireland'],\n",
    "    'Israel' : ['Israel'],\n",
    "    'Italy' : ['Italy'],\n",
    "    'Ivory Coast' : ['Ivory Coast'],\n",
    "    'Jamaica' : ['Jamaica'],\n",
    "    'Japan' : ['Japan'],\n",
    "    'Jordan' : ['Jordan'],\n",
    "    'Kazakhstan' : ['Kazakhstan'],\n",
    "    'Kenya' : ['Kenya'],\n",
    "    'Korea, South' : ['Korea, South', 'Republic of Korea', 'South Korea'],\n",
    "    'Kosovo' : ['Kosovo'],\n",
    "    'Kuwait' : ['Kuwait'],\n",
    "    'Kyrgyzstan' : ['Kyrgyzstan'],\n",
    "    'Laos' : ['Laos'],\n",
    "    'Latvia' : ['Latvia'],\n",
    "    'Lebanon' : ['Lebanon'],\n",
    "    'Lesotho' : ['Lesotho'],\n",
    "    'Liberia' : ['Liberia'],\n",
    "    'Libya' : ['Libya'],\n",
    "    'Liechtenstein' : ['Liechtenstein'],\n",
    "    'Lithuania' : ['Lithuania'],\n",
    "    'Luxembourg' : ['Luxembourg'],\n",
    "    'MS Zaandam' : ['MS Zaandam'],\n",
    "    'Macau' : ['Macao SAR', 'Macau']\n",
    "    'Madagascar' : ['Madagascar'],\n",
    "    'Malawi' : ['Malawi'],\n",
    "    'Malaysia' : ['Malaysia'],\n",
    "    'Maldives' : ['Maldives'],\n",
    "    'Mali' : ['Mali'],\n",
    "    'Malta' : ['Malta'],\n",
    "    'Martinique' : ['Martinique'],\n",
    "    'Mauritania' : ['Mauritania'],\n",
    "    'Mauritius' : ['Mauritius'],\n",
    "    'Mayotte' : ['Mayotte'],\n",
    "    'Mexico' : ['Mexico'],\n",
    "    'Moldova' : ['Moldova', 'Republic of Moldova'],\n",
    "    'Monaco' : ['Monaco'],\n",
    "    'Mongolia' : ['Mongolia'],\n",
    "    'Montenegro' : ['Montenegro'],\n",
    "    'Morocco' : ['Morocco'],\n",
    "    'Mozambique' : ['Mozambique'],\n",
    "    'Namibia' : ['Namibia'],\n",
    "    'Nepal' : ['Nepal'],\n",
    "    'Netherlands' : ['Netherlands'],\n",
    "    'New Zealand' : ['New Zealand'],\n",
    "    'Nicaragua' : ['Nicaragua'],\n",
    "    'Niger' : ['Niger'],\n",
    "    'Nigeria' : ['Nigeria'],\n",
    "    'North Ireland' : ['North Ireland'],\n",
    "    'North Macedonia' : ['North Macedonia'],\n",
    "    'Norway' : ['Norway'],\n",
    "    'Oman' : ['Oman'],\n",
    "    'Pakistan' : ['Pakistan'],\n",
    "    'Palestine' : ['Palestine', 'occupied Palestinian territory'],\n",
    "    'Panama' : ['Panama'],\n",
    "    'Papua New Guinea' : ['Papua New Guinea'],\n",
    "    'Paraguay' : ['Paraguay'],\n",
    "    'Peru' : ['Peru'],\n",
    "    'Philippines' : ['Philippines'],\n",
    "    'Poland' : ['Poland'],\n",
    "    'Portugal' : ['Portugal'],\n",
    "    'Puerto Rico' : ['Puerto Rico'],\n",
    "    'Qatar' : ['Qatar'],\n",
    "    'Reunion' : ['Reunion'],\n",
    "    'Romania' : ['Romania'],\n",
    "    'Russia' : ['Russia', 'Russian Federation'],\n",
    "    'Rwanda' : ['Rwanda'],\n",
    "    'Saint Barthelemy' : ['Saint Barthelemy'],\n",
    "    'Saint Kitts and Nevis' : ['Saint Kitts and Nevis'],\n",
    "    'Saint Lucia' : ['Saint Lucia'],\n",
    "    'Saint Martin' : ['Saint Martin', 'St. Martin'],\n",
    "    'Saint Vincent and the Grenadines' : ['Saint Vincent and the Grenadines'],\n",
    "    'San Marino' : ['San Marino'],\n",
    "    'Sao Tome and Principe' : ['Sao Tome and Principe'],\n",
    "    'Saudi Arabia' : ['Saudi Arabia'],\n",
    "    'Senegal' : ['Senegal'],\n",
    "    'Serbia' : ['Serbia'],\n",
    "    'Seychelles' : ['Seychelles'],\n",
    "    'Sierra Leone' : ['Sierra Leone'],\n",
    "    'Singapore' : ['Singapore'],\n",
    "    'Slovakia' : ['Slovakia'],\n",
    "    'Slovenia' : ['Slovenia'],\n",
    "    'Somalia' : ['Somalia'],\n",
    "    'South Africa' : ['South Africa'],\n",
    "    'South Sudan' : ['South Sudan'],\n",
    "    'Spain' : ['Spain'],\n",
    "    'Sri Lanka' : ['Sri Lanka'],\n",
    "    'Sudan' : ['Sudan'],\n",
    "    'Suriname' : ['Suriname'],\n",
    "    'Sweden' : ['Sweden'],\n",
    "    'Switzerland' : ['Switzerland'],\n",
    "    'Syria' : ['Syria'],\n",
    "    'Taiwan*' : ['Taipei and environs', 'Taiwan', 'Taiwan*'],\n",
    "    'Tajikistan' : ['Tajikistan'],\n",
    "    'Tanzania' : ['Tanzania'],\n",
    "    'Thailand' : ['Thailand'],\n",
    "    'Timor-Leste' : ['East Timor', 'Timor-Leste'],\n",
    "    'Togo' : ['Togo'],\n",
    "    'Trinidad and Tobago' : ['Trinidad and Tobago'],\n",
    "    'Tunisia' : ['Tunisia'],\n",
    "    'Turkey' : ['Turkey'],\n",
    "    'US' : ['US'],\n",
    "    'Uganda' : ['Uganda'],\n",
    "    'Ukraine' : ['Ukraine'],\n",
    "    'United Arab Emirates' : ['United Arab Emirates'],\n",
    "    'United Kingdom' : ['UK', 'United Kingdom'],\n",
    "    'Uruguay' : ['Uruguay'],\n",
    "    'Uzbekistan' : ['Uzbekistan'],\n",
    "    'Venezuela' : ['Venezuela'],\n",
    "    'Vietnam' : ['Viet Nam', 'Vietnam'],\n",
    "    'West Bank and Gaza' : ['West Bank and Gaza'],\n",
    "    'Western Sahara' : ['Western Sahara'],\n",
    "    'Yemen' : ['Yemen'],\n",
    "    'Zambia' : ['Zambia'],\n",
    "    'Zimbabwe' : ['Zimbabwe'],\n",
    "    'Others' : ['Others']\n",
    "}\n",
    "\n",
    "provinces = [k for k, _ in provinces.items()]\n",
    "provinces = [v for _, v in provinces.items()]"
   ]
  }
 ],
 "metadata": {
  "kernelspec": {
   "display_name": "Python 3 (ipykernel)",
   "language": "python",
   "name": "python3"
  },
  "language_info": {
   "codemirror_mode": {
    "name": "ipython",
    "version": 3
   },
   "file_extension": ".py",
   "mimetype": "text/x-python",
   "name": "python",
   "nbconvert_exporter": "python",
   "pygments_lexer": "ipython3",
   "version": "3.9.10"
  }
 },
 "nbformat": 4,
 "nbformat_minor": 4
}
