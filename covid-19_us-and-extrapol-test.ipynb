{
 "cells": [
  {
   "cell_type": "markdown",
   "metadata": {},
   "source": [
    "# US data + extrapolation (test notebook)"
   ]
  },
  {
   "cell_type": "code",
   "execution_count": null,
   "metadata": {},
   "outputs": [],
   "source": [
    "import os\n",
    "import json\n",
    "import pickle\n",
    "import numpy as np\n",
    "import pandas as pd\n",
    "import urllib.request\n",
    "\n",
    "import datetime\n",
    "from datetime import datetime\n",
    "\n",
    "import seaborn as sns\n",
    "import matplotlib as mpl\n",
    "import matplotlib.cm as cm\n",
    "import matplotlib.pyplot as plt\n",
    "from mpl_toolkits.mplot3d import Axes3D\n",
    "\n",
    "from IPython.display import clear_output, display"
   ]
  },
  {
   "cell_type": "markdown",
   "metadata": {},
   "source": [
    "### Just some matplotlib and seaborn parameter tuning"
   ]
  },
  {
   "cell_type": "code",
   "execution_count": null,
   "metadata": {},
   "outputs": [],
   "source": [
    "out = './out/'\n",
    "figsave_format = 'png'\n",
    "figsave_dpi = 200\n",
    "pad_inches = 0.15\n",
    "\n",
    "# Axis size parameters\n",
    "fig_x = 17\n",
    "fig_y = 11\n",
    "axistitlesize = 22\n",
    "axisticksize_date = 13\n",
    "axisticksize_y = 18\n",
    "axislabelsize = 30\n",
    "axistextsize = 14\n",
    "axislegendsize = 20\n",
    "\n",
    "# \"Source text\" position\n",
    "text_x = 0.16\n",
    "text_y = -0.15\n",
    "\n",
    "# Set axtick dimensions\n",
    "major_size = 6\n",
    "major_width = 1.2\n",
    "minor_size = 3\n",
    "minor_width = 1\n",
    "mpl.rcParams['xtick.major.size'] = major_size\n",
    "mpl.rcParams['xtick.major.width'] = major_width\n",
    "mpl.rcParams['xtick.minor.size'] = minor_size\n",
    "mpl.rcParams['xtick.minor.width'] = minor_width\n",
    "mpl.rcParams['ytick.major.size'] = major_size\n",
    "mpl.rcParams['ytick.major.width'] = major_width\n",
    "mpl.rcParams['ytick.minor.size'] = minor_size\n",
    "mpl.rcParams['ytick.minor.width'] = minor_width\n",
    "\n",
    "mpl.rcParams.update({'figure.autolayout': False})\n",
    "\n",
    "# Seaborn style settings\n",
    "sns.set_style({'axes.axisbelow': True,\n",
    "               'axes.edgecolor': '.8',\n",
    "               'axes.facecolor': 'white',\n",
    "               'axes.grid': True,\n",
    "               'axes.labelcolor': '.15',\n",
    "               'axes.spines.bottom': True,\n",
    "               'axes.spines.left': True,\n",
    "               'axes.spines.right': True,\n",
    "               'axes.spines.top': True,\n",
    "               'figure.facecolor': 'white',\n",
    "               'font.family': ['sans-serif'],\n",
    "               'font.sans-serif': ['Arial',\n",
    "                'DejaVu Sans',\n",
    "                'Liberation Sans',\n",
    "                'Bitstream Vera Sans',\n",
    "                'sans-serif'],\n",
    "               'grid.color': '.8',\n",
    "               'grid.linestyle': '--',\n",
    "               'image.cmap': 'rocket',\n",
    "               'lines.solid_capstyle': 'round',\n",
    "               'patch.edgecolor': 'w',\n",
    "               'patch.force_edgecolor': True,\n",
    "               'text.color': '.15',\n",
    "               'xtick.bottom': True,\n",
    "               'xtick.color': '.15',\n",
    "               'xtick.direction': 'in',\n",
    "               'xtick.top': True,\n",
    "               'ytick.color': '.15',\n",
    "               'ytick.direction': 'in',\n",
    "               'ytick.left': True,\n",
    "               'ytick.right': True})\n",
    "\n",
    "# Colors\n",
    "cases_color = 'yellow'\n",
    "recov_color = 'darkturquoise'\n",
    "death_color = 'tab:red'"
   ]
  },
  {
   "cell_type": "markdown",
   "metadata": {},
   "source": [
    "## Load and preprocess pandemic data"
   ]
  },
  {
   "cell_type": "code",
   "execution_count": null,
   "metadata": {},
   "outputs": [],
   "source": [
    "url_US_cases = (\n",
    "    'https://raw.githubusercontent.com/' +\n",
    "    'CSSEGISandData/COVID-19/' +\n",
    "    'master/' +\n",
    "    'csse_covid_19_data/csse_covid_19_time_series/time_series_covid19_confirmed_US.csv'\n",
    ")\n",
    "url_US_death = (\n",
    "    'https://raw.githubusercontent.com/' +\n",
    "    'CSSEGISandData/COVID-19/' +\n",
    "    'master/' +\n",
    "    'csse_covid_19_data/csse_covid_19_time_series/time_series_covid19_deaths_US.csv'\n",
    ")"
   ]
  },
  {
   "cell_type": "code",
   "execution_count": null,
   "metadata": {},
   "outputs": [],
   "source": [
    "# Load .csv formatted datafiles\n",
    "with urllib.request.urlopen(url_US_cases) as url:\n",
    "    data_US_cases = pd.read_csv(url, sep=',', comment='#', header=0)\n",
    "with urllib.request.urlopen(url_US_death) as url:\n",
    "    data_US_death = pd.read_csv(url, sep=',', comment='#', header=0)"
   ]
  },
  {
   "cell_type": "markdown",
   "metadata": {},
   "source": [
    "### Prepare date format"
   ]
  },
  {
   "cell_type": "code",
   "execution_count": null,
   "metadata": {},
   "outputs": [],
   "source": [
    "from matplotlib import ticker\n",
    "import matplotlib.dates as mdates\n",
    "import matplotlib.ticker as mticker"
   ]
  },
  {
   "cell_type": "code",
   "execution_count": null,
   "metadata": {},
   "outputs": [],
   "source": [
    "date_format = mdates.DateFormatter('%b %d \\'%y')"
   ]
  },
  {
   "cell_type": "code",
   "execution_count": null,
   "metadata": {},
   "outputs": [],
   "source": [
    "def create_date_ticks(dates):\n",
    "    # Empirical observation, that 22 x-ticks should be on the figures to look nicely\n",
    "    N = 22\n",
    "    step_size = int(len(dates) / N)\n",
    "    date_ticks = np.append(dates[:-int(step_size/1.4):step_size], dates[-1])\n",
    "    \n",
    "    return date_ticks"
   ]
  },
  {
   "cell_type": "code",
   "execution_count": null,
   "metadata": {},
   "outputs": [],
   "source": [
    "date_cols = data_US_cases.columns[11:]\n",
    "dates = np.array([datetime.strptime(d, '%m/%d/%y') for d in date_cols])\n",
    "date_ticks = create_date_ticks(dates)"
   ]
  },
  {
   "cell_type": "markdown",
   "metadata": {},
   "source": [
    "### Aggregate datasets"
   ]
  },
  {
   "cell_type": "code",
   "execution_count": null,
   "metadata": {},
   "outputs": [],
   "source": [
    "data_US_cases = data_US_cases.groupby(by='Province_State', group_keys=False).agg('sum')[date_cols]\n",
    "data_US_death = data_US_death.groupby(by='Province_State', group_keys=False).agg('sum')[date_cols]"
   ]
  },
  {
   "cell_type": "markdown",
   "metadata": {},
   "source": [
    "## Case number plots"
   ]
  },
  {
   "cell_type": "code",
   "execution_count": null,
   "metadata": {},
   "outputs": [],
   "source": [
    "def plot_us_region(region, mode='full'):\n",
    "    \n",
    "    nrows = 1\n",
    "    ncols = 1\n",
    "    fig, axes = plt.subplots(nrows=nrows, ncols=ncols, figsize=(ncols*fig_x, nrows*fig_y),\n",
    "                             facecolor='black', subplot_kw=dict(facecolor='black'))\n",
    "\n",
    "    if mode.lower()=='full':\n",
    "        axes.plot(dates, data_US_cases.loc[region], label='Confirmed',\n",
    "                  c=cases_color, lw=3)\n",
    "        axes.fill_between(dates, data_US_cases.loc[region], color=cases_color, alpha=0.5)\n",
    "\n",
    "        axes.plot(dates, data_US_death.loc[region], label='Deaths',\n",
    "                  c=death_color, lw=3)\n",
    "        axes.fill_between(dates, data_US_death.loc[region], color=death_color, alpha=0.5)\n",
    "        \n",
    "        axes.set_title('COVID-19 Official number of historical cases - {}'.format(region), \n",
    "                   fontsize=axistitlesize, fontweight='bold', color='white')\n",
    "\n",
    "    elif mode.lower()=='total':\n",
    "        region_total = data_US_cases.loc[region] - data_US_death.loc[region]\n",
    "        axes.plot(dates, region_total, label='Active total',\n",
    "                  c=cases_color, lw=3)\n",
    "        axes.fill_between(dates, region_total, color=cases_color, alpha=0.5)\n",
    "        \n",
    "        axes.set_title('COVID-19 Official number of active cases - {}'.format(region), \n",
    "                   fontsize=axistitlesize, fontweight='bold', color='white')\n",
    "    \n",
    "    elif mode.lower()=='daily':\n",
    "        region_daily = np.zeros_like(data_US_cases.loc[region])\n",
    "        \n",
    "        # Set starting day value\n",
    "        region_daily[0] = 0\n",
    "        for i in range(len(data_US_cases.loc[region][1:])):\n",
    "            now = data_US_cases.loc[region][i+1]\n",
    "            prev = data_US_cases.loc[region][i]\n",
    "            \n",
    "            region_daily[i+1] = now - prev\n",
    "            \n",
    "        axes.plot(dates, region_daily, label='Daily',\n",
    "              c=cases_color, lw=3)\n",
    "        axes.fill_between(dates, region_daily, color=cases_color, alpha=0.5)\n",
    "\n",
    "        axes.set_title('COVID-19 Official number of daily cases - {}'.format(region), \n",
    "                   fontsize=axistitlesize, fontweight='bold', color='white')\n",
    "        \n",
    "    else:\n",
    "        raise AttributeError('Modes should be \\'total\\' or \\'full\\'')\n",
    "        \n",
    "    # Source text\n",
    "    axes.text(x=text_x, y=text_y, s='Source of data: https://github.com/CSSEGISandData/COVID-19/',\n",
    "              c='white', fontsize=axistextsize, fontweight='book',\n",
    "              horizontalalignment='center', verticalalignment='center', transform=axes.transAxes,\n",
    "              bbox=dict(facecolor='black', alpha=0.2, lw=0))\n",
    "\n",
    "    # X-AXIS FORMATTING\n",
    "    axes.set_xlabel('Time', fontsize=axislabelsize, fontweight='bold', color='white')\n",
    "    axes.tick_params(axis='x', which='major', labelsize=axisticksize_date, colors='white')\n",
    "    axes.set_xticks(date_ticks)\n",
    "    axes.set_xticklabels(date_ticks, rotation=62, ha='center')\n",
    "    axes.xaxis.set_major_formatter(date_format)\n",
    "    axes.set_xlim(dates[0], dates[-1])\n",
    "\n",
    "    # Y-AXIS FORMATTING\n",
    "    axes.set_ylabel('Number of cases', fontsize=axislabelsize, fontweight='bold', color='white')\n",
    "    axes.tick_params(axis='y', which='major', labelrotation=42, labelsize=axisticksize_y, colors='white')\n",
    "    axes.yaxis.set_major_formatter(ticker.StrMethodFormatter(\"{x:.1e}\"))\n",
    "\n",
    "    axes.legend(loc='upper left', fontsize=axislegendsize)\n",
    "\n",
    "    plt.savefig(out + 'time_series_{0}_{1}.png'.format(region.lower().replace(' ', ''), mode.lower()),\n",
    "                format=figsave_format, dpi=figsave_dpi,\n",
    "                pad_inches=pad_inches,\n",
    "                facecolor='black', edgecolor='black')\n",
    "\n",
    "    plt.show()"
   ]
  },
  {
   "cell_type": "code",
   "execution_count": null,
   "metadata": {},
   "outputs": [],
   "source": [
    "plot_us_region(region='New York', mode='full')"
   ]
  },
  {
   "cell_type": "code",
   "execution_count": null,
   "metadata": {},
   "outputs": [],
   "source": [
    "plot_us_region(region='New York', mode='total')"
   ]
  },
  {
   "cell_type": "code",
   "execution_count": null,
   "metadata": {},
   "outputs": [],
   "source": [
    "plot_us_region(region='New York', mode='daily')"
   ]
  },
  {
   "cell_type": "markdown",
   "metadata": {},
   "source": [
    "## Simple extrapolation using logistic fitting"
   ]
  },
  {
   "cell_type": "code",
   "execution_count": null,
   "metadata": {},
   "outputs": [],
   "source": [
    "from scipy.optimize import curve_fit"
   ]
  },
  {
   "cell_type": "markdown",
   "metadata": {},
   "source": [
    "### Logistic curve fitting on available data"
   ]
  },
  {
   "cell_type": "code",
   "execution_count": null,
   "metadata": {},
   "outputs": [],
   "source": [
    "def logistic_p0(X, Y): \n",
    "    \n",
    "    L = np.max(Y)\n",
    "    k = 1\n",
    "    x_0 = np.median(X)\n",
    "    y_0 = np.min(Y)\n",
    "    \n",
    "    return [L, k, x_0, y_0]"
   ]
  },
  {
   "cell_type": "code",
   "execution_count": null,
   "metadata": {},
   "outputs": [],
   "source": [
    "def logistic(X, L, k, x_0, y_0):\n",
    "    \n",
    "    return L / (1 + np.exp(-k * (X - x_0))) + y_0"
   ]
  },
  {
   "cell_type": "code",
   "execution_count": null,
   "metadata": {},
   "outputs": [],
   "source": [
    "def pred_region(region):\n",
    "\n",
    "    N = len(dates)\n",
    "    X = np.linspace(0, N-1, N)\n",
    "    Y = region_cases.loc[region]\n",
    "\n",
    "    p0 = logistic_p0(X, Y)\n",
    "    popt, pcov = curve_fit(logistic, X, Y, p0)\n",
    "    \n",
    "    return popt, pcov"
   ]
  },
  {
   "cell_type": "code",
   "execution_count": null,
   "metadata": {},
   "outputs": [],
   "source": [
    "def pred_US_region(region):\n",
    "\n",
    "    N = len(dates)\n",
    "    X = np.linspace(0, N-1, N)\n",
    "    Y = data_US_cases.loc[region]\n",
    "\n",
    "    p0 = logistic_p0(X, Y)\n",
    "    popt, pcov = curve_fit(logistic, X, Y, p0)\n",
    "    \n",
    "    return popt, pcov"
   ]
  },
  {
   "cell_type": "code",
   "execution_count": null,
   "metadata": {},
   "outputs": [],
   "source": [
    "def pred_all():\n",
    "    \n",
    "    N = len(dates)\n",
    "    X = np.linspace(0, N-1, N)\n",
    "    Y = sum_cases_adj\n",
    "\n",
    "    p0 = logistic_p0(X, Y)\n",
    "    popt, pcov = curve_fit(logistic, X, Y, p0)\n",
    "    \n",
    "    return popt, pcov"
   ]
  },
  {
   "cell_type": "markdown",
   "metadata": {},
   "source": [
    "### Plotting prediction using fitted curve"
   ]
  },
  {
   "cell_type": "code",
   "execution_count": null,
   "metadata": {},
   "outputs": [],
   "source": [
    "def add_days(dates, add):\n",
    "    last_date = dates[-1].split('/')\n",
    "    current = datetime.datetime(int('20' + last_date[2]), int(last_date[0]), int(last_date[1]))\n",
    "    \n",
    "    raw_dates = [current + datetime.timedelta(days=d) for d in range(1, add+1)]\n",
    "    form_dates = [str(date.month) + '/' + str(date.day) + '/' + str(date.year)[2:] for date in raw_dates]\n",
    "    pred_dates = np.append(dates, form_dates)\n",
    "    \n",
    "    return pred_dates"
   ]
  },
  {
   "cell_type": "code",
   "execution_count": null,
   "metadata": {},
   "outputs": [],
   "source": [
    "def plot_pred_all(popt, pred_N=1.4):\n",
    "    \n",
    "    nrows = 1\n",
    "    ncols = 1\n",
    "    fig, axes = plt.subplots(nrows=nrows, ncols=ncols, figsize=(ncols*14, nrows*11),\n",
    "                             facecolor='black', subplot_kw=dict(facecolor='black'))\n",
    "    \n",
    "    # Current data\n",
    "    cases_color = 'yellow'\n",
    "    axes.plot(dates, sum_cases_adj, label='Confirmed',\n",
    "              c=cases_color, lw=3)\n",
    "    # Mark last real datapoint\n",
    "    axes.axvline(x=dates[-1], c=cases_color, lw=2, ls='--')\n",
    "    \n",
    "    # Predicted data\n",
    "    N = len(dates)\n",
    "    pred_dates = add_days(dates, add=int(np.round(N*pred_N)) - N)\n",
    "    pred_X = np.linspace(0, int(np.round(pred_N*(N-1))), int(np.round(pred_N*N)))\n",
    "    axes.plot(pred_dates, logistic(pred_X, *popt), label='Logistic prediction',\n",
    "              c='tab:red', lw=4, alpha=0.7)\n",
    "\n",
    "    axes.set_title('COVID-19 Predicted number of cases', \n",
    "                   fontsize=axistitlesize, fontweight='bold', color='white')\n",
    "    \n",
    "    # Source text\n",
    "    axes.text(x=0.16, y=-0.12, s='Source of data: https://github.com/CSSEGISandData/COVID-19/',\n",
    "              c='white', fontsize=13, fontweight='book',\n",
    "              horizontalalignment='center', verticalalignment='center', transform=axes.transAxes,\n",
    "              bbox=dict(facecolor='black', alpha=0.2, lw=0))\n",
    "\n",
    "    axes.set_xlabel('Time', fontsize=axislabelsize, color='white')\n",
    "    axes.set_ylabel('Number of cases', fontsize=axislabelsize, color='white')\n",
    "\n",
    "    axes.tick_params(axis='both', which='major', labelsize=axisticksize, colors='white')\n",
    "    axes.set_xticks(pred_dates[::int(np.round(pred_N))*date_jump])\n",
    "    axes.set_xticklabels(pred_dates[::int(np.round(pred_N))*date_jump], rotation=42, ha='center')\n",
    "\n",
    "    # Should be placed after setting x-ticks!!!\n",
    "    axes.set_xlim(pred_dates[0], pred_dates[-1])\n",
    "\n",
    "    axes.legend(loc='upper left', fontsize=axislegendsize)\n",
    "\n",
    "    plt.show()"
   ]
  },
  {
   "cell_type": "code",
   "execution_count": null,
   "metadata": {},
   "outputs": [],
   "source": [
    "def plot_pred_region(region, popt, pred_N=1.4):\n",
    "    \n",
    "    nrows = 1\n",
    "    ncols = 1\n",
    "    fig, axes = plt.subplots(nrows=nrows, ncols=ncols, figsize=(ncols*14, nrows*11),\n",
    "                             facecolor='black', subplot_kw=dict(facecolor='black'))\n",
    "    \n",
    "    # Current data\n",
    "    cases_color = 'yellow'\n",
    "    axes.plot(dates, region_cases.loc[region], label='Confirmed',\n",
    "              c=cases_color, lw=3)\n",
    "    # Mark last real datapoint\n",
    "    axes.axvline(x=dates[-1], c=cases_color, lw=2, ls='--')\n",
    "    \n",
    "    # Predicted data\n",
    "    N = len(dates)\n",
    "    pred_dates = add_days(dates, add=int(np.round(N*pred_N)) - N)\n",
    "    pred_X = np.linspace(0, int(np.round(pred_N*(N-1))), int(np.round(pred_N*N)))\n",
    "    axes.plot(pred_dates, logistic(pred_X, *popt), label='Logistic prediction',\n",
    "              c='tab:red', lw=4, alpha=0.7)\n",
    "\n",
    "    axes.set_title('COVID-19 Predicted number of cases - {}'.format(region), \n",
    "                   fontsize=axistitlesize, fontweight='bold', color='white')\n",
    "    \n",
    "    # Source text\n",
    "    axes.text(x=0.16, y=-0.12, s='Source of data: https://github.com/CSSEGISandData/COVID-19/',\n",
    "              c='white', fontsize=13, fontweight='book',\n",
    "              horizontalalignment='center', verticalalignment='center', transform=axes.transAxes,\n",
    "              bbox=dict(facecolor='black', alpha=0.2, lw=0))\n",
    "\n",
    "    axes.set_xlabel('Time', fontsize=axislabelsize, color='white')\n",
    "    axes.set_ylabel('Number of cases', fontsize=axislabelsize, color='white')\n",
    "\n",
    "    axes.tick_params(axis='both', which='major', labelsize=axisticksize, colors='white')\n",
    "    axes.set_xticks(pred_dates[::int(np.round(pred_N))*date_jump])\n",
    "    axes.set_xticklabels(pred_dates[::int(np.round(pred_N))*date_jump], rotation=42, ha='center')\n",
    "\n",
    "    # Should be placed after setting x-ticks!!!\n",
    "    axes.set_xlim(pred_dates[0], pred_dates[-1])\n",
    "\n",
    "    axes.legend(loc='upper left', fontsize=axislegendsize)\n",
    "\n",
    "    plt.show()"
   ]
  },
  {
   "cell_type": "code",
   "execution_count": null,
   "metadata": {},
   "outputs": [],
   "source": [
    "popt, pcov = pred_all()\n",
    "plot_pred_all(popt, pred_N=2)"
   ]
  },
  {
   "cell_type": "code",
   "execution_count": null,
   "metadata": {},
   "outputs": [],
   "source": [
    "region = 'Hungary'\n",
    "popt, pcov = pred_region(region)\n",
    "plot_pred_region(region, popt, pred_N=2)"
   ]
  },
  {
   "cell_type": "markdown",
   "metadata": {},
   "source": [
    "## Retarded Polyfit"
   ]
  },
  {
   "cell_type": "code",
   "execution_count": null,
   "metadata": {},
   "outputs": [],
   "source": [
    "def plot_pred_US_region(region, popt, pred_N=1.4):\n",
    "    \n",
    "    nrows = 1\n",
    "    ncols = 1\n",
    "    fig, axes = plt.subplots(nrows=nrows, ncols=ncols, figsize=(ncols*14, nrows*11),\n",
    "                             facecolor='black', subplot_kw=dict(facecolor='black'))\n",
    "    \n",
    "    # Current data\n",
    "    cases_color = 'yellow'\n",
    "    axes.plot(dates, data_US_cases.loc[region], label='Confirmed',\n",
    "              c=cases_color, lw=3)\n",
    "    # Mark last real datapoint\n",
    "    axes.axvline(x=dates[-1], c=cases_color, lw=2, ls='--')\n",
    "    \n",
    "    # Predicted data\n",
    "    N = len(dates)\n",
    "    pred_dates = add_days(dates, add=int(np.round(N*pred_N)) - N)\n",
    "    pred_X = np.linspace(0, int(np.round(pred_N*(N-1))), int(np.round(pred_N*N)))\n",
    "    axes.plot(pred_dates, logistic(pred_X, *popt), label='Logistic prediction',\n",
    "              c='tab:red', lw=4, alpha=0.7)\n",
    "\n",
    "    axes.set_title('COVID-19 Predicted number of cases - {}'.format(region), \n",
    "                   fontsize=axistitlesize, fontweight='bold', color='white')\n",
    "    \n",
    "    # Source text\n",
    "    axes.text(x=0.16, y=-0.12, s='Source of data: https://github.com/CSSEGISandData/COVID-19/',\n",
    "              c='white', fontsize=13, fontweight='book',\n",
    "              horizontalalignment='center', verticalalignment='center', transform=axes.transAxes,\n",
    "              bbox=dict(facecolor='black', alpha=0.2, lw=0))\n",
    "\n",
    "    axes.set_xlabel('Time', fontsize=axislabelsize, color='white')\n",
    "    axes.set_ylabel('Number of cases', fontsize=axislabelsize, color='white')\n",
    "\n",
    "    axes.tick_params(axis='both', which='major', labelsize=axisticksize, colors='white')\n",
    "    axes.set_xticks(pred_dates[::int(np.round(pred_N))*date_jump])\n",
    "    axes.set_xticklabels(pred_dates[::int(np.round(pred_N))*date_jump], rotation=42, ha='center')\n",
    "\n",
    "    # Should be placed after setting x-ticks!!!\n",
    "    axes.set_xlim(pred_dates[0], pred_dates[-1])\n",
    "\n",
    "    axes.legend(loc='upper left', fontsize=axislegendsize)\n",
    "\n",
    "    plt.show()"
   ]
  },
  {
   "cell_type": "code",
   "execution_count": null,
   "metadata": {},
   "outputs": [],
   "source": [
    "region = 'New York'\n",
    "popt, pcov = pred_US_region(region)\n",
    "plot_pred_US_region(region, popt, pred_N=2)"
   ]
  },
  {
   "cell_type": "code",
   "execution_count": null,
   "metadata": {},
   "outputs": [],
   "source": []
  }
 ],
 "metadata": {
  "kernelspec": {
   "display_name": "Python 3 (ipykernel)",
   "language": "python",
   "name": "python3"
  },
  "language_info": {
   "codemirror_mode": {
    "name": "ipython",
    "version": 3
   },
   "file_extension": ".py",
   "mimetype": "text/x-python",
   "name": "python",
   "nbconvert_exporter": "python",
   "pygments_lexer": "ipython3",
   "version": "3.9.10"
  }
 },
 "nbformat": 4,
 "nbformat_minor": 4
}
